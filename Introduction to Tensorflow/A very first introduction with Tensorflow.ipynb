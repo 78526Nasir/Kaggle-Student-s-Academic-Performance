{
 "cells": [
  {
   "cell_type": "code",
   "execution_count": 1,
   "metadata": {},
   "outputs": [],
   "source": [
    "# import the library\n",
    "\n",
    "import tensorflow as tf"
   ]
  },
  {
   "cell_type": "markdown",
   "metadata": {},
   "source": [
    "### Some Basic terms in Tensorflow\n",
    "* `Variable`: Something that was able to __vary__ data, and that can __updated__ in any point of time\n",
    "\n",
    "* `constant`: Something that can __not__ be change after initialization\n",
    "\n",
    "* `placeholder`: A __promise__ to provide value later"
   ]
  },
  {
   "cell_type": "code",
   "execution_count": 2,
   "metadata": {},
   "outputs": [],
   "source": [
    "# parameters\n",
    "\n",
    "w = tf.Variable(0.3, tf.float32, name = \"weight\")\n",
    "b = tf.Variable(-0.3, tf.float32, name = \"bias\")\n",
    "\n",
    "# inputs and outputs\n",
    "\n",
    "x = tf.placeholder(tf.float32, name=\"input\")\n",
    "y = tf.placeholder(tf.float32, name=\"output\")\n"
   ]
  },
  {
   "cell_type": "code",
   "execution_count": 3,
   "metadata": {},
   "outputs": [],
   "source": [
    "# Basic linear Model\n",
    "\n",
    "linear_model = (w * x) + b"
   ]
  },
  {
   "cell_type": "markdown",
   "metadata": {},
   "source": [
    "### Build the computational Graph and Run it\n",
    "\n",
    "In tensorflow `Variables`, `constant`, `placeholder` doesn't hold anything except the structure of it, until it `run` in a `Session`. When we initialize a `Variable`, `constant` or a `placeholder` it's just creates a computational graph. Nothing happens until a `Session` being Start. The acutal works done with a Tensorflow `Session`."
   ]
  },
  {
   "cell_type": "code",
   "execution_count": 4,
   "metadata": {},
   "outputs": [],
   "source": [
    "# initialize the variable with global_variables_initializer()\n",
    "\n",
    "init = tf.global_variables_initializer()"
   ]
  },
  {
   "cell_type": "markdown",
   "metadata": {},
   "source": [
    "#### The mathematical formula behind loss function:\n",
    "\\begin{equation}\n",
    "J(\\theta_0, \\theta_1) = \\frac{1}{2m} \\sum(h_\\theta x^i - y^i)^2\n",
    "\\end{equation}\n",
    "\n",
    "here,\n",
    "* $h_\\theta x^i$ is the hypotheis or in other words is the prediction we made\n",
    "* $ y^i $ is the actual output\n",
    "* m is the number of trainning examples\n"
   ]
  },
  {
   "cell_type": "code",
   "execution_count": 5,
   "metadata": {},
   "outputs": [],
   "source": [
    "# Calculating loss/ loss function\n",
    "\n",
    "squared_delta = tf.square(linear_model - y)\n",
    "loss = tf.reduce_sum(squared_delta)"
   ]
  },
  {
   "cell_type": "code",
   "execution_count": 6,
   "metadata": {},
   "outputs": [
    {
     "name": "stdout",
     "output_type": "stream",
     "text": [
      "23.66\n"
     ]
    }
   ],
   "source": [
    "# x and y are placeholder and we promise to provide value later, Now this was the time when we provide the values.\n",
    "\n",
    "with tf.Session() as sess:\n",
    "    sess.run(init)\n",
    "    print(sess.run(loss, {x:[1,2,3,4], y:[0,-1,-2,-3]}))"
   ]
  },
  {
   "cell_type": "markdown",
   "metadata": {},
   "source": [
    "__So here we see that we have a loss of: `23.66`__\n",
    "\n",
    "### Now we need to reduce the loss using a Optimizer\n",
    "\n",
    "An `Optimizer` is used for reduce the `loss`. `Optimizier` looks the changes of loss by updating/changing the Variable in any (forward/postive or backward/negative) direction. If it see that changes in postive direction will increase the loss then it will try to update the variable in negative direction. The main goal of a `Optimizer` is to reduce the `loss`."
   ]
  },
  {
   "cell_type": "code",
   "execution_count": 7,
   "metadata": {},
   "outputs": [],
   "source": [
    "# Reducing the Loss using Gradient Descent Optimizer with a 0.01 learning rate\n",
    "# learning rate is nothing but the steps, number of steps the Variable will update by the Optimizer\n",
    "\n",
    "optimizer = tf.train.GradientDescentOptimizer(0.01) \n",
    "train = optimizer.minimize(loss)\n"
   ]
  },
  {
   "cell_type": "code",
   "execution_count": 8,
   "metadata": {},
   "outputs": [
    {
     "name": "stdout",
     "output_type": "stream",
     "text": [
      "Updated weight and bias to reduce the loss upto 100%\n",
      " [-0.9999969, 0.9999908]\n"
     ]
    }
   ],
   "source": [
    "# After all structure are defined its time to run the computation graph into a Session\n",
    "\n",
    "with tf.Session() as sess:\n",
    "    sess.run(init)\n",
    "    for i in range(1000):\n",
    "        sess.run(train, {x:[1,2,3,4], y:[0,-1,-2,-3]})\n",
    "        \n",
    "    print(\"Updated weight and bias to reduce the loss upto 100%\\n\",sess.run([w,b]))"
   ]
  },
  {
   "cell_type": "markdown",
   "metadata": {},
   "source": [
    "* updated weight ~= -1  and\n",
    "* updated bias ~= 1\n",
    "\n",
    "according to the result, if we update the `weight` from `0.3` to `-1` and `bias` from `-0.3` to `1` the approximate `error/loss` will be `0`"
   ]
  },
  {
   "cell_type": "markdown",
   "metadata": {},
   "source": [
    "### Lets Validating the optimizer result:\n",
    "\n",
    "```\n",
    "inputs  =>  x:[1,2,3,4]\n",
    "outputs =>  y:[0,-1,-2,-3]\n",
    "weight  => -1\n",
    "bias    =>  1\n",
    "```\n",
    "\n",
    "for `x = 1`,\n",
    "\n",
    "\\begin{equation}\n",
    "linearModel = (w * x) +b\\\\\n",
    "= (-1 * 1 + 1)\\\\\n",
    "= 0\n",
    "\\end{equation}\n",
    "so, for x = 1 the y = 0 is correct.\n",
    "\n",
    "for `x = 2`,\n",
    "\n",
    "\\begin{equation}\n",
    "linearModel = (-1 * 2 + 1)\\\\\n",
    "= -1\n",
    "\\end{equation}\n",
    "\n",
    "for `x = 3`,\n",
    "\n",
    "\\begin{equation}\n",
    "linearModel = (-1 * 3 + 1)\\\\\n",
    "= -2\n",
    "\\end{equation}\n",
    "for `x = 4`,\n",
    "\n",
    "\\begin{equation}\n",
    "linearModel = (-1 * 4 + 1)\\\\\n",
    "= -3\n",
    "\\end{equation}\n"
   ]
  },
  {
   "cell_type": "markdown",
   "metadata": {},
   "source": [
    "### Hence, we can say that the `Optimizer` result is correct."
   ]
  },
  {
   "cell_type": "markdown",
   "metadata": {},
   "source": [
    "__For Visualizing a Tensorflow Graph we have tensorboard: Let us see how to use it:__\n"
   ]
  },
  {
   "cell_type": "code",
   "execution_count": 10,
   "metadata": {},
   "outputs": [
    {
     "name": "stdout",
     "output_type": "stream",
     "text": [
      "Updated weight and bias to reduce the loss upto 100%\n",
      " [-0.9999969, 0.9999908]\n"
     ]
    }
   ],
   "source": [
    "with tf.Session() as sess:\n",
    "    sess.run(init)\n",
    "    for i in range(1000):\n",
    "        sess.run(train, {x:[1,2,3,4], y:[0,-1,-2,-3]})\n",
    "    \n",
    "    File_Writer = tf.summary.FileWriter(\"tensorboard_output\", sess.graph)\n",
    "    print(\"Updated weight and bias to reduce the loss upto 100%\\n\",sess.run([w,b]))"
   ]
  },
  {
   "cell_type": "markdown",
   "metadata": {},
   "source": [
    "__In `FileWriter` we need to provide a directory or we can simply put a folder name. The folder will be created by the `FileWriter` to your default working directory__\n",
    "\n",
    "In my case i created a folder named `tensorboard_output`, and it was created in my working directory.\n",
    "\n",
    "To visualize the graph in a browser we need to open up the `Command Prompt`,\n",
    "\n",
    "and need to write `tensorboard --logdir=\"path of your tensorboard output folder directory\"`\n",
    "\n",
    "and then you need to browse `http:6006`"
   ]
  },
  {
   "cell_type": "code",
   "execution_count": null,
   "metadata": {},
   "outputs": [],
   "source": []
  }
 ],
 "metadata": {
  "kernelspec": {
   "display_name": "Python 3",
   "language": "python",
   "name": "python3"
  },
  "language_info": {
   "codemirror_mode": {
    "name": "ipython",
    "version": 3
   },
   "file_extension": ".py",
   "mimetype": "text/x-python",
   "name": "python",
   "nbconvert_exporter": "python",
   "pygments_lexer": "ipython3",
   "version": "3.6.4"
  }
 },
 "nbformat": 4,
 "nbformat_minor": 2
}
