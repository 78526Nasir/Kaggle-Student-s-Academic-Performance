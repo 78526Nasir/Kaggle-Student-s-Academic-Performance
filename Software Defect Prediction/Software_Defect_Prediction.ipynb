{
 "cells": [
  {
   "cell_type": "code",
   "execution_count": 0,
   "metadata": {
    "colab": {},
    "colab_type": "code",
    "id": "iOeDt2bCmsR5"
   },
   "outputs": [],
   "source": [
    "!pip install imblearn"
   ]
  },
  {
   "cell_type": "code",
   "execution_count": 0,
   "metadata": {
    "colab": {},
    "colab_type": "code",
    "id": "Q6p_Xl15ujLe"
   },
   "outputs": [],
   "source": [
    "import numpy as np\n",
    "import pandas as pd\n",
    "pd.set_option(\"max_column\", None)\n",
    "import matplotlib.pyplot as plt\n",
    "%matplotlib inline\n",
    "import seaborn as sns\n",
    "sns.set()\n",
    "\n",
    "from sklearn.model_selection import train_test_split\n",
    "from sklearn.preprocessing import MinMaxScaler\n",
    "from sklearn.metrics import accuracy_score, roc_curve, auc, classification_report, confusion_matrix\n",
    "from sklearn.svm import SVC\n",
    "from sklearn.linear_model import LogisticRegression\n",
    "from sklearn.tree import DecisionTreeClassifier\n",
    "from sklearn.ensemble import RandomForestClassifier\n",
    "from sklearn.neighbors import KNeighborsClassifier\n",
    "from imblearn.over_sampling import SMOTE, ADASYN\n",
    "from imblearn.combine import SMOTEENN\n",
    "from sklearn.naive_bayes import GaussianNB\n",
    "from sklearn.neural_network import MLPClassifier\n",
    "from scipy.stats import chisquare\n",
    "import warnings\n",
    "warnings.filterwarnings(\"ignore\")"
   ]
  },
  {
   "cell_type": "code",
   "execution_count": 0,
   "metadata": {
    "colab": {},
    "colab_type": "code",
    "id": "mYoI9ZNZxUf7"
   },
   "outputs": [],
   "source": [
    "dataset = pd.read_csv(\"JM1.csv\")"
   ]
  },
  {
   "cell_type": "code",
   "execution_count": 64,
   "metadata": {
    "colab": {
     "base_uri": "https://localhost:8080/",
     "height": 224
    },
    "colab_type": "code",
    "id": "9v1_ah9g6dh9",
    "outputId": "6af4a056-37ad-4b94-9ab2-659aa52c6e73"
   },
   "outputs": [
    {
     "data": {
      "text/html": [
       "<div>\n",
       "<style scoped>\n",
       "    .dataframe tbody tr th:only-of-type {\n",
       "        vertical-align: middle;\n",
       "    }\n",
       "\n",
       "    .dataframe tbody tr th {\n",
       "        vertical-align: top;\n",
       "    }\n",
       "\n",
       "    .dataframe thead th {\n",
       "        text-align: right;\n",
       "    }\n",
       "</style>\n",
       "<table border=\"1\" class=\"dataframe\">\n",
       "  <thead>\n",
       "    <tr style=\"text-align: right;\">\n",
       "      <th></th>\n",
       "      <th>log</th>\n",
       "      <th>v(g)</th>\n",
       "      <th>ev(g)</th>\n",
       "      <th>iv(g)</th>\n",
       "      <th>n</th>\n",
       "      <th>v</th>\n",
       "      <th>l</th>\n",
       "      <th>d</th>\n",
       "      <th>i</th>\n",
       "      <th>e</th>\n",
       "      <th>b</th>\n",
       "      <th>t</th>\n",
       "      <th>lOCode</th>\n",
       "      <th>lOComment</th>\n",
       "      <th>lOBlank</th>\n",
       "      <th>lOCodeAndComment</th>\n",
       "      <th>uniq_Op</th>\n",
       "      <th>uniq_Opnd</th>\n",
       "      <th>total_Op</th>\n",
       "      <th>total_Opnd</th>\n",
       "      <th>branchCount</th>\n",
       "      <th>defects</th>\n",
       "    </tr>\n",
       "  </thead>\n",
       "  <tbody>\n",
       "    <tr>\n",
       "      <th>0</th>\n",
       "      <td>1.1</td>\n",
       "      <td>1.4</td>\n",
       "      <td>1.4</td>\n",
       "      <td>1.4</td>\n",
       "      <td>1.3</td>\n",
       "      <td>1.30</td>\n",
       "      <td>1.30</td>\n",
       "      <td>1.30</td>\n",
       "      <td>1.30</td>\n",
       "      <td>1.30</td>\n",
       "      <td>1.30</td>\n",
       "      <td>1.30</td>\n",
       "      <td>2</td>\n",
       "      <td>2</td>\n",
       "      <td>2</td>\n",
       "      <td>2</td>\n",
       "      <td>1.2</td>\n",
       "      <td>1.2</td>\n",
       "      <td>1.2</td>\n",
       "      <td>1.2</td>\n",
       "      <td>1.4</td>\n",
       "      <td>0</td>\n",
       "    </tr>\n",
       "    <tr>\n",
       "      <th>1</th>\n",
       "      <td>1.0</td>\n",
       "      <td>1.0</td>\n",
       "      <td>1.0</td>\n",
       "      <td>1.0</td>\n",
       "      <td>1.0</td>\n",
       "      <td>1.00</td>\n",
       "      <td>1.00</td>\n",
       "      <td>1.00</td>\n",
       "      <td>1.00</td>\n",
       "      <td>1.00</td>\n",
       "      <td>1.00</td>\n",
       "      <td>1.00</td>\n",
       "      <td>1</td>\n",
       "      <td>1</td>\n",
       "      <td>1</td>\n",
       "      <td>1</td>\n",
       "      <td>1.0</td>\n",
       "      <td>1.0</td>\n",
       "      <td>1.0</td>\n",
       "      <td>1.0</td>\n",
       "      <td>1.0</td>\n",
       "      <td>1</td>\n",
       "    </tr>\n",
       "    <tr>\n",
       "      <th>2</th>\n",
       "      <td>72.0</td>\n",
       "      <td>7.0</td>\n",
       "      <td>1.0</td>\n",
       "      <td>6.0</td>\n",
       "      <td>198.0</td>\n",
       "      <td>1134.13</td>\n",
       "      <td>0.05</td>\n",
       "      <td>20.31</td>\n",
       "      <td>55.85</td>\n",
       "      <td>23029.10</td>\n",
       "      <td>0.38</td>\n",
       "      <td>1279.39</td>\n",
       "      <td>51</td>\n",
       "      <td>10</td>\n",
       "      <td>8</td>\n",
       "      <td>1</td>\n",
       "      <td>17.0</td>\n",
       "      <td>36.0</td>\n",
       "      <td>112.0</td>\n",
       "      <td>86.0</td>\n",
       "      <td>13.0</td>\n",
       "      <td>1</td>\n",
       "    </tr>\n",
       "    <tr>\n",
       "      <th>3</th>\n",
       "      <td>190.0</td>\n",
       "      <td>3.0</td>\n",
       "      <td>1.0</td>\n",
       "      <td>3.0</td>\n",
       "      <td>600.0</td>\n",
       "      <td>4348.76</td>\n",
       "      <td>0.06</td>\n",
       "      <td>17.06</td>\n",
       "      <td>254.87</td>\n",
       "      <td>74202.67</td>\n",
       "      <td>1.45</td>\n",
       "      <td>4122.37</td>\n",
       "      <td>129</td>\n",
       "      <td>29</td>\n",
       "      <td>28</td>\n",
       "      <td>2</td>\n",
       "      <td>17.0</td>\n",
       "      <td>135.0</td>\n",
       "      <td>329.0</td>\n",
       "      <td>271.0</td>\n",
       "      <td>5.0</td>\n",
       "      <td>1</td>\n",
       "    </tr>\n",
       "    <tr>\n",
       "      <th>4</th>\n",
       "      <td>37.0</td>\n",
       "      <td>4.0</td>\n",
       "      <td>1.0</td>\n",
       "      <td>4.0</td>\n",
       "      <td>126.0</td>\n",
       "      <td>599.12</td>\n",
       "      <td>0.06</td>\n",
       "      <td>17.19</td>\n",
       "      <td>34.86</td>\n",
       "      <td>10297.30</td>\n",
       "      <td>0.20</td>\n",
       "      <td>572.07</td>\n",
       "      <td>28</td>\n",
       "      <td>1</td>\n",
       "      <td>6</td>\n",
       "      <td>0</td>\n",
       "      <td>11.0</td>\n",
       "      <td>16.0</td>\n",
       "      <td>76.0</td>\n",
       "      <td>50.0</td>\n",
       "      <td>7.0</td>\n",
       "      <td>1</td>\n",
       "    </tr>\n",
       "  </tbody>\n",
       "</table>\n",
       "</div>"
      ],
      "text/plain": [
       "     log  v(g)  ev(g)  iv(g)      n        v     l      d       i         e  \\\n",
       "0    1.1   1.4    1.4    1.4    1.3     1.30  1.30   1.30    1.30      1.30   \n",
       "1    1.0   1.0    1.0    1.0    1.0     1.00  1.00   1.00    1.00      1.00   \n",
       "2   72.0   7.0    1.0    6.0  198.0  1134.13  0.05  20.31   55.85  23029.10   \n",
       "3  190.0   3.0    1.0    3.0  600.0  4348.76  0.06  17.06  254.87  74202.67   \n",
       "4   37.0   4.0    1.0    4.0  126.0   599.12  0.06  17.19   34.86  10297.30   \n",
       "\n",
       "      b        t  lOCode  lOComment  lOBlank   lOCodeAndComment  uniq_Op  \\\n",
       "0  1.30     1.30       2          2         2                 2      1.2   \n",
       "1  1.00     1.00       1          1         1                 1      1.0   \n",
       "2  0.38  1279.39      51         10         8                 1     17.0   \n",
       "3  1.45  4122.37     129         29        28                 2     17.0   \n",
       "4  0.20   572.07      28          1         6                 0     11.0   \n",
       "\n",
       "   uniq_Opnd   total_Op  total_Opnd  branchCount  defects  \n",
       "0         1.2       1.2         1.2          1.4        0  \n",
       "1         1.0       1.0         1.0          1.0        1  \n",
       "2        36.0     112.0        86.0         13.0        1  \n",
       "3       135.0     329.0       271.0          5.0        1  \n",
       "4        16.0      76.0        50.0          7.0        1  "
      ]
     },
     "execution_count": 64,
     "metadata": {
      "tags": []
     },
     "output_type": "execute_result"
    }
   ],
   "source": [
    "dataset.head()"
   ]
  },
  {
   "cell_type": "code",
   "execution_count": 0,
   "metadata": {
    "colab": {},
    "colab_type": "code",
    "id": "qTqbeNeeLnjt"
   },
   "outputs": [],
   "source": [
    "dataset.rename(columns = {\n",
    "    \"log\" : \"mc_line_count\",\n",
    "    \"v(g)\" : \"cyclomatic_complexity\",\n",
    "    \"ev(g)\" : \"essential_complexity\",\n",
    "    \"iv(g)\" : \"design_complexity\",\n",
    "    \"n\" : \"total_operators&operands\",\n",
    "    \"v\" : \"volume\",\n",
    "    \"l\" : \"program_length\",\n",
    "    \"d\" : \"difficulty\",\n",
    "    \"i\" : \"intelligence\",\n",
    "    \"e\" : \"effort\",\n",
    "    \"b\" : \"Halstead_b\",\n",
    "    \"t\" : \"time_estimator\",\n",
    "    \"uniq_Opnd \": \"uniq_Opnd\",\n",
    "    \"lOBlank \" : \"lOBlank\"\n",
    "}, inplace=True)"
   ]
  },
  {
   "cell_type": "code",
   "execution_count": 66,
   "metadata": {
    "colab": {
     "base_uri": "https://localhost:8080/",
     "height": 224
    },
    "colab_type": "code",
    "id": "_xR8sfeYMG-m",
    "outputId": "a1f2af8f-2ca7-4abb-b0f4-a218df2884f0"
   },
   "outputs": [
    {
     "data": {
      "text/html": [
       "<div>\n",
       "<style scoped>\n",
       "    .dataframe tbody tr th:only-of-type {\n",
       "        vertical-align: middle;\n",
       "    }\n",
       "\n",
       "    .dataframe tbody tr th {\n",
       "        vertical-align: top;\n",
       "    }\n",
       "\n",
       "    .dataframe thead th {\n",
       "        text-align: right;\n",
       "    }\n",
       "</style>\n",
       "<table border=\"1\" class=\"dataframe\">\n",
       "  <thead>\n",
       "    <tr style=\"text-align: right;\">\n",
       "      <th></th>\n",
       "      <th>mc_line_count</th>\n",
       "      <th>cyclomatic_complexity</th>\n",
       "      <th>essential_complexity</th>\n",
       "      <th>design_complexity</th>\n",
       "      <th>total_operators&amp;operands</th>\n",
       "      <th>volume</th>\n",
       "      <th>program_length</th>\n",
       "      <th>difficulty</th>\n",
       "      <th>intelligence</th>\n",
       "      <th>effort</th>\n",
       "      <th>Halstead_b</th>\n",
       "      <th>time_estimator</th>\n",
       "      <th>lOCode</th>\n",
       "      <th>lOComment</th>\n",
       "      <th>lOBlank</th>\n",
       "      <th>lOCodeAndComment</th>\n",
       "      <th>uniq_Op</th>\n",
       "      <th>uniq_Opnd</th>\n",
       "      <th>total_Op</th>\n",
       "      <th>total_Opnd</th>\n",
       "      <th>branchCount</th>\n",
       "      <th>defects</th>\n",
       "    </tr>\n",
       "  </thead>\n",
       "  <tbody>\n",
       "    <tr>\n",
       "      <th>0</th>\n",
       "      <td>1.1</td>\n",
       "      <td>1.4</td>\n",
       "      <td>1.4</td>\n",
       "      <td>1.4</td>\n",
       "      <td>1.3</td>\n",
       "      <td>1.30</td>\n",
       "      <td>1.30</td>\n",
       "      <td>1.30</td>\n",
       "      <td>1.30</td>\n",
       "      <td>1.30</td>\n",
       "      <td>1.30</td>\n",
       "      <td>1.30</td>\n",
       "      <td>2</td>\n",
       "      <td>2</td>\n",
       "      <td>2</td>\n",
       "      <td>2</td>\n",
       "      <td>1.2</td>\n",
       "      <td>1.2</td>\n",
       "      <td>1.2</td>\n",
       "      <td>1.2</td>\n",
       "      <td>1.4</td>\n",
       "      <td>0</td>\n",
       "    </tr>\n",
       "    <tr>\n",
       "      <th>1</th>\n",
       "      <td>1.0</td>\n",
       "      <td>1.0</td>\n",
       "      <td>1.0</td>\n",
       "      <td>1.0</td>\n",
       "      <td>1.0</td>\n",
       "      <td>1.00</td>\n",
       "      <td>1.00</td>\n",
       "      <td>1.00</td>\n",
       "      <td>1.00</td>\n",
       "      <td>1.00</td>\n",
       "      <td>1.00</td>\n",
       "      <td>1.00</td>\n",
       "      <td>1</td>\n",
       "      <td>1</td>\n",
       "      <td>1</td>\n",
       "      <td>1</td>\n",
       "      <td>1.0</td>\n",
       "      <td>1.0</td>\n",
       "      <td>1.0</td>\n",
       "      <td>1.0</td>\n",
       "      <td>1.0</td>\n",
       "      <td>1</td>\n",
       "    </tr>\n",
       "    <tr>\n",
       "      <th>2</th>\n",
       "      <td>72.0</td>\n",
       "      <td>7.0</td>\n",
       "      <td>1.0</td>\n",
       "      <td>6.0</td>\n",
       "      <td>198.0</td>\n",
       "      <td>1134.13</td>\n",
       "      <td>0.05</td>\n",
       "      <td>20.31</td>\n",
       "      <td>55.85</td>\n",
       "      <td>23029.10</td>\n",
       "      <td>0.38</td>\n",
       "      <td>1279.39</td>\n",
       "      <td>51</td>\n",
       "      <td>10</td>\n",
       "      <td>8</td>\n",
       "      <td>1</td>\n",
       "      <td>17.0</td>\n",
       "      <td>36.0</td>\n",
       "      <td>112.0</td>\n",
       "      <td>86.0</td>\n",
       "      <td>13.0</td>\n",
       "      <td>1</td>\n",
       "    </tr>\n",
       "    <tr>\n",
       "      <th>3</th>\n",
       "      <td>190.0</td>\n",
       "      <td>3.0</td>\n",
       "      <td>1.0</td>\n",
       "      <td>3.0</td>\n",
       "      <td>600.0</td>\n",
       "      <td>4348.76</td>\n",
       "      <td>0.06</td>\n",
       "      <td>17.06</td>\n",
       "      <td>254.87</td>\n",
       "      <td>74202.67</td>\n",
       "      <td>1.45</td>\n",
       "      <td>4122.37</td>\n",
       "      <td>129</td>\n",
       "      <td>29</td>\n",
       "      <td>28</td>\n",
       "      <td>2</td>\n",
       "      <td>17.0</td>\n",
       "      <td>135.0</td>\n",
       "      <td>329.0</td>\n",
       "      <td>271.0</td>\n",
       "      <td>5.0</td>\n",
       "      <td>1</td>\n",
       "    </tr>\n",
       "    <tr>\n",
       "      <th>4</th>\n",
       "      <td>37.0</td>\n",
       "      <td>4.0</td>\n",
       "      <td>1.0</td>\n",
       "      <td>4.0</td>\n",
       "      <td>126.0</td>\n",
       "      <td>599.12</td>\n",
       "      <td>0.06</td>\n",
       "      <td>17.19</td>\n",
       "      <td>34.86</td>\n",
       "      <td>10297.30</td>\n",
       "      <td>0.20</td>\n",
       "      <td>572.07</td>\n",
       "      <td>28</td>\n",
       "      <td>1</td>\n",
       "      <td>6</td>\n",
       "      <td>0</td>\n",
       "      <td>11.0</td>\n",
       "      <td>16.0</td>\n",
       "      <td>76.0</td>\n",
       "      <td>50.0</td>\n",
       "      <td>7.0</td>\n",
       "      <td>1</td>\n",
       "    </tr>\n",
       "  </tbody>\n",
       "</table>\n",
       "</div>"
      ],
      "text/plain": [
       "   mc_line_count  cyclomatic_complexity  essential_complexity  \\\n",
       "0            1.1                    1.4                   1.4   \n",
       "1            1.0                    1.0                   1.0   \n",
       "2           72.0                    7.0                   1.0   \n",
       "3          190.0                    3.0                   1.0   \n",
       "4           37.0                    4.0                   1.0   \n",
       "\n",
       "   design_complexity  total_operators&operands   volume  program_length  \\\n",
       "0                1.4                       1.3     1.30            1.30   \n",
       "1                1.0                       1.0     1.00            1.00   \n",
       "2                6.0                     198.0  1134.13            0.05   \n",
       "3                3.0                     600.0  4348.76            0.06   \n",
       "4                4.0                     126.0   599.12            0.06   \n",
       "\n",
       "   difficulty  intelligence    effort  Halstead_b  time_estimator  lOCode  \\\n",
       "0        1.30          1.30      1.30        1.30            1.30       2   \n",
       "1        1.00          1.00      1.00        1.00            1.00       1   \n",
       "2       20.31         55.85  23029.10        0.38         1279.39      51   \n",
       "3       17.06        254.87  74202.67        1.45         4122.37     129   \n",
       "4       17.19         34.86  10297.30        0.20          572.07      28   \n",
       "\n",
       "   lOComment  lOBlank  lOCodeAndComment  uniq_Op  uniq_Opnd  total_Op  \\\n",
       "0          2        2                 2      1.2        1.2       1.2   \n",
       "1          1        1                 1      1.0        1.0       1.0   \n",
       "2         10        8                 1     17.0       36.0     112.0   \n",
       "3         29       28                 2     17.0      135.0     329.0   \n",
       "4          1        6                 0     11.0       16.0      76.0   \n",
       "\n",
       "   total_Opnd  branchCount  defects  \n",
       "0         1.2          1.4        0  \n",
       "1         1.0          1.0        1  \n",
       "2        86.0         13.0        1  \n",
       "3       271.0          5.0        1  \n",
       "4        50.0          7.0        1  "
      ]
     },
     "execution_count": 66,
     "metadata": {
      "tags": []
     },
     "output_type": "execute_result"
    }
   ],
   "source": [
    "dataset.head()"
   ]
  },
  {
   "cell_type": "code",
   "execution_count": 67,
   "metadata": {
    "colab": {
     "base_uri": "https://localhost:8080/",
     "height": 34
    },
    "colab_type": "code",
    "id": "mHLp6NtBU9aa",
    "outputId": "3c7291c8-f56d-46c0-fa43-0d316b4a98b3"
   },
   "outputs": [
    {
     "data": {
      "text/plain": [
       "(10887, 22)"
      ]
     },
     "execution_count": 67,
     "metadata": {
      "tags": []
     },
     "output_type": "execute_result"
    }
   ],
   "source": [
    "dataset.shape"
   ]
  },
  {
   "cell_type": "code",
   "execution_count": 68,
   "metadata": {
    "colab": {
     "base_uri": "https://localhost:8080/",
     "height": 408
    },
    "colab_type": "code",
    "id": "4YsW9qmYMJ0O",
    "outputId": "4a927ee8-ec85-4a61-bce6-269593aacec6"
   },
   "outputs": [
    {
     "data": {
      "text/plain": [
       "mc_line_count               0\n",
       "cyclomatic_complexity       0\n",
       "essential_complexity        0\n",
       "design_complexity           0\n",
       "total_operators&operands    0\n",
       "volume                      0\n",
       "program_length              0\n",
       "difficulty                  0\n",
       "intelligence                0\n",
       "effort                      0\n",
       "Halstead_b                  0\n",
       "time_estimator              0\n",
       "lOCode                      0\n",
       "lOComment                   0\n",
       "lOBlank                     0\n",
       "lOCodeAndComment            0\n",
       "uniq_Op                     0\n",
       "uniq_Opnd                   0\n",
       "total_Op                    0\n",
       "total_Opnd                  0\n",
       "branchCount                 0\n",
       "defects                     0\n",
       "dtype: int64"
      ]
     },
     "execution_count": 68,
     "metadata": {
      "tags": []
     },
     "output_type": "execute_result"
    }
   ],
   "source": [
    "dataset.isnull().sum()"
   ]
  },
  {
   "cell_type": "markdown",
   "metadata": {
    "colab_type": "text",
    "id": "rV8sOMyFRJxG"
   },
   "source": [
    "### Label distribution"
   ]
  },
  {
   "cell_type": "code",
   "execution_count": 69,
   "metadata": {
    "colab": {
     "base_uri": "https://localhost:8080/",
     "height": 360
    },
    "colab_type": "code",
    "id": "DXq4NurhPq9G",
    "outputId": "50d05ef1-d6d0-41f9-a346-18f76ddf86dc"
   },
   "outputs": [
    {
     "data": {
      "text/plain": [
       "<matplotlib.axes._subplots.AxesSubplot at 0x7fca8be67828>"
      ]
     },
     "execution_count": 69,
     "metadata": {
      "tags": []
     },
     "output_type": "execute_result"
    },
    {
     "data": {
      "image/png": "[encoded data removed]",
      "text/plain": [
       "<matplotlib.figure.Figure at 0x7fca8be67668>"
      ]
     },
     "metadata": {
      "tags": []
     },
     "output_type": "display_data"
    }
   ],
   "source": [
    "dataset[\"defects\"].value_counts().plot.bar()"
   ]
  },
  {
   "cell_type": "markdown",
   "metadata": {
    "colab_type": "text",
    "id": "hlDpTGedRPDw"
   },
   "source": [
    "### Statistical Description"
   ]
  },
  {
   "cell_type": "code",
   "execution_count": 70,
   "metadata": {
    "colab": {
     "base_uri": "https://localhost:8080/",
     "height": 731
    },
    "colab_type": "code",
    "id": "zqBvig9OP6Nh",
    "outputId": "189a8f53-d84c-42f7-dcc7-9b8f1e8d16d9"
   },
   "outputs": [
    {
     "data": {
      "text/html": [
       "<div>\n",
       "<style scoped>\n",
       "    .dataframe tbody tr th:only-of-type {\n",
       "        vertical-align: middle;\n",
       "    }\n",
       "\n",
       "    .dataframe tbody tr th {\n",
       "        vertical-align: top;\n",
       "    }\n",
       "\n",
       "    .dataframe thead th {\n",
       "        text-align: right;\n",
       "    }\n",
       "</style>\n",
       "<table border=\"1\" class=\"dataframe\">\n",
       "  <thead>\n",
       "    <tr style=\"text-align: right;\">\n",
       "      <th></th>\n",
       "      <th>count</th>\n",
       "      <th>mean</th>\n",
       "      <th>std</th>\n",
       "      <th>min</th>\n",
       "      <th>25%</th>\n",
       "      <th>50%</th>\n",
       "      <th>75%</th>\n",
       "      <th>max</th>\n",
       "    </tr>\n",
       "  </thead>\n",
       "  <tbody>\n",
       "    <tr>\n",
       "      <th>mc_line_count</th>\n",
       "      <td>10887.0</td>\n",
       "      <td>42.008460</td>\n",
       "      <td>76.588413</td>\n",
       "      <td>0.0</td>\n",
       "      <td>11.00</td>\n",
       "      <td>23.00</td>\n",
       "      <td>46.00</td>\n",
       "      <td>3442.00</td>\n",
       "    </tr>\n",
       "    <tr>\n",
       "      <th>cyclomatic_complexity</th>\n",
       "      <td>10887.0</td>\n",
       "      <td>6.347424</td>\n",
       "      <td>13.018783</td>\n",
       "      <td>0.0</td>\n",
       "      <td>2.00</td>\n",
       "      <td>3.00</td>\n",
       "      <td>7.00</td>\n",
       "      <td>470.00</td>\n",
       "    </tr>\n",
       "    <tr>\n",
       "      <th>essential_complexity</th>\n",
       "      <td>10887.0</td>\n",
       "      <td>3.400423</td>\n",
       "      <td>6.771404</td>\n",
       "      <td>0.0</td>\n",
       "      <td>1.00</td>\n",
       "      <td>1.00</td>\n",
       "      <td>3.00</td>\n",
       "      <td>165.00</td>\n",
       "    </tr>\n",
       "    <tr>\n",
       "      <th>design_complexity</th>\n",
       "      <td>10887.0</td>\n",
       "      <td>4.000863</td>\n",
       "      <td>9.116213</td>\n",
       "      <td>0.0</td>\n",
       "      <td>1.00</td>\n",
       "      <td>2.00</td>\n",
       "      <td>4.00</td>\n",
       "      <td>402.00</td>\n",
       "    </tr>\n",
       "    <tr>\n",
       "      <th>total_operators&amp;operands</th>\n",
       "      <td>10887.0</td>\n",
       "      <td>114.368724</td>\n",
       "      <td>249.483987</td>\n",
       "      <td>0.0</td>\n",
       "      <td>14.00</td>\n",
       "      <td>49.00</td>\n",
       "      <td>119.00</td>\n",
       "      <td>8441.00</td>\n",
       "    </tr>\n",
       "    <tr>\n",
       "      <th>volume</th>\n",
       "      <td>10887.0</td>\n",
       "      <td>673.634245</td>\n",
       "      <td>1938.699588</td>\n",
       "      <td>0.0</td>\n",
       "      <td>48.43</td>\n",
       "      <td>217.13</td>\n",
       "      <td>621.06</td>\n",
       "      <td>80843.08</td>\n",
       "    </tr>\n",
       "    <tr>\n",
       "      <th>program_length</th>\n",
       "      <td>10887.0</td>\n",
       "      <td>0.135310</td>\n",
       "      <td>0.160534</td>\n",
       "      <td>0.0</td>\n",
       "      <td>0.03</td>\n",
       "      <td>0.08</td>\n",
       "      <td>0.16</td>\n",
       "      <td>1.30</td>\n",
       "    </tr>\n",
       "    <tr>\n",
       "      <th>difficulty</th>\n",
       "      <td>10887.0</td>\n",
       "      <td>14.174633</td>\n",
       "      <td>18.709168</td>\n",
       "      <td>0.0</td>\n",
       "      <td>3.00</td>\n",
       "      <td>9.09</td>\n",
       "      <td>18.90</td>\n",
       "      <td>418.20</td>\n",
       "    </tr>\n",
       "    <tr>\n",
       "      <th>intelligence</th>\n",
       "      <td>10887.0</td>\n",
       "      <td>29.434136</td>\n",
       "      <td>34.417464</td>\n",
       "      <td>0.0</td>\n",
       "      <td>11.86</td>\n",
       "      <td>21.92</td>\n",
       "      <td>36.78</td>\n",
       "      <td>569.78</td>\n",
       "    </tr>\n",
       "    <tr>\n",
       "      <th>effort</th>\n",
       "      <td>10887.0</td>\n",
       "      <td>36829.598306</td>\n",
       "      <td>434328.184853</td>\n",
       "      <td>0.0</td>\n",
       "      <td>161.67</td>\n",
       "      <td>2031.02</td>\n",
       "      <td>11416.24</td>\n",
       "      <td>31079782.27</td>\n",
       "    </tr>\n",
       "    <tr>\n",
       "      <th>Halstead_b</th>\n",
       "      <td>10887.0</td>\n",
       "      <td>0.224725</td>\n",
       "      <td>0.646356</td>\n",
       "      <td>0.0</td>\n",
       "      <td>0.02</td>\n",
       "      <td>0.07</td>\n",
       "      <td>0.21</td>\n",
       "      <td>26.95</td>\n",
       "    </tr>\n",
       "    <tr>\n",
       "      <th>time_estimator</th>\n",
       "      <td>10887.0</td>\n",
       "      <td>2046.088930</td>\n",
       "      <td>24129.343552</td>\n",
       "      <td>0.0</td>\n",
       "      <td>8.98</td>\n",
       "      <td>112.83</td>\n",
       "      <td>634.24</td>\n",
       "      <td>1726654.57</td>\n",
       "    </tr>\n",
       "    <tr>\n",
       "      <th>lOCode</th>\n",
       "      <td>10887.0</td>\n",
       "      <td>26.247451</td>\n",
       "      <td>59.606787</td>\n",
       "      <td>0.0</td>\n",
       "      <td>4.00</td>\n",
       "      <td>13.00</td>\n",
       "      <td>28.00</td>\n",
       "      <td>2824.00</td>\n",
       "    </tr>\n",
       "    <tr>\n",
       "      <th>lOComment</th>\n",
       "      <td>10887.0</td>\n",
       "      <td>2.737026</td>\n",
       "      <td>9.007856</td>\n",
       "      <td>0.0</td>\n",
       "      <td>0.00</td>\n",
       "      <td>0.00</td>\n",
       "      <td>2.00</td>\n",
       "      <td>344.00</td>\n",
       "    </tr>\n",
       "    <tr>\n",
       "      <th>lOBlank</th>\n",
       "      <td>10887.0</td>\n",
       "      <td>4.624690</td>\n",
       "      <td>9.967412</td>\n",
       "      <td>0.0</td>\n",
       "      <td>0.00</td>\n",
       "      <td>2.00</td>\n",
       "      <td>5.00</td>\n",
       "      <td>447.00</td>\n",
       "    </tr>\n",
       "    <tr>\n",
       "      <th>lOCodeAndComment</th>\n",
       "      <td>10887.0</td>\n",
       "      <td>0.370717</td>\n",
       "      <td>1.907800</td>\n",
       "      <td>0.0</td>\n",
       "      <td>0.00</td>\n",
       "      <td>0.00</td>\n",
       "      <td>0.00</td>\n",
       "      <td>108.00</td>\n",
       "    </tr>\n",
       "    <tr>\n",
       "      <th>uniq_Op</th>\n",
       "      <td>10887.0</td>\n",
       "      <td>11.170405</td>\n",
       "      <td>10.046022</td>\n",
       "      <td>0.0</td>\n",
       "      <td>5.00</td>\n",
       "      <td>11.00</td>\n",
       "      <td>16.00</td>\n",
       "      <td>411.00</td>\n",
       "    </tr>\n",
       "    <tr>\n",
       "      <th>uniq_Opnd</th>\n",
       "      <td>10887.0</td>\n",
       "      <td>16.741086</td>\n",
       "      <td>26.662690</td>\n",
       "      <td>0.0</td>\n",
       "      <td>4.00</td>\n",
       "      <td>11.00</td>\n",
       "      <td>21.00</td>\n",
       "      <td>1026.00</td>\n",
       "    </tr>\n",
       "    <tr>\n",
       "      <th>total_Op</th>\n",
       "      <td>10887.0</td>\n",
       "      <td>68.066795</td>\n",
       "      <td>151.474955</td>\n",
       "      <td>0.0</td>\n",
       "      <td>8.00</td>\n",
       "      <td>29.00</td>\n",
       "      <td>71.00</td>\n",
       "      <td>5420.00</td>\n",
       "    </tr>\n",
       "    <tr>\n",
       "      <th>total_Opnd</th>\n",
       "      <td>10887.0</td>\n",
       "      <td>46.359162</td>\n",
       "      <td>100.326468</td>\n",
       "      <td>0.0</td>\n",
       "      <td>5.50</td>\n",
       "      <td>19.00</td>\n",
       "      <td>48.00</td>\n",
       "      <td>3021.00</td>\n",
       "    </tr>\n",
       "    <tr>\n",
       "      <th>branchCount</th>\n",
       "      <td>10887.0</td>\n",
       "      <td>11.285056</td>\n",
       "      <td>22.592164</td>\n",
       "      <td>0.0</td>\n",
       "      <td>3.00</td>\n",
       "      <td>5.00</td>\n",
       "      <td>13.00</td>\n",
       "      <td>826.00</td>\n",
       "    </tr>\n",
       "    <tr>\n",
       "      <th>defects</th>\n",
       "      <td>10887.0</td>\n",
       "      <td>0.193442</td>\n",
       "      <td>0.395014</td>\n",
       "      <td>0.0</td>\n",
       "      <td>0.00</td>\n",
       "      <td>0.00</td>\n",
       "      <td>0.00</td>\n",
       "      <td>1.00</td>\n",
       "    </tr>\n",
       "  </tbody>\n",
       "</table>\n",
       "</div>"
      ],
      "text/plain": [
       "                            count          mean            std  min     25%  \\\n",
       "mc_line_count             10887.0     42.008460      76.588413  0.0   11.00   \n",
       "cyclomatic_complexity     10887.0      6.347424      13.018783  0.0    2.00   \n",
       "essential_complexity      10887.0      3.400423       6.771404  0.0    1.00   \n",
       "design_complexity         10887.0      4.000863       9.116213  0.0    1.00   \n",
       "total_operators&operands  10887.0    114.368724     249.483987  0.0   14.00   \n",
       "volume                    10887.0    673.634245    1938.699588  0.0   48.43   \n",
       "program_length            10887.0      0.135310       0.160534  0.0    0.03   \n",
       "difficulty                10887.0     14.174633      18.709168  0.0    3.00   \n",
       "intelligence              10887.0     29.434136      34.417464  0.0   11.86   \n",
       "effort                    10887.0  36829.598306  434328.184853  0.0  161.67   \n",
       "Halstead_b                10887.0      0.224725       0.646356  0.0    0.02   \n",
       "time_estimator            10887.0   2046.088930   24129.343552  0.0    8.98   \n",
       "lOCode                    10887.0     26.247451      59.606787  0.0    4.00   \n",
       "lOComment                 10887.0      2.737026       9.007856  0.0    0.00   \n",
       "lOBlank                   10887.0      4.624690       9.967412  0.0    0.00   \n",
       "lOCodeAndComment          10887.0      0.370717       1.907800  0.0    0.00   \n",
       "uniq_Op                   10887.0     11.170405      10.046022  0.0    5.00   \n",
       "uniq_Opnd                 10887.0     16.741086      26.662690  0.0    4.00   \n",
       "total_Op                  10887.0     68.066795     151.474955  0.0    8.00   \n",
       "total_Opnd                10887.0     46.359162     100.326468  0.0    5.50   \n",
       "branchCount               10887.0     11.285056      22.592164  0.0    3.00   \n",
       "defects                   10887.0      0.193442       0.395014  0.0    0.00   \n",
       "\n",
       "                              50%       75%          max  \n",
       "mc_line_count               23.00     46.00      3442.00  \n",
       "cyclomatic_complexity        3.00      7.00       470.00  \n",
       "essential_complexity         1.00      3.00       165.00  \n",
       "design_complexity            2.00      4.00       402.00  \n",
       "total_operators&operands    49.00    119.00      8441.00  \n",
       "volume                     217.13    621.06     80843.08  \n",
       "program_length               0.08      0.16         1.30  \n",
       "difficulty                   9.09     18.90       418.20  \n",
       "intelligence                21.92     36.78       569.78  \n",
       "effort                    2031.02  11416.24  31079782.27  \n",
       "Halstead_b                   0.07      0.21        26.95  \n",
       "time_estimator             112.83    634.24   1726654.57  \n",
       "lOCode                      13.00     28.00      2824.00  \n",
       "lOComment                    0.00      2.00       344.00  \n",
       "lOBlank                      2.00      5.00       447.00  \n",
       "lOCodeAndComment             0.00      0.00       108.00  \n",
       "uniq_Op                     11.00     16.00       411.00  \n",
       "uniq_Opnd                   11.00     21.00      1026.00  \n",
       "total_Op                    29.00     71.00      5420.00  \n",
       "total_Opnd                  19.00     48.00      3021.00  \n",
       "branchCount                  5.00     13.00       826.00  \n",
       "defects                      0.00      0.00         1.00  "
      ]
     },
     "execution_count": 70,
     "metadata": {
      "tags": []
     },
     "output_type": "execute_result"
    }
   ],
   "source": [
    "dataset.describe().T"
   ]
  },
  {
   "cell_type": "markdown",
   "metadata": {
    "colab_type": "text",
    "id": "SUc-7fuOVNJi"
   },
   "source": [
    "### Correlation"
   ]
  },
  {
   "cell_type": "code",
   "execution_count": 71,
   "metadata": {
    "colab": {
     "base_uri": "https://localhost:8080/",
     "height": 713
    },
    "colab_type": "code",
    "id": "5MhpwAdFQB4f",
    "outputId": "02dc5950-70fd-4208-9c6e-4390bfa07b9f"
   },
   "outputs": [
    {
     "data": {
      "text/plain": [
       "<matplotlib.axes._subplots.AxesSubplot at 0x7fca8be6f5f8>"
      ]
     },
     "execution_count": 71,
     "metadata": {
      "tags": []
     },
     "output_type": "execute_result"
    },
    {
     "data": {
      "image/png": "[encoded data removed]",
      "text/plain": [
       "<matplotlib.figure.Figure at 0x7fca8bdd94e0>"
      ]
     },
     "metadata": {
      "tags": []
     },
     "output_type": "display_data"
    }
   ],
   "source": [
    "plt.subplots(figsize=(16, 10))\n",
    "sns.heatmap(dataset.corr(), annot = True, fmt=\".1f\", cmap=\"RdYlBu\")"
   ]
  },
  {
   "cell_type": "code",
   "execution_count": 72,
   "metadata": {
    "colab": {
     "base_uri": "https://localhost:8080/",
     "height": 136
    },
    "colab_type": "code",
    "id": "oDQF7bRvQS3m",
    "outputId": "88140fa2-0f20-43d6-b287-2c45daa7c9df"
   },
   "outputs": [
    {
     "data": {
      "text/plain": [
       "Index(['mc_line_count', 'cyclomatic_complexity', 'essential_complexity',\n",
       "       'design_complexity', 'total_operators&operands', 'volume',\n",
       "       'program_length', 'difficulty', 'intelligence', 'effort', 'Halstead_b',\n",
       "       'time_estimator', 'lOCode', 'lOComment', 'lOBlank', 'lOCodeAndComment',\n",
       "       'uniq_Op', 'uniq_Opnd', 'total_Op', 'total_Opnd', 'branchCount',\n",
       "       'defects'],\n",
       "      dtype='object')"
      ]
     },
     "execution_count": 72,
     "metadata": {
      "tags": []
     },
     "output_type": "execute_result"
    }
   ],
   "source": [
    "dataset.columns"
   ]
  },
  {
   "cell_type": "markdown",
   "metadata": {
    "colab_type": "text",
    "id": "9-w9JkRKTWhv"
   },
   "source": [
    "### Removing Correlated Feature\n",
    "__Total 6 highly correlated feature found where $r$ = 1.0__ "
   ]
  },
  {
   "cell_type": "code",
   "execution_count": 0,
   "metadata": {
    "colab": {},
    "colab_type": "code",
    "id": "9tQ3ZppOQuDi"
   },
   "outputs": [],
   "source": [
    "del dataset[\"total_Opnd\"]\n",
    "del dataset[\"Halstead_b\"]\n",
    "del dataset[\"total_Op\"]\n",
    "del dataset[\"effort\"]\n",
    "del dataset[\"branchCount\"]\n",
    "del dataset[\"volume\"]"
   ]
  },
  {
   "cell_type": "code",
   "execution_count": 74,
   "metadata": {
    "colab": {
     "base_uri": "https://localhost:8080/",
     "height": 690
    },
    "colab_type": "code",
    "id": "Mjc3RK_RTqsm",
    "outputId": "0ab30963-a99a-4bbd-edcc-b28e6e8f5fc9"
   },
   "outputs": [
    {
     "data": {
      "image/png": "[encoded data removed]",
      "text/plain": [
       "<matplotlib.figure.Figure at 0x7fca8bf6b860>"
      ]
     },
     "metadata": {
      "tags": []
     },
     "output_type": "display_data"
    }
   ],
   "source": [
    "plt.subplots(figsize=(13, 9))\n",
    "sns.heatmap(dataset.corr(), annot = True, fmt=\".1f\", cmap=\"RdYlBu\")\n",
    "plt.xticks(fontsize=14)\n",
    "plt.yticks(fontsize=14)\n",
    "plt.show()"
   ]
  },
  {
   "cell_type": "markdown",
   "metadata": {
    "colab_type": "text",
    "id": "D8glniT-s-6g"
   },
   "source": [
    "### Feature Scaling"
   ]
  },
  {
   "cell_type": "code",
   "execution_count": 0,
   "metadata": {
    "colab": {},
    "colab_type": "code",
    "id": "xclFQWhNs9sU"
   },
   "outputs": [],
   "source": [
    "scaler = MinMaxScaler()\n",
    "\n",
    "dataset[\"mc_line_count\"] = scaler.fit_transform(np.array(dataset[\"mc_line_count\"]).reshape(len(dataset[\"mc_line_count\"]), -1))\n",
    "dataset[\"difficulty\"] = scaler.fit_transform(np.array(dataset[\"difficulty\"]).reshape(len(dataset[\"difficulty\"]), -1))\n",
    "dataset[\"intelligence\"] = scaler.fit_transform(np.array(dataset[\"intelligence\"]).reshape(len(dataset[\"intelligence\"]), -1))\n",
    "dataset[\"time_estimator\"] = scaler.fit_transform(np.array(dataset[\"time_estimator\"]).reshape(len(dataset[\"time_estimator\"]), -1))\n",
    "dataset[\"lOCode\"] = scaler.fit_transform(np.array(dataset[\"lOCode\"]).reshape(len(dataset[\"lOCode\"]), -1))\n",
    "dataset[\"uniq_Opnd\"] = scaler.fit_transform(np.array(dataset[\"uniq_Opnd\"]).reshape(len(dataset[\"uniq_Opnd\"]), -1))\n",
    "dataset[\"cyclomatic_complexity\"] = scaler.fit_transform(np.array(dataset[\"cyclomatic_complexity\"]).reshape(len(dataset[\"cyclomatic_complexity\"]), -1))\n",
    "dataset[\"cyclomatic_complexity\"] = scaler.fit_transform(np.array(dataset[\"cyclomatic_complexity\"]).reshape(len(dataset[\"cyclomatic_complexity\"]), -1))\n",
    "dataset[\"essential_complexity\"] = scaler.fit_transform(np.array(dataset[\"essential_complexity\"]).reshape(len(dataset[\"essential_complexity\"]), -1))\n",
    "dataset[\"design_complexity\"] = scaler.fit_transform(np.array(dataset[\"design_complexity\"]).reshape(len(dataset[\"design_complexity\"]), -1))\n",
    "dataset[\"lOComment\"] = scaler.fit_transform(np.array(dataset[\"lOComment\"]).reshape(len(dataset[\"lOComment\"]), -1))\n",
    "dataset[\"lOBlank\"] = scaler.fit_transform(np.array(dataset[\"lOBlank\"]).reshape(len(dataset[\"lOBlank\"]), -1))\n",
    "dataset[\"lOCodeAndComment\"] = scaler.fit_transform(np.array(dataset[\"lOCodeAndComment\"]).reshape(len(dataset[\"lOCodeAndComment\"]), -1))\n",
    "dataset[\"uniq_Op\"] = scaler.fit_transform(np.array(dataset[\"uniq_Op\"]).reshape(len(dataset[\"uniq_Op\"]), -1))\n",
    "dataset[\"program_length\"] = scaler.fit_transform(np.array(dataset[\"program_length\"]).reshape(len(dataset[\"program_length\"]), -1))\n",
    "dataset[\"total_operators&operands\"] = scaler.fit_transform(np.array(dataset[\"total_operators&operands\"]).reshape(len(dataset[\"total_operators&operands\"]), -1))"
   ]
  },
  {
   "cell_type": "code",
   "execution_count": 76,
   "metadata": {
    "colab": {
     "base_uri": "https://localhost:8080/",
     "height": 317
    },
    "colab_type": "code",
    "id": "dAfYq0gG4nXm",
    "outputId": "ba318c6a-349e-4854-9deb-d78648f1cab0"
   },
   "outputs": [
    {
     "data": {
      "text/html": [
       "<div>\n",
       "<style scoped>\n",
       "    .dataframe tbody tr th:only-of-type {\n",
       "        vertical-align: middle;\n",
       "    }\n",
       "\n",
       "    .dataframe tbody tr th {\n",
       "        vertical-align: top;\n",
       "    }\n",
       "\n",
       "    .dataframe thead th {\n",
       "        text-align: right;\n",
       "    }\n",
       "</style>\n",
       "<table border=\"1\" class=\"dataframe\">\n",
       "  <thead>\n",
       "    <tr style=\"text-align: right;\">\n",
       "      <th></th>\n",
       "      <th>mc_line_count</th>\n",
       "      <th>cyclomatic_complexity</th>\n",
       "      <th>essential_complexity</th>\n",
       "      <th>design_complexity</th>\n",
       "      <th>total_operators&amp;operands</th>\n",
       "      <th>program_length</th>\n",
       "      <th>difficulty</th>\n",
       "      <th>intelligence</th>\n",
       "      <th>time_estimator</th>\n",
       "      <th>lOCode</th>\n",
       "      <th>lOComment</th>\n",
       "      <th>lOBlank</th>\n",
       "      <th>lOCodeAndComment</th>\n",
       "      <th>uniq_Op</th>\n",
       "      <th>uniq_Opnd</th>\n",
       "      <th>defects</th>\n",
       "    </tr>\n",
       "  </thead>\n",
       "  <tbody>\n",
       "    <tr>\n",
       "      <th>count</th>\n",
       "      <td>10887.000000</td>\n",
       "      <td>10887.000000</td>\n",
       "      <td>10887.000000</td>\n",
       "      <td>10887.000000</td>\n",
       "      <td>10887.000000</td>\n",
       "      <td>10887.000000</td>\n",
       "      <td>10887.000000</td>\n",
       "      <td>10887.000000</td>\n",
       "      <td>10887.000000</td>\n",
       "      <td>10887.000000</td>\n",
       "      <td>10887.000000</td>\n",
       "      <td>10887.000000</td>\n",
       "      <td>10887.000000</td>\n",
       "      <td>10887.000000</td>\n",
       "      <td>10887.000000</td>\n",
       "      <td>10887.000000</td>\n",
       "    </tr>\n",
       "    <tr>\n",
       "      <th>mean</th>\n",
       "      <td>0.012205</td>\n",
       "      <td>0.013505</td>\n",
       "      <td>0.020609</td>\n",
       "      <td>0.009952</td>\n",
       "      <td>0.013549</td>\n",
       "      <td>0.104085</td>\n",
       "      <td>0.033894</td>\n",
       "      <td>0.051659</td>\n",
       "      <td>0.001185</td>\n",
       "      <td>0.009294</td>\n",
       "      <td>0.007956</td>\n",
       "      <td>0.010346</td>\n",
       "      <td>0.003433</td>\n",
       "      <td>0.027179</td>\n",
       "      <td>0.016317</td>\n",
       "      <td>0.193442</td>\n",
       "    </tr>\n",
       "    <tr>\n",
       "      <th>std</th>\n",
       "      <td>0.022251</td>\n",
       "      <td>0.027700</td>\n",
       "      <td>0.041039</td>\n",
       "      <td>0.022677</td>\n",
       "      <td>0.029556</td>\n",
       "      <td>0.123488</td>\n",
       "      <td>0.044737</td>\n",
       "      <td>0.060405</td>\n",
       "      <td>0.013975</td>\n",
       "      <td>0.021107</td>\n",
       "      <td>0.026186</td>\n",
       "      <td>0.022298</td>\n",
       "      <td>0.017665</td>\n",
       "      <td>0.024443</td>\n",
       "      <td>0.025987</td>\n",
       "      <td>0.395014</td>\n",
       "    </tr>\n",
       "    <tr>\n",
       "      <th>min</th>\n",
       "      <td>0.000000</td>\n",
       "      <td>0.000000</td>\n",
       "      <td>0.000000</td>\n",
       "      <td>0.000000</td>\n",
       "      <td>0.000000</td>\n",
       "      <td>0.000000</td>\n",
       "      <td>0.000000</td>\n",
       "      <td>0.000000</td>\n",
       "      <td>0.000000</td>\n",
       "      <td>0.000000</td>\n",
       "      <td>0.000000</td>\n",
       "      <td>0.000000</td>\n",
       "      <td>0.000000</td>\n",
       "      <td>0.000000</td>\n",
       "      <td>0.000000</td>\n",
       "      <td>0.000000</td>\n",
       "    </tr>\n",
       "    <tr>\n",
       "      <th>25%</th>\n",
       "      <td>0.003196</td>\n",
       "      <td>0.004255</td>\n",
       "      <td>0.006061</td>\n",
       "      <td>0.002488</td>\n",
       "      <td>0.001659</td>\n",
       "      <td>0.023077</td>\n",
       "      <td>0.007174</td>\n",
       "      <td>0.020815</td>\n",
       "      <td>0.000005</td>\n",
       "      <td>0.001416</td>\n",
       "      <td>0.000000</td>\n",
       "      <td>0.000000</td>\n",
       "      <td>0.000000</td>\n",
       "      <td>0.012165</td>\n",
       "      <td>0.003899</td>\n",
       "      <td>0.000000</td>\n",
       "    </tr>\n",
       "    <tr>\n",
       "      <th>50%</th>\n",
       "      <td>0.006682</td>\n",
       "      <td>0.006383</td>\n",
       "      <td>0.006061</td>\n",
       "      <td>0.004975</td>\n",
       "      <td>0.005805</td>\n",
       "      <td>0.061538</td>\n",
       "      <td>0.021736</td>\n",
       "      <td>0.038471</td>\n",
       "      <td>0.000065</td>\n",
       "      <td>0.004603</td>\n",
       "      <td>0.000000</td>\n",
       "      <td>0.004474</td>\n",
       "      <td>0.000000</td>\n",
       "      <td>0.026764</td>\n",
       "      <td>0.010721</td>\n",
       "      <td>0.000000</td>\n",
       "    </tr>\n",
       "    <tr>\n",
       "      <th>75%</th>\n",
       "      <td>0.013364</td>\n",
       "      <td>0.014894</td>\n",
       "      <td>0.018182</td>\n",
       "      <td>0.009950</td>\n",
       "      <td>0.014098</td>\n",
       "      <td>0.123077</td>\n",
       "      <td>0.045194</td>\n",
       "      <td>0.064551</td>\n",
       "      <td>0.000367</td>\n",
       "      <td>0.009915</td>\n",
       "      <td>0.005814</td>\n",
       "      <td>0.011186</td>\n",
       "      <td>0.000000</td>\n",
       "      <td>0.038929</td>\n",
       "      <td>0.020468</td>\n",
       "      <td>0.000000</td>\n",
       "    </tr>\n",
       "    <tr>\n",
       "      <th>max</th>\n",
       "      <td>1.000000</td>\n",
       "      <td>1.000000</td>\n",
       "      <td>1.000000</td>\n",
       "      <td>1.000000</td>\n",
       "      <td>1.000000</td>\n",
       "      <td>1.000000</td>\n",
       "      <td>1.000000</td>\n",
       "      <td>1.000000</td>\n",
       "      <td>1.000000</td>\n",
       "      <td>1.000000</td>\n",
       "      <td>1.000000</td>\n",
       "      <td>1.000000</td>\n",
       "      <td>1.000000</td>\n",
       "      <td>1.000000</td>\n",
       "      <td>1.000000</td>\n",
       "      <td>1.000000</td>\n",
       "    </tr>\n",
       "  </tbody>\n",
       "</table>\n",
       "</div>"
      ],
      "text/plain": [
       "       mc_line_count  cyclomatic_complexity  essential_complexity  \\\n",
       "count   10887.000000           10887.000000          10887.000000   \n",
       "mean        0.012205               0.013505              0.020609   \n",
       "std         0.022251               0.027700              0.041039   \n",
       "min         0.000000               0.000000              0.000000   \n",
       "25%         0.003196               0.004255              0.006061   \n",
       "50%         0.006682               0.006383              0.006061   \n",
       "75%         0.013364               0.014894              0.018182   \n",
       "max         1.000000               1.000000              1.000000   \n",
       "\n",
       "       design_complexity  total_operators&operands  program_length  \\\n",
       "count       10887.000000              10887.000000    10887.000000   \n",
       "mean            0.009952                  0.013549        0.104085   \n",
       "std             0.022677                  0.029556        0.123488   \n",
       "min             0.000000                  0.000000        0.000000   \n",
       "25%             0.002488                  0.001659        0.023077   \n",
       "50%             0.004975                  0.005805        0.061538   \n",
       "75%             0.009950                  0.014098        0.123077   \n",
       "max             1.000000                  1.000000        1.000000   \n",
       "\n",
       "         difficulty  intelligence  time_estimator        lOCode     lOComment  \\\n",
       "count  10887.000000  10887.000000    10887.000000  10887.000000  10887.000000   \n",
       "mean       0.033894      0.051659        0.001185      0.009294      0.007956   \n",
       "std        0.044737      0.060405        0.013975      0.021107      0.026186   \n",
       "min        0.000000      0.000000        0.000000      0.000000      0.000000   \n",
       "25%        0.007174      0.020815        0.000005      0.001416      0.000000   \n",
       "50%        0.021736      0.038471        0.000065      0.004603      0.000000   \n",
       "75%        0.045194      0.064551        0.000367      0.009915      0.005814   \n",
       "max        1.000000      1.000000        1.000000      1.000000      1.000000   \n",
       "\n",
       "            lOBlank  lOCodeAndComment       uniq_Op     uniq_Opnd  \\\n",
       "count  10887.000000      10887.000000  10887.000000  10887.000000   \n",
       "mean       0.010346          0.003433      0.027179      0.016317   \n",
       "std        0.022298          0.017665      0.024443      0.025987   \n",
       "min        0.000000          0.000000      0.000000      0.000000   \n",
       "25%        0.000000          0.000000      0.012165      0.003899   \n",
       "50%        0.004474          0.000000      0.026764      0.010721   \n",
       "75%        0.011186          0.000000      0.038929      0.020468   \n",
       "max        1.000000          1.000000      1.000000      1.000000   \n",
       "\n",
       "            defects  \n",
       "count  10887.000000  \n",
       "mean       0.193442  \n",
       "std        0.395014  \n",
       "min        0.000000  \n",
       "25%        0.000000  \n",
       "50%        0.000000  \n",
       "75%        0.000000  \n",
       "max        1.000000  "
      ]
     },
     "execution_count": 76,
     "metadata": {
      "tags": []
     },
     "output_type": "execute_result"
    }
   ],
   "source": [
    "dataset.describe()"
   ]
  },
  {
   "cell_type": "code",
   "execution_count": 0,
   "metadata": {
    "colab": {},
    "colab_type": "code",
    "id": "Reh22fOMTxkY"
   },
   "outputs": [],
   "source": [
    "X = dataset.drop(\"defects\", axis=1)\n",
    "y = dataset[\"defects\"]\n",
    "\n",
    "X_train, X_test, y_train, y_test = train_test_split(X, y, test_size = 0.2, random_state=1)"
   ]
  },
  {
   "cell_type": "code",
   "execution_count": 78,
   "metadata": {
    "colab": {
     "base_uri": "https://localhost:8080/",
     "height": 317
    },
    "colab_type": "code",
    "id": "md6f5aOrqkWZ",
    "outputId": "cf1cbf0a-c856-4205-9310-8a5a9cde83b3"
   },
   "outputs": [
    {
     "data": {
      "text/html": [
       "<div>\n",
       "<style scoped>\n",
       "    .dataframe tbody tr th:only-of-type {\n",
       "        vertical-align: middle;\n",
       "    }\n",
       "\n",
       "    .dataframe tbody tr th {\n",
       "        vertical-align: top;\n",
       "    }\n",
       "\n",
       "    .dataframe thead th {\n",
       "        text-align: right;\n",
       "    }\n",
       "</style>\n",
       "<table border=\"1\" class=\"dataframe\">\n",
       "  <thead>\n",
       "    <tr style=\"text-align: right;\">\n",
       "      <th></th>\n",
       "      <th>mc_line_count</th>\n",
       "      <th>cyclomatic_complexity</th>\n",
       "      <th>essential_complexity</th>\n",
       "      <th>design_complexity</th>\n",
       "      <th>total_operators&amp;operands</th>\n",
       "      <th>program_length</th>\n",
       "      <th>difficulty</th>\n",
       "      <th>intelligence</th>\n",
       "      <th>time_estimator</th>\n",
       "      <th>lOCode</th>\n",
       "      <th>lOComment</th>\n",
       "      <th>lOBlank</th>\n",
       "      <th>lOCodeAndComment</th>\n",
       "      <th>uniq_Op</th>\n",
       "      <th>uniq_Opnd</th>\n",
       "    </tr>\n",
       "  </thead>\n",
       "  <tbody>\n",
       "    <tr>\n",
       "      <th>count</th>\n",
       "      <td>10887.000000</td>\n",
       "      <td>10887.000000</td>\n",
       "      <td>10887.000000</td>\n",
       "      <td>10887.000000</td>\n",
       "      <td>10887.000000</td>\n",
       "      <td>10887.000000</td>\n",
       "      <td>10887.000000</td>\n",
       "      <td>10887.000000</td>\n",
       "      <td>10887.000000</td>\n",
       "      <td>10887.000000</td>\n",
       "      <td>10887.000000</td>\n",
       "      <td>10887.000000</td>\n",
       "      <td>10887.000000</td>\n",
       "      <td>10887.000000</td>\n",
       "      <td>10887.000000</td>\n",
       "    </tr>\n",
       "    <tr>\n",
       "      <th>mean</th>\n",
       "      <td>0.012205</td>\n",
       "      <td>0.013505</td>\n",
       "      <td>0.020609</td>\n",
       "      <td>0.009952</td>\n",
       "      <td>0.013549</td>\n",
       "      <td>0.104085</td>\n",
       "      <td>0.033894</td>\n",
       "      <td>0.051659</td>\n",
       "      <td>0.001185</td>\n",
       "      <td>0.009294</td>\n",
       "      <td>0.007956</td>\n",
       "      <td>0.010346</td>\n",
       "      <td>0.003433</td>\n",
       "      <td>0.027179</td>\n",
       "      <td>0.016317</td>\n",
       "    </tr>\n",
       "    <tr>\n",
       "      <th>std</th>\n",
       "      <td>0.022251</td>\n",
       "      <td>0.027700</td>\n",
       "      <td>0.041039</td>\n",
       "      <td>0.022677</td>\n",
       "      <td>0.029556</td>\n",
       "      <td>0.123488</td>\n",
       "      <td>0.044737</td>\n",
       "      <td>0.060405</td>\n",
       "      <td>0.013975</td>\n",
       "      <td>0.021107</td>\n",
       "      <td>0.026186</td>\n",
       "      <td>0.022298</td>\n",
       "      <td>0.017665</td>\n",
       "      <td>0.024443</td>\n",
       "      <td>0.025987</td>\n",
       "    </tr>\n",
       "    <tr>\n",
       "      <th>min</th>\n",
       "      <td>0.000000</td>\n",
       "      <td>0.000000</td>\n",
       "      <td>0.000000</td>\n",
       "      <td>0.000000</td>\n",
       "      <td>0.000000</td>\n",
       "      <td>0.000000</td>\n",
       "      <td>0.000000</td>\n",
       "      <td>0.000000</td>\n",
       "      <td>0.000000</td>\n",
       "      <td>0.000000</td>\n",
       "      <td>0.000000</td>\n",
       "      <td>0.000000</td>\n",
       "      <td>0.000000</td>\n",
       "      <td>0.000000</td>\n",
       "      <td>0.000000</td>\n",
       "    </tr>\n",
       "    <tr>\n",
       "      <th>25%</th>\n",
       "      <td>0.003196</td>\n",
       "      <td>0.004255</td>\n",
       "      <td>0.006061</td>\n",
       "      <td>0.002488</td>\n",
       "      <td>0.001659</td>\n",
       "      <td>0.023077</td>\n",
       "      <td>0.007174</td>\n",
       "      <td>0.020815</td>\n",
       "      <td>0.000005</td>\n",
       "      <td>0.001416</td>\n",
       "      <td>0.000000</td>\n",
       "      <td>0.000000</td>\n",
       "      <td>0.000000</td>\n",
       "      <td>0.012165</td>\n",
       "      <td>0.003899</td>\n",
       "    </tr>\n",
       "    <tr>\n",
       "      <th>50%</th>\n",
       "      <td>0.006682</td>\n",
       "      <td>0.006383</td>\n",
       "      <td>0.006061</td>\n",
       "      <td>0.004975</td>\n",
       "      <td>0.005805</td>\n",
       "      <td>0.061538</td>\n",
       "      <td>0.021736</td>\n",
       "      <td>0.038471</td>\n",
       "      <td>0.000065</td>\n",
       "      <td>0.004603</td>\n",
       "      <td>0.000000</td>\n",
       "      <td>0.004474</td>\n",
       "      <td>0.000000</td>\n",
       "      <td>0.026764</td>\n",
       "      <td>0.010721</td>\n",
       "    </tr>\n",
       "    <tr>\n",
       "      <th>75%</th>\n",
       "      <td>0.013364</td>\n",
       "      <td>0.014894</td>\n",
       "      <td>0.018182</td>\n",
       "      <td>0.009950</td>\n",
       "      <td>0.014098</td>\n",
       "      <td>0.123077</td>\n",
       "      <td>0.045194</td>\n",
       "      <td>0.064551</td>\n",
       "      <td>0.000367</td>\n",
       "      <td>0.009915</td>\n",
       "      <td>0.005814</td>\n",
       "      <td>0.011186</td>\n",
       "      <td>0.000000</td>\n",
       "      <td>0.038929</td>\n",
       "      <td>0.020468</td>\n",
       "    </tr>\n",
       "    <tr>\n",
       "      <th>max</th>\n",
       "      <td>1.000000</td>\n",
       "      <td>1.000000</td>\n",
       "      <td>1.000000</td>\n",
       "      <td>1.000000</td>\n",
       "      <td>1.000000</td>\n",
       "      <td>1.000000</td>\n",
       "      <td>1.000000</td>\n",
       "      <td>1.000000</td>\n",
       "      <td>1.000000</td>\n",
       "      <td>1.000000</td>\n",
       "      <td>1.000000</td>\n",
       "      <td>1.000000</td>\n",
       "      <td>1.000000</td>\n",
       "      <td>1.000000</td>\n",
       "      <td>1.000000</td>\n",
       "    </tr>\n",
       "  </tbody>\n",
       "</table>\n",
       "</div>"
      ],
      "text/plain": [
       "       mc_line_count  cyclomatic_complexity  essential_complexity  \\\n",
       "count   10887.000000           10887.000000          10887.000000   \n",
       "mean        0.012205               0.013505              0.020609   \n",
       "std         0.022251               0.027700              0.041039   \n",
       "min         0.000000               0.000000              0.000000   \n",
       "25%         0.003196               0.004255              0.006061   \n",
       "50%         0.006682               0.006383              0.006061   \n",
       "75%         0.013364               0.014894              0.018182   \n",
       "max         1.000000               1.000000              1.000000   \n",
       "\n",
       "       design_complexity  total_operators&operands  program_length  \\\n",
       "count       10887.000000              10887.000000    10887.000000   \n",
       "mean            0.009952                  0.013549        0.104085   \n",
       "std             0.022677                  0.029556        0.123488   \n",
       "min             0.000000                  0.000000        0.000000   \n",
       "25%             0.002488                  0.001659        0.023077   \n",
       "50%             0.004975                  0.005805        0.061538   \n",
       "75%             0.009950                  0.014098        0.123077   \n",
       "max             1.000000                  1.000000        1.000000   \n",
       "\n",
       "         difficulty  intelligence  time_estimator        lOCode     lOComment  \\\n",
       "count  10887.000000  10887.000000    10887.000000  10887.000000  10887.000000   \n",
       "mean       0.033894      0.051659        0.001185      0.009294      0.007956   \n",
       "std        0.044737      0.060405        0.013975      0.021107      0.026186   \n",
       "min        0.000000      0.000000        0.000000      0.000000      0.000000   \n",
       "25%        0.007174      0.020815        0.000005      0.001416      0.000000   \n",
       "50%        0.021736      0.038471        0.000065      0.004603      0.000000   \n",
       "75%        0.045194      0.064551        0.000367      0.009915      0.005814   \n",
       "max        1.000000      1.000000        1.000000      1.000000      1.000000   \n",
       "\n",
       "            lOBlank  lOCodeAndComment       uniq_Op     uniq_Opnd  \n",
       "count  10887.000000      10887.000000  10887.000000  10887.000000  \n",
       "mean       0.010346          0.003433      0.027179      0.016317  \n",
       "std        0.022298          0.017665      0.024443      0.025987  \n",
       "min        0.000000          0.000000      0.000000      0.000000  \n",
       "25%        0.000000          0.000000      0.012165      0.003899  \n",
       "50%        0.004474          0.000000      0.026764      0.010721  \n",
       "75%        0.011186          0.000000      0.038929      0.020468  \n",
       "max        1.000000          1.000000      1.000000      1.000000  "
      ]
     },
     "execution_count": 78,
     "metadata": {
      "tags": []
     },
     "output_type": "execute_result"
    }
   ],
   "source": [
    "X.describe()"
   ]
  },
  {
   "cell_type": "markdown",
   "metadata": {
    "colab_type": "text",
    "id": "1M7rUBI35sD4"
   },
   "source": [
    "## Chi Square Test"
   ]
  },
  {
   "cell_type": "code",
   "execution_count": 79,
   "metadata": {
    "colab": {
     "base_uri": "https://localhost:8080/",
     "height": 514
    },
    "colab_type": "code",
    "id": "YI4pjHypqWwt",
    "outputId": "d3948078-fb1f-41b8-b507-70b0416d12ba"
   },
   "outputs": [
    {
     "data": {
      "text/html": [
       "<div>\n",
       "<style scoped>\n",
       "    .dataframe tbody tr th:only-of-type {\n",
       "        vertical-align: middle;\n",
       "    }\n",
       "\n",
       "    .dataframe tbody tr th {\n",
       "        vertical-align: top;\n",
       "    }\n",
       "\n",
       "    .dataframe thead th {\n",
       "        text-align: right;\n",
       "    }\n",
       "</style>\n",
       "<table border=\"1\" class=\"dataframe\">\n",
       "  <thead>\n",
       "    <tr style=\"text-align: right;\">\n",
       "      <th></th>\n",
       "      <th>Features</th>\n",
       "      <th>Chi2Weights</th>\n",
       "    </tr>\n",
       "  </thead>\n",
       "  <tbody>\n",
       "    <tr>\n",
       "      <th>8</th>\n",
       "      <td>time_estimator</td>\n",
       "      <td>1794.028656</td>\n",
       "    </tr>\n",
       "    <tr>\n",
       "      <th>5</th>\n",
       "      <td>program_length</td>\n",
       "      <td>1594.887654</td>\n",
       "    </tr>\n",
       "    <tr>\n",
       "      <th>12</th>\n",
       "      <td>lOCodeAndComment</td>\n",
       "      <td>989.617448</td>\n",
       "    </tr>\n",
       "    <tr>\n",
       "      <th>10</th>\n",
       "      <td>lOComment</td>\n",
       "      <td>938.153486</td>\n",
       "    </tr>\n",
       "    <tr>\n",
       "      <th>2</th>\n",
       "      <td>essential_complexity</td>\n",
       "      <td>889.629120</td>\n",
       "    </tr>\n",
       "    <tr>\n",
       "      <th>7</th>\n",
       "      <td>intelligence</td>\n",
       "      <td>768.895928</td>\n",
       "    </tr>\n",
       "    <tr>\n",
       "      <th>4</th>\n",
       "      <td>total_operators&amp;operands</td>\n",
       "      <td>701.863254</td>\n",
       "    </tr>\n",
       "    <tr>\n",
       "      <th>6</th>\n",
       "      <td>difficulty</td>\n",
       "      <td>642.808201</td>\n",
       "    </tr>\n",
       "    <tr>\n",
       "      <th>1</th>\n",
       "      <td>cyclomatic_complexity</td>\n",
       "      <td>618.463055</td>\n",
       "    </tr>\n",
       "    <tr>\n",
       "      <th>3</th>\n",
       "      <td>design_complexity</td>\n",
       "      <td>562.493479</td>\n",
       "    </tr>\n",
       "    <tr>\n",
       "      <th>11</th>\n",
       "      <td>lOBlank</td>\n",
       "      <td>523.170194</td>\n",
       "    </tr>\n",
       "    <tr>\n",
       "      <th>9</th>\n",
       "      <td>lOCode</td>\n",
       "      <td>521.804632</td>\n",
       "    </tr>\n",
       "    <tr>\n",
       "      <th>14</th>\n",
       "      <td>uniq_Opnd</td>\n",
       "      <td>450.552361</td>\n",
       "    </tr>\n",
       "    <tr>\n",
       "      <th>0</th>\n",
       "      <td>mc_line_count</td>\n",
       "      <td>441.618079</td>\n",
       "    </tr>\n",
       "    <tr>\n",
       "      <th>13</th>\n",
       "      <td>uniq_Op</td>\n",
       "      <td>239.301715</td>\n",
       "    </tr>\n",
       "  </tbody>\n",
       "</table>\n",
       "</div>"
      ],
      "text/plain": [
       "                    Features  Chi2Weights\n",
       "8             time_estimator  1794.028656\n",
       "5             program_length  1594.887654\n",
       "12          lOCodeAndComment   989.617448\n",
       "10                 lOComment   938.153486\n",
       "2       essential_complexity   889.629120\n",
       "7               intelligence   768.895928\n",
       "4   total_operators&operands   701.863254\n",
       "6                 difficulty   642.808201\n",
       "1      cyclomatic_complexity   618.463055\n",
       "3          design_complexity   562.493479\n",
       "11                   lOBlank   523.170194\n",
       "9                     lOCode   521.804632\n",
       "14                 uniq_Opnd   450.552361\n",
       "0              mc_line_count   441.618079\n",
       "13                   uniq_Op   239.301715"
      ]
     },
     "execution_count": 79,
     "metadata": {
      "tags": []
     },
     "output_type": "execute_result"
    }
   ],
   "source": [
    "result = pd.DataFrame(columns=[\"Features\", \"Chi2Weights\"])\n",
    "\n",
    "for i in range(len(X.columns)):\n",
    "    chi2, p = chisquare(X[X.columns[i]])\n",
    "    result = result.append([pd.Series([X.columns[i], chi2], index = result.columns)], ignore_index=True)\n",
    "\n",
    "result = result.sort_values(by=\"Chi2Weights\", ascending=False)\n",
    "result"
   ]
  },
  {
   "cell_type": "markdown",
   "metadata": {
    "colab_type": "text",
    "id": "g3TwoTqq5wmK"
   },
   "source": [
    "## Random Forest Importance"
   ]
  },
  {
   "cell_type": "code",
   "execution_count": 80,
   "metadata": {
    "colab": {
     "base_uri": "https://localhost:8080/",
     "height": 34
    },
    "colab_type": "code",
    "id": "aUlANH9H5p4D",
    "outputId": "45178fd2-fc92-4e24-eb7b-8bfe78ce899f"
   },
   "outputs": [
    {
     "data": {
      "text/plain": [
       "0.8241505968778696"
      ]
     },
     "execution_count": 80,
     "metadata": {
      "tags": []
     },
     "output_type": "execute_result"
    }
   ],
   "source": [
    "clf_rf = RandomForestClassifier(random_state=1, n_estimators=220)\n",
    "pred_rf = clf_rf.fit(X_train, y_train).predict(X_test)\n",
    "accuracy_score(pred_rf, y_test)"
   ]
  },
  {
   "cell_type": "code",
   "execution_count": 81,
   "metadata": {
    "colab": {
     "base_uri": "https://localhost:8080/",
     "height": 514
    },
    "colab_type": "code",
    "id": "X-Z4WrTk6aT7",
    "outputId": "6e752e3c-1602-4eb5-da37-4c9bb1867a06"
   },
   "outputs": [
    {
     "data": {
      "text/html": [
       "<div>\n",
       "<style scoped>\n",
       "    .dataframe tbody tr th:only-of-type {\n",
       "        vertical-align: middle;\n",
       "    }\n",
       "\n",
       "    .dataframe tbody tr th {\n",
       "        vertical-align: top;\n",
       "    }\n",
       "\n",
       "    .dataframe thead th {\n",
       "        text-align: right;\n",
       "    }\n",
       "</style>\n",
       "<table border=\"1\" class=\"dataframe\">\n",
       "  <thead>\n",
       "    <tr style=\"text-align: right;\">\n",
       "      <th></th>\n",
       "      <th>importance</th>\n",
       "    </tr>\n",
       "  </thead>\n",
       "  <tbody>\n",
       "    <tr>\n",
       "      <th>mc_line_count</th>\n",
       "      <td>0.149059</td>\n",
       "    </tr>\n",
       "    <tr>\n",
       "      <th>intelligence</th>\n",
       "      <td>0.084143</td>\n",
       "    </tr>\n",
       "    <tr>\n",
       "      <th>time_estimator</th>\n",
       "      <td>0.082824</td>\n",
       "    </tr>\n",
       "    <tr>\n",
       "      <th>total_operators&amp;operands</th>\n",
       "      <td>0.078428</td>\n",
       "    </tr>\n",
       "    <tr>\n",
       "      <th>cyclomatic_complexity</th>\n",
       "      <td>0.077434</td>\n",
       "    </tr>\n",
       "    <tr>\n",
       "      <th>difficulty</th>\n",
       "      <td>0.075016</td>\n",
       "    </tr>\n",
       "    <tr>\n",
       "      <th>lOCode</th>\n",
       "      <td>0.067324</td>\n",
       "    </tr>\n",
       "    <tr>\n",
       "      <th>uniq_Opnd</th>\n",
       "      <td>0.065663</td>\n",
       "    </tr>\n",
       "    <tr>\n",
       "      <th>design_complexity</th>\n",
       "      <td>0.063474</td>\n",
       "    </tr>\n",
       "    <tr>\n",
       "      <th>lOBlank</th>\n",
       "      <td>0.060374</td>\n",
       "    </tr>\n",
       "    <tr>\n",
       "      <th>uniq_Op</th>\n",
       "      <td>0.053941</td>\n",
       "    </tr>\n",
       "    <tr>\n",
       "      <th>essential_complexity</th>\n",
       "      <td>0.047919</td>\n",
       "    </tr>\n",
       "    <tr>\n",
       "      <th>lOComment</th>\n",
       "      <td>0.038688</td>\n",
       "    </tr>\n",
       "    <tr>\n",
       "      <th>program_length</th>\n",
       "      <td>0.035956</td>\n",
       "    </tr>\n",
       "    <tr>\n",
       "      <th>lOCodeAndComment</th>\n",
       "      <td>0.019757</td>\n",
       "    </tr>\n",
       "  </tbody>\n",
       "</table>\n",
       "</div>"
      ],
      "text/plain": [
       "                          importance\n",
       "mc_line_count               0.149059\n",
       "intelligence                0.084143\n",
       "time_estimator              0.082824\n",
       "total_operators&operands    0.078428\n",
       "cyclomatic_complexity       0.077434\n",
       "difficulty                  0.075016\n",
       "lOCode                      0.067324\n",
       "uniq_Opnd                   0.065663\n",
       "design_complexity           0.063474\n",
       "lOBlank                     0.060374\n",
       "uniq_Op                     0.053941\n",
       "essential_complexity        0.047919\n",
       "lOComment                   0.038688\n",
       "program_length              0.035956\n",
       "lOCodeAndComment            0.019757"
      ]
     },
     "execution_count": 81,
     "metadata": {
      "tags": []
     },
     "output_type": "execute_result"
    }
   ],
   "source": [
    "rf_feature_importance = pd.DataFrame(clf_rf.feature_importances_, index = X_train.columns, columns=['importance']).sort_values('importance', ascending = False)\n",
    "rf_feature_importance"
   ]
  },
  {
   "cell_type": "markdown",
   "metadata": {
    "colab_type": "text",
    "id": "uJ1_H_swYZGR"
   },
   "source": [
    "## Model Building (With 15 Processed Feature)"
   ]
  },
  {
   "cell_type": "code",
   "execution_count": 82,
   "metadata": {
    "colab": {
     "base_uri": "https://localhost:8080/",
     "height": 187
    },
    "colab_type": "code",
    "id": "tpQrUkX0A-6Q",
    "outputId": "eaa99d4f-4487-4d74-96d0-314c16a54bda"
   },
   "outputs": [
    {
     "name": "stdout",
     "output_type": "stream",
     "text": [
      "Accuracy Score:  0.8131313131313131\n",
      "              precision    recall  f1-score   support\n",
      "\n",
      "           0       0.99      0.82      0.89      2121\n",
      "           1       0.10      0.74      0.17        57\n",
      "\n",
      "   micro avg       0.81      0.81      0.81      2178\n",
      "   macro avg       0.54      0.78      0.53      2178\n",
      "weighted avg       0.97      0.81      0.88      2178\n",
      "\n"
     ]
    }
   ],
   "source": [
    "# Artificial Neural Network\n",
    "\n",
    "clf_mlp = MLPClassifier(activation='relu', solver='adam', alpha = 1e-5, hidden_layer_sizes=(5, 10), random_state=1, learning_rate = \"invscaling\")\n",
    "pred_mlp = clf_mlp.fit(X_train, y_train).predict(X_test)\n",
    "acc_mlp = accuracy_score(pred_mlp, y_test)\n",
    "\n",
    "print(\"Accuracy Score: \", acc_mlp)\n",
    "print(classification_report(pred_mlp, y_test))"
   ]
  },
  {
   "cell_type": "code",
   "execution_count": 83,
   "metadata": {
    "colab": {
     "base_uri": "https://localhost:8080/",
     "height": 187
    },
    "colab_type": "code",
    "id": "OuxVQvE1BFUh",
    "outputId": "30b7ceb2-0bb4-4593-abe5-1ef3efb6e469"
   },
   "outputs": [
    {
     "name": "stdout",
     "output_type": "stream",
     "text": [
      "Accuracy Score:  0.8011937557392103\n",
      "              precision    recall  f1-score   support\n",
      "\n",
      "           0       1.00      0.80      0.89      2175\n",
      "           1       0.00      0.67      0.01         3\n",
      "\n",
      "   micro avg       0.80      0.80      0.80      2178\n",
      "   macro avg       0.50      0.73      0.45      2178\n",
      "weighted avg       1.00      0.80      0.89      2178\n",
      "\n"
     ]
    }
   ],
   "source": [
    "# Support Vector Machine\n",
    "\n",
    "clf_svc = SVC(C=10)\n",
    "pred_svc = clf_svc.fit(X_train, y_train).predict(X_test)\n",
    "acc_svc = accuracy_score(pred_svc, y_test)\n",
    "\n",
    "print(\"Accuracy Score: \", acc_svc)\n",
    "print(classification_report(pred_svc, y_test))"
   ]
  },
  {
   "cell_type": "code",
   "execution_count": 84,
   "metadata": {
    "colab": {
     "base_uri": "https://localhost:8080/",
     "height": 187
    },
    "colab_type": "code",
    "id": "iDWHPqt7YWGT",
    "outputId": "5071d868-0d76-46c0-a668-8ba10834e6f8"
   },
   "outputs": [
    {
     "name": "stdout",
     "output_type": "stream",
     "text": [
      "Accuracy Score:  0.800734618916437\n",
      "              precision    recall  f1-score   support\n",
      "\n",
      "           0       0.93      0.84      0.88      1944\n",
      "           1       0.27      0.50      0.35       234\n",
      "\n",
      "   micro avg       0.80      0.80      0.80      2178\n",
      "   macro avg       0.60      0.67      0.62      2178\n",
      "weighted avg       0.86      0.80      0.83      2178\n",
      "\n"
     ]
    }
   ],
   "source": [
    "# K Nearest Neighbors\n",
    "\n",
    "clf_knn = KNeighborsClassifier()\n",
    "pred_knn = clf_knn.fit(X_train, y_train).predict(X_test)\n",
    "acc_knn = accuracy_score(pred_knn, y_test)\n",
    "\n",
    "print(\"Accuracy Score: \", acc_knn)\n",
    "print(classification_report(pred_knn, y_test))"
   ]
  },
  {
   "cell_type": "code",
   "execution_count": 85,
   "metadata": {
    "colab": {
     "base_uri": "https://localhost:8080/",
     "height": 187
    },
    "colab_type": "code",
    "id": "OB6fvtERAziw",
    "outputId": "157ab60f-ba83-40e5-f992-54016b0afdc9"
   },
   "outputs": [
    {
     "name": "stdout",
     "output_type": "stream",
     "text": [
      "Accuracy Score:  0.8039485766758494\n",
      "              precision    recall  f1-score   support\n",
      "\n",
      "           0       0.94      0.83      0.89      1973\n",
      "           1       0.24      0.52      0.33       205\n",
      "\n",
      "   micro avg       0.80      0.80      0.80      2178\n",
      "   macro avg       0.59      0.68      0.61      2178\n",
      "weighted avg       0.88      0.80      0.83      2178\n",
      "\n"
     ]
    }
   ],
   "source": [
    "# Gaussian Naive Bayes\n",
    "\n",
    "clf_gnb = GaussianNB()\n",
    "pred_gnb = clf_gnb.fit(X_train, y_train).predict(X_test)\n",
    "acc_gnb = accuracy_score(pred_gnb, y_test)\n",
    "\n",
    "print(\"Accuracy Score: \", acc_gnb)\n",
    "print(classification_report(pred_gnb, y_test))"
   ]
  },
  {
   "cell_type": "code",
   "execution_count": 86,
   "metadata": {
    "colab": {
     "base_uri": "https://localhost:8080/",
     "height": 187
    },
    "colab_type": "code",
    "id": "WtFgwLBPFUqs",
    "outputId": "c756dc23-7cf2-4b9a-88bd-44804d1ca319"
   },
   "outputs": [
    {
     "name": "stdout",
     "output_type": "stream",
     "text": [
      "Accuracy Score:  0.8241505968778696\n",
      "              precision    recall  f1-score   support\n",
      "\n",
      "           0       0.97      0.84      0.90      2015\n",
      "           1       0.25      0.66      0.36       163\n",
      "\n",
      "   micro avg       0.82      0.82      0.82      2178\n",
      "   macro avg       0.61      0.75      0.63      2178\n",
      "weighted avg       0.91      0.82      0.86      2178\n",
      "\n"
     ]
    }
   ],
   "source": [
    "# Random Forest Classifier\n",
    "\n",
    "clf_rf = RandomForestClassifier(random_state=1, n_estimators=220)\n",
    "pred_rf = clf_rf.fit(X_train, y_train).predict(X_test)\n",
    "acc_rf = accuracy_score(pred_rf, y_test)\n",
    "\n",
    "print(\"Accuracy Score: \", acc_rf)\n",
    "print(classification_report(pred_rf, y_test))"
   ]
  },
  {
   "cell_type": "code",
   "execution_count": 87,
   "metadata": {
    "colab": {
     "base_uri": "https://localhost:8080/",
     "height": 187
    },
    "colab_type": "code",
    "id": "CG6ZhdzhF6xW",
    "outputId": "ce2f1bbd-11dc-4406-df4e-9c648f2d71fd"
   },
   "outputs": [
    {
     "name": "stdout",
     "output_type": "stream",
     "text": [
      "Accuracy Score:  0.7598714416896235\n",
      "              precision    recall  f1-score   support\n",
      "\n",
      "           0       0.84      0.86      0.85      1713\n",
      "           1       0.43      0.40      0.42       465\n",
      "\n",
      "   micro avg       0.76      0.76      0.76      2178\n",
      "   macro avg       0.64      0.63      0.63      2178\n",
      "weighted avg       0.75      0.76      0.76      2178\n",
      "\n"
     ]
    }
   ],
   "source": [
    "# Decision Tree Classifier\n",
    "\n",
    "clf_dt = DecisionTreeClassifier(random_state=2)\n",
    "pred_dt = clf_dt.fit(X_train, y_train).predict(X_test)\n",
    "acc_dt = accuracy_score(pred_dt, y_test)\n",
    "\n",
    "print(\"Accuracy Score: \", acc_dt)\n",
    "print(classification_report(pred_dt, y_test))"
   ]
  },
  {
   "cell_type": "code",
   "execution_count": 88,
   "metadata": {
    "colab": {
     "base_uri": "https://localhost:8080/",
     "height": 187
    },
    "colab_type": "code",
    "id": "hixDKmASE4TC",
    "outputId": "dbd6a6ca-2f8c-49dd-e2fd-e45f360b5939"
   },
   "outputs": [
    {
     "name": "stdout",
     "output_type": "stream",
     "text": [
      "Accuracy Score:  0.8080808080808081\n",
      "              precision    recall  f1-score   support\n",
      "\n",
      "           0       0.99      0.81      0.89      2140\n",
      "           1       0.06      0.71      0.11        38\n",
      "\n",
      "   micro avg       0.81      0.81      0.81      2178\n",
      "   macro avg       0.53      0.76      0.50      2178\n",
      "weighted avg       0.98      0.81      0.88      2178\n",
      "\n"
     ]
    }
   ],
   "source": [
    "# Logistic Regression\n",
    "\n",
    "clf_lr = LogisticRegression()\n",
    "pred_lr = clf_lr.fit(X_train,y_train).predict(X_test)\n",
    "acc_lr = accuracy_score(pred_lr, y_test)\n",
    "\n",
    "print(\"Accuracy Score: \", acc_lr)\n",
    "print(classification_report(pred_lr, y_test))"
   ]
  },
  {
   "cell_type": "markdown",
   "metadata": {
    "colab_type": "text",
    "id": "slSqMkiIGpq3"
   },
   "source": [
    "## Model Building with Reduced Feature (Top 3)"
   ]
  },
  {
   "cell_type": "code",
   "execution_count": 89,
   "metadata": {
    "colab": {
     "base_uri": "https://localhost:8080/",
     "height": 34
    },
    "colab_type": "code",
    "id": "A6NEdWiffCBV",
    "outputId": "7eeaec0c-2d26-4de4-f46c-610503aa5b58"
   },
   "outputs": [
    {
     "name": "stdout",
     "output_type": "stream",
     "text": [
      "['mc_line_count' 'intelligence' 'time_estimator']\n"
     ]
    }
   ],
   "source": [
    "print(rf_feature_importance[:3].index.values)"
   ]
  },
  {
   "cell_type": "code",
   "execution_count": 0,
   "metadata": {
    "colab": {},
    "colab_type": "code",
    "id": "uDfDOZa7i5Gf"
   },
   "outputs": [],
   "source": [
    "X_re = X[rf_feature_importance[:3].index.values]\n",
    "\n",
    "X_re_train, X_re_test, y_train, y_test = train_test_split(X_re, y, test_size=0.2, random_state=1)"
   ]
  },
  {
   "cell_type": "code",
   "execution_count": 91,
   "metadata": {
    "colab": {
     "base_uri": "https://localhost:8080/",
     "height": 187
    },
    "colab_type": "code",
    "id": "55oLMgX2Hj3Q",
    "outputId": "328f4ca2-b69d-4558-8714-630f7f2c96b1"
   },
   "outputs": [
    {
     "name": "stdout",
     "output_type": "stream",
     "text": [
      "Accuracy Score:  0.8112947658402204\n",
      "              precision    recall  f1-score   support\n",
      "\n",
      "           0       0.98      0.82      0.89      2083\n",
      "           1       0.14      0.62      0.22        95\n",
      "\n",
      "   micro avg       0.81      0.81      0.81      2178\n",
      "   macro avg       0.56      0.72      0.56      2178\n",
      "weighted avg       0.94      0.81      0.86      2178\n",
      "\n"
     ]
    }
   ],
   "source": [
    "# Artificial Neural Network\n",
    "\n",
    "clf_re_mlp = MLPClassifier(activation='relu', solver='adam', alpha = 1e-5, hidden_layer_sizes=(5, 10), random_state=1, learning_rate = \"invscaling\")\n",
    "pred_re_mlp = clf_re_mlp.fit(X_re_train, y_train).predict(X_re_test)\n",
    "acc_re_mlp = accuracy_score(pred_re_mlp, y_test)\n",
    "\n",
    "print(\"Accuracy Score: \", acc_re_mlp)\n",
    "print(classification_report(pred_re_mlp, y_test))"
   ]
  },
  {
   "cell_type": "code",
   "execution_count": 92,
   "metadata": {
    "colab": {
     "base_uri": "https://localhost:8080/",
     "height": 187
    },
    "colab_type": "code",
    "id": "lEk5lY4tITbM",
    "outputId": "7f1e20ce-1aed-4396-dbee-fecbb704133e"
   },
   "outputs": [
    {
     "name": "stdout",
     "output_type": "stream",
     "text": [
      "Accuracy Score:  0.8016528925619835\n",
      "              precision    recall  f1-score   support\n",
      "\n",
      "           0       1.00      0.80      0.89      2176\n",
      "           1       0.00      1.00      0.01         2\n",
      "\n",
      "   micro avg       0.80      0.80      0.80      2178\n",
      "   macro avg       0.50      0.90      0.45      2178\n",
      "weighted avg       1.00      0.80      0.89      2178\n",
      "\n"
     ]
    }
   ],
   "source": [
    "# Support Vector Machine\n",
    "\n",
    "clf_re_svc = SVC(C=10)\n",
    "pred_re_svc = clf_re_svc.fit(X_re_train, y_train).predict(X_re_test)\n",
    "acc_re_svc = accuracy_score(pred_re_svc, y_test)\n",
    "\n",
    "print(\"Accuracy Score: \", acc_re_svc)\n",
    "print(classification_report(pred_re_svc, y_test))"
   ]
  },
  {
   "cell_type": "code",
   "execution_count": 93,
   "metadata": {
    "colab": {
     "base_uri": "https://localhost:8080/",
     "height": 187
    },
    "colab_type": "code",
    "id": "oqQFIOjsI2m1",
    "outputId": "efb0793c-8b21-42b0-84c3-d23790beecd1"
   },
   "outputs": [
    {
     "name": "stdout",
     "output_type": "stream",
     "text": [
      "Accuracy Score:  0.7851239669421488\n",
      "              precision    recall  f1-score   support\n",
      "\n",
      "           0       0.92      0.83      0.87      1946\n",
      "           1       0.23      0.43      0.30       232\n",
      "\n",
      "   micro avg       0.79      0.79      0.79      2178\n",
      "   macro avg       0.58      0.63      0.59      2178\n",
      "weighted avg       0.85      0.79      0.81      2178\n",
      "\n"
     ]
    }
   ],
   "source": [
    "# K Nearest Neighbors\n",
    "\n",
    "clf_re_knn = KNeighborsClassifier()\n",
    "pred_re_knn = clf_re_knn.fit(X_re_train, y_train).predict(X_re_test)\n",
    "acc_re_knn = accuracy_score(pred_re_knn, y_test)\n",
    "\n",
    "print(\"Accuracy Score: \", acc_re_knn)\n",
    "print(classification_report(pred_re_knn, y_test))"
   ]
  },
  {
   "cell_type": "code",
   "execution_count": 94,
   "metadata": {
    "colab": {
     "base_uri": "https://localhost:8080/",
     "height": 187
    },
    "colab_type": "code",
    "id": "c7DcgVeAI2dl",
    "outputId": "67d59cd0-c1b3-4cd6-85da-95bdb8622d25"
   },
   "outputs": [
    {
     "name": "stdout",
     "output_type": "stream",
     "text": [
      "Accuracy Score:  0.8089990817263545\n",
      "              precision    recall  f1-score   support\n",
      "\n",
      "           0       0.97      0.82      0.89      2060\n",
      "           1       0.16      0.58      0.25       118\n",
      "\n",
      "   micro avg       0.81      0.81      0.81      2178\n",
      "   macro avg       0.56      0.70      0.57      2178\n",
      "weighted avg       0.93      0.81      0.86      2178\n",
      "\n"
     ]
    }
   ],
   "source": [
    "# Gaussian Naive Bayes\n",
    "\n",
    "clf_re_gnb = GaussianNB()\n",
    "pred_re_gnb = clf_re_gnb.fit(X_re_train, y_train).predict(X_re_test)\n",
    "acc_re_gnb = accuracy_score(pred_re_gnb, y_test)\n",
    "\n",
    "print(\"Accuracy Score: \", acc_re_gnb)\n",
    "print(classification_report(pred_re_gnb, y_test))"
   ]
  },
  {
   "cell_type": "code",
   "execution_count": 95,
   "metadata": {
    "colab": {
     "base_uri": "https://localhost:8080/",
     "height": 187
    },
    "colab_type": "code",
    "id": "z0YEd45qI2R0",
    "outputId": "07239114-b62f-453f-978e-629f3198e5fe"
   },
   "outputs": [
    {
     "name": "stdout",
     "output_type": "stream",
     "text": [
      "Accuracy Score:  0.8099173553719008\n",
      "              precision    recall  f1-score   support\n",
      "\n",
      "           0       0.95      0.83      0.89      1988\n",
      "           1       0.24      0.55      0.34       190\n",
      "\n",
      "   micro avg       0.81      0.81      0.81      2178\n",
      "   macro avg       0.60      0.69      0.61      2178\n",
      "weighted avg       0.89      0.81      0.84      2178\n",
      "\n"
     ]
    }
   ],
   "source": [
    "# Random Forest Classifier\n",
    "\n",
    "clf_re_rf = RandomForestClassifier(random_state=1, n_estimators=220)\n",
    "pred_re_rf = clf_re_rf.fit(X_re_train, y_train).predict(X_re_test)\n",
    "acc_re_rf = accuracy_score(pred_re_rf, y_test)\n",
    "\n",
    "print(\"Accuracy Score: \", acc_re_rf)\n",
    "print(classification_report(pred_re_rf, y_test))"
   ]
  },
  {
   "cell_type": "code",
   "execution_count": 96,
   "metadata": {
    "colab": {
     "base_uri": "https://localhost:8080/",
     "height": 187
    },
    "colab_type": "code",
    "id": "gxEvryIUI2Co",
    "outputId": "a581ae9d-1811-46d5-84e6-3d67271bd169"
   },
   "outputs": [
    {
     "name": "stdout",
     "output_type": "stream",
     "text": [
      "Accuracy Score:  0.7456382001836547\n",
      "              precision    recall  f1-score   support\n",
      "\n",
      "           0       0.85      0.83      0.84      1780\n",
      "           1       0.32      0.35      0.33       398\n",
      "\n",
      "   micro avg       0.75      0.75      0.75      2178\n",
      "   macro avg       0.59      0.59      0.59      2178\n",
      "weighted avg       0.75      0.75      0.75      2178\n",
      "\n"
     ]
    }
   ],
   "source": [
    "# Decision Tree Classifier\n",
    "\n",
    "clf_re_dt = DecisionTreeClassifier(random_state = 2)\n",
    "pred_re_dt = clf_re_dt.fit(X_re_train, y_train).predict(X_re_test)\n",
    "acc_re_dt = accuracy_score(pred_re_dt, y_test)\n",
    "\n",
    "print(\"Accuracy Score: \", acc_re_dt)\n",
    "print(classification_report(pred_re_dt, y_test))"
   ]
  },
  {
   "cell_type": "code",
   "execution_count": 97,
   "metadata": {
    "colab": {
     "base_uri": "https://localhost:8080/",
     "height": 187
    },
    "colab_type": "code",
    "id": "smv4_b6kJ7FE",
    "outputId": "f9717358-2d3f-420a-92da-5cb5c3e89997"
   },
   "outputs": [
    {
     "name": "stdout",
     "output_type": "stream",
     "text": [
      "Accuracy Score:  0.8044077134986226\n",
      "              precision    recall  f1-score   support\n",
      "\n",
      "           0       1.00      0.81      0.89      2156\n",
      "           1       0.03      0.68      0.07        22\n",
      "\n",
      "   micro avg       0.80      0.80      0.80      2178\n",
      "   macro avg       0.52      0.74      0.48      2178\n",
      "weighted avg       0.99      0.80      0.88      2178\n",
      "\n"
     ]
    }
   ],
   "source": [
    "# Logistic Regression\n",
    "\n",
    "clf_re_lr = LogisticRegression()\n",
    "pred_re_lr = clf_re_lr.fit(X_re_train,y_train).predict(X_re_test)\n",
    "acc_re_lr = accuracy_score(pred_re_lr, y_test)\n",
    "\n",
    "print(\"Accuracy Score: \", acc_re_lr)\n",
    "print(classification_report(pred_re_lr, y_test))"
   ]
  },
  {
   "cell_type": "markdown",
   "metadata": {
    "colab_type": "text",
    "id": "qXN4l64Mr6Ni"
   },
   "source": [
    "## Over Sampling with SMOTE"
   ]
  },
  {
   "cell_type": "code",
   "execution_count": 0,
   "metadata": {
    "colab": {},
    "colab_type": "code",
    "id": "18eLpFU4pA_K"
   },
   "outputs": [],
   "source": [
    "sm  = SMOTE(random_state = 1)\n",
    "X_res, y_res = sm.fit_sample(X, y)\n",
    "\n",
    "X_train, X_test, y_train, y_test = train_test_split(X_res, y_res, test_size= 0.2, random_state=7)"
   ]
  },
  {
   "cell_type": "code",
   "execution_count": 99,
   "metadata": {
    "colab": {
     "base_uri": "https://localhost:8080/",
     "height": 187
    },
    "colab_type": "code",
    "id": "U4siJj0tM3aS",
    "outputId": "fac0221c-3666-4b4a-f6c3-1fe9baea23de"
   },
   "outputs": [
    {
     "name": "stdout",
     "output_type": "stream",
     "text": [
      "Accuracy Score:  0.6626814688300597\n",
      "              precision    recall  f1-score   support\n",
      "\n",
      "           0       0.67      0.67      0.67      1793\n",
      "           1       0.65      0.66      0.66      1720\n",
      "\n",
      "   micro avg       0.66      0.66      0.66      3513\n",
      "   macro avg       0.66      0.66      0.66      3513\n",
      "weighted avg       0.66      0.66      0.66      3513\n",
      "\n"
     ]
    }
   ],
   "source": [
    "# Artificial Neural Network\n",
    "\n",
    "clf_sm_mlp = MLPClassifier(activation='relu', solver='adam', alpha = 1e-5, hidden_layer_sizes=(5, 10), random_state=1, learning_rate = \"invscaling\")\n",
    "pred_sm_mlp = clf_sm_mlp.fit(X_train, y_train).predict(X_test)\n",
    "acc_sm_mlp = accuracy_score(pred_sm_mlp, y_test)\n",
    "\n",
    "print(\"Accuracy Score: \", acc_sm_mlp)\n",
    "print(classification_report(pred_sm_mlp, y_test))"
   ]
  },
  {
   "cell_type": "code",
   "execution_count": 100,
   "metadata": {
    "colab": {
     "base_uri": "https://localhost:8080/",
     "height": 187
    },
    "colab_type": "code",
    "id": "94A8ghIqM3Xb",
    "outputId": "fdbf7228-d483-40dd-db4c-8b593f6218bc"
   },
   "outputs": [
    {
     "name": "stdout",
     "output_type": "stream",
     "text": [
      "Accuracy Score:  0.6299459151722174\n",
      "              precision    recall  f1-score   support\n",
      "\n",
      "           0       0.87      0.59      0.71      2626\n",
      "           1       0.38      0.74      0.50       887\n",
      "\n",
      "   micro avg       0.63      0.63      0.63      3513\n",
      "   macro avg       0.63      0.67      0.60      3513\n",
      "weighted avg       0.75      0.63      0.65      3513\n",
      "\n"
     ]
    }
   ],
   "source": [
    "# Support Vector Machine\n",
    "\n",
    "clf_sm_svc = SVC(C=10)\n",
    "pred_sm_svc = clf_sm_svc.fit(X_train, y_train).predict(X_test)\n",
    "acc_sm_svc = accuracy_score(pred_sm_svc, y_test)\n",
    "\n",
    "print(\"Accuracy Score: \", acc_sm_svc)\n",
    "print(classification_report(pred_sm_svc, y_test))"
   ]
  },
  {
   "cell_type": "code",
   "execution_count": 101,
   "metadata": {
    "colab": {
     "base_uri": "https://localhost:8080/",
     "height": 187
    },
    "colab_type": "code",
    "id": "bwgvpgxMM3Ui",
    "outputId": "742d4076-0b8d-4e38-c88c-e598c387da03"
   },
   "outputs": [
    {
     "name": "stdout",
     "output_type": "stream",
     "text": [
      "Accuracy Score:  0.7902077996014802\n",
      "              precision    recall  f1-score   support\n",
      "\n",
      "           0       0.67      0.89      0.76      1341\n",
      "           1       0.91      0.73      0.81      2172\n",
      "\n",
      "   micro avg       0.79      0.79      0.79      3513\n",
      "   macro avg       0.79      0.81      0.79      3513\n",
      "weighted avg       0.82      0.79      0.79      3513\n",
      "\n"
     ]
    }
   ],
   "source": [
    "# K Nearest Neighbors\n",
    "\n",
    "clf_sm_knn = KNeighborsClassifier()\n",
    "pred_sm_knn = clf_sm_knn.fit(X_train, y_train).predict(X_test)\n",
    "acc_sm_knn = accuracy_score(pred_sm_knn, y_test)\n",
    "\n",
    "print(\"Accuracy Score: \", acc_sm_knn)\n",
    "print(classification_report(pred_sm_knn, y_test))"
   ]
  },
  {
   "cell_type": "code",
   "execution_count": 102,
   "metadata": {
    "colab": {
     "base_uri": "https://localhost:8080/",
     "height": 187
    },
    "colab_type": "code",
    "id": "SmQ8z7tlM3Qu",
    "outputId": "443f63fe-4c82-4161-c894-daccbe8e12b6"
   },
   "outputs": [
    {
     "name": "stdout",
     "output_type": "stream",
     "text": [
      "Accuracy Score:  0.5983489894676914\n",
      "              precision    recall  f1-score   support\n",
      "\n",
      "           0       0.94      0.56      0.70      2983\n",
      "           1       0.25      0.80      0.38       530\n",
      "\n",
      "   micro avg       0.60      0.60      0.60      3513\n",
      "   macro avg       0.59      0.68      0.54      3513\n",
      "weighted avg       0.84      0.60      0.65      3513\n",
      "\n"
     ]
    }
   ],
   "source": [
    "# Gaussian Naive Bayes\n",
    "\n",
    "clf_sm_gnb = GaussianNB()\n",
    "pred_sm_gnb = clf_sm_gnb.fit(X_train, y_train).predict(X_test)\n",
    "acc_sm_gnb = accuracy_score(pred_sm_gnb, y_test)\n",
    "\n",
    "print(\"Accuracy Score: \", acc_sm_gnb)\n",
    "print(classification_report(pred_sm_gnb, y_test))"
   ]
  },
  {
   "cell_type": "code",
   "execution_count": 103,
   "metadata": {
    "colab": {
     "base_uri": "https://localhost:8080/",
     "height": 187
    },
    "colab_type": "code",
    "id": "dYVJCG8AM3Hh",
    "outputId": "6dfa6fe8-af54-4066-8428-8a182e3acf6e"
   },
   "outputs": [
    {
     "name": "stdout",
     "output_type": "stream",
     "text": [
      "Accuracy Score:  0.8935382863649303\n",
      "              precision    recall  f1-score   support\n",
      "\n",
      "           0       0.90      0.89      0.90      1798\n",
      "           1       0.89      0.90      0.89      1715\n",
      "\n",
      "   micro avg       0.89      0.89      0.89      3513\n",
      "   macro avg       0.89      0.89      0.89      3513\n",
      "weighted avg       0.89      0.89      0.89      3513\n",
      "\n"
     ]
    }
   ],
   "source": [
    "# Random Forest Classifier\n",
    "\n",
    "clf_sm_rf = RandomForestClassifier(random_state=1, n_estimators=220)\n",
    "pred_sm_rf = clf_sm_rf.fit(X_train, y_train).predict(X_test)\n",
    "acc_sm_rf = accuracy_score(pred_sm_rf, y_test)\n",
    "\n",
    "print(\"Accuracy Score: \", acc_sm_rf)\n",
    "print(classification_report(pred_sm_rf, y_test))"
   ]
  },
  {
   "cell_type": "code",
   "execution_count": 104,
   "metadata": {
    "colab": {
     "base_uri": "https://localhost:8080/",
     "height": 187
    },
    "colab_type": "code",
    "id": "StAdQNVNN_OJ",
    "outputId": "563cd636-d2fc-477e-b812-bc4dbef01393"
   },
   "outputs": [
    {
     "name": "stdout",
     "output_type": "stream",
     "text": [
      "Accuracy Score:  0.8200967833760319\n",
      "              precision    recall  f1-score   support\n",
      "\n",
      "           0       0.81      0.83      0.82      1750\n",
      "           1       0.83      0.81      0.82      1763\n",
      "\n",
      "   micro avg       0.82      0.82      0.82      3513\n",
      "   macro avg       0.82      0.82      0.82      3513\n",
      "weighted avg       0.82      0.82      0.82      3513\n",
      "\n"
     ]
    }
   ],
   "source": [
    "# Decision Tree Classifier\n",
    "\n",
    "clf_sm_dt = DecisionTreeClassifier(random_state=2)\n",
    "pred_sm_dt = clf_sm_dt.fit(X_train, y_train).predict(X_test)\n",
    "acc_sm_dt = accuracy_score(pred_sm_dt, y_test)\n",
    "\n",
    "print(\"Accuracy Score: \", acc_sm_dt)\n",
    "print(classification_report(pred_sm_dt, y_test))"
   ]
  },
  {
   "cell_type": "code",
   "execution_count": 105,
   "metadata": {
    "colab": {
     "base_uri": "https://localhost:8080/",
     "height": 187
    },
    "colab_type": "code",
    "id": "hvMXCzuBN_LR",
    "outputId": "423db904-b276-4f05-a655-481248ccb06f"
   },
   "outputs": [
    {
     "name": "stdout",
     "output_type": "stream",
     "text": [
      "Accuracy Score:  0.654711073156846\n",
      "              precision    recall  f1-score   support\n",
      "\n",
      "           0       0.69      0.65      0.67      1893\n",
      "           1       0.62      0.66      0.64      1620\n",
      "\n",
      "   micro avg       0.65      0.65      0.65      3513\n",
      "   macro avg       0.65      0.66      0.65      3513\n",
      "weighted avg       0.66      0.65      0.66      3513\n",
      "\n"
     ]
    }
   ],
   "source": [
    "# Logistic Regression\n",
    "\n",
    "clf_sm_lr = LogisticRegression()\n",
    "pred_sm_lr = clf_sm_lr.fit(X_train, y_train).predict(X_test)\n",
    "acc_sm_lr = accuracy_score(pred_sm_lr, y_test)\n",
    "\n",
    "print(\"Accuracy Score: \", acc_sm_lr)\n",
    "print(classification_report(pred_sm_lr, y_test))"
   ]
  },
  {
   "cell_type": "markdown",
   "metadata": {
    "colab_type": "text",
    "id": "VY6K5imjOwIc"
   },
   "source": [
    "## ADASYN"
   ]
  },
  {
   "cell_type": "code",
   "execution_count": 0,
   "metadata": {
    "colab": {},
    "colab_type": "code",
    "id": "u8OmAWidN_Ir"
   },
   "outputs": [],
   "source": [
    "ada = ADASYN()\n",
    "X_resampled, y_resampled = ada.fit_sample(X, y)\n",
    "\n",
    "X_train, X_test, y_train, y_test = train_test_split(X_resampled, y_resampled, test_size=0.2, random_state=1)"
   ]
  },
  {
   "cell_type": "code",
   "execution_count": 107,
   "metadata": {
    "colab": {
     "base_uri": "https://localhost:8080/",
     "height": 68
    },
    "colab_type": "code",
    "id": "d5dw_8CON_Ec",
    "outputId": "8783f81c-2d8e-494f-cee7-a27e1162991d"
   },
   "outputs": [
    {
     "data": {
      "text/plain": [
       "1    9212\n",
       "0    8781\n",
       "dtype: int64"
      ]
     },
     "execution_count": 107,
     "metadata": {
      "tags": []
     },
     "output_type": "execute_result"
    }
   ],
   "source": [
    "pd.Series(y_resampled).value_counts()"
   ]
  },
  {
   "cell_type": "code",
   "execution_count": 108,
   "metadata": {
    "colab": {
     "base_uri": "https://localhost:8080/",
     "height": 187
    },
    "colab_type": "code",
    "id": "-QBid-ZuQsgY",
    "outputId": "47f8a147-53c8-4d3e-d571-d168e5b83927"
   },
   "outputs": [
    {
     "name": "stdout",
     "output_type": "stream",
     "text": [
      "Accuracy Score:  0.6518477354820783\n",
      "              precision    recall  f1-score   support\n",
      "\n",
      "           0       0.65      0.65      0.65      1770\n",
      "           1       0.66      0.66      0.66      1829\n",
      "\n",
      "   micro avg       0.65      0.65      0.65      3599\n",
      "   macro avg       0.65      0.65      0.65      3599\n",
      "weighted avg       0.65      0.65      0.65      3599\n",
      "\n"
     ]
    }
   ],
   "source": [
    "# Artificial Neural Network\n",
    "\n",
    "clf_ada_mlp = MLPClassifier(activation='relu', solver='adam', alpha = 1e-5, hidden_layer_sizes=(5, 10), random_state=1, learning_rate = \"invscaling\")\n",
    "pred_ada_mlp = clf_ada_mlp.fit(X_train, y_train).predict(X_test)\n",
    "acc_ada_mlp = accuracy_score(pred_ada_mlp, y_test)\n",
    "\n",
    "print(\"Accuracy Score: \", acc_ada_mlp)\n",
    "print(classification_report(pred_ada_mlp, y_test))"
   ]
  },
  {
   "cell_type": "code",
   "execution_count": 109,
   "metadata": {
    "colab": {
     "base_uri": "https://localhost:8080/",
     "height": 187
    },
    "colab_type": "code",
    "id": "J7GRxobuRFee",
    "outputId": "a076ea44-2091-4952-b981-1422ca83e9ac"
   },
   "outputs": [
    {
     "name": "stdout",
     "output_type": "stream",
     "text": [
      "Accuracy Score:  0.6004445679355377\n",
      "              precision    recall  f1-score   support\n",
      "\n",
      "           0       0.37      0.68      0.48       973\n",
      "           1       0.83      0.57      0.68      2626\n",
      "\n",
      "   micro avg       0.60      0.60      0.60      3599\n",
      "   macro avg       0.60      0.62      0.58      3599\n",
      "weighted avg       0.70      0.60      0.62      3599\n",
      "\n"
     ]
    }
   ],
   "source": [
    "# Support Vector Machine\n",
    "\n",
    "clf_ada_svc = SVC(C=10)\n",
    "pred_ada_svc = clf_ada_svc.fit(X_train, y_train).predict(X_test)\n",
    "acc_ada_svc = accuracy_score(pred_ada_svc, y_test) \n",
    "\n",
    "print(\"Accuracy Score: \",acc_ada_svc)\n",
    "print(classification_report(pred_ada_svc, y_test))"
   ]
  },
  {
   "cell_type": "code",
   "execution_count": 110,
   "metadata": {
    "colab": {
     "base_uri": "https://localhost:8080/",
     "height": 187
    },
    "colab_type": "code",
    "id": "muEQAOcXp8xC",
    "outputId": "c3bcf319-2f2a-4212-90ac-d41aa83cbb40"
   },
   "outputs": [
    {
     "name": "stdout",
     "output_type": "stream",
     "text": [
      "Accuracy Score:  0.7888302306196165\n",
      "              precision    recall  f1-score   support\n",
      "\n",
      "           0       0.65      0.89      0.75      1295\n",
      "           1       0.92      0.73      0.82      2304\n",
      "\n",
      "   micro avg       0.79      0.79      0.79      3599\n",
      "   macro avg       0.79      0.81      0.78      3599\n",
      "weighted avg       0.83      0.79      0.79      3599\n",
      "\n"
     ]
    }
   ],
   "source": [
    "# K Nearest Neighbors\n",
    "\n",
    "clf_ada_knn = KNeighborsClassifier()\n",
    "pred_ada_knn = clf_ada_knn.fit(X_train, y_train).predict(X_test)\n",
    "acc_ada_knn = accuracy_score(pred_ada_knn, y_test)\n",
    "\n",
    "print(\"Accuracy Score: \", acc_ada_knn)\n",
    "print(classification_report(pred_ada_knn, y_test))"
   ]
  },
  {
   "cell_type": "code",
   "execution_count": 111,
   "metadata": {
    "colab": {
     "base_uri": "https://localhost:8080/",
     "height": 187
    },
    "colab_type": "code",
    "id": "Pbztg1ADsAvU",
    "outputId": "37494fcc-50d8-4aee-8ede-bf7c0deded69"
   },
   "outputs": [
    {
     "name": "stdout",
     "output_type": "stream",
     "text": [
      "Accuracy Score:  0.5665462628507919\n",
      "              precision    recall  f1-score   support\n",
      "\n",
      "           0       0.93      0.54      0.68      3101\n",
      "           1       0.21      0.76      0.33       498\n",
      "\n",
      "   micro avg       0.57      0.57      0.57      3599\n",
      "   macro avg       0.57      0.65      0.50      3599\n",
      "weighted avg       0.83      0.57      0.63      3599\n",
      "\n"
     ]
    }
   ],
   "source": [
    "# Gaussian Naive Bayes\n",
    "\n",
    "clf_ada_gnb = GaussianNB()\n",
    "pred_ada_gnb = clf_ada_gnb.fit(X_train, y_train).predict(X_test)\n",
    "acc_ada_gnb = accuracy_score(pred_ada_gnb, y_test)\n",
    "\n",
    "print(\"Accuracy Score: \", acc_ada_gnb)\n",
    "print(classification_report(pred_ada_gnb, y_test))"
   ]
  },
  {
   "cell_type": "code",
   "execution_count": 112,
   "metadata": {
    "colab": {
     "base_uri": "https://localhost:8080/",
     "height": 187
    },
    "colab_type": "code",
    "id": "qriZrq1SRk4K",
    "outputId": "69c5b3b3-75ab-4a60-9ffa-d580355577cb"
   },
   "outputs": [
    {
     "name": "stdout",
     "output_type": "stream",
     "text": [
      "Accuracy Score:  0.8930258405112531\n",
      "              precision    recall  f1-score   support\n",
      "\n",
      "           0       0.89      0.90      0.89      1762\n",
      "           1       0.90      0.89      0.89      1837\n",
      "\n",
      "   micro avg       0.89      0.89      0.89      3599\n",
      "   macro avg       0.89      0.89      0.89      3599\n",
      "weighted avg       0.89      0.89      0.89      3599\n",
      "\n"
     ]
    }
   ],
   "source": [
    "# Random Forest Classifier\n",
    "\n",
    "clf_ada_rf = RandomForestClassifier(random_state=1, n_estimators=220)\n",
    "pred_ada_rf = clf_ada_rf.fit(X_train, y_train).predict(X_test)\n",
    "acc_ada_rf = accuracy_score(pred_ada_rf, y_test)\n",
    "\n",
    "print(\"Accuracy Score: \", acc_ada_rf)\n",
    "print(classification_report(pred_ada_rf, y_test))"
   ]
  },
  {
   "cell_type": "code",
   "execution_count": 113,
   "metadata": {
    "colab": {
     "base_uri": "https://localhost:8080/",
     "height": 187
    },
    "colab_type": "code",
    "id": "2nJ-EgLJRkt_",
    "outputId": "4ee93e07-b7b5-4fa7-8899-1fc6749e89ed"
   },
   "outputs": [
    {
     "name": "stdout",
     "output_type": "stream",
     "text": [
      "Accuracy Score:  0.8266185051403168\n",
      "              precision    recall  f1-score   support\n",
      "\n",
      "           0       0.82      0.82      0.82      1779\n",
      "           1       0.83      0.83      0.83      1820\n",
      "\n",
      "   micro avg       0.83      0.83      0.83      3599\n",
      "   macro avg       0.83      0.83      0.83      3599\n",
      "weighted avg       0.83      0.83      0.83      3599\n",
      "\n"
     ]
    }
   ],
   "source": [
    "# Decision Tree Classifier\n",
    "\n",
    "clf_ada_dt = DecisionTreeClassifier()\n",
    "pred_ada_dt = clf_ada_dt.fit(X_train, y_train).predict(X_test)\n",
    "acc_ada_dt = accuracy_score(pred_ada_dt, y_test)\n",
    "\n",
    "print(\"Accuracy Score: \", acc_ada_dt)\n",
    "print(classification_report(pred_ada_dt, y_test))"
   ]
  },
  {
   "cell_type": "code",
   "execution_count": 114,
   "metadata": {
    "colab": {
     "base_uri": "https://localhost:8080/",
     "height": 187
    },
    "colab_type": "code",
    "id": "fynsHIiWseXL",
    "outputId": "2e45c29b-94f6-4574-8b3d-40b0b4ff9685"
   },
   "outputs": [
    {
     "name": "stdout",
     "output_type": "stream",
     "text": [
      "Accuracy Score:  0.6360100027785496\n",
      "              precision    recall  f1-score   support\n",
      "\n",
      "           0       0.59      0.64      0.61      1623\n",
      "           1       0.68      0.63      0.65      1976\n",
      "\n",
      "   micro avg       0.64      0.64      0.64      3599\n",
      "   macro avg       0.64      0.64      0.63      3599\n",
      "weighted avg       0.64      0.64      0.64      3599\n",
      "\n"
     ]
    }
   ],
   "source": [
    "# Logistic Regression\n",
    "\n",
    "clf_ada_lr = LogisticRegression()\n",
    "pred_ada_lr = clf_ada_lr.fit(X_train, y_train).predict(X_test)\n",
    "acc_ada_lr = accuracy_score(pred_ada_lr, y_test)\n",
    "\n",
    "print(\"Accuracy Score: \", acc_ada_lr)\n",
    "print(classification_report(pred_ada_lr, y_test))"
   ]
  },
  {
   "cell_type": "markdown",
   "metadata": {
    "colab_type": "text",
    "id": "70u3bvqFaZe7"
   },
   "source": [
    "## Combine Sampling"
   ]
  },
  {
   "cell_type": "code",
   "execution_count": 0,
   "metadata": {
    "colab": {},
    "colab_type": "code",
    "id": "9i7E1YaFV-uY"
   },
   "outputs": [],
   "source": [
    "sm = SMOTEENN()\n",
    "X_resampled, y_resampled = sm.fit_sample(X, y)"
   ]
  },
  {
   "cell_type": "code",
   "execution_count": 0,
   "metadata": {
    "colab": {},
    "colab_type": "code",
    "id": "fU6npnwvWJUB"
   },
   "outputs": [],
   "source": [
    "X_train, X_test, y_train, y_test = train_test_split(X_resampled, y_resampled, test_size=0.2, random_state=1)"
   ]
  },
  {
   "cell_type": "code",
   "execution_count": 117,
   "metadata": {
    "colab": {
     "base_uri": "https://localhost:8080/",
     "height": 187
    },
    "colab_type": "code",
    "id": "xJn6_jxATFIU",
    "outputId": "86f361f3-1c71-48f1-cfc9-f2bb684e9016"
   },
   "outputs": [
    {
     "name": "stdout",
     "output_type": "stream",
     "text": [
      "Accuracy Score:  0.7778234086242299\n",
      "              precision    recall  f1-score   support\n",
      "\n",
      "           0       0.73      0.74      0.73      1000\n",
      "           1       0.82      0.80      0.81      1435\n",
      "\n",
      "   micro avg       0.78      0.78      0.78      2435\n",
      "   macro avg       0.77      0.77      0.77      2435\n",
      "weighted avg       0.78      0.78      0.78      2435\n",
      "\n"
     ]
    }
   ],
   "source": [
    "# Artificial Neural Network\n",
    "\n",
    "clf_cm_mlp = MLPClassifier(activation='relu', solver='adam', alpha = 1e-5, hidden_layer_sizes=(5, 10), random_state=1, learning_rate = \"invscaling\")\n",
    "pred_cm_mlp = clf_cm_mlp.fit(X_train, y_train).predict(X_test)\n",
    "acc_cm_mlp = accuracy_score(pred_cm_mlp, y_test)\n",
    "\n",
    "print(\"Accuracy Score: \", acc_cm_mlp)\n",
    "print(classification_report(pred_cm_mlp, y_test))"
   ]
  },
  {
   "cell_type": "code",
   "execution_count": 118,
   "metadata": {
    "colab": {
     "base_uri": "https://localhost:8080/",
     "height": 187
    },
    "colab_type": "code",
    "id": "HDeIu4XcSKhq",
    "outputId": "fd52d1c0-1ff5-467c-8d7e-7f3a9dbe5c9c"
   },
   "outputs": [
    {
     "name": "stdout",
     "output_type": "stream",
     "text": [
      "Accuracy Score:  0.6948665297741273\n",
      "              precision    recall  f1-score   support\n",
      "\n",
      "           0       0.41      0.75      0.53       556\n",
      "           1       0.90      0.68      0.77      1879\n",
      "\n",
      "   micro avg       0.69      0.69      0.69      2435\n",
      "   macro avg       0.65      0.71      0.65      2435\n",
      "weighted avg       0.79      0.69      0.72      2435\n",
      "\n"
     ]
    }
   ],
   "source": [
    "# Support Vector Machine\n",
    "\n",
    "clf_cm_svc = SVC(C=10)\n",
    "pred_cm_svc = clf_cm_svc.fit(X_train, y_train).predict(X_test)\n",
    "acc_cm_svc = accuracy_score(pred_cm_svc, y_test)\n",
    "\n",
    "print(\"Accuracy Score: \", acc_cm_svc)\n",
    "print(classification_report(pred_cm_svc, y_test))"
   ]
  },
  {
   "cell_type": "code",
   "execution_count": 119,
   "metadata": {
    "colab": {
     "base_uri": "https://localhost:8080/",
     "height": 187
    },
    "colab_type": "code",
    "id": "IL2D5DI3SKXl",
    "outputId": "7642953e-8110-4c2e-8f1b-1836a29035de"
   },
   "outputs": [
    {
     "name": "stdout",
     "output_type": "stream",
     "text": [
      "Accuracy Score:  0.8948665297741273\n",
      "              precision    recall  f1-score   support\n",
      "\n",
      "           0       0.84      0.90      0.87       953\n",
      "           1       0.93      0.89      0.91      1482\n",
      "\n",
      "   micro avg       0.89      0.89      0.89      2435\n",
      "   macro avg       0.89      0.90      0.89      2435\n",
      "weighted avg       0.90      0.89      0.90      2435\n",
      "\n"
     ]
    }
   ],
   "source": [
    "# K Nearest Neighbors\n",
    "\n",
    "clf_cm_knn = KNeighborsClassifier(n_neighbors=10)\n",
    "pred_cm_knn = clf_cm_knn.fit(X_train, y_train).predict(X_test)\n",
    "acc_cm_knn = accuracy_score(pred_cm_knn, y_test)\n",
    "\n",
    "print(\"Accuracy Score: \", acc_cm_knn)\n",
    "print(classification_report(pred_cm_knn, y_test))"
   ]
  },
  {
   "cell_type": "code",
   "execution_count": 120,
   "metadata": {
    "colab": {
     "base_uri": "https://localhost:8080/",
     "height": 187
    },
    "colab_type": "code",
    "id": "q5kyAB-tR1Z6",
    "outputId": "dce8f0f7-185d-41cc-dcb0-317e3a2b64d2"
   },
   "outputs": [
    {
     "name": "stdout",
     "output_type": "stream",
     "text": [
      "Accuracy Score:  0.6168377823408624\n",
      "              precision    recall  f1-score   support\n",
      "\n",
      "           0       0.96      0.52      0.68      1878\n",
      "           1       0.37      0.93      0.53       557\n",
      "\n",
      "   micro avg       0.62      0.62      0.62      2435\n",
      "   macro avg       0.67      0.73      0.60      2435\n",
      "weighted avg       0.83      0.62      0.64      2435\n",
      "\n"
     ]
    }
   ],
   "source": [
    "# Gaussian Naive Bayes\n",
    "\n",
    "clf_cm_gnb = GaussianNB()\n",
    "pred_cm_gnb = clf_cm_gnb.fit(X_train, y_train).predict(X_test)\n",
    "acc_cm_gnb = accuracy_score(pred_cm_gnb, y_test)\n",
    "\n",
    "print(\"Accuracy Score: \", acc_cm_gnb)\n",
    "print(classification_report(pred_cm_gnb, y_test))"
   ]
  },
  {
   "cell_type": "code",
   "execution_count": 121,
   "metadata": {
    "colab": {
     "base_uri": "https://localhost:8080/",
     "height": 187
    },
    "colab_type": "code",
    "id": "lABSVY5RR1Xn",
    "outputId": "9bdf9586-5702-4a85-8d42-e4e3c0ef197a"
   },
   "outputs": [
    {
     "name": "stdout",
     "output_type": "stream",
     "text": [
      "Accuracy Score:  0.9375770020533881\n",
      "              precision    recall  f1-score   support\n",
      "\n",
      "           0       0.92      0.93      0.93      1015\n",
      "           1       0.95      0.95      0.95      1420\n",
      "\n",
      "   micro avg       0.94      0.94      0.94      2435\n",
      "   macro avg       0.94      0.94      0.94      2435\n",
      "weighted avg       0.94      0.94      0.94      2435\n",
      "\n"
     ]
    }
   ],
   "source": [
    "# Random Forest Classifier\n",
    "\n",
    "clf_cm_rf = RandomForestClassifier(random_state=1, n_estimators=10)\n",
    "pred_cm_rf = clf_cm_rf.fit(X_train, y_train).predict(X_test)\n",
    "acc_cm_rf = accuracy_score(pred_cm_rf, y_test)\n",
    "\n",
    "print(\"Accuracy Score: \", acc_cm_rf)\n",
    "print(classification_report(pred_cm_rf, y_test))"
   ]
  },
  {
   "cell_type": "code",
   "execution_count": 122,
   "metadata": {
    "colab": {
     "base_uri": "https://localhost:8080/",
     "height": 187
    },
    "colab_type": "code",
    "id": "_hmHHQurR1Up",
    "outputId": "983c352b-42ab-4ffa-a155-74aeefa8a527"
   },
   "outputs": [
    {
     "name": "stdout",
     "output_type": "stream",
     "text": [
      "Accuracy Score:  0.891170431211499\n",
      "              precision    recall  f1-score   support\n",
      "\n",
      "           0       0.85      0.88      0.87       982\n",
      "           1       0.92      0.90      0.91      1453\n",
      "\n",
      "   micro avg       0.89      0.89      0.89      2435\n",
      "   macro avg       0.89      0.89      0.89      2435\n",
      "weighted avg       0.89      0.89      0.89      2435\n",
      "\n"
     ]
    }
   ],
   "source": [
    "# Decision Tree Classifier\n",
    "\n",
    "clf_cm_dt = DecisionTreeClassifier(random_state=2)\n",
    "pred_cm_dt = clf_cm_dt.fit(X_train, y_train).predict(X_test)\n",
    "acc_cm_dt = accuracy_score(pred_cm_dt, y_test)\n",
    "\n",
    "print(\"Accuracy Score: \", acc_cm_dt)\n",
    "print(classification_report(pred_cm_dt, y_test))"
   ]
  },
  {
   "cell_type": "code",
   "execution_count": 123,
   "metadata": {
    "colab": {
     "base_uri": "https://localhost:8080/",
     "height": 187
    },
    "colab_type": "code",
    "id": "D9h_9dYdR1SD",
    "outputId": "327c9116-1ba6-47d5-8d78-6c941f37baa4"
   },
   "outputs": [
    {
     "name": "stdout",
     "output_type": "stream",
     "text": [
      "Accuracy Score:  0.7359342915811088\n",
      "              precision    recall  f1-score   support\n",
      "\n",
      "           0       0.57      0.74      0.64       784\n",
      "           1       0.86      0.73      0.79      1651\n",
      "\n",
      "   micro avg       0.74      0.74      0.74      2435\n",
      "   macro avg       0.71      0.74      0.72      2435\n",
      "weighted avg       0.76      0.74      0.74      2435\n",
      "\n"
     ]
    }
   ],
   "source": [
    "# Logistic Regression\n",
    "\n",
    "clf_sm_lr = LogisticRegression()\n",
    "pred_sm_lr = clf_sm_lr.fit(X_train, y_train).predict(X_test)\n",
    "acc_cm_lr = accuracy_score(pred_sm_lr, y_test)\n",
    "\n",
    "print(\"Accuracy Score: \", acc_cm_lr)\n",
    "print(classification_report(pred_sm_lr, y_test))"
   ]
  },
  {
   "cell_type": "markdown",
   "metadata": {
    "colab_type": "text",
    "id": "73YwXwl9-8Hz"
   },
   "source": [
    "## Accuracy Plots"
   ]
  },
  {
   "cell_type": "markdown",
   "metadata": {
    "colab_type": "text",
    "id": "yObjhW4AHggM"
   },
   "source": [
    "#### ANN"
   ]
  },
  {
   "cell_type": "code",
   "execution_count": 211,
   "metadata": {
    "colab": {
     "base_uri": "https://localhost:8080/",
     "height": 340
    },
    "colab_type": "code",
    "id": "ml-hS5y6R1PX",
    "outputId": "0e95501a-7c4b-479c-b495-a26252605c8a"
   },
   "outputs": [
    {
     "data": {
      "image/png": "[encoded data removed]",
      "text/plain": [
       "<matplotlib.figure.Figure at 0x7fca8aa0c400>"
      ]
     },
     "metadata": {
      "tags": []
     },
     "output_type": "display_data"
    }
   ],
   "source": [
    "fig, ax  = plt.subplots(figsize=(8, 5))\n",
    "ax.set_facecolor('#f5f5f5')\n",
    "x_val = [\"Unsampled\", \"SMOTE\", \"ADASYN\", \"SMOTE+ENN\", \"Reduced Feature\"]\n",
    "y_val = [acc_mlp, acc_sm_mlp, acc_ada_mlp, acc_cm_mlp, acc_re_mlp]\n",
    "\n",
    "color = [\"#4caf50aa\", \"#7952b3aa\", \"#ff2222aa\", \"#ffa606aa\", \"#777777aa\"]\n",
    "\n",
    "plt.bar(x_val, y_val, color = color, width = 0.5)\n",
    "plt.xticks(fontsize=13)\n",
    "plt.yticks(fontsize=13)\n",
    "plt.title(\"Artificial Neural Network Accuracy Comparison\", fontsize=16)\n",
    "plt.show()"
   ]
  },
  {
   "cell_type": "markdown",
   "metadata": {
    "colab_type": "text",
    "id": "mJ-uTknOLu8D"
   },
   "source": [
    "### SVC"
   ]
  },
  {
   "cell_type": "code",
   "execution_count": 218,
   "metadata": {
    "colab": {
     "base_uri": "https://localhost:8080/",
     "height": 340
    },
    "colab_type": "code",
    "id": "3mtQ0h_ILB3M",
    "outputId": "b61c0661-4e12-48fe-fe95-13e58d34cd87"
   },
   "outputs": [
    {
     "data": {
      "image/png": "[encoded data removed]",
      "text/plain": [
       "<matplotlib.figure.Figure at 0x7fca8c079d30>"
      ]
     },
     "metadata": {
      "tags": []
     },
     "output_type": "display_data"
    }
   ],
   "source": [
    "fig, ax  = plt.subplots(figsize=(8, 5))\n",
    "ax.set_facecolor('#f5f5f5')\n",
    "x_val = [\"Unsampled\", \"SMOTE\", \"ADASYN\", \"SMOTE+ENN\", \"Reduced Feature\"]\n",
    "y_val = [acc_svc, acc_sm_svc, acc_ada_svc, acc_cm_svc, acc_re_svc]\n",
    "\n",
    "color = [\"#7952b3aa\", \"#007bffaa\", \"#ff4444aa\", \"#ffd606aa\", \"#444444aa\"]\n",
    "\n",
    "plt.bar(x_val, y_val, color = color, width = 0.5)\n",
    "plt.xticks(fontsize=13)\n",
    "plt.yticks(fontsize=13)\n",
    "plt.title(\"Support Vector Machine Accuracy Comparison\", fontsize=16)\n",
    "plt.show()"
   ]
  },
  {
   "cell_type": "markdown",
   "metadata": {
    "colab_type": "text",
    "id": "-DQVpT4jMam3"
   },
   "source": [
    "### KNN"
   ]
  },
  {
   "cell_type": "code",
   "execution_count": 213,
   "metadata": {
    "colab": {
     "base_uri": "https://localhost:8080/",
     "height": 340
    },
    "colab_type": "code",
    "id": "GMe9MrPjLBzs",
    "outputId": "b2d8984f-9ea5-49a3-a286-5ed36b4ef574"
   },
   "outputs": [
    {
     "data": {
      "image/png": "[encoded data removed]",
      "text/plain": [
       "<matplotlib.figure.Figure at 0x7fca8aec5ac8>"
      ]
     },
     "metadata": {
      "tags": []
     },
     "output_type": "display_data"
    }
   ],
   "source": [
    "fig, ax  = plt.subplots(figsize=(8, 5))\n",
    "ax.set_facecolor('#f5f5f5')\n",
    "x_val = [\"Unsampled\", \"SMOTE\", \"ADASYN\", \"SMOTE+ENN\", \"Reduced Feature\"]\n",
    "y_val = [acc_knn, acc_sm_knn, acc_ada_knn, acc_cm_knn, acc_re_knn]\n",
    "\n",
    "color = [\"#7952b3aa\", \"#4caf50aa\", \"#ffa606aa\", \"#ff2222aa\", \"#777777aa\"]\n",
    "\n",
    "plt.bar(x_val, y_val, color = color, width = 0.5)\n",
    "plt.xticks(fontsize=13)\n",
    "plt.yticks(fontsize=13)\n",
    "plt.title(\"K-Nearest Neighbors Accuracy Comparison\", fontsize=16)\n",
    "plt.show()"
   ]
  },
  {
   "cell_type": "markdown",
   "metadata": {
    "colab_type": "text",
    "id": "Pdk8-5mcMfEo"
   },
   "source": [
    "### GNB"
   ]
  },
  {
   "cell_type": "code",
   "execution_count": 214,
   "metadata": {
    "colab": {
     "base_uri": "https://localhost:8080/",
     "height": 340
    },
    "colab_type": "code",
    "id": "z6Pz9t6tLBxH",
    "outputId": "12297230-57c2-4fb9-c4a5-2b9e9b1d74cc"
   },
   "outputs": [
    {
     "data": {
      "image/png": "[encoded data removed]",
      "text/plain": [
       "<matplotlib.figure.Figure at 0x7fca8befaa90>"
      ]
     },
     "metadata": {
      "tags": []
     },
     "output_type": "display_data"
    }
   ],
   "source": [
    "fig, ax  = plt.subplots(figsize=(8, 5))\n",
    "ax.set_facecolor('#f5f5f5')\n",
    "x_val = [\"Unsampled\", \"SMOTE\", \"ADASYN\", \"SMOTE+ENN\", \"Reduced Feature\"]\n",
    "y_val = [acc_gnb, acc_sm_gnb, acc_ada_gnb, acc_cm_gnb, acc_re_gnb]\n",
    "\n",
    "color = [\"#7952b3aa\", \"#007bffaa\", \"#ff8888aa\", \"#ffd606aa\", \"#262c3aaa\"]\n",
    "\n",
    "plt.bar(x_val, y_val, color = color, width = 0.5)\n",
    "plt.xticks(fontsize=13)\n",
    "plt.yticks(fontsize=13)\n",
    "plt.title(\"Gaussian Naive Bayes Accuracy Comparison\", fontsize=16)\n",
    "plt.show()"
   ]
  },
  {
   "cell_type": "markdown",
   "metadata": {
    "colab_type": "text",
    "id": "S616QfsFNM40"
   },
   "source": [
    "### RF"
   ]
  },
  {
   "cell_type": "code",
   "execution_count": 215,
   "metadata": {
    "colab": {
     "base_uri": "https://localhost:8080/",
     "height": 340
    },
    "colab_type": "code",
    "id": "I1CEoGk1LBt4",
    "outputId": "266ec031-8d82-49b5-e495-19c1678e8db9"
   },
   "outputs": [
    {
     "data": {
      "image/png": "[encoded data removed]",
      "text/plain": [
       "<matplotlib.figure.Figure at 0x7fca8b18a1d0>"
      ]
     },
     "metadata": {
      "tags": []
     },
     "output_type": "display_data"
    }
   ],
   "source": [
    "fig, ax  = plt.subplots(figsize=(8, 5))\n",
    "ax.set_facecolor('#f5f5f5')\n",
    "x_val = [\"Unsampled\", \"SMOTE\", \"ADASYN\", \"SMOTE+ENN\", \"Reduced Feature\"]\n",
    "y_val = [acc_rf, acc_sm_rf, acc_ada_rf, acc_cm_rf, acc_re_rf]\n",
    "\n",
    "color = [\"#7952b3aa\", \"#262c3aaa\", \"#4caf50aa\", \"#ffd606aa\", \"#ff3333aa\"]\n",
    "\n",
    "plt.bar(x_val, y_val, color = color, width = 0.5)\n",
    "plt.xticks(fontsize=13)\n",
    "plt.yticks(fontsize=13)\n",
    "plt.title(\"Random Forest Classifier Accuracy Comparison\", fontsize=16)\n",
    "plt.show()"
   ]
  },
  {
   "cell_type": "markdown",
   "metadata": {
    "colab_type": "text",
    "id": "tZL737xUNnZV"
   },
   "source": [
    "### DT"
   ]
  },
  {
   "cell_type": "code",
   "execution_count": 216,
   "metadata": {
    "colab": {
     "base_uri": "https://localhost:8080/",
     "height": 340
    },
    "colab_type": "code",
    "id": "pn0SJOXZNfxF",
    "outputId": "6f5afeb9-5d0e-403b-c31a-2238c6f3452d"
   },
   "outputs": [
    {
     "data": {
      "image/png": "[encoded data removed]",
      "text/plain": [
       "<matplotlib.figure.Figure at 0x7fca8aa32908>"
      ]
     },
     "metadata": {
      "tags": []
     },
     "output_type": "display_data"
    }
   ],
   "source": [
    "fig, ax  = plt.subplots(figsize=(8, 5))\n",
    "ax.set_facecolor('#f5f5f5')\n",
    "x_val = [\"Unsampled\", \"SMOTE\", \"ADASYN\", \"SMOTE+ENN\", \"Reduced Feature\"]\n",
    "y_val = [acc_dt, acc_sm_dt, acc_ada_dt, acc_cm_dt, acc_re_dt]\n",
    "\n",
    "color = [\"#7952b3aa\", \"#4caf50aa\", \"#262c3aaa\", \"#ff3333aa\", \"#ffd606aa\"]\n",
    "\n",
    "plt.bar(x_val, y_val, color = color, width = 0.5)\n",
    "plt.xticks(fontsize=13)\n",
    "plt.yticks(fontsize=13)\n",
    "plt.title(\"Deicion Tree Classifier Accuracy Comparison\", fontsize=16)\n",
    "plt.show()"
   ]
  },
  {
   "cell_type": "markdown",
   "metadata": {
    "colab_type": "text",
    "id": "cKE6l7iEN9Bq"
   },
   "source": [
    "### LR"
   ]
  },
  {
   "cell_type": "code",
   "execution_count": 217,
   "metadata": {
    "colab": {
     "base_uri": "https://localhost:8080/",
     "height": 340
    },
    "colab_type": "code",
    "id": "g0r8krybN5Wu",
    "outputId": "76ebd306-ac8c-4120-c3bf-90f5d5228f5c"
   },
   "outputs": [
    {
     "data": {
      "image/png": "[encoded data removed]",
      "text/plain": [
       "<matplotlib.figure.Figure at 0x7fca8af6eef0>"
      ]
     },
     "metadata": {
      "tags": []
     },
     "output_type": "display_data"
    }
   ],
   "source": [
    "fig, ax  = plt.subplots(figsize=(8, 5))\n",
    "ax.set_facecolor('#f5f5f5')\n",
    "x_val = [\"Unsampled\", \"SMOTE\", \"ADASYN\", \"SMOTE+ENN\", \"Reduced Feature\"]\n",
    "y_val = [acc_lr, acc_sm_lr, acc_ada_lr, acc_cm_lr, acc_re_lr]\n",
    "\n",
    "color = [\"#7952b3aa\", \"#007bffaa\", \"#ff4444aa\", \"#ffd606aa\", \"#262c3aaa\"]\n",
    "\n",
    "plt.bar(x_val, y_val, color = color, width = 0.5)\n",
    "plt.xticks(fontsize=13)\n",
    "plt.yticks(fontsize=13)\n",
    "plt.title(\"Logistic Regression Accuracy Comparison\", fontsize=16)\n",
    "plt.show()"
   ]
  },
  {
   "cell_type": "code",
   "execution_count": 0,
   "metadata": {
    "colab": {},
    "colab_type": "code",
    "id": "6UGL4tHmOLm9"
   },
   "outputs": [],
   "source": []
  }
 ],
 "metadata": {
  "colab": {
   "collapsed_sections": [
    "uJ1_H_swYZGR",
    "slSqMkiIGpq3",
    "qXN4l64Mr6Ni",
    "VY6K5imjOwIc"
   ],
   "name": "Software Defect Prediction.ipynb",
   "provenance": [],
   "version": "0.3.2"
  },
  "kernelspec": {
   "display_name": "Python 3",
   "language": "python",
   "name": "python3"
  },
  "language_info": {
   "codemirror_mode": {
    "name": "ipython",
    "version": 3
   },
   "file_extension": ".py",
   "mimetype": "text/x-python",
   "name": "python",
   "nbconvert_exporter": "python",
   "pygments_lexer": "ipython3",
   "version": "3.6.5"
  }
 },
 "nbformat": 4,
 "nbformat_minor": 1
}
