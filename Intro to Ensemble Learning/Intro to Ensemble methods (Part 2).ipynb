{
  "cells": [
    {
      "metadata": {
        "_uuid": "8f2839f25d086af736a60e9eeb907d3b93b6e0e5",
        "_cell_guid": "b1076dfc-b9ad-4769-8c92-a6c4dae69d19",
        "trusted": true
      },
      "cell_type": "code",
      "source": "import re\nimport numpy as np\nimport pandas as pd\nfrom sklearn import datasets\nimport matplotlib.pyplot as plt\n%matplotlib inline\nimport seaborn as sns\nsns.set()\n\nfrom sklearn.linear_model import LinearRegression, SGDRegressor, LogisticRegression, SGDClassifier\nfrom sklearn.svm import SVR, SVC\nfrom sklearn.neighbors import KNeighborsClassifier\nfrom sklearn.linear_model import RidgeClassifier\nfrom sklearn.tree import DecisionTreeClassifier\nfrom sklearn.model_selection import cross_val_score\nfrom sklearn.ensemble import (BaggingClassifier, ExtraTreesClassifier, RandomForestClassifier,\n                              VotingClassifier, AdaBoostClassifier)\nfrom mlxtend.classifier import StackingClassifier\nfrom sklearn.preprocessing import MinMaxScaler\nfrom sklearn.model_selection import train_test_split\nfrom sklearn.metrics import accuracy_score\nfrom statistics import mode \nfrom xgboost import XGBClassifier\nimport warnings\nwarnings.filterwarnings(\"ignore\")",
      "execution_count": null,
      "outputs": []
    },
    {
      "metadata": {
        "_cell_guid": "79c7e3d0-c299-4dcb-8224-4455121ee9b0",
        "_uuid": "d629ff2d2480ee46fbb7e2d37f6b5fab8052498a",
        "trusted": true
      },
      "cell_type": "code",
      "source": "train = pd.read_csv(\"../input/train.csv\",)\ntest = pd.read_csv(\"../input/test.csv\")\nsub_sample = pd.read_csv(\"../input/gender_submission.csv\")",
      "execution_count": null,
      "outputs": []
    },
    {
      "metadata": {
        "trusted": true,
        "_uuid": "95eb780d03179dca6b45f932703e5f2e8a6e3752"
      },
      "cell_type": "code",
      "source": "full_data = pd.concat([train.drop(\"Survived\", axis=1), test], ignore_index=True)",
      "execution_count": null,
      "outputs": []
    },
    {
      "metadata": {
        "trusted": true,
        "_uuid": "e0aeaf3bf449316180d9fc9ddc2e2139635dfdd6",
        "_kg_hide-input": true
      },
      "cell_type": "code",
      "source": "del full_data[\"PassengerId\"]\ndel full_data[\"Ticket\"]\ndel full_data[\"Cabin\"]\n\ndef find_title(name):\n    title = re.search(' ([A-Za-z]+)\\.', name)\n    if title:\n        return title.group(1)\n    return \"\"\n\ntitles = []\nfor name in full_data[\"Name\"]:\n    titles.append(find_title(name))\n\nfull_data[\"Title\"] = titles\ndel full_data[\"Name\"]\n\nfull_data = full_data.replace([\"Lady\", \"Countess\",\"Capt\", \"Col\", \"Don\", \"Dr\", \"Major\", \"Rev\", \"Sir\", \"Jonkheer\", \"Dona\"], \"Others\")\nfull_data = full_data.replace([\"Mlle\",\"Mme\"], \"Mrs\")\nfull_data = full_data.replace([\"Ms\"],\"Miss\")\ntitle_map = {\"Mr\": 1, \"Miss\": 2, \"Mrs\": 3, \"Master\": 4, \"Others\": 5}\nfull_data[\"Title\"] = full_data[\"Title\"].map(title_map)\n\nsex_map = {\"male\":1, \"female\":0}\nfull_data[\"Sex\"] = full_data[\"Sex\"].map(sex_map)\n\nfull_data[\"Age\"] = full_data[\"Age\"].fillna(full_data[\"Age\"].mean())\nfull_data[\"Age\"] = full_data[\"Age\"].astype(int)\n\nfull_data[\"Fare\"] = full_data[\"Fare\"].fillna(full_data[\"Fare\"].mean())\nscaler = MinMaxScaler()\nscaled_fare = scaler.fit_transform(np.array(full_data[\"Fare\"]).reshape(len(full_data[\"Fare\"]),-1))\nfull_data[\"Fare\"] = scaled_fare\n\nfull_data[\"Embarked\"] = full_data[\"Embarked\"].fillna(\"S\")\nembark_map = {\"S\" : 0, \"C\" : 1, \"Q\": 2}\nfull_data[\"Embarked\"] = full_data[\"Embarked\"].map(embark_map)",
      "execution_count": null,
      "outputs": []
    },
    {
      "metadata": {
        "trusted": true,
        "_uuid": "f1f1e2b982359b29b5d04cfce130e0346fcc0868"
      },
      "cell_type": "code",
      "source": "full_data.head()",
      "execution_count": null,
      "outputs": []
    },
    {
      "metadata": {
        "trusted": true,
        "_uuid": "84d98ed94e5551985c7f2b84c8d99e7627cb97ac"
      },
      "cell_type": "code",
      "source": "X = full_data.iloc[:train.shape[0], :]\ny = train[\"Survived\"]",
      "execution_count": null,
      "outputs": []
    },
    {
      "metadata": {
        "trusted": true,
        "_uuid": "ce55eef1ffc06789d995b15ee34a6a960ab1bbc4"
      },
      "cell_type": "code",
      "source": "X_train, X_test, y_train, y_test = train_test_split(X, y, test_size=0.2, random_state=0)",
      "execution_count": null,
      "outputs": []
    },
    {
      "metadata": {
        "_uuid": "d85db7be16bfec71fe32acbf9edd4541b482c890"
      },
      "cell_type": "markdown",
      "source": "## Single Weak Classifiers"
    },
    {
      "metadata": {
        "trusted": true,
        "_uuid": "3a1512a66fa74e8fb14f7fba75fd3ccd3026af0e"
      },
      "cell_type": "code",
      "source": "lr = LogisticRegression()\nlr_pred = lr.fit(X_train, y_train).predict(X_test)\nprint(\"Logistic Regression: \", accuracy_score(lr_pred, y_test))\n\nknn = KNeighborsClassifier(n_neighbors = 1)\nknn_pred = lr.fit(X_train, y_train).predict(X_test)\nprint(\"K Nearest Neighbors: \", accuracy_score(knn_pred, y_test))\n\nsvc = SVC()\nsvc_pred = svc.fit(X_train, y_train).predict(X_test)\nprint(\"Support Vector Classifier: \", accuracy_score(svc_pred, y_test))\n\ndt = DecisionTreeClassifier(criterion='entropy', max_depth = 1)\ndt_pred = dt.fit(X_train, y_train).predict(X_test)\nprint(\"Decision Tree: \", accuracy_score(dt_pred, y_test))\n\nrc = RidgeClassifier()\nrc_pred = rc.fit(X_train, y_train).predict(X_test)\nprint(\"Ridge Classifier: \", accuracy_score(rc_pred, y_test))\n\nrf = RandomForestClassifier()\nrf_pred = rf.fit(X_train, y_train).predict(X_test)\nprint(\"Random Forest: \", accuracy_score(rf_pred, y_test))",
      "execution_count": null,
      "outputs": []
    },
    {
      "metadata": {
        "_uuid": "a5967c1d99b56bb69297a565023351e976e1756b"
      },
      "cell_type": "markdown",
      "source": "## Voting Classifier"
    },
    {
      "metadata": {
        "trusted": true,
        "_uuid": "c0570f1720b7c7e8208a6a741ef4b172c86d20d0"
      },
      "cell_type": "code",
      "source": "vt_clf = VotingClassifier(estimators = [(\"lr\", lr), (\"knn\", knn),  (\"svc\", svc), (\"dt\", dt), (\"rc\", rc), (\"rf\", rf)], voting='hard') \nvt_clf.fit(X_train,y_train)\nvt_clf.score(X_test,y_test)",
      "execution_count": null,
      "outputs": []
    },
    {
      "metadata": {
        "_uuid": "9eaf5ba3bd65baceaf2edf9d2607d77657fc0373"
      },
      "cell_type": "markdown",
      "source": "## Bagging"
    },
    {
      "metadata": {
        "trusted": true,
        "_uuid": "cc9052b9abbe2d40e3b76ed874eff16f51ba8dd2"
      },
      "cell_type": "code",
      "source": "bagging_lr = BaggingClassifier(base_estimator = lr, n_estimators = 10, max_samples = 0.8, max_features = 0.8)\nbagging_svc = BaggingClassifier(base_estimator = svc, n_estimators = 10, max_samples = 0.8, max_features = 0.8)\nbagging_knn = BaggingClassifier(base_estimator = knn, n_estimators = 10, max_samples = 0.8, max_features = 0.8)\nbagging_dt = BaggingClassifier(base_estimator = dt, n_estimators = 10, max_samples = 0.8, max_features = 0.8)",
      "execution_count": null,
      "outputs": []
    },
    {
      "metadata": {
        "trusted": true,
        "_uuid": "415e02c85ce7bd08345588da9a5a6f0e643f25e1"
      },
      "cell_type": "code",
      "source": "clf_label = ['Linear Regression', 'SVC', 'KNN' 'Decision Tree', 'Bagging LR', 'Bagging SVC', 'Bagging K-NN', 'Bagging Tree']\nclf_list = [lr, svc, knn, dt, bagging_lr, bagging_svc, bagging_knn, bagging_dt]\n\nfor clf, label in zip(clf_list, clf_label):        \n    scores = cross_val_score(clf, X, y, cv = 5, scoring='accuracy')\n    print (\"Accuracy: %.2f (+/- %.2f) %s\" %(scores.mean(), scores.std(), label))",
      "execution_count": null,
      "outputs": []
    },
    {
      "metadata": {
        "trusted": true,
        "_uuid": "068295c2106c5ab77669cad838b5600d89304e2c"
      },
      "cell_type": "markdown",
      "source": "## Boosting"
    },
    {
      "metadata": {
        "trusted": true,
        "_uuid": "a7dfd2de0d1d2a1029c000260d1c957488f4921a"
      },
      "cell_type": "code",
      "source": "dt = DecisionTreeClassifier(criterion='entropy', max_depth=1)\nnum_est = [10, 20, 30, 100]\nlabel = [\"AdaBoost (n_est=10)\", \"AdaBoost (n_est=20)\", \"AdaBoost (n_est=30)\", \"AdaBoost (n_est=100)\"]\n\nfor n_est, label in zip(num_est, label):     \n    boosting = AdaBoostClassifier(base_estimator = dt, n_estimators = n_est)   \n    scores = cross_val_score(boosting, X, y, cv = 5, scoring = 'accuracy')\n    print (\"Accuracy: %.2f (+/- %.2f) %s\" %(scores.mean(), scores.std(), label))",
      "execution_count": null,
      "outputs": []
    },
    {
      "metadata": {
        "trusted": true,
        "_uuid": "cb6fe498300a20e87892743eebf1f627210bcf0f"
      },
      "cell_type": "code",
      "source": "rf = RandomForestClassifier(random_state=0, max_depth=10)\nnum_est = [10, 20, 30, 40]\nlabel = [\"XGBoost (n_est=10)\", \"XGBoost (n_est=20)\", \"XGBoost (n_est=30)\", \"XGBoost (n_est=40)\"]\n\nfor n_est, label in zip(num_est, label):     \n    boosting = XGBClassifier(base_estimator = rf, n_estimators = n_est)   \n    scores = cross_val_score(boosting, X, y, cv = 5, scoring = 'accuracy')\n    print (\"Accuracy: %.2f (+/- %.2f) %s\" %(scores.mean(), scores.std(), label))\n    ",
      "execution_count": null,
      "outputs": []
    },
    {
      "metadata": {
        "trusted": true,
        "_uuid": "2cef2c82fad12ea72421957dd3017d5f6d67fdfa"
      },
      "cell_type": "code",
      "source": "boosting = XGBClassifier(base_estimator = rf, n_estimators = 10)",
      "execution_count": null,
      "outputs": []
    },
    {
      "metadata": {
        "trusted": true,
        "_uuid": "78e144c7e1f3b27454874ff317ffda58c01c2a43"
      },
      "cell_type": "code",
      "source": "X_test = full_data.iloc[train.shape[0]:, :]\npred = boosting.fit(X_train, y_train).predict(X_test)",
      "execution_count": null,
      "outputs": []
    },
    {
      "metadata": {
        "trusted": true,
        "_uuid": "e2010b25e068c6dd2b823a5c8133bf5bea134754"
      },
      "cell_type": "code",
      "source": "sub_sample.head(), sub_sample.shape",
      "execution_count": null,
      "outputs": []
    },
    {
      "metadata": {
        "trusted": true,
        "_uuid": "67a0991b219170072b01e6de632edb15f0abfceb"
      },
      "cell_type": "code",
      "source": "submission = pd.DataFrame({\n    \"PassengerId\" : test[\"PassengerId\"],\n    \"Survived\" : pred\n})",
      "execution_count": null,
      "outputs": []
    },
    {
      "metadata": {
        "trusted": true,
        "_uuid": "b087d0b3b4d16aa77c9fc68afd7e2aa7d245012f"
      },
      "cell_type": "code",
      "source": "submission.to_csv(\"submission.csv\", index=False)",
      "execution_count": null,
      "outputs": []
    }
  ],
  "metadata": {
    "kernelspec": {
      "display_name": "Python 3",
      "language": "python",
      "name": "python3"
    },
    "language_info": {
      "name": "python",
      "version": "3.6.6",
      "mimetype": "text/x-python",
      "codemirror_mode": {
        "name": "ipython",
        "version": 3
      },
      "pygments_lexer": "ipython3",
      "nbconvert_exporter": "python",
      "file_extension": ".py"
    }
  },
  "nbformat": 4,
  "nbformat_minor": 1
}