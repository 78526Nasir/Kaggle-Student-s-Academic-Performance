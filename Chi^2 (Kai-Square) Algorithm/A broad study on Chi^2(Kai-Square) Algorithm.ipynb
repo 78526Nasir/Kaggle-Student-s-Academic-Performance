{
 "cells": [
  {
   "cell_type": "markdown",
   "metadata": {},
   "source": [
    "# A broad study on `Chi^2` algorithm\n",
    "<hr>\n",
    "#### Before going to broad discussion, first lets understand what it `Chi^2` algorithm ? What it does? Why we need to learn it?"
   ]
  },
  {
   "cell_type": "markdown",
   "metadata": {},
   "source": [
    "* __`Chi^2` (pronounced as kai-square) is an algorithm that helps us to understand the relationship between two [categorical](https://youtu.be/o8gs-zgPfp4) variables.__  \n",
    "* __It helps us to compare what we actually observed with what we expected.__\n",
    "* __We use it to accept or reject our [hypothesis](https://youtu.be/AYSbHbM7Wp0).__\n",
    "* __It also used for feature selection__\n",
    "\n"
   ]
  },
  {
   "cell_type": "markdown",
   "metadata": {},
   "source": [
    "### There are tow types of Hypotheses test are present in `Chi^2` algorithm \n",
    "   * test for fitting/ goodness of fit\n",
    "   * test for independence\n",
    "  \n",
    "  \n",
    "#### `Chi^2` test for fitting or goodness of fit\n",
    "Chi-squared __goodness-of-fit__ test is an analog of the one way to test for categorical variables: it tests whether the  distribution of sample categorical data matches an expected distribution.\n",
    "#### `Chi^2` test of independence\n",
    "The Chi-Square test of independence is a statistical test to determine if there is a __significant relationship__ between 2 categorical variables."
   ]
  },
  {
   "cell_type": "markdown",
   "metadata": {},
   "source": [
    "<hr>"
   ]
  },
  {
   "cell_type": "markdown",
   "metadata": {},
   "source": [
    "## `Chi^2` test for goodness of fit\n",
    "\n",
    "Lets understand the scenerio first:\n",
    "\n",
    "Mr. Rahim thinking about buying a restaurant. So, he go and ask the owner what is the distribution of the `number of customer` you get in each day. The owner gives him distribution data of 6 days. BUT Mr. Rahim get little bit suspicious and he dicide to see how good the owners provided distribution! \n",
    "\n",
    "So he started observing the number of customer came to the restaurant in a week. And he finally collect the observed distribution data. Both Owner's distribution and observed distribution data showing below:\n",
    "\n",
    "> __The above example taken from [Khan Academy](https://youtu.be/2QeDRsxSF9M)__\n"
   ]
  },
  {
   "cell_type": "code",
   "execution_count": 1,
   "metadata": {},
   "outputs": [
    {
     "data": {
      "text/html": [
       "<div>\n",
       "<style scoped>\n",
       "    .dataframe tbody tr th:only-of-type {\n",
       "        vertical-align: middle;\n",
       "    }\n",
       "\n",
       "    .dataframe tbody tr th {\n",
       "        vertical-align: top;\n",
       "    }\n",
       "\n",
       "    .dataframe thead th {\n",
       "        text-align: right;\n",
       "    }\n",
       "</style>\n",
       "<table border=\"1\" class=\"dataframe\">\n",
       "  <thead>\n",
       "    <tr style=\"text-align: right;\">\n",
       "      <th></th>\n",
       "      <th>day</th>\n",
       "      <th>owners_distribution</th>\n",
       "      <th>observed_distribution</th>\n",
       "    </tr>\n",
       "  </thead>\n",
       "  <tbody>\n",
       "    <tr>\n",
       "      <th>0</th>\n",
       "      <td>sat</td>\n",
       "      <td>10</td>\n",
       "      <td>30</td>\n",
       "    </tr>\n",
       "    <tr>\n",
       "      <th>1</th>\n",
       "      <td>sun</td>\n",
       "      <td>10</td>\n",
       "      <td>14</td>\n",
       "    </tr>\n",
       "    <tr>\n",
       "      <th>2</th>\n",
       "      <td>mon</td>\n",
       "      <td>15</td>\n",
       "      <td>34</td>\n",
       "    </tr>\n",
       "    <tr>\n",
       "      <th>3</th>\n",
       "      <td>tue</td>\n",
       "      <td>20</td>\n",
       "      <td>45</td>\n",
       "    </tr>\n",
       "    <tr>\n",
       "      <th>4</th>\n",
       "      <td>wed</td>\n",
       "      <td>30</td>\n",
       "      <td>57</td>\n",
       "    </tr>\n",
       "    <tr>\n",
       "      <th>5</th>\n",
       "      <td>thu</td>\n",
       "      <td>15</td>\n",
       "      <td>20</td>\n",
       "    </tr>\n",
       "  </tbody>\n",
       "</table>\n",
       "</div>"
      ],
      "text/plain": [
       "   day  owners_distribution  observed_distribution\n",
       "0  sat                   10                     30\n",
       "1  sun                   10                     14\n",
       "2  mon                   15                     34\n",
       "3  tue                   20                     45\n",
       "4  wed                   30                     57\n",
       "5  thu                   15                     20"
      ]
     },
     "execution_count": 1,
     "metadata": {},
     "output_type": "execute_result"
    }
   ],
   "source": [
    "import pandas as pd\n",
    "\n",
    "data = pd.read_csv(r\"C:\\Users\\DIU\\Desktop\\goodness_of_fit.csv\")\n",
    "\n",
    "data"
   ]
  },
  {
   "cell_type": "markdown",
   "metadata": {},
   "source": [
    "`Chi^2` has a standard distribution [table](https://en.wikipedia.org/wiki/Chi-squared_distribution#Table_of_%CF%872_values_vs_p-values). We need this table on both test"
   ]
  },
  {
   "attachments": {},
   "cell_type": "markdown",
   "metadata": {},
   "source": [
    "![chi2_distribution_table.png](http://res.cloudinary.com/nasir78526/image/upload/q_100/v1531935798/chi2_distribution_table_tztb6a.png)"
   ]
  },
  {
   "cell_type": "markdown",
   "metadata": {},
   "source": [
    "The Equation of `Chi^2`:"
   ]
  },
  {
   "cell_type": "markdown",
   "metadata": {},
   "source": [
    "\\begin{equation}\n",
    "\\chi=\\sum\\frac{\\ (observed - expected)^2}{expected}\n",
    "\\end{equation}"
   ]
  },
  {
   "cell_type": "markdown",
   "metadata": {},
   "source": [
    "In `data`  dataframe we have __Owner's distribution__ and __observed distribution__, but we do not have expected values! The formula of finding __expected__ values:"
   ]
  },
  {
   "cell_type": "markdown",
   "metadata": {},
   "source": [
    "> expected = total no. of observed customer * (% of owners observation each day)"
   ]
  },
  {
   "cell_type": "markdown",
   "metadata": {},
   "source": [
    "lets find out the expected values first."
   ]
  },
  {
   "cell_type": "code",
   "execution_count": 2,
   "metadata": {},
   "outputs": [
    {
     "data": {
      "text/html": [
       "<div>\n",
       "<style scoped>\n",
       "    .dataframe tbody tr th:only-of-type {\n",
       "        vertical-align: middle;\n",
       "    }\n",
       "\n",
       "    .dataframe tbody tr th {\n",
       "        vertical-align: top;\n",
       "    }\n",
       "\n",
       "    .dataframe thead th {\n",
       "        text-align: right;\n",
       "    }\n",
       "</style>\n",
       "<table border=\"1\" class=\"dataframe\">\n",
       "  <thead>\n",
       "    <tr style=\"text-align: right;\">\n",
       "      <th></th>\n",
       "      <th>day</th>\n",
       "      <th>owners_distribution</th>\n",
       "      <th>observed_distribution</th>\n",
       "      <th>expected</th>\n",
       "    </tr>\n",
       "  </thead>\n",
       "  <tbody>\n",
       "    <tr>\n",
       "      <th>0</th>\n",
       "      <td>sat</td>\n",
       "      <td>10</td>\n",
       "      <td>30</td>\n",
       "      <td>20</td>\n",
       "    </tr>\n",
       "    <tr>\n",
       "      <th>1</th>\n",
       "      <td>sun</td>\n",
       "      <td>10</td>\n",
       "      <td>14</td>\n",
       "      <td>20</td>\n",
       "    </tr>\n",
       "    <tr>\n",
       "      <th>2</th>\n",
       "      <td>mon</td>\n",
       "      <td>15</td>\n",
       "      <td>34</td>\n",
       "      <td>30</td>\n",
       "    </tr>\n",
       "    <tr>\n",
       "      <th>3</th>\n",
       "      <td>tue</td>\n",
       "      <td>20</td>\n",
       "      <td>45</td>\n",
       "      <td>40</td>\n",
       "    </tr>\n",
       "    <tr>\n",
       "      <th>4</th>\n",
       "      <td>wed</td>\n",
       "      <td>30</td>\n",
       "      <td>57</td>\n",
       "      <td>60</td>\n",
       "    </tr>\n",
       "    <tr>\n",
       "      <th>5</th>\n",
       "      <td>thu</td>\n",
       "      <td>15</td>\n",
       "      <td>20</td>\n",
       "      <td>30</td>\n",
       "    </tr>\n",
       "  </tbody>\n",
       "</table>\n",
       "</div>"
      ],
      "text/plain": [
       "   day  owners_distribution  observed_distribution  expected\n",
       "0  sat                   10                     30        20\n",
       "1  sun                   10                     14        20\n",
       "2  mon                   15                     34        30\n",
       "3  tue                   20                     45        40\n",
       "4  wed                   30                     57        60\n",
       "5  thu                   15                     20        30"
      ]
     },
     "execution_count": 2,
     "metadata": {},
     "output_type": "execute_result"
    }
   ],
   "source": [
    "data[\"expected\"] = (sum(data[\"observed_distribution\"]) * (data[\"owners_distribution\"]/100)).astype(int)\n",
    "data"
   ]
  },
  {
   "cell_type": "markdown",
   "metadata": {},
   "source": [
    "__There are maily two hypothesis in `Chi^2`__\n",
    "\n",
    "\\begin{equation}\n",
    "H_o = Null Hypothesis\\\\\n",
    "H_a = Alternative Hypothesis\n",
    "\\end{equation}\n",
    "\n",
    "\n",
    "* __Null Hypothesis => There's no significent relationship between specified features__\n",
    "* __Alternative Hypothesis => reverse of Null Hypothesis__\n"
   ]
  },
  {
   "cell_type": "markdown",
   "metadata": {},
   "source": [
    "__Now lets calculate the `chi-square` and find out the Null hypothesis of `Owners_distribution` is correct or not__\n",
    "\n",
    "> `Correct means => Accepted => when Chi-square value less than Critical Value`\n",
    "\n",
    "> `Incorrect means => Rejected => when Chi-square value greater than Critical Value`"
   ]
  },
  {
   "cell_type": "markdown",
   "metadata": {},
   "source": [
    "|Calculating Chi-square value by Hand||#|#|#|#|#|#|\n",
    "| --- | ---- | ---- | ---- | --- | -- | --- |\n",
    "| \\begin{equation}Observed\\end{equation} || 30  | 14 | 34 | 45 | 57 | 20|\n",
    "| \\begin{equation}Expected\\end{equation}|| 20  | 20 | 30 | 40 | 60 | 30 |\n",
    "| \\begin{equation}(O-E)\\end{equation}|| 10 | -6 | 4 | 5 | -3 | -10 |\n",
    "|\\begin{equation}(O-E)^2\\end{equation} || 100 | 36 | 16 | 25 | 9 | 100 |\n",
    "|\\begin{equation}\\frac{(O-E)^2}{E}\\end{equation} || 5 | 1.8 | 0.54 | 0.625 | 0.15 | 3.34 |\n",
    "|\\begin{equation}\\sum\\end{equation}||||||| __11.45__|"
   ]
  },
  {
   "cell_type": "code",
   "execution_count": 3,
   "metadata": {},
   "outputs": [
    {
     "name": "stdout",
     "output_type": "stream",
     "text": [
      "11.442\n"
     ]
    }
   ],
   "source": [
    "# Same calculation using python manually\n",
    "\n",
    "subtract =  data[\"observed_distribution\"] - data[\"expected\"]\n",
    "subtract_sqr = subtract**2\n",
    "division = subtract_sqr / data[\"expected\"]\n",
    "chi_square = division.sum()\n",
    "\n",
    "print(round(chi_square, 3))"
   ]
  },
  {
   "cell_type": "markdown",
   "metadata": {},
   "source": [
    "Now we need to check whether `owner's disribution` is accepted or not, to do this we need some extra information:\n",
    "\n",
    "* What is the `Degree of freedom`?\n",
    "* What is the significant level ?\n",
    "* What is the Critical Value?\n",
    "\n",
    "__Answer:__\n",
    "\n",
    "Degree of freedom = number of observation - 1 = __5__\n",
    "\n",
    "Significant Level : 0.05 (_most used significant level by statistians_)\n",
    "\n",
    "Critical Value: we need to find the critical value from the chi^2 distribution [table](https://en.wikipedia.org/wiki/Chi-squared_distribution#Table_of_%CF%872_values_vs_p-values).\n",
    "\n",
    "We need to look at where the degree of freedom intersect the significant level(P value):\n",
    "so we can see that, degree of freedom => 5 and significant level 0.05 will intersect at: 11.07\n",
    "\n",
    "Hence, Critical Value = 11.07"
   ]
  },
  {
   "cell_type": "code",
   "execution_count": 4,
   "metadata": {},
   "outputs": [
    {
     "name": "stdout",
     "output_type": "stream",
     "text": [
      "Owner's distribution is not correct, Rejected\n"
     ]
    }
   ],
   "source": [
    "critical_value = 11.07\n",
    "\n",
    "if(chi_square<critical_value):\n",
    "    print(\"Owner's distribution is correct, Accepted\")\n",
    "else:\n",
    "    print(\"Owner's distribution is not correct, Rejected\")"
   ]
  },
  {
   "cell_type": "markdown",
   "metadata": {},
   "source": [
    "### We can achive exact same thing by using `scipy`:"
   ]
  },
  {
   "cell_type": "code",
   "execution_count": 5,
   "metadata": {},
   "outputs": [
    {
     "name": "stdout",
     "output_type": "stream",
     "text": [
      "Chi-square Value = 11.441667, P-value = 0.022024\n"
     ]
    }
   ],
   "source": [
    "import scipy.stats as stats\n",
    "\n",
    "(chi_square, p) = stats.chisquare(data[\"observed_distribution\"], data[\"expected\"], ddof=1)\n",
    "print ('Chi-square Value = %f, P-value = %f' % (chi_square, p))\n",
    "\n",
    "alpha = 0.05  # significance level"
   ]
  },
  {
   "cell_type": "code",
   "execution_count": 6,
   "metadata": {},
   "outputs": [
    {
     "name": "stdout",
     "output_type": "stream",
     "text": [
      "Owner's distribution is not correct, Rejected\n"
     ]
    }
   ],
   "source": [
    "# another way to check the observation\n",
    "# Correct means => Accepted => p (resulted level) > alpha (significant level)\n",
    "# Incorrect means => Rejected => p < alpha\n",
    "\n",
    "if p <= alpha:\n",
    "    # we reject null hypothesis and accept alternative hypothesis\n",
    "    print (\"Owner's distribution is not correct, Rejected\")\n",
    "else:\n",
    "    # we accept null hypothesis and reject alternative hypothesis\n",
    "    print(\"Owner's distribution is correct, Accepted\")"
   ]
  },
  {
   "cell_type": "markdown",
   "metadata": {},
   "source": [
    "## `Chi^2` test of independence"
   ]
  },
  {
   "cell_type": "markdown",
   "metadata": {},
   "source": [
    "__Independence__ is a key concept in probability that describes a situation where knowing the value of one variable tells you nothing about the value of another.\n",
    "\n",
    "For instance, the __month__ you were born probably doesn't tell you anything about which __web browser__ you use :p\n",
    "\n",
    "So we'd expect birth month and browser preference to be __independent__.\n",
    "\n",
    "On the other hand, your month of birth might be related to whether you __excelled__ at sports in school, so month of birth and sports performance might __not__ be __independent__.\n",
    "\n",
    "* The chi-squared `test of independence` tests whether two categorical variables are independent.\n",
    "* The test of independence is commonly used to determine whether variables like education, political views and other preferences vary based on demographic factors like gender, race and religion. \n",
    "\n",
    "> __The above content collected from this [blog](http://hamelg.blogspot.com)__\n",
    "\n",
    "\n",
    "Let's say there are couple of herbs that people beleives help to prevent __flu__. So to test this, we randomly assign people into three different groups. And first two groups are taking herbs1 and herbs2 and third group doesnot take anything:\n",
    "\n",
    "> __The above example collected from [KhanAcademy](https://youtu.be/hpWdDmgsIRE)__"
   ]
  },
  {
   "cell_type": "code",
   "execution_count": 7,
   "metadata": {},
   "outputs": [
    {
     "data": {
      "text/html": [
       "<div>\n",
       "<style scoped>\n",
       "    .dataframe tbody tr th:only-of-type {\n",
       "        vertical-align: middle;\n",
       "    }\n",
       "\n",
       "    .dataframe tbody tr th {\n",
       "        vertical-align: top;\n",
       "    }\n",
       "\n",
       "    .dataframe thead th {\n",
       "        text-align: right;\n",
       "    }\n",
       "</style>\n",
       "<table border=\"1\" class=\"dataframe\">\n",
       "  <thead>\n",
       "    <tr style=\"text-align: right;\">\n",
       "      <th></th>\n",
       "      <th>status</th>\n",
       "      <th>herb1</th>\n",
       "      <th>herb2</th>\n",
       "      <th>noherb</th>\n",
       "    </tr>\n",
       "  </thead>\n",
       "  <tbody>\n",
       "    <tr>\n",
       "      <th>0</th>\n",
       "      <td>sick</td>\n",
       "      <td>20</td>\n",
       "      <td>30</td>\n",
       "      <td>30</td>\n",
       "    </tr>\n",
       "    <tr>\n",
       "      <th>1</th>\n",
       "      <td>not_sick</td>\n",
       "      <td>100</td>\n",
       "      <td>110</td>\n",
       "      <td>90</td>\n",
       "    </tr>\n",
       "  </tbody>\n",
       "</table>\n",
       "</div>"
      ],
      "text/plain": [
       "     status  herb1  herb2  noherb\n",
       "0      sick     20     30      30\n",
       "1  not_sick    100    110      90"
      ]
     },
     "execution_count": 7,
     "metadata": {},
     "output_type": "execute_result"
    }
   ],
   "source": [
    "flu_dataset = pd.read_csv(r\"C:\\Users\\DIU\\Desktop\\flu_dataset.csv\")\n",
    "\n",
    "copy_df = flu_dataset.copy()\n",
    "flu_dataset"
   ]
  },
  {
   "cell_type": "markdown",
   "metadata": {},
   "source": [
    "__Now we need to find out the total both column and row wise:__"
   ]
  },
  {
   "cell_type": "code",
   "execution_count": 8,
   "metadata": {},
   "outputs": [
    {
     "data": {
      "text/html": [
       "<div>\n",
       "<style scoped>\n",
       "    .dataframe tbody tr th:only-of-type {\n",
       "        vertical-align: middle;\n",
       "    }\n",
       "\n",
       "    .dataframe tbody tr th {\n",
       "        vertical-align: top;\n",
       "    }\n",
       "\n",
       "    .dataframe thead th {\n",
       "        text-align: right;\n",
       "    }\n",
       "</style>\n",
       "<table border=\"1\" class=\"dataframe\">\n",
       "  <thead>\n",
       "    <tr style=\"text-align: right;\">\n",
       "      <th></th>\n",
       "      <th>status</th>\n",
       "      <th>herb1</th>\n",
       "      <th>herb2</th>\n",
       "      <th>noherb</th>\n",
       "      <th>total</th>\n",
       "    </tr>\n",
       "  </thead>\n",
       "  <tbody>\n",
       "    <tr>\n",
       "      <th>0</th>\n",
       "      <td>sick</td>\n",
       "      <td>20</td>\n",
       "      <td>30</td>\n",
       "      <td>30</td>\n",
       "      <td>80</td>\n",
       "    </tr>\n",
       "    <tr>\n",
       "      <th>1</th>\n",
       "      <td>not_sick</td>\n",
       "      <td>100</td>\n",
       "      <td>110</td>\n",
       "      <td>90</td>\n",
       "      <td>300</td>\n",
       "    </tr>\n",
       "    <tr>\n",
       "      <th>Grand Total</th>\n",
       "      <td>sicknot_sick</td>\n",
       "      <td>120</td>\n",
       "      <td>140</td>\n",
       "      <td>120</td>\n",
       "      <td>380</td>\n",
       "    </tr>\n",
       "  </tbody>\n",
       "</table>\n",
       "</div>"
      ],
      "text/plain": [
       "                   status herb1 herb2 noherb total\n",
       "0                    sick    20    30     30    80\n",
       "1                not_sick   100   110     90   300\n",
       "Grand Total  sicknot_sick   120   140    120   380"
      ]
     },
     "execution_count": 8,
     "metadata": {},
     "output_type": "execute_result"
    }
   ],
   "source": [
    "# row wise sum added into a new column called 'total'\n",
    "flu_dataset[\"total\"] = flu_dataset.iloc[:, 1:].sum(axis=1) \n",
    "\n",
    "# column wise added into a new row with a index called 'Grand Total'\n",
    "flu_dataset = pd.concat([flu_dataset, pd.DataFrame(flu_dataset.sum(axis=0), columns=['Grand Total']).T])\n",
    "\n",
    "flu_dataset"
   ]
  },
  {
   "cell_type": "markdown",
   "metadata": {},
   "source": [
    "> The main difference between `goodness of fit` and `test of independence` is that in `test of independent` we have to find expected value for every cell in a two dimentional space. \n",
    "\n",
    "Now firstly we need to find out the expected frequency of getting sick or not sick:\n",
    "\n",
    "> expected frequency for getting `sick = 80/380 = 0.2105 ~= 21%`\n",
    "\n",
    "> expected frequency for getting `not sick = 300/380 = 0.7894 ~= 79%`\n",
    "\n",
    "For each cell we need to find the expected value:\n",
    "\n",
    "for, `sick patient = total frequency of getting sick * Total number of people taking herb or not`\n",
    "\n",
    "for, `not sick patient = total frequency of getting not sick * Total number of people taking herb or not`\n",
    "\n",
    "Expected `frequency for sick patient who takes Herb1 = total frequency of getting sick * Total number of people whom are taking herb1`\n",
    "\n",
    "> expected_sick_herb1 = 21% * 120 = 25.2\n",
    "\n",
    "> expected_sick_herb2 = 21% * 140 = 29.4\n",
    "\n",
    "> expected_sick_noherb = 21% * 120 = 25.2\n",
    "\n",
    "> expected_notsick_herb1 = 79% * 120 = 94.8\n",
    "\n",
    "> expected_notsick_herb2 = 79% * 140 = 110.6\n",
    "\n",
    "> expected_notsick_noherb = 79% * 120 = 94.8\n",
    "\n",
    "|status| herb1| herb2|noherb|total|\n",
    "|------|------|------|------|-----|\n",
    "|sick|20|30|30|80|\n",
    "|__Exp. Freq.__|__25.2__|__29.4__|__25.2__|__21%__|\n",
    "|not_sick|100|110|90|300|\n",
    "|__Exp. Freq.__|__94.8__|__110.6__|__94.8__|__79%__|\n",
    "|GrandTotal|120|140|120|380|\n",
    "\n",
    "No we need to calculate the chi-square:\n",
    "\\begin{equation}\n",
    "\\chi^2 = \\sum\\frac{(Observed - Expected)^2}{Expected}\\\\\n",
    "=\\frac{(20-25.2)^2}{25.2} + \\frac{(30-29.4)^2}{29.4}  + \\frac{(30-25.2)^2}{25.2} + \\frac{(100-94.7)^2}{94.7} + \\frac{(110-110.6)^2}{110.6} + \\frac{(90-94.7)^2}{94.7}\\\\\n",
    "= 2.52825\\\\\n",
    "\\end{equation}\n",
    "\n",
    "### We can achive exact same thing in python using `stats` Library:"
   ]
  },
  {
   "cell_type": "code",
   "execution_count": 9,
   "metadata": {},
   "outputs": [
    {
     "data": {
      "text/html": [
       "<div>\n",
       "<style scoped>\n",
       "    .dataframe tbody tr th:only-of-type {\n",
       "        vertical-align: middle;\n",
       "    }\n",
       "\n",
       "    .dataframe tbody tr th {\n",
       "        vertical-align: top;\n",
       "    }\n",
       "\n",
       "    .dataframe thead th {\n",
       "        text-align: right;\n",
       "    }\n",
       "</style>\n",
       "<table border=\"1\" class=\"dataframe\">\n",
       "  <thead>\n",
       "    <tr style=\"text-align: right;\">\n",
       "      <th></th>\n",
       "      <th>herb1</th>\n",
       "      <th>herb2</th>\n",
       "      <th>noherb</th>\n",
       "    </tr>\n",
       "  </thead>\n",
       "  <tbody>\n",
       "    <tr>\n",
       "      <th>0</th>\n",
       "      <td>20</td>\n",
       "      <td>30</td>\n",
       "      <td>30</td>\n",
       "    </tr>\n",
       "    <tr>\n",
       "      <th>1</th>\n",
       "      <td>100</td>\n",
       "      <td>110</td>\n",
       "      <td>90</td>\n",
       "    </tr>\n",
       "  </tbody>\n",
       "</table>\n",
       "</div>"
      ],
      "text/plain": [
       "   herb1  herb2  noherb\n",
       "0     20     30      30\n",
       "1    100    110      90"
      ]
     },
     "execution_count": 9,
     "metadata": {},
     "output_type": "execute_result"
    }
   ],
   "source": [
    "del copy_df[\"status\"]\n",
    "copy_df"
   ]
  },
  {
   "cell_type": "code",
   "execution_count": 10,
   "metadata": {},
   "outputs": [
    {
     "name": "stdout",
     "output_type": "stream",
     "text": [
      "Chi-square Value = 2.525794, p-value=0.282834\n"
     ]
    }
   ],
   "source": [
    "chiStats = stats.chi2_contingency(observed = copy_df)\n",
    "print ('Chi-square Value = %f, p-value=%f' % (chiStats[0], chiStats[1]))"
   ]
  },
  {
   "cell_type": "markdown",
   "metadata": {},
   "source": [
    "__Now to Accept or Reject the hypothesis we need to look at chi-square distribution [table](https://en.wikipedia.org/wiki/Chi-squared_distribution#Table_of_%CF%872_values_vs_p-values).__\n",
    "\n",
    "First thing first, we have a significant level/alpha for this problem = 10% = 0.10\n",
    "\n",
    "and the degree of freedom for Contingency = (number of row - 1)* (number of column - 1) = (2-1) * (3-1) = 2\n",
    "\n",
    "__Now, we need to find out the critical value where the `degree of freedom => 2` interset the `significant level 0.10`__\n",
    "\n",
    "according to the chi-square distribution table the `intersect/ critical value is = 4.61`\n",
    "\n",
    "If the `chi-square` value less than the `critical value` then the hypothesis is acceted (and that means variables are independent)\n"
   ]
  },
  {
   "cell_type": "code",
   "execution_count": 11,
   "metadata": {},
   "outputs": [
    {
     "name": "stdout",
     "output_type": "stream",
     "text": [
      "Critical Value:  4.605170185988092\n",
      "Observed Chi Value:  2.5257936507936507\n",
      "Null hypothesis Accetped (variables are Independent)\n"
     ]
    }
   ],
   "source": [
    "significant_level = 0.10\n",
    "degree_of_freedom = 2\n",
    "\n",
    "critical_value = crit = stats.chi2.ppf(q = 1 - significant_level, df = degree_of_freedom)\n",
    "\n",
    "print(\"Critical Value: \", critical_value)\n",
    "\n",
    "observe_chi_square = chiStats[0]\n",
    "\n",
    "print(\"Observed Chi Value: \", observe_chi_square)\n",
    "\n",
    "if observe_chi_square <= critical_value:\n",
    "    # observed chi square value is not in critical area therefore we accept null hypothesis\n",
    "    print ('Null hypothesis Accetped (variables are Independent)')\n",
    "else:\n",
    "    # observed value is in critical area therefore we reject null hypothesis\n",
    "    print ('Null hypothesis Rejected (variables are related/dependent)')"
   ]
  },
  {
   "cell_type": "markdown",
   "metadata": {},
   "source": [
    "<script src=\"https://gist.github.com/78526Nasir/111e6405b7ac0d34823839df42e2fc67.js\"></script>"
   ]
  },
  {
   "cell_type": "code",
   "execution_count": null,
   "metadata": {},
   "outputs": [],
   "source": []
  }
 ],
 "metadata": {
  "kernelspec": {
   "display_name": "Python 3",
   "language": "python",
   "name": "python3"
  },
  "language_info": {
   "codemirror_mode": {
    "name": "ipython",
    "version": 3
   },
   "file_extension": ".py",
   "mimetype": "text/x-python",
   "name": "python",
   "nbconvert_exporter": "python",
   "pygments_lexer": "ipython3",
   "version": "3.6.4"
  }
 },
 "nbformat": 4,
 "nbformat_minor": 2
}
