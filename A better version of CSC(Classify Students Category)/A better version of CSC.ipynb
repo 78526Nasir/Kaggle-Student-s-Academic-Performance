{
 "cells": [
  {
   "cell_type": "code",
   "execution_count": 1,
   "metadata": {
    "_cell_guid": "b1076dfc-b9ad-4769-8c92-a6c4dae69d19",
    "_uuid": "8f2839f25d086af736a60e9eeb907d3b93b6e0e5"
   },
   "outputs": [
    {
     "name": "stderr",
     "output_type": "stream",
     "text": [
      "Using TensorFlow backend.\n"
     ]
    }
   ],
   "source": [
    "# Loading necessary packages \n",
    "\n",
    "import numpy as np\n",
    "import pandas as pd \n",
    "import matplotlib.pyplot as plt\n",
    "import tensorflow as tf\n",
    "import keras\n",
    "from keras.layers import Dense\n",
    "from keras.models import Sequential\n",
    "\n",
    "%matplotlib inline\n",
    "import seaborn as sns\n",
    "sns.set()\n",
    "\n",
    "from sklearn.ensemble import RandomForestClassifier\n",
    "from sklearn.svm import SVC\n",
    "from xgboost import XGBClassifier, plot_importance\n",
    "from sklearn.neural_network import MLPClassifier\n",
    "from sklearn.metrics import (accuracy_score, f1_score,average_precision_score, confusion_matrix,\n",
    "                             average_precision_score, precision_score, recall_score, roc_auc_score)\n",
    "from mlxtend.plotting import plot_confusion_matrix\n",
    "\n",
    "from sklearn.preprocessing import Imputer\n",
    "from sklearn.metrics import accuracy_score\n",
    "from sklearn.model_selection import train_test_split\n",
    "from sklearn.metrics import mean_absolute_error\n",
    "from sklearn.metrics import confusion_matrix\n",
    "from sklearn.model_selection import cross_val_predict\n",
    "from imblearn.over_sampling import SMOTE\n",
    "from sklearn.preprocessing import StandardScaler\n",
    "from sklearn.preprocessing import MinMaxScaler"
   ]
  },
  {
   "cell_type": "code",
   "execution_count": 2,
   "metadata": {
    "_cell_guid": "79c7e3d0-c299-4dcb-8224-4455121ee9b0",
    "_uuid": "d629ff2d2480ee46fbb7e2d37f6b5fab8052498a",
    "collapsed": true
   },
   "outputs": [],
   "source": [
    "# loading dataset\n",
    "dataset = pd.read_csv(\"../input/xAPI-Edu-Data.csv\")"
   ]
  },
  {
   "cell_type": "code",
   "execution_count": 3,
   "metadata": {
    "_uuid": "61c5bb332608b27491074c1e6111ef18f6b45b56"
   },
   "outputs": [
    {
     "name": "stdout",
     "output_type": "stream",
     "text": [
      "<class 'pandas.core.frame.DataFrame'>\n",
      "RangeIndex: 480 entries, 0 to 479\n",
      "Data columns (total 17 columns):\n",
      "gender                      480 non-null object\n",
      "NationalITy                 480 non-null object\n",
      "PlaceofBirth                480 non-null object\n",
      "StageID                     480 non-null object\n",
      "GradeID                     480 non-null object\n",
      "SectionID                   480 non-null object\n",
      "Topic                       480 non-null object\n",
      "Semester                    480 non-null object\n",
      "Relation                    480 non-null object\n",
      "raisedhands                 480 non-null int64\n",
      "VisITedResources            480 non-null int64\n",
      "AnnouncementsView           480 non-null int64\n",
      "Discussion                  480 non-null int64\n",
      "ParentAnsweringSurvey       480 non-null object\n",
      "ParentschoolSatisfaction    480 non-null object\n",
      "StudentAbsenceDays          480 non-null object\n",
      "Class                       480 non-null object\n",
      "dtypes: int64(4), object(13)\n",
      "memory usage: 63.8+ KB\n"
     ]
    }
   ],
   "source": [
    "# A summary of the dataset\n",
    "dataset.info()"
   ]
  },
  {
   "cell_type": "code",
   "execution_count": 4,
   "metadata": {
    "_uuid": "2c2820fb1d94450ce6d24e98aee677059a481ac1",
    "scrolled": true
   },
   "outputs": [
    {
     "data": {
      "text/html": [
       "<div>\n",
       "<style scoped>\n",
       "    .dataframe tbody tr th:only-of-type {\n",
       "        vertical-align: middle;\n",
       "    }\n",
       "\n",
       "    .dataframe tbody tr th {\n",
       "        vertical-align: top;\n",
       "    }\n",
       "\n",
       "    .dataframe thead th {\n",
       "        text-align: right;\n",
       "    }\n",
       "</style>\n",
       "<table border=\"1\" class=\"dataframe\">\n",
       "  <thead>\n",
       "    <tr style=\"text-align: right;\">\n",
       "      <th></th>\n",
       "      <th>raisedhands</th>\n",
       "      <th>VisITedResources</th>\n",
       "      <th>AnnouncementsView</th>\n",
       "      <th>Discussion</th>\n",
       "    </tr>\n",
       "  </thead>\n",
       "  <tbody>\n",
       "    <tr>\n",
       "      <th>count</th>\n",
       "      <td>480.000000</td>\n",
       "      <td>480.000000</td>\n",
       "      <td>480.000000</td>\n",
       "      <td>480.000000</td>\n",
       "    </tr>\n",
       "    <tr>\n",
       "      <th>mean</th>\n",
       "      <td>46.775000</td>\n",
       "      <td>54.797917</td>\n",
       "      <td>37.918750</td>\n",
       "      <td>43.283333</td>\n",
       "    </tr>\n",
       "    <tr>\n",
       "      <th>std</th>\n",
       "      <td>30.779223</td>\n",
       "      <td>33.080007</td>\n",
       "      <td>26.611244</td>\n",
       "      <td>27.637735</td>\n",
       "    </tr>\n",
       "    <tr>\n",
       "      <th>min</th>\n",
       "      <td>0.000000</td>\n",
       "      <td>0.000000</td>\n",
       "      <td>0.000000</td>\n",
       "      <td>1.000000</td>\n",
       "    </tr>\n",
       "    <tr>\n",
       "      <th>25%</th>\n",
       "      <td>15.750000</td>\n",
       "      <td>20.000000</td>\n",
       "      <td>14.000000</td>\n",
       "      <td>20.000000</td>\n",
       "    </tr>\n",
       "    <tr>\n",
       "      <th>50%</th>\n",
       "      <td>50.000000</td>\n",
       "      <td>65.000000</td>\n",
       "      <td>33.000000</td>\n",
       "      <td>39.000000</td>\n",
       "    </tr>\n",
       "    <tr>\n",
       "      <th>75%</th>\n",
       "      <td>75.000000</td>\n",
       "      <td>84.000000</td>\n",
       "      <td>58.000000</td>\n",
       "      <td>70.000000</td>\n",
       "    </tr>\n",
       "    <tr>\n",
       "      <th>max</th>\n",
       "      <td>100.000000</td>\n",
       "      <td>99.000000</td>\n",
       "      <td>98.000000</td>\n",
       "      <td>99.000000</td>\n",
       "    </tr>\n",
       "  </tbody>\n",
       "</table>\n",
       "</div>"
      ],
      "text/plain": [
       "       raisedhands  VisITedResources  AnnouncementsView  Discussion\n",
       "count   480.000000        480.000000         480.000000  480.000000\n",
       "mean     46.775000         54.797917          37.918750   43.283333\n",
       "std      30.779223         33.080007          26.611244   27.637735\n",
       "min       0.000000          0.000000           0.000000    1.000000\n",
       "25%      15.750000         20.000000          14.000000   20.000000\n",
       "50%      50.000000         65.000000          33.000000   39.000000\n",
       "75%      75.000000         84.000000          58.000000   70.000000\n",
       "max     100.000000         99.000000          98.000000   99.000000"
      ]
     },
     "execution_count": 4,
     "metadata": {},
     "output_type": "execute_result"
    }
   ],
   "source": [
    "# breif description of the numerical valued feature\n",
    "dataset.describe()"
   ]
  },
  {
   "cell_type": "code",
   "execution_count": 5,
   "metadata": {
    "_uuid": "cbff457df1d5cf1b5edfdd5f2c037d71803c39a7"
   },
   "outputs": [
    {
     "data": {
      "image/png": "[encoded data removed]",
      "text/plain": [
       "<matplotlib.figure.Figure at 0x7f56dc792b70>"
      ]
     },
     "metadata": {},
     "output_type": "display_data"
    }
   ],
   "source": [
    "# checking outliers\n",
    "\n",
    "plt.subplots(figsize=(10,6))\n",
    "dataset.boxplot()\n",
    "plt.show()"
   ]
  },
  {
   "cell_type": "markdown",
   "metadata": {
    "_uuid": "8d3a63ead356771966f70b2987aff29d3e41bf11"
   },
   "source": [
    "> ### Before jumping into __Data Cleaning__ and __Feature Engineering__ lets make a model based on only 3 features (raisedhands, VisITedResources, AnnouncementsView) described in this [paper](https://github.com/78526Nasir/Kaggle-Student-s-Academic-Performance/blob/master/related%20resarch%20paper/Classify%20the%20Category%20of%20Students%20%20p28-alam.pdf) as top/most effective variables"
   ]
  },
  {
   "cell_type": "code",
   "execution_count": 6,
   "metadata": {
    "_uuid": "84b9f50ca84f59fda73e2cda5b32ecfa2a1554eb",
    "collapsed": true
   },
   "outputs": [],
   "source": [
    "top_features = [\"raisedhands\",\"VisITedResources\",\"AnnouncementsView\", \"Discussion\"]\n",
    "X = dataset[top_features]\n",
    "y = dataset[\"Class\"]"
   ]
  },
  {
   "cell_type": "code",
   "execution_count": 7,
   "metadata": {
    "_uuid": "30e587b01094da23b109e3dbb17d9d7663ed3ef3",
    "collapsed": true
   },
   "outputs": [],
   "source": [
    "class_map = {\"L\":0, \"M\":1, \"H\":2}\n",
    "y = y.map(class_map)"
   ]
  },
  {
   "cell_type": "code",
   "execution_count": 8,
   "metadata": {
    "_uuid": "590e940b85019f6f3a8bcbffe229ca68a51cace9",
    "collapsed": true
   },
   "outputs": [],
   "source": [
    "features_train, features_test, labels_train, labels_test = train_test_split(X, y, test_size = .15, random_state=40)"
   ]
  },
  {
   "cell_type": "code",
   "execution_count": 9,
   "metadata": {
    "_uuid": "7bf9382edf678b8168f6fa9736c7704b1761e70f"
   },
   "outputs": [
    {
     "data": {
      "text/plain": [
       "0.6666666666666666"
      ]
     },
     "execution_count": 9,
     "metadata": {},
     "output_type": "execute_result"
    }
   ],
   "source": [
    "# model build with SVM.SVC classifier\n",
    "\n",
    "clf = SVC(kernel = 'linear')\n",
    "clf.fit(features_train, labels_train)\n",
    "pred = clf.predict(features_test)\n",
    "accuracy_score(pred, labels_test)"
   ]
  },
  {
   "cell_type": "code",
   "execution_count": 10,
   "metadata": {
    "_uuid": "c1924b24f03dd7e8680674b3ba6f0d341965c9bf"
   },
   "outputs": [
    {
     "data": {
      "text/plain": [
       "0.6666666666666666"
      ]
     },
     "execution_count": 10,
     "metadata": {},
     "output_type": "execute_result"
    }
   ],
   "source": [
    "from sklearn.neighbors import KNeighborsClassifier\n",
    "KNN = KNeighborsClassifier(n_neighbors=1, leaf_size=10)\n",
    "KNN.fit(features_train, labels_train)\n",
    "KNNpred = clf.predict(features_test)\n",
    "accuracy_score(KNNpred, labels_test)"
   ]
  },
  {
   "cell_type": "code",
   "execution_count": 11,
   "metadata": {
    "_uuid": "8858e6349b7de1da99c14ea320f2478e11d69b63"
   },
   "outputs": [
    {
     "data": {
      "text/plain": [
       "0.6944444444444444"
      ]
     },
     "execution_count": 11,
     "metadata": {},
     "output_type": "execute_result"
    }
   ],
   "source": [
    "from sklearn.naive_bayes import GaussianNB\n",
    "clf = GaussianNB()\n",
    "clf.fit(features_train, labels_train)\n",
    "pred = clf.predict(features_test)\n",
    "accuracy_score(pred, labels_test)"
   ]
  },
  {
   "cell_type": "code",
   "execution_count": 12,
   "metadata": {
    "_uuid": "b11d6173143357e159e291116bec8032c29e5c73"
   },
   "outputs": [
    {
     "data": {
      "text/plain": [
       "0.6944444444444444"
      ]
     },
     "execution_count": 12,
     "metadata": {},
     "output_type": "execute_result"
    }
   ],
   "source": [
    "# Random Forest Classifier with 200 subtrees\n",
    "\n",
    "clf = RandomForestClassifier(n_estimators = 200)\n",
    "clf.fit(features_train, labels_train)\n",
    "pred = clf.predict(features_test)\n",
    "accuracy_score(pred, labels_test)"
   ]
  },
  {
   "cell_type": "code",
   "execution_count": 13,
   "metadata": {
    "_uuid": "c5d9e1d7cfbc05e52ab5c8c54de6eac761bbc527"
   },
   "outputs": [
    {
     "data": {
      "text/plain": [
       "0.7083333333333334"
      ]
     },
     "execution_count": 13,
     "metadata": {},
     "output_type": "execute_result"
    }
   ],
   "source": [
    "# Logistic regression\n",
    "from sklearn.linear_model import LogisticRegression\n",
    "\n",
    "clf = LogisticRegression()\n",
    "clf.fit(features_train, labels_train)\n",
    "pred = clf.predict(features_test)\n",
    "accuracy_score(pred, labels_test)"
   ]
  },
  {
   "cell_type": "code",
   "execution_count": 14,
   "metadata": {
    "_uuid": "8b3466258c804de37a05ea4d8e9f18832dc470a4"
   },
   "outputs": [
    {
     "data": {
      "text/plain": [
       "0.7777777777777778"
      ]
     },
     "execution_count": 14,
     "metadata": {},
     "output_type": "execute_result"
    }
   ],
   "source": [
    "# XGBoost Classifier\n",
    "\n",
    "clf = XGBClassifier(max_depth=200, learning_rate=0.3, n_estimators=5, seed=1)\n",
    "clf.fit(features_train, labels_train)\n",
    "pred = clf.predict(features_test)\n",
    "accuracy_score(pred, labels_test)"
   ]
  },
  {
   "cell_type": "code",
   "execution_count": 15,
   "metadata": {
    "_uuid": "8eda83a6118afe8688525ffd1f41c029cb131ad1"
   },
   "outputs": [
    {
     "name": "stdout",
     "output_type": "stream",
     "text": [
      "[[26  2]\n",
      " [ 3 18]]\n"
     ]
    }
   ],
   "source": [
    "from sklearn.metrics import confusion_matrix, classification_report\n",
    "print(confusion_matrix(pred, labels_test, labels=[1,0]))"
   ]
  },
  {
   "cell_type": "markdown",
   "metadata": {
    "_uuid": "992d8c95559791b68f4644369e85ae05f081c402"
   },
   "source": [
    "### actual True prediction\n",
    "* TP = 26\n",
    "* FN = 18\n",
    "\n",
    "### actual False prediction\n",
    "* FP = 2\n",
    "* FN = 3\n",
    "\n",
    "The model predicted __5__ observation wrongly."
   ]
  },
  {
   "cell_type": "code",
   "execution_count": 16,
   "metadata": {
    "_uuid": "73fccdb731c5bbead98dbc72e1680d85ff4f3845"
   },
   "outputs": [
    {
     "name": "stdout",
     "output_type": "stream",
     "text": [
      "             precision    recall  f1-score   support\n",
      "\n",
      "          1       0.84      0.76      0.80        34\n",
      "          0       0.82      0.82      0.82        22\n",
      "\n",
      "avg / total       0.83      0.79      0.81        56\n",
      "\n"
     ]
    }
   ],
   "source": [
    "print (classification_report(pred, labels_test, labels=[1, 0]))"
   ]
  },
  {
   "cell_type": "code",
   "execution_count": 17,
   "metadata": {
    "_uuid": "9c5916f0f14ac76c0c8b31cc4b3fc13b15e994d1"
   },
   "outputs": [
    {
     "data": {
      "text/plain": [
       "<matplotlib.axes._subplots.AxesSubplot at 0x7f56cae2c320>"
      ]
     },
     "execution_count": 17,
     "metadata": {},
     "output_type": "execute_result"
    },
    {
     "data": {
      "image/png": "[encoded data removed]",
      "text/plain": [
       "<matplotlib.figure.Figure at 0x7f56dc680dd8>"
      ]
     },
     "metadata": {},
     "output_type": "display_data"
    }
   ],
   "source": [
    "fig, ax = plt.subplots(figsize=(12,6))\n",
    "plot_importance(clf, ax = ax)"
   ]
  },
  {
   "cell_type": "markdown",
   "metadata": {
    "_uuid": "f7e5e94d15aff69fde265cb53ef1a11d429a2adc"
   },
   "source": [
    "> ### Till now best accuracy on reduced features model: 0.78"
   ]
  },
  {
   "cell_type": "markdown",
   "metadata": {
    "_uuid": "8636fe0cdf49e5a3054693214f5bd485a66a47a4"
   },
   "source": [
    "## Now lets deep dive into the dataset and start cleaning the data and do some feature engineering"
   ]
  },
  {
   "cell_type": "code",
   "execution_count": 18,
   "metadata": {
    "_uuid": "2b3c3be1c5f91509f347815fba0363fcd1fb9a31"
   },
   "outputs": [
    {
     "data": {
      "text/html": [
       "<div>\n",
       "<style scoped>\n",
       "    .dataframe tbody tr th:only-of-type {\n",
       "        vertical-align: middle;\n",
       "    }\n",
       "\n",
       "    .dataframe tbody tr th {\n",
       "        vertical-align: top;\n",
       "    }\n",
       "\n",
       "    .dataframe thead th {\n",
       "        text-align: right;\n",
       "    }\n",
       "</style>\n",
       "<table border=\"1\" class=\"dataframe\">\n",
       "  <thead>\n",
       "    <tr style=\"text-align: right;\">\n",
       "      <th></th>\n",
       "      <th>gender</th>\n",
       "      <th>NationalITy</th>\n",
       "      <th>PlaceofBirth</th>\n",
       "      <th>StageID</th>\n",
       "      <th>GradeID</th>\n",
       "      <th>SectionID</th>\n",
       "      <th>Topic</th>\n",
       "      <th>Semester</th>\n",
       "      <th>Relation</th>\n",
       "      <th>raisedhands</th>\n",
       "      <th>VisITedResources</th>\n",
       "      <th>AnnouncementsView</th>\n",
       "      <th>Discussion</th>\n",
       "      <th>ParentAnsweringSurvey</th>\n",
       "      <th>ParentschoolSatisfaction</th>\n",
       "      <th>StudentAbsenceDays</th>\n",
       "      <th>Class</th>\n",
       "    </tr>\n",
       "  </thead>\n",
       "  <tbody>\n",
       "    <tr>\n",
       "      <th>0</th>\n",
       "      <td>M</td>\n",
       "      <td>KW</td>\n",
       "      <td>KuwaIT</td>\n",
       "      <td>lowerlevel</td>\n",
       "      <td>G-04</td>\n",
       "      <td>A</td>\n",
       "      <td>IT</td>\n",
       "      <td>F</td>\n",
       "      <td>Father</td>\n",
       "      <td>15</td>\n",
       "      <td>16</td>\n",
       "      <td>2</td>\n",
       "      <td>20</td>\n",
       "      <td>Yes</td>\n",
       "      <td>Good</td>\n",
       "      <td>Under-7</td>\n",
       "      <td>M</td>\n",
       "    </tr>\n",
       "    <tr>\n",
       "      <th>1</th>\n",
       "      <td>M</td>\n",
       "      <td>KW</td>\n",
       "      <td>KuwaIT</td>\n",
       "      <td>lowerlevel</td>\n",
       "      <td>G-04</td>\n",
       "      <td>A</td>\n",
       "      <td>IT</td>\n",
       "      <td>F</td>\n",
       "      <td>Father</td>\n",
       "      <td>20</td>\n",
       "      <td>20</td>\n",
       "      <td>3</td>\n",
       "      <td>25</td>\n",
       "      <td>Yes</td>\n",
       "      <td>Good</td>\n",
       "      <td>Under-7</td>\n",
       "      <td>M</td>\n",
       "    </tr>\n",
       "    <tr>\n",
       "      <th>2</th>\n",
       "      <td>M</td>\n",
       "      <td>KW</td>\n",
       "      <td>KuwaIT</td>\n",
       "      <td>lowerlevel</td>\n",
       "      <td>G-04</td>\n",
       "      <td>A</td>\n",
       "      <td>IT</td>\n",
       "      <td>F</td>\n",
       "      <td>Father</td>\n",
       "      <td>10</td>\n",
       "      <td>7</td>\n",
       "      <td>0</td>\n",
       "      <td>30</td>\n",
       "      <td>No</td>\n",
       "      <td>Bad</td>\n",
       "      <td>Above-7</td>\n",
       "      <td>L</td>\n",
       "    </tr>\n",
       "    <tr>\n",
       "      <th>3</th>\n",
       "      <td>M</td>\n",
       "      <td>KW</td>\n",
       "      <td>KuwaIT</td>\n",
       "      <td>lowerlevel</td>\n",
       "      <td>G-04</td>\n",
       "      <td>A</td>\n",
       "      <td>IT</td>\n",
       "      <td>F</td>\n",
       "      <td>Father</td>\n",
       "      <td>30</td>\n",
       "      <td>25</td>\n",
       "      <td>5</td>\n",
       "      <td>35</td>\n",
       "      <td>No</td>\n",
       "      <td>Bad</td>\n",
       "      <td>Above-7</td>\n",
       "      <td>L</td>\n",
       "    </tr>\n",
       "    <tr>\n",
       "      <th>4</th>\n",
       "      <td>M</td>\n",
       "      <td>KW</td>\n",
       "      <td>KuwaIT</td>\n",
       "      <td>lowerlevel</td>\n",
       "      <td>G-04</td>\n",
       "      <td>A</td>\n",
       "      <td>IT</td>\n",
       "      <td>F</td>\n",
       "      <td>Father</td>\n",
       "      <td>40</td>\n",
       "      <td>50</td>\n",
       "      <td>12</td>\n",
       "      <td>50</td>\n",
       "      <td>No</td>\n",
       "      <td>Bad</td>\n",
       "      <td>Above-7</td>\n",
       "      <td>M</td>\n",
       "    </tr>\n",
       "  </tbody>\n",
       "</table>\n",
       "</div>"
      ],
      "text/plain": [
       "  gender NationalITy  ...  StudentAbsenceDays Class\n",
       "0      M          KW  ...             Under-7     M\n",
       "1      M          KW  ...             Under-7     M\n",
       "2      M          KW  ...             Above-7     L\n",
       "3      M          KW  ...             Above-7     L\n",
       "4      M          KW  ...             Above-7     M\n",
       "\n",
       "[5 rows x 17 columns]"
      ]
     },
     "execution_count": 18,
     "metadata": {},
     "output_type": "execute_result"
    }
   ],
   "source": [
    "dataset.head()"
   ]
  },
  {
   "cell_type": "code",
   "execution_count": 19,
   "metadata": {
    "_uuid": "df63be4716d2b3b081e237119715f6906471546f",
    "collapsed": true,
    "scrolled": true
   },
   "outputs": [],
   "source": [
    "features = dataset.iloc[:,:-1]\n",
    "labels = y"
   ]
  },
  {
   "cell_type": "markdown",
   "metadata": {
    "_uuid": "79bb2b6f07879a2e0cb48a15fbed53e746aecd11"
   },
   "source": [
    "## Applying Integer Encoding only those Feature which have Natural Order"
   ]
  },
  {
   "cell_type": "code",
   "execution_count": 20,
   "metadata": {
    "_uuid": "1d60c2806ecd14ba3b891448361dc823d5ea42a2",
    "collapsed": true
   },
   "outputs": [],
   "source": [
    "stageID_map = {\"lowerlevel\":0, \"MiddleSchool\":1, \"HighSchool\":2}\n",
    "features[\"StageID\"] = features[\"StageID\"].map(stageID_map)"
   ]
  },
  {
   "cell_type": "code",
   "execution_count": 21,
   "metadata": {
    "_uuid": "837550b5bc98039781a6271e0ae8331908029da7",
    "collapsed": true
   },
   "outputs": [],
   "source": [
    "gradeID_map = {\"G-02\":0, \"G-04\":1, \"G-05\":2, \"G-06\":3, \"G-07\":4, \"G-08\":5, \"G-09\":6, \"G-10\":7, \"G-11\":8, \"G-12\":9}\n",
    "features[\"GradeID\"] = features[\"GradeID\"].map(gradeID_map)"
   ]
  },
  {
   "cell_type": "code",
   "execution_count": 22,
   "metadata": {
    "_uuid": "c675c583053583dd604758610d5f9c8686afeb71",
    "collapsed": true
   },
   "outputs": [],
   "source": [
    "sectionID_map = {\"A\":0, \"B\":1, \"C\":2}\n",
    "features[\"SectionID\"] = features[\"SectionID\"].map(sectionID_map)"
   ]
  },
  {
   "cell_type": "code",
   "execution_count": 23,
   "metadata": {
    "_uuid": "18bdb2fca75a230c36a0c908b5d67b2df9a411f5",
    "collapsed": true
   },
   "outputs": [],
   "source": [
    "del features[\"PlaceofBirth\"]"
   ]
  },
  {
   "cell_type": "markdown",
   "metadata": {
    "_uuid": "5cf96700074688b6936522aeb47eb7893c558ac3"
   },
   "source": [
    "## Applying One Hot Encoding rest of all"
   ]
  },
  {
   "cell_type": "code",
   "execution_count": 24,
   "metadata": {
    "_uuid": "1c26f2bbbe8cff696d0fe5bfefa53110f8c6bd48"
   },
   "outputs": [
    {
     "data": {
      "text/html": [
       "<div>\n",
       "<style scoped>\n",
       "    .dataframe tbody tr th:only-of-type {\n",
       "        vertical-align: middle;\n",
       "    }\n",
       "\n",
       "    .dataframe tbody tr th {\n",
       "        vertical-align: top;\n",
       "    }\n",
       "\n",
       "    .dataframe thead th {\n",
       "        text-align: right;\n",
       "    }\n",
       "</style>\n",
       "<table border=\"1\" class=\"dataframe\">\n",
       "  <thead>\n",
       "    <tr style=\"text-align: right;\">\n",
       "      <th></th>\n",
       "      <th>StageID</th>\n",
       "      <th>GradeID</th>\n",
       "      <th>SectionID</th>\n",
       "      <th>raisedhands</th>\n",
       "      <th>VisITedResources</th>\n",
       "      <th>AnnouncementsView</th>\n",
       "      <th>Discussion</th>\n",
       "      <th>gender_F</th>\n",
       "      <th>gender_M</th>\n",
       "      <th>NationalITy_Egypt</th>\n",
       "      <th>NationalITy_Iran</th>\n",
       "      <th>NationalITy_Iraq</th>\n",
       "      <th>NationalITy_Jordan</th>\n",
       "      <th>NationalITy_KW</th>\n",
       "      <th>NationalITy_Lybia</th>\n",
       "      <th>NationalITy_Morocco</th>\n",
       "      <th>NationalITy_Palestine</th>\n",
       "      <th>NationalITy_SaudiArabia</th>\n",
       "      <th>NationalITy_Syria</th>\n",
       "      <th>NationalITy_Tunis</th>\n",
       "      <th>NationalITy_USA</th>\n",
       "      <th>NationalITy_lebanon</th>\n",
       "      <th>NationalITy_venzuela</th>\n",
       "      <th>Topic_Arabic</th>\n",
       "      <th>Topic_Biology</th>\n",
       "      <th>Topic_Chemistry</th>\n",
       "      <th>Topic_English</th>\n",
       "      <th>Topic_French</th>\n",
       "      <th>Topic_Geology</th>\n",
       "      <th>Topic_History</th>\n",
       "      <th>Topic_IT</th>\n",
       "      <th>Topic_Math</th>\n",
       "      <th>Topic_Quran</th>\n",
       "      <th>Topic_Science</th>\n",
       "      <th>Topic_Spanish</th>\n",
       "      <th>Semester_F</th>\n",
       "      <th>Semester_S</th>\n",
       "      <th>Relation_Father</th>\n",
       "      <th>Relation_Mum</th>\n",
       "      <th>ParentAnsweringSurvey_No</th>\n",
       "      <th>ParentAnsweringSurvey_Yes</th>\n",
       "      <th>ParentschoolSatisfaction_Bad</th>\n",
       "      <th>ParentschoolSatisfaction_Good</th>\n",
       "      <th>StudentAbsenceDays_Above-7</th>\n",
       "      <th>StudentAbsenceDays_Under-7</th>\n",
       "    </tr>\n",
       "  </thead>\n",
       "  <tbody>\n",
       "    <tr>\n",
       "      <th>0</th>\n",
       "      <td>0</td>\n",
       "      <td>1</td>\n",
       "      <td>0</td>\n",
       "      <td>15</td>\n",
       "      <td>16</td>\n",
       "      <td>2</td>\n",
       "      <td>20</td>\n",
       "      <td>0</td>\n",
       "      <td>1</td>\n",
       "      <td>0</td>\n",
       "      <td>0</td>\n",
       "      <td>0</td>\n",
       "      <td>0</td>\n",
       "      <td>1</td>\n",
       "      <td>0</td>\n",
       "      <td>0</td>\n",
       "      <td>0</td>\n",
       "      <td>0</td>\n",
       "      <td>0</td>\n",
       "      <td>0</td>\n",
       "      <td>0</td>\n",
       "      <td>0</td>\n",
       "      <td>0</td>\n",
       "      <td>0</td>\n",
       "      <td>0</td>\n",
       "      <td>0</td>\n",
       "      <td>0</td>\n",
       "      <td>0</td>\n",
       "      <td>0</td>\n",
       "      <td>0</td>\n",
       "      <td>1</td>\n",
       "      <td>0</td>\n",
       "      <td>0</td>\n",
       "      <td>0</td>\n",
       "      <td>0</td>\n",
       "      <td>1</td>\n",
       "      <td>0</td>\n",
       "      <td>1</td>\n",
       "      <td>0</td>\n",
       "      <td>0</td>\n",
       "      <td>1</td>\n",
       "      <td>0</td>\n",
       "      <td>1</td>\n",
       "      <td>0</td>\n",
       "      <td>1</td>\n",
       "    </tr>\n",
       "    <tr>\n",
       "      <th>1</th>\n",
       "      <td>0</td>\n",
       "      <td>1</td>\n",
       "      <td>0</td>\n",
       "      <td>20</td>\n",
       "      <td>20</td>\n",
       "      <td>3</td>\n",
       "      <td>25</td>\n",
       "      <td>0</td>\n",
       "      <td>1</td>\n",
       "      <td>0</td>\n",
       "      <td>0</td>\n",
       "      <td>0</td>\n",
       "      <td>0</td>\n",
       "      <td>1</td>\n",
       "      <td>0</td>\n",
       "      <td>0</td>\n",
       "      <td>0</td>\n",
       "      <td>0</td>\n",
       "      <td>0</td>\n",
       "      <td>0</td>\n",
       "      <td>0</td>\n",
       "      <td>0</td>\n",
       "      <td>0</td>\n",
       "      <td>0</td>\n",
       "      <td>0</td>\n",
       "      <td>0</td>\n",
       "      <td>0</td>\n",
       "      <td>0</td>\n",
       "      <td>0</td>\n",
       "      <td>0</td>\n",
       "      <td>1</td>\n",
       "      <td>0</td>\n",
       "      <td>0</td>\n",
       "      <td>0</td>\n",
       "      <td>0</td>\n",
       "      <td>1</td>\n",
       "      <td>0</td>\n",
       "      <td>1</td>\n",
       "      <td>0</td>\n",
       "      <td>0</td>\n",
       "      <td>1</td>\n",
       "      <td>0</td>\n",
       "      <td>1</td>\n",
       "      <td>0</td>\n",
       "      <td>1</td>\n",
       "    </tr>\n",
       "    <tr>\n",
       "      <th>2</th>\n",
       "      <td>0</td>\n",
       "      <td>1</td>\n",
       "      <td>0</td>\n",
       "      <td>10</td>\n",
       "      <td>7</td>\n",
       "      <td>0</td>\n",
       "      <td>30</td>\n",
       "      <td>0</td>\n",
       "      <td>1</td>\n",
       "      <td>0</td>\n",
       "      <td>0</td>\n",
       "      <td>0</td>\n",
       "      <td>0</td>\n",
       "      <td>1</td>\n",
       "      <td>0</td>\n",
       "      <td>0</td>\n",
       "      <td>0</td>\n",
       "      <td>0</td>\n",
       "      <td>0</td>\n",
       "      <td>0</td>\n",
       "      <td>0</td>\n",
       "      <td>0</td>\n",
       "      <td>0</td>\n",
       "      <td>0</td>\n",
       "      <td>0</td>\n",
       "      <td>0</td>\n",
       "      <td>0</td>\n",
       "      <td>0</td>\n",
       "      <td>0</td>\n",
       "      <td>0</td>\n",
       "      <td>1</td>\n",
       "      <td>0</td>\n",
       "      <td>0</td>\n",
       "      <td>0</td>\n",
       "      <td>0</td>\n",
       "      <td>1</td>\n",
       "      <td>0</td>\n",
       "      <td>1</td>\n",
       "      <td>0</td>\n",
       "      <td>1</td>\n",
       "      <td>0</td>\n",
       "      <td>1</td>\n",
       "      <td>0</td>\n",
       "      <td>1</td>\n",
       "      <td>0</td>\n",
       "    </tr>\n",
       "    <tr>\n",
       "      <th>3</th>\n",
       "      <td>0</td>\n",
       "      <td>1</td>\n",
       "      <td>0</td>\n",
       "      <td>30</td>\n",
       "      <td>25</td>\n",
       "      <td>5</td>\n",
       "      <td>35</td>\n",
       "      <td>0</td>\n",
       "      <td>1</td>\n",
       "      <td>0</td>\n",
       "      <td>0</td>\n",
       "      <td>0</td>\n",
       "      <td>0</td>\n",
       "      <td>1</td>\n",
       "      <td>0</td>\n",
       "      <td>0</td>\n",
       "      <td>0</td>\n",
       "      <td>0</td>\n",
       "      <td>0</td>\n",
       "      <td>0</td>\n",
       "      <td>0</td>\n",
       "      <td>0</td>\n",
       "      <td>0</td>\n",
       "      <td>0</td>\n",
       "      <td>0</td>\n",
       "      <td>0</td>\n",
       "      <td>0</td>\n",
       "      <td>0</td>\n",
       "      <td>0</td>\n",
       "      <td>0</td>\n",
       "      <td>1</td>\n",
       "      <td>0</td>\n",
       "      <td>0</td>\n",
       "      <td>0</td>\n",
       "      <td>0</td>\n",
       "      <td>1</td>\n",
       "      <td>0</td>\n",
       "      <td>1</td>\n",
       "      <td>0</td>\n",
       "      <td>1</td>\n",
       "      <td>0</td>\n",
       "      <td>1</td>\n",
       "      <td>0</td>\n",
       "      <td>1</td>\n",
       "      <td>0</td>\n",
       "    </tr>\n",
       "    <tr>\n",
       "      <th>4</th>\n",
       "      <td>0</td>\n",
       "      <td>1</td>\n",
       "      <td>0</td>\n",
       "      <td>40</td>\n",
       "      <td>50</td>\n",
       "      <td>12</td>\n",
       "      <td>50</td>\n",
       "      <td>0</td>\n",
       "      <td>1</td>\n",
       "      <td>0</td>\n",
       "      <td>0</td>\n",
       "      <td>0</td>\n",
       "      <td>0</td>\n",
       "      <td>1</td>\n",
       "      <td>0</td>\n",
       "      <td>0</td>\n",
       "      <td>0</td>\n",
       "      <td>0</td>\n",
       "      <td>0</td>\n",
       "      <td>0</td>\n",
       "      <td>0</td>\n",
       "      <td>0</td>\n",
       "      <td>0</td>\n",
       "      <td>0</td>\n",
       "      <td>0</td>\n",
       "      <td>0</td>\n",
       "      <td>0</td>\n",
       "      <td>0</td>\n",
       "      <td>0</td>\n",
       "      <td>0</td>\n",
       "      <td>1</td>\n",
       "      <td>0</td>\n",
       "      <td>0</td>\n",
       "      <td>0</td>\n",
       "      <td>0</td>\n",
       "      <td>1</td>\n",
       "      <td>0</td>\n",
       "      <td>1</td>\n",
       "      <td>0</td>\n",
       "      <td>1</td>\n",
       "      <td>0</td>\n",
       "      <td>1</td>\n",
       "      <td>0</td>\n",
       "      <td>1</td>\n",
       "      <td>0</td>\n",
       "    </tr>\n",
       "  </tbody>\n",
       "</table>\n",
       "</div>"
      ],
      "text/plain": [
       "   StageID             ...              StudentAbsenceDays_Under-7\n",
       "0        0             ...                                       1\n",
       "1        0             ...                                       1\n",
       "2        0             ...                                       0\n",
       "3        0             ...                                       0\n",
       "4        0             ...                                       0\n",
       "\n",
       "[5 rows x 45 columns]"
      ]
     },
     "execution_count": 24,
     "metadata": {},
     "output_type": "execute_result"
    }
   ],
   "source": [
    "features = pd.get_dummies(features)\n",
    "features.head()"
   ]
  },
  {
   "cell_type": "code",
   "execution_count": 25,
   "metadata": {
    "_uuid": "b4c9d3dd90c93f497a23816538a57a3ae143850b",
    "collapsed": true
   },
   "outputs": [],
   "source": [
    "from  scipy.stats  import chisquare\n",
    "\n",
    "result = pd.DataFrame(columns=[\"Features\", \"Chi2Weights\"])\n",
    "\n",
    "for i in range(len(features.columns)):\n",
    "    chi2, p = chisquare(features[features.columns[i]])\n",
    "    result = result.append([pd.Series([features.columns[i], chi2], index = result.columns)], ignore_index=True)\n",
    "\n",
    "result = result.sort_values(by=\"Chi2Weights\", ascending=False)"
   ]
  },
  {
   "cell_type": "code",
   "execution_count": 26,
   "metadata": {
    "_uuid": "7ec9ca41af5a60755d0ca2a32867e4eea3f37d7f"
   },
   "outputs": [
    {
     "data": {
      "text/html": [
       "<div>\n",
       "<style scoped>\n",
       "    .dataframe tbody tr th:only-of-type {\n",
       "        vertical-align: middle;\n",
       "    }\n",
       "\n",
       "    .dataframe tbody tr th {\n",
       "        vertical-align: top;\n",
       "    }\n",
       "\n",
       "    .dataframe thead th {\n",
       "        text-align: right;\n",
       "    }\n",
       "</style>\n",
       "<table border=\"1\" class=\"dataframe\">\n",
       "  <thead>\n",
       "    <tr style=\"text-align: right;\">\n",
       "      <th></th>\n",
       "      <th>Features</th>\n",
       "      <th>Chi2Weights</th>\n",
       "    </tr>\n",
       "  </thead>\n",
       "  <tbody>\n",
       "    <tr>\n",
       "      <th>3</th>\n",
       "      <td>raisedhands</td>\n",
       "      <td>9701.458044</td>\n",
       "    </tr>\n",
       "    <tr>\n",
       "      <th>4</th>\n",
       "      <td>VisITedResources</td>\n",
       "      <td>9565.389157</td>\n",
       "    </tr>\n",
       "    <tr>\n",
       "      <th>5</th>\n",
       "      <td>AnnouncementsView</td>\n",
       "      <td>8945.649085</td>\n",
       "    </tr>\n",
       "    <tr>\n",
       "      <th>6</th>\n",
       "      <td>Discussion</td>\n",
       "      <td>8453.172122</td>\n",
       "    </tr>\n",
       "    <tr>\n",
       "      <th>1</th>\n",
       "      <td>GradeID</td>\n",
       "      <td>1000.870968</td>\n",
       "    </tr>\n",
       "    <tr>\n",
       "      <th>22</th>\n",
       "      <td>NationalITy_venzuela</td>\n",
       "      <td>479.000000</td>\n",
       "    </tr>\n",
       "    <tr>\n",
       "      <th>15</th>\n",
       "      <td>NationalITy_Morocco</td>\n",
       "      <td>476.000000</td>\n",
       "    </tr>\n",
       "    <tr>\n",
       "      <th>10</th>\n",
       "      <td>NationalITy_Iran</td>\n",
       "      <td>474.000000</td>\n",
       "    </tr>\n",
       "    <tr>\n",
       "      <th>14</th>\n",
       "      <td>NationalITy_Lybia</td>\n",
       "      <td>474.000000</td>\n",
       "    </tr>\n",
       "    <tr>\n",
       "      <th>20</th>\n",
       "      <td>NationalITy_USA</td>\n",
       "      <td>474.000000</td>\n",
       "    </tr>\n",
       "  </tbody>\n",
       "</table>\n",
       "</div>"
      ],
      "text/plain": [
       "                Features  Chi2Weights\n",
       "3            raisedhands  9701.458044\n",
       "4       VisITedResources  9565.389157\n",
       "5      AnnouncementsView  8945.649085\n",
       "6             Discussion  8453.172122\n",
       "1                GradeID  1000.870968\n",
       "22  NationalITy_venzuela   479.000000\n",
       "15   NationalITy_Morocco   476.000000\n",
       "10      NationalITy_Iran   474.000000\n",
       "14     NationalITy_Lybia   474.000000\n",
       "20       NationalITy_USA   474.000000"
      ]
     },
     "execution_count": 26,
     "metadata": {},
     "output_type": "execute_result"
    }
   ],
   "source": [
    "result.head(10)"
   ]
  },
  {
   "cell_type": "code",
   "execution_count": 27,
   "metadata": {
    "_uuid": "ea1f439e36c56c4b94e7d867df46cb7eae9379ce",
    "collapsed": true
   },
   "outputs": [],
   "source": [
    "X = features\n",
    "features_train, features_test, labels_train, labels_test = train_test_split(X, y, test_size = .20, random_state=0)"
   ]
  },
  {
   "cell_type": "code",
   "execution_count": 28,
   "metadata": {
    "_uuid": "6c18a5648c307ffeebb7aa303087203b093a7765"
   },
   "outputs": [
    {
     "data": {
      "text/plain": [
       "0.7916666666666666"
      ]
     },
     "execution_count": 28,
     "metadata": {},
     "output_type": "execute_result"
    }
   ],
   "source": [
    "# model build with SVM.SVC classifier\n",
    "\n",
    "clf = SVC(C=0.7, kernel = 'linear')\n",
    "clf.fit(features_train, labels_train)\n",
    "pred = clf.predict(features_test)\n",
    "accuracy_score(pred, labels_test)"
   ]
  },
  {
   "cell_type": "code",
   "execution_count": 29,
   "metadata": {
    "_uuid": "229c3169146797a722b25ac41d21fe4bd7126783"
   },
   "outputs": [
    {
     "data": {
      "text/plain": [
       "0.84375"
      ]
     },
     "execution_count": 29,
     "metadata": {},
     "output_type": "execute_result"
    }
   ],
   "source": [
    "clf = RandomForestClassifier(n_estimators = 100, random_state=42)\n",
    "clf.fit(features_train, labels_train)\n",
    "pred = clf.predict(features_test)\n",
    "rfc_pred = pred\n",
    "accuracy_score(pred, labels_test)"
   ]
  },
  {
   "cell_type": "code",
   "execution_count": 30,
   "metadata": {
    "_uuid": "abbada2290185e83b83046132b4efc8ee236e9b0"
   },
   "outputs": [
    {
     "data": {
      "text/plain": [
       "0.7395833333333334"
      ]
     },
     "execution_count": 30,
     "metadata": {},
     "output_type": "execute_result"
    }
   ],
   "source": [
    "clf = MLPClassifier(solver='lbfgs', alpha=0.00001, hidden_layer_sizes=(40,40,40), random_state=120)\n",
    "clf.fit(features_train, labels_train)\n",
    "pred = clf.predict(features_test)\n",
    "accuracy_score(pred, labels_test)"
   ]
  },
  {
   "cell_type": "code",
   "execution_count": 31,
   "metadata": {
    "_uuid": "cb041051737e5af05947ee799bc16b81409abbd7"
   },
   "outputs": [
    {
     "data": {
      "text/plain": [
       "0.84375"
      ]
     },
     "execution_count": 31,
     "metadata": {},
     "output_type": "execute_result"
    }
   ],
   "source": [
    "clf = XGBClassifier(max_depth=5, learning_rate=0.2, n_estimators=20, seed=0)\n",
    "clf.fit(features_train, labels_train)\n",
    "pred = clf.predict(features_test)\n",
    "xgb_pred = pred\n",
    "accuracy_score(pred, labels_test)"
   ]
  },
  {
   "cell_type": "code",
   "execution_count": 32,
   "metadata": {
    "_uuid": "3813cfbd0f7a6d7fb46e75385e9585243b6dffa3"
   },
   "outputs": [
    {
     "data": {
      "text/plain": [
       "<matplotlib.axes._subplots.AxesSubplot at 0x7f56c7a7e438>"
      ]
     },
     "execution_count": 32,
     "metadata": {},
     "output_type": "execute_result"
    },
    {
     "data": {
      "image/png": "[encoded data removed]",
      "text/plain": [
       "<matplotlib.figure.Figure at 0x7f56e9fc67b8>"
      ]
     },
     "metadata": {},
     "output_type": "display_data"
    }
   ],
   "source": [
    "fig, ax = plt.subplots(figsize=(12,6))\n",
    "plot_importance(clf, ax = ax)"
   ]
  },
  {
   "cell_type": "code",
   "execution_count": 33,
   "metadata": {
    "_uuid": "36f3c0b7131b595d837ec15bd0c6fddd87cc848a"
   },
   "outputs": [
    {
     "data": {
      "text/plain": [
       "array([[38,  1],\n",
       "       [ 0, 23]])"
      ]
     },
     "execution_count": 33,
     "metadata": {},
     "output_type": "execute_result"
    }
   ],
   "source": [
    "# Random Forest Classifier confustion Matrix result\n",
    "confusion_matrix(labels_test, rfc_pred, labels=[1, 0]) "
   ]
  },
  {
   "cell_type": "code",
   "execution_count": 34,
   "metadata": {
    "_uuid": "ee252b3a3e671ab72195dbbbae2160ce84aa05b0",
    "scrolled": true
   },
   "outputs": [
    {
     "data": {
      "text/plain": [
       "array([[38,  2],\n",
       "       [ 0, 23]])"
      ]
     },
     "execution_count": 34,
     "metadata": {},
     "output_type": "execute_result"
    }
   ],
   "source": [
    "# XGBoost Classifier confusion matric result\n",
    "confusion_matrix(labels_test, xgb_pred, labels=[1, 0]) "
   ]
  },
  {
   "cell_type": "markdown",
   "metadata": {
    "_uuid": "2883f631f7460e9647033cd556861ad15cb0faca"
   },
   "source": [
    "### Till now highest Accuracy: 84.3%"
   ]
  },
  {
   "cell_type": "markdown",
   "metadata": {
    "_uuid": "4b5e94e562bb4bbe87a0ab19376fe5a651dcb507"
   },
   "source": [
    "## Feature Scaling"
   ]
  },
  {
   "cell_type": "code",
   "execution_count": 35,
   "metadata": {
    "_uuid": "36e61713091bd62f0e34f59398478c3ccda2694f"
   },
   "outputs": [
    {
     "name": "stderr",
     "output_type": "stream",
     "text": [
      "/opt/conda/lib/python3.6/site-packages/sklearn/preprocessing/data.py:322: DataConversionWarning: Data with input dtype int64 were all converted to float64 by MinMaxScaler.\n",
      "  return self.partial_fit(X, y)\n"
     ]
    }
   ],
   "source": [
    "scaler  =  MinMaxScaler() \n",
    "\n",
    "bumpy_features = [\"raisedhands\", \"VisITedResources\", \"AnnouncementsView\",'Discussion']\n",
    "\n",
    "df_scaled = pd.DataFrame(data = X)\n",
    "df_scaled[bumpy_features] = scaler.fit_transform(X[bumpy_features])"
   ]
  },
  {
   "cell_type": "code",
   "execution_count": 36,
   "metadata": {
    "_uuid": "9c1b99fd5fa4028ba502ba3e79bb6ddc4d62ff2a"
   },
   "outputs": [
    {
     "data": {
      "text/html": [
       "<div>\n",
       "<style scoped>\n",
       "    .dataframe tbody tr th:only-of-type {\n",
       "        vertical-align: middle;\n",
       "    }\n",
       "\n",
       "    .dataframe tbody tr th {\n",
       "        vertical-align: top;\n",
       "    }\n",
       "\n",
       "    .dataframe thead th {\n",
       "        text-align: right;\n",
       "    }\n",
       "</style>\n",
       "<table border=\"1\" class=\"dataframe\">\n",
       "  <thead>\n",
       "    <tr style=\"text-align: right;\">\n",
       "      <th></th>\n",
       "      <th>StageID</th>\n",
       "      <th>GradeID</th>\n",
       "      <th>SectionID</th>\n",
       "      <th>raisedhands</th>\n",
       "      <th>VisITedResources</th>\n",
       "      <th>AnnouncementsView</th>\n",
       "      <th>Discussion</th>\n",
       "      <th>gender_F</th>\n",
       "      <th>gender_M</th>\n",
       "      <th>NationalITy_Egypt</th>\n",
       "      <th>NationalITy_Iran</th>\n",
       "      <th>NationalITy_Iraq</th>\n",
       "      <th>NationalITy_Jordan</th>\n",
       "      <th>NationalITy_KW</th>\n",
       "      <th>NationalITy_Lybia</th>\n",
       "      <th>NationalITy_Morocco</th>\n",
       "      <th>NationalITy_Palestine</th>\n",
       "      <th>NationalITy_SaudiArabia</th>\n",
       "      <th>NationalITy_Syria</th>\n",
       "      <th>NationalITy_Tunis</th>\n",
       "      <th>NationalITy_USA</th>\n",
       "      <th>NationalITy_lebanon</th>\n",
       "      <th>NationalITy_venzuela</th>\n",
       "      <th>Topic_Arabic</th>\n",
       "      <th>Topic_Biology</th>\n",
       "      <th>Topic_Chemistry</th>\n",
       "      <th>Topic_English</th>\n",
       "      <th>Topic_French</th>\n",
       "      <th>Topic_Geology</th>\n",
       "      <th>Topic_History</th>\n",
       "      <th>Topic_IT</th>\n",
       "      <th>Topic_Math</th>\n",
       "      <th>Topic_Quran</th>\n",
       "      <th>Topic_Science</th>\n",
       "      <th>Topic_Spanish</th>\n",
       "      <th>Semester_F</th>\n",
       "      <th>Semester_S</th>\n",
       "      <th>Relation_Father</th>\n",
       "      <th>Relation_Mum</th>\n",
       "      <th>ParentAnsweringSurvey_No</th>\n",
       "      <th>ParentAnsweringSurvey_Yes</th>\n",
       "      <th>ParentschoolSatisfaction_Bad</th>\n",
       "      <th>ParentschoolSatisfaction_Good</th>\n",
       "      <th>StudentAbsenceDays_Above-7</th>\n",
       "      <th>StudentAbsenceDays_Under-7</th>\n",
       "    </tr>\n",
       "  </thead>\n",
       "  <tbody>\n",
       "    <tr>\n",
       "      <th>0</th>\n",
       "      <td>0</td>\n",
       "      <td>1</td>\n",
       "      <td>0</td>\n",
       "      <td>0.15</td>\n",
       "      <td>0.161616</td>\n",
       "      <td>0.020408</td>\n",
       "      <td>0.193878</td>\n",
       "      <td>0</td>\n",
       "      <td>1</td>\n",
       "      <td>0</td>\n",
       "      <td>0</td>\n",
       "      <td>0</td>\n",
       "      <td>0</td>\n",
       "      <td>1</td>\n",
       "      <td>0</td>\n",
       "      <td>0</td>\n",
       "      <td>0</td>\n",
       "      <td>0</td>\n",
       "      <td>0</td>\n",
       "      <td>0</td>\n",
       "      <td>0</td>\n",
       "      <td>0</td>\n",
       "      <td>0</td>\n",
       "      <td>0</td>\n",
       "      <td>0</td>\n",
       "      <td>0</td>\n",
       "      <td>0</td>\n",
       "      <td>0</td>\n",
       "      <td>0</td>\n",
       "      <td>0</td>\n",
       "      <td>1</td>\n",
       "      <td>0</td>\n",
       "      <td>0</td>\n",
       "      <td>0</td>\n",
       "      <td>0</td>\n",
       "      <td>1</td>\n",
       "      <td>0</td>\n",
       "      <td>1</td>\n",
       "      <td>0</td>\n",
       "      <td>0</td>\n",
       "      <td>1</td>\n",
       "      <td>0</td>\n",
       "      <td>1</td>\n",
       "      <td>0</td>\n",
       "      <td>1</td>\n",
       "    </tr>\n",
       "    <tr>\n",
       "      <th>1</th>\n",
       "      <td>0</td>\n",
       "      <td>1</td>\n",
       "      <td>0</td>\n",
       "      <td>0.20</td>\n",
       "      <td>0.202020</td>\n",
       "      <td>0.030612</td>\n",
       "      <td>0.244898</td>\n",
       "      <td>0</td>\n",
       "      <td>1</td>\n",
       "      <td>0</td>\n",
       "      <td>0</td>\n",
       "      <td>0</td>\n",
       "      <td>0</td>\n",
       "      <td>1</td>\n",
       "      <td>0</td>\n",
       "      <td>0</td>\n",
       "      <td>0</td>\n",
       "      <td>0</td>\n",
       "      <td>0</td>\n",
       "      <td>0</td>\n",
       "      <td>0</td>\n",
       "      <td>0</td>\n",
       "      <td>0</td>\n",
       "      <td>0</td>\n",
       "      <td>0</td>\n",
       "      <td>0</td>\n",
       "      <td>0</td>\n",
       "      <td>0</td>\n",
       "      <td>0</td>\n",
       "      <td>0</td>\n",
       "      <td>1</td>\n",
       "      <td>0</td>\n",
       "      <td>0</td>\n",
       "      <td>0</td>\n",
       "      <td>0</td>\n",
       "      <td>1</td>\n",
       "      <td>0</td>\n",
       "      <td>1</td>\n",
       "      <td>0</td>\n",
       "      <td>0</td>\n",
       "      <td>1</td>\n",
       "      <td>0</td>\n",
       "      <td>1</td>\n",
       "      <td>0</td>\n",
       "      <td>1</td>\n",
       "    </tr>\n",
       "    <tr>\n",
       "      <th>2</th>\n",
       "      <td>0</td>\n",
       "      <td>1</td>\n",
       "      <td>0</td>\n",
       "      <td>0.10</td>\n",
       "      <td>0.070707</td>\n",
       "      <td>0.000000</td>\n",
       "      <td>0.295918</td>\n",
       "      <td>0</td>\n",
       "      <td>1</td>\n",
       "      <td>0</td>\n",
       "      <td>0</td>\n",
       "      <td>0</td>\n",
       "      <td>0</td>\n",
       "      <td>1</td>\n",
       "      <td>0</td>\n",
       "      <td>0</td>\n",
       "      <td>0</td>\n",
       "      <td>0</td>\n",
       "      <td>0</td>\n",
       "      <td>0</td>\n",
       "      <td>0</td>\n",
       "      <td>0</td>\n",
       "      <td>0</td>\n",
       "      <td>0</td>\n",
       "      <td>0</td>\n",
       "      <td>0</td>\n",
       "      <td>0</td>\n",
       "      <td>0</td>\n",
       "      <td>0</td>\n",
       "      <td>0</td>\n",
       "      <td>1</td>\n",
       "      <td>0</td>\n",
       "      <td>0</td>\n",
       "      <td>0</td>\n",
       "      <td>0</td>\n",
       "      <td>1</td>\n",
       "      <td>0</td>\n",
       "      <td>1</td>\n",
       "      <td>0</td>\n",
       "      <td>1</td>\n",
       "      <td>0</td>\n",
       "      <td>1</td>\n",
       "      <td>0</td>\n",
       "      <td>1</td>\n",
       "      <td>0</td>\n",
       "    </tr>\n",
       "    <tr>\n",
       "      <th>3</th>\n",
       "      <td>0</td>\n",
       "      <td>1</td>\n",
       "      <td>0</td>\n",
       "      <td>0.30</td>\n",
       "      <td>0.252525</td>\n",
       "      <td>0.051020</td>\n",
       "      <td>0.346939</td>\n",
       "      <td>0</td>\n",
       "      <td>1</td>\n",
       "      <td>0</td>\n",
       "      <td>0</td>\n",
       "      <td>0</td>\n",
       "      <td>0</td>\n",
       "      <td>1</td>\n",
       "      <td>0</td>\n",
       "      <td>0</td>\n",
       "      <td>0</td>\n",
       "      <td>0</td>\n",
       "      <td>0</td>\n",
       "      <td>0</td>\n",
       "      <td>0</td>\n",
       "      <td>0</td>\n",
       "      <td>0</td>\n",
       "      <td>0</td>\n",
       "      <td>0</td>\n",
       "      <td>0</td>\n",
       "      <td>0</td>\n",
       "      <td>0</td>\n",
       "      <td>0</td>\n",
       "      <td>0</td>\n",
       "      <td>1</td>\n",
       "      <td>0</td>\n",
       "      <td>0</td>\n",
       "      <td>0</td>\n",
       "      <td>0</td>\n",
       "      <td>1</td>\n",
       "      <td>0</td>\n",
       "      <td>1</td>\n",
       "      <td>0</td>\n",
       "      <td>1</td>\n",
       "      <td>0</td>\n",
       "      <td>1</td>\n",
       "      <td>0</td>\n",
       "      <td>1</td>\n",
       "      <td>0</td>\n",
       "    </tr>\n",
       "    <tr>\n",
       "      <th>4</th>\n",
       "      <td>0</td>\n",
       "      <td>1</td>\n",
       "      <td>0</td>\n",
       "      <td>0.40</td>\n",
       "      <td>0.505051</td>\n",
       "      <td>0.122449</td>\n",
       "      <td>0.500000</td>\n",
       "      <td>0</td>\n",
       "      <td>1</td>\n",
       "      <td>0</td>\n",
       "      <td>0</td>\n",
       "      <td>0</td>\n",
       "      <td>0</td>\n",
       "      <td>1</td>\n",
       "      <td>0</td>\n",
       "      <td>0</td>\n",
       "      <td>0</td>\n",
       "      <td>0</td>\n",
       "      <td>0</td>\n",
       "      <td>0</td>\n",
       "      <td>0</td>\n",
       "      <td>0</td>\n",
       "      <td>0</td>\n",
       "      <td>0</td>\n",
       "      <td>0</td>\n",
       "      <td>0</td>\n",
       "      <td>0</td>\n",
       "      <td>0</td>\n",
       "      <td>0</td>\n",
       "      <td>0</td>\n",
       "      <td>1</td>\n",
       "      <td>0</td>\n",
       "      <td>0</td>\n",
       "      <td>0</td>\n",
       "      <td>0</td>\n",
       "      <td>1</td>\n",
       "      <td>0</td>\n",
       "      <td>1</td>\n",
       "      <td>0</td>\n",
       "      <td>1</td>\n",
       "      <td>0</td>\n",
       "      <td>1</td>\n",
       "      <td>0</td>\n",
       "      <td>1</td>\n",
       "      <td>0</td>\n",
       "    </tr>\n",
       "  </tbody>\n",
       "</table>\n",
       "</div>"
      ],
      "text/plain": [
       "   StageID             ...              StudentAbsenceDays_Under-7\n",
       "0        0             ...                                       1\n",
       "1        0             ...                                       1\n",
       "2        0             ...                                       0\n",
       "3        0             ...                                       0\n",
       "4        0             ...                                       0\n",
       "\n",
       "[5 rows x 45 columns]"
      ]
     },
     "execution_count": 36,
     "metadata": {},
     "output_type": "execute_result"
    }
   ],
   "source": [
    "df_scaled.head()"
   ]
  },
  {
   "cell_type": "markdown",
   "metadata": {
    "_uuid": "3eb192277534d2181d76c62265cecab37383ecfd"
   },
   "source": [
    "## Over Sampling"
   ]
  },
  {
   "cell_type": "code",
   "execution_count": 37,
   "metadata": {
    "_uuid": "e08ff640a894853e30fb0104a9c06ed908fd0668",
    "collapsed": true
   },
   "outputs": [],
   "source": [
    "X = df_scaled\n",
    "sm  = SMOTE(random_state=7)\n",
    "X_res, y_res = sm.fit_sample(X, y)\n",
    "X_train, X_test, y_train, y_test = train_test_split(X_res, y_res, test_size= 0.15, random_state=7)"
   ]
  },
  {
   "cell_type": "code",
   "execution_count": 38,
   "metadata": {
    "_uuid": "4219bf4f4444c88e2e6f5a67389c1ec7f7fd506e"
   },
   "outputs": [
    {
     "name": "stdout",
     "output_type": "stream",
     "text": [
      "Accuracy: 0.8842105263157894\n",
      "Precision: 0.8833082706766917\n",
      "Recall: 0.8842105263157894\n",
      "F1: 0.8827135304528188\n"
     ]
    }
   ],
   "source": [
    "clf  =  XGBClassifier(max_depth = 10,random_state = 7, n_estimators=100, eval_metric = 'auc', min_child_weight = 3,\n",
    "                    colsample_bytree = 0.75, subsample= 0.8)\n",
    "clf.fit(X_train, y_train)\n",
    "\n",
    "y_pred = clf.predict(X_test)\n",
    "print(\"Accuracy:\", accuracy_score(y_test, y_pred))\n",
    "print(\"Precision:\", precision_score(y_test, y_pred, average=\"weighted\"))\n",
    "print(\"Recall:\", recall_score(y_test, y_pred,  average=\"weighted\"))\n",
    "print(\"F1:\", f1_score(y_test, y_pred, average=\"weighted\"))"
   ]
  },
  {
   "cell_type": "code",
   "execution_count": 39,
   "metadata": {
    "_uuid": "f9065855b7bcc8cc3332d8fcd7f8b3b3a11d64af"
   },
   "outputs": [
    {
     "data": {
      "text/plain": [
       "array([[26,  3],\n",
       "       [ 1, 27]])"
      ]
     },
     "execution_count": 39,
     "metadata": {},
     "output_type": "execute_result"
    }
   ],
   "source": [
    "confusion_matrix(y_test, y_pred, labels=[1, 0]) "
   ]
  },
  {
   "cell_type": "markdown",
   "metadata": {
    "_uuid": "79850d73717a1d19be1f6655c78e4e25c32dad95"
   },
   "source": [
    "## Final Accuracy using ML classifier: 88.42%"
   ]
  },
  {
   "cell_type": "code",
   "execution_count": 40,
   "metadata": {
    "_uuid": "800d9f0fb3c44e4bd7eadcce5d0823a88eb10cad"
   },
   "outputs": [
    {
     "data": {
      "text/plain": [
       "<matplotlib.axes._subplots.AxesSubplot at 0x7f56c7930da0>"
      ]
     },
     "execution_count": 40,
     "metadata": {},
     "output_type": "execute_result"
    },
    {
     "data": {
      "image/png": "[encoded data removed]",
      "text/plain": [
       "<matplotlib.figure.Figure at 0x7f56c796e9e8>"
      ]
     },
     "metadata": {},
     "output_type": "display_data"
    }
   ],
   "source": [
    "fig, ax = plt.subplots(figsize = (20, 10))\n",
    "sns.heatmap(X.corr())"
   ]
  },
  {
   "cell_type": "markdown",
   "metadata": {
    "_uuid": "d179b38204c51a0c699f56d6ba544b425e510c2b"
   },
   "source": [
    "## Applying DL approach"
   ]
  },
  {
   "cell_type": "code",
   "execution_count": 41,
   "metadata": {
    "_uuid": "4e5bbbdfcaa20cf970676b35799556217edfd2b3"
   },
   "outputs": [
    {
     "data": {
      "text/html": [
       "<div>\n",
       "<style scoped>\n",
       "    .dataframe tbody tr th:only-of-type {\n",
       "        vertical-align: middle;\n",
       "    }\n",
       "\n",
       "    .dataframe tbody tr th {\n",
       "        vertical-align: top;\n",
       "    }\n",
       "\n",
       "    .dataframe thead th {\n",
       "        text-align: right;\n",
       "    }\n",
       "</style>\n",
       "<table border=\"1\" class=\"dataframe\">\n",
       "  <thead>\n",
       "    <tr style=\"text-align: right;\">\n",
       "      <th></th>\n",
       "      <th>H</th>\n",
       "      <th>L</th>\n",
       "      <th>M</th>\n",
       "    </tr>\n",
       "  </thead>\n",
       "  <tbody>\n",
       "    <tr>\n",
       "      <th>0</th>\n",
       "      <td>0</td>\n",
       "      <td>0</td>\n",
       "      <td>1</td>\n",
       "    </tr>\n",
       "    <tr>\n",
       "      <th>1</th>\n",
       "      <td>0</td>\n",
       "      <td>0</td>\n",
       "      <td>1</td>\n",
       "    </tr>\n",
       "    <tr>\n",
       "      <th>2</th>\n",
       "      <td>0</td>\n",
       "      <td>1</td>\n",
       "      <td>0</td>\n",
       "    </tr>\n",
       "    <tr>\n",
       "      <th>3</th>\n",
       "      <td>0</td>\n",
       "      <td>1</td>\n",
       "      <td>0</td>\n",
       "    </tr>\n",
       "    <tr>\n",
       "      <th>4</th>\n",
       "      <td>0</td>\n",
       "      <td>0</td>\n",
       "      <td>1</td>\n",
       "    </tr>\n",
       "  </tbody>\n",
       "</table>\n",
       "</div>"
      ],
      "text/plain": [
       "   H  L  M\n",
       "0  0  0  1\n",
       "1  0  0  1\n",
       "2  0  1  0\n",
       "3  0  1  0\n",
       "4  0  0  1"
      ]
     },
     "execution_count": 41,
     "metadata": {},
     "output_type": "execute_result"
    }
   ],
   "source": [
    "y = dataset[\"Class\"]\n",
    "y = pd.get_dummies(y)\n",
    "y.head()"
   ]
  },
  {
   "cell_type": "code",
   "execution_count": 42,
   "metadata": {
    "_uuid": "3f8158f37cf641ef9519a4e86847622c915e2290",
    "collapsed": true
   },
   "outputs": [],
   "source": [
    "train_x, test_x, train_y, test_y = train_test_split(X, y, test_size=0.1, random_state=7)\n",
    "\n",
    "learning_rate = 0.3\n",
    "trainning_epochs = 1000\n",
    "cost_history = np.empty(shape=[1], dtype=float)\n",
    "n_dim = X.shape[1]\n",
    "\n",
    "n_class = 3\n",
    "model_path = \"model\""
   ]
  },
  {
   "cell_type": "code",
   "execution_count": 43,
   "metadata": {
    "_uuid": "ef75de7f44ad3a76d73cbacb7fcfa1125be3da57",
    "collapsed": true
   },
   "outputs": [],
   "source": [
    "n_hidden_1 = 60\n",
    "n_hidden_2 = 60\n",
    "n_hidden_3 = 60\n",
    "n_hidden_4 = 60"
   ]
  },
  {
   "cell_type": "code",
   "execution_count": 44,
   "metadata": {
    "_uuid": "d042f695966bbf2130f1938492a2355654715325",
    "collapsed": true
   },
   "outputs": [],
   "source": [
    "x = tf.placeholder(tf.float32, [None, n_dim])\n",
    "w = tf.Variable(tf.zeros([n_dim, n_class]))\n",
    "b = tf.Variable(tf.zeros(n_class))\n",
    "y_ = tf.placeholder(tf.float32, [None, n_class])"
   ]
  },
  {
   "cell_type": "code",
   "execution_count": 45,
   "metadata": {
    "_uuid": "927b1734c6cd19a5c19199cdc0a7f121ad6e144e",
    "collapsed": true
   },
   "outputs": [],
   "source": [
    "weights = {\n",
    "    \"h1\" : tf.Variable(tf.truncated_normal([n_dim, n_hidden_1])),\n",
    "    \"h2\" : tf.Variable(tf.truncated_normal([n_hidden_1, n_hidden_2])),\n",
    "    \"h3\" : tf.Variable(tf.truncated_normal([n_hidden_2, n_hidden_3])),\n",
    "    \"h4\" : tf.Variable(tf.truncated_normal([n_hidden_3, n_hidden_4])),\n",
    "    \"out\" : tf.Variable(tf.truncated_normal([n_hidden_4, n_class]))\n",
    "}\n",
    "\n",
    "biases = {\n",
    "    \"b1\" :  tf.Variable(tf.truncated_normal([n_hidden_1])),\n",
    "    \"b2\" :  tf.Variable(tf.truncated_normal([n_hidden_2])),\n",
    "    \"b3\" :  tf.Variable(tf.truncated_normal([n_hidden_3])),\n",
    "    \"b4\" :  tf.Variable(tf.truncated_normal([n_hidden_4])),\n",
    "    \"out\" :  tf.Variable(tf.truncated_normal([n_class]))\n",
    "}"
   ]
  },
  {
   "cell_type": "code",
   "execution_count": 46,
   "metadata": {
    "_uuid": "466bda27230d727c8ee550267a3f2e13afa8da70",
    "collapsed": true
   },
   "outputs": [],
   "source": [
    "def multilayer_perceptron(x, weights, biases):\n",
    "    \n",
    "    # hidden layer with \"relu\" activation\n",
    "    layer_1 = tf.add(tf.matmul(x, weights[\"h1\"]), biases[\"b1\"])\n",
    "    layer_1 = tf.nn.sigmoid(layer_1)\n",
    "    \n",
    "    # hidden layer with \"sigmoid\" activation\n",
    "    layer_2 = tf.add(tf.matmul(layer_1, weights[\"h2\"]), biases[\"b2\"])\n",
    "    layer_2 = tf.nn.sigmoid(layer_2)\n",
    "    \n",
    "    # hidden layer with \"sigmoid\" activation\n",
    "    layer_3 = tf.add(tf.matmul(layer_2, weights[\"h3\"]), biases[\"b3\"])\n",
    "    layer_3 = tf.nn.sigmoid(layer_3)\n",
    "    \n",
    "    # hidden layer with \"relu\" activation\n",
    "    layer_4 = tf.add(tf.matmul(layer_3, weights[\"h4\"]), biases[\"b4\"])\n",
    "    layer_4 = tf.nn.relu(layer_4)\n",
    "    \n",
    "    out_layer = tf.matmul(layer_4, weights[\"out\"]) + biases[\"out\"]\n",
    "    \n",
    "    return out_layer"
   ]
  },
  {
   "cell_type": "code",
   "execution_count": 47,
   "metadata": {
    "_uuid": "435765549ffc83348c5eeed66c16b01733981d62",
    "collapsed": true
   },
   "outputs": [],
   "source": [
    "init = tf.global_variables_initializer()\n",
    "saver = tf.train.Saver()\n",
    "y = multilayer_perceptron(x, weights, biases)\n",
    "\n",
    "cost_function = tf.reduce_mean(tf.nn.softmax_cross_entropy_with_logits(logits = y , labels = y_))\n",
    "training_step = tf.train.GradientDescentOptimizer(learning_rate).minimize(cost_function)"
   ]
  },
  {
   "cell_type": "code",
   "execution_count": 48,
   "metadata": {
    "_uuid": "8a3e35d03a3226baf099f183d721cd3a0526ea46",
    "collapsed": true
   },
   "outputs": [],
   "source": [
    "sess = tf.Session()\n",
    "sess.run(init)"
   ]
  },
  {
   "cell_type": "code",
   "execution_count": 49,
   "metadata": {
    "_uuid": "2cd2d83ff3a67c27ead1063ff3c0b203003f5367"
   },
   "outputs": [
    {
     "name": "stdout",
     "output_type": "stream",
     "text": [
      "epoch:  0 - cost:  40.304234 - MSE:  1266.7311 - Training Accuracy:  0.30092594\n",
      "epoch:  1 - cost:  28.441494 - MSE:  491.12186 - Training Accuracy:  0.25925925\n",
      "epoch:  2 - cost:  5.639307 - MSE:  69.554565 - Training Accuracy:  0.4351852\n",
      "epoch:  3 - cost:  13.750203 - MSE:  96.41049 - Training Accuracy:  0.30092594\n",
      "epoch:  4 - cost:  2.594804 - MSE:  11.109002 - Training Accuracy:  0.28935185\n",
      "epoch:  5 - cost:  1.4056506 - MSE:  1.6213735 - Training Accuracy:  0.4398148\n",
      "epoch:  6 - cost:  1.1357015 - MSE:  0.4919287 - Training Accuracy:  0.30324075\n",
      "epoch:  7 - cost:  1.0778648 - MSE:  0.5251187 - Training Accuracy:  0.42824075\n",
      "epoch:  8 - cost:  1.0690285 - MSE:  0.48222002 - Training Accuracy:  0.42592594\n",
      "epoch:  9 - cost:  1.0633057 - MSE:  0.48941606 - Training Accuracy:  0.42824075\n",
      "epoch:  10 - cost:  1.0579202 - MSE:  0.47889838 - Training Accuracy:  0.42824075\n",
      "epoch:  11 - cost:  1.052526 - MSE:  0.47259474 - Training Accuracy:  0.42824075\n",
      "epoch:  12 - cost:  1.046929 - MSE:  0.46632358 - Training Accuracy:  0.42824075\n",
      "epoch:  13 - cost:  1.0411801 - MSE:  0.4596997 - Training Accuracy:  0.43055555\n",
      "epoch:  14 - cost:  1.0350229 - MSE:  0.4528141 - Training Accuracy:  0.42592594\n",
      "epoch:  15 - cost:  1.0273768 - MSE:  0.44952238 - Training Accuracy:  0.44675925\n",
      "epoch:  16 - cost:  1.0204628 - MSE:  0.44296968 - Training Accuracy:  0.4560185\n",
      "epoch:  17 - cost:  1.0132298 - MSE:  0.43800285 - Training Accuracy:  0.4652778\n",
      "epoch:  18 - cost:  1.0058142 - MSE:  0.43396002 - Training Accuracy:  0.4699074\n",
      "epoch:  19 - cost:  0.99831474 - MSE:  0.4260942 - Training Accuracy:  0.47685185\n",
      "epoch:  20 - cost:  0.99079555 - MSE:  0.4321417 - Training Accuracy:  0.47916666\n",
      "epoch:  21 - cost:  0.982874 - MSE:  0.41237155 - Training Accuracy:  0.48842594\n",
      "epoch:  22 - cost:  0.9745822 - MSE:  0.4371793 - Training Accuracy:  0.4861111\n",
      "epoch:  23 - cost:  0.9664026 - MSE:  0.40556443 - Training Accuracy:  0.5046296\n",
      "epoch:  24 - cost:  0.958027 - MSE:  0.4634708 - Training Accuracy:  0.5046296\n",
      "epoch:  25 - cost:  0.94878036 - MSE:  0.40610468 - Training Accuracy:  0.5277778\n",
      "epoch:  26 - cost:  0.9406485 - MSE:  0.4926939 - Training Accuracy:  0.5439815\n",
      "epoch:  27 - cost:  0.9326644 - MSE:  0.4232663 - Training Accuracy:  0.5277778\n",
      "epoch:  28 - cost:  0.92920613 - MSE:  0.6031697 - Training Accuracy:  0.5555556\n",
      "epoch:  29 - cost:  0.9302007 - MSE:  0.4642174 - Training Accuracy:  0.5185185\n",
      "epoch:  30 - cost:  0.9526028 - MSE:  0.9980842 - Training Accuracy:  0.5625\n",
      "epoch:  31 - cost:  0.9905651 - MSE:  0.71094394 - Training Accuracy:  0.46064815\n",
      "epoch:  32 - cost:  1.0996196 - MSE:  2.2938435 - Training Accuracy:  0.4027778\n",
      "epoch:  33 - cost:  1.0730817 - MSE:  1.1540723 - Training Accuracy:  0.4537037\n",
      "epoch:  34 - cost:  1.1028992 - MSE:  2.4999638 - Training Accuracy:  0.4212963\n",
      "epoch:  35 - cost:  0.9531041 - MSE:  0.74575645 - Training Accuracy:  0.525463\n",
      "epoch:  36 - cost:  0.91889447 - MSE:  1.1111038 - Training Accuracy:  0.5810185\n",
      "epoch:  37 - cost:  0.8861523 - MSE:  0.58580434 - Training Accuracy:  0.537037\n",
      "epoch:  38 - cost:  0.8730499 - MSE:  0.9910382 - Training Accuracy:  0.6064815\n",
      "epoch:  39 - cost:  0.86063945 - MSE:  0.62909496 - Training Accuracy:  0.5671296\n",
      "epoch:  40 - cost:  0.855508 - MSE:  1.1671348 - Training Accuracy:  0.6180556\n",
      "epoch:  41 - cost:  0.851252 - MSE:  0.69148475 - Training Accuracy:  0.5601852\n",
      "epoch:  42 - cost:  0.8610186 - MSE:  1.5303781 - Training Accuracy:  0.5925926\n",
      "epoch:  43 - cost:  0.8735254 - MSE:  0.8253727 - Training Accuracy:  0.5231481\n",
      "epoch:  44 - cost:  0.92417824 - MSE:  2.4465506 - Training Accuracy:  0.5416667\n",
      "epoch:  45 - cost:  0.94090664 - MSE:  1.1190652 - Training Accuracy:  0.5023148\n",
      "epoch:  46 - cost:  1.0211729 - MSE:  3.46176 - Training Accuracy:  0.4722222\n",
      "epoch:  47 - cost:  0.93814725 - MSE:  1.2102184 - Training Accuracy:  0.5069444\n",
      "epoch:  48 - cost:  0.93444586 - MSE:  2.6196775 - Training Accuracy:  0.525463\n",
      "epoch:  49 - cost:  0.85441965 - MSE:  1.03745 - Training Accuracy:  0.5185185\n",
      "epoch:  50 - cost:  0.8360894 - MSE:  1.9308008 - Training Accuracy:  0.6134259\n",
      "epoch:  51 - cost:  0.8073516 - MSE:  1.0524182 - Training Accuracy:  0.5694444\n",
      "epoch:  52 - cost:  0.80504423 - MSE:  1.9362867 - Training Accuracy:  0.6481481\n",
      "epoch:  53 - cost:  0.79685044 - MSE:  1.1592783 - Training Accuracy:  0.5763889\n",
      "epoch:  54 - cost:  0.80718625 - MSE:  2.2463593 - Training Accuracy:  0.6319444\n",
      "epoch:  55 - cost:  0.80328727 - MSE:  1.295561 - Training Accuracy:  0.5625\n",
      "epoch:  56 - cost:  0.83280295 - MSE:  2.7182393 - Training Accuracy:  0.5972222\n",
      "epoch:  57 - cost:  0.83993345 - MSE:  1.502922 - Training Accuracy:  0.5416667\n",
      "epoch:  58 - cost:  0.8930383 - MSE:  3.3415544 - Training Accuracy:  0.5300926\n",
      "epoch:  59 - cost:  0.8717411 - MSE:  1.6930174 - Training Accuracy:  0.5208333\n",
      "epoch:  60 - cost:  0.90717244 - MSE:  3.4743152 - Training Accuracy:  0.5231481\n",
      "epoch:  61 - cost:  0.838268 - MSE:  1.6749616 - Training Accuracy:  0.537037\n",
      "epoch:  62 - cost:  0.8389417 - MSE:  2.9735234 - Training Accuracy:  0.5949074\n",
      "epoch:  63 - cost:  0.7945521 - MSE:  1.6853534 - Training Accuracy:  0.5671296\n",
      "epoch:  64 - cost:  0.7975987 - MSE:  2.8076353 - Training Accuracy:  0.6342593\n",
      "epoch:  65 - cost:  0.7702664 - MSE:  1.7956823 - Training Accuracy:  0.5856481\n",
      "epoch:  66 - cost:  0.7784009 - MSE:  2.836189 - Training Accuracy:  0.6388889\n",
      "epoch:  67 - cost:  0.7645873 - MSE:  1.9388661 - Training Accuracy:  0.5925926\n",
      "epoch:  68 - cost:  0.7822978 - MSE:  3.0832202 - Training Accuracy:  0.6388889\n",
      "epoch:  69 - cost:  0.77086145 - MSE:  2.0985227 - Training Accuracy:  0.5902778\n",
      "epoch:  70 - cost:  0.7980492 - MSE:  3.3220909 - Training Accuracy:  0.5949074\n",
      "epoch:  71 - cost:  0.7913899 - MSE:  2.2732692 - Training Accuracy:  0.5763889\n",
      "epoch:  72 - cost:  0.8264541 - MSE:  3.6950734 - Training Accuracy:  0.5694444\n",
      "epoch:  73 - cost:  0.7976707 - MSE:  2.3722928 - Training Accuracy:  0.5740741\n",
      "epoch:  74 - cost:  0.8222867 - MSE:  3.7109332 - Training Accuracy:  0.5740741\n",
      "epoch:  75 - cost:  0.76747274 - MSE:  2.3896189 - Training Accuracy:  0.5856481\n",
      "epoch:  76 - cost:  0.77867323 - MSE:  3.4361017 - Training Accuracy:  0.6134259\n",
      "epoch:  77 - cost:  0.73956925 - MSE:  2.5144174 - Training Accuracy:  0.6087963\n",
      "epoch:  78 - cost:  0.74636793 - MSE:  3.3030121 - Training Accuracy:  0.6481481\n",
      "epoch:  79 - cost:  0.72985005 - MSE:  2.666267 - Training Accuracy:  0.6203704\n",
      "epoch:  80 - cost:  0.74342614 - MSE:  3.468403 - Training Accuracy:  0.6435185\n",
      "epoch:  81 - cost:  0.73306054 - MSE:  2.8149116 - Training Accuracy:  0.6180556\n",
      "epoch:  82 - cost:  0.7530826 - MSE:  3.6735578 - Training Accuracy:  0.625\n",
      "epoch:  83 - cost:  0.7443325 - MSE:  2.9611015 - Training Accuracy:  0.6087963\n",
      "epoch:  84 - cost:  0.7698456 - MSE:  3.8949602 - Training Accuracy:  0.6203704\n",
      "epoch:  85 - cost:  0.7510903 - MSE:  3.0751624 - Training Accuracy:  0.6064815\n",
      "epoch:  86 - cost:  0.7734992 - MSE:  4.01814 - Training Accuracy:  0.6180556\n",
      "epoch:  87 - cost:  0.7361865 - MSE:  3.1413252 - Training Accuracy:  0.6157407\n",
      "epoch:  88 - cost:  0.7516057 - MSE:  3.9838858 - Training Accuracy:  0.6226852\n",
      "epoch:  89 - cost:  0.7180852 - MSE:  3.2101696 - Training Accuracy:  0.6273148\n",
      "epoch:  90 - cost:  0.72830355 - MSE:  3.85415 - Training Accuracy:  0.6342593\n",
      "epoch:  91 - cost:  0.70729744 - MSE:  3.366155 - Training Accuracy:  0.6342593\n",
      "epoch:  92 - cost:  0.7166101 - MSE:  3.9647243 - Training Accuracy:  0.6319444\n",
      "epoch:  93 - cost:  0.69800156 - MSE:  3.4824572 - Training Accuracy:  0.6365741\n",
      "epoch:  94 - cost:  0.70918626 - MSE:  4.039417 - Training Accuracy:  0.6412037\n",
      "epoch:  95 - cost:  0.69773203 - MSE:  3.610046 - Training Accuracy:  0.6388889\n",
      "epoch:  96 - cost:  0.7136525 - MSE:  4.225385 - Training Accuracy:  0.6365741\n",
      "epoch:  97 - cost:  0.70535856 - MSE:  3.7177324 - Training Accuracy:  0.6342593\n",
      "epoch:  98 - cost:  0.7302643 - MSE:  4.5354795 - Training Accuracy:  0.6134259\n",
      "epoch:  99 - cost:  0.726248 - MSE:  3.8012667 - Training Accuracy:  0.6342593\n",
      "epoch:  100 - cost:  0.7553929 - MSE:  4.6688814 - Training Accuracy:  0.6273148\n",
      "epoch:  101 - cost:  0.72281086 - MSE:  3.894666 - Training Accuracy:  0.6342593\n",
      "epoch:  102 - cost:  0.740524 - MSE:  4.6489353 - Training Accuracy:  0.6273148\n"
     ]
    },
    {
     "name": "stdout",
     "output_type": "stream",
     "text": [
      "epoch:  103 - cost:  0.7041922 - MSE:  3.887163 - Training Accuracy:  0.6388889\n",
      "epoch:  104 - cost:  0.71189815 - MSE:  4.421902 - Training Accuracy:  0.6388889\n",
      "epoch:  105 - cost:  0.6784474 - MSE:  4.0430984 - Training Accuracy:  0.650463\n",
      "epoch:  106 - cost:  0.682169 - MSE:  4.380867 - Training Accuracy:  0.6597222\n",
      "epoch:  107 - cost:  0.66564214 - MSE:  4.126176 - Training Accuracy:  0.6689815\n",
      "epoch:  108 - cost:  0.67514366 - MSE:  4.6699276 - Training Accuracy:  0.6828704\n",
      "epoch:  109 - cost:  0.66435623 - MSE:  4.214208 - Training Accuracy:  0.6666667\n",
      "epoch:  110 - cost:  0.6748722 - MSE:  4.8203206 - Training Accuracy:  0.6805556\n",
      "epoch:  111 - cost:  0.67185044 - MSE:  4.372573 - Training Accuracy:  0.6643519\n",
      "epoch:  112 - cost:  0.69156617 - MSE:  4.9437976 - Training Accuracy:  0.6550926\n",
      "epoch:  113 - cost:  0.6902799 - MSE:  4.6011558 - Training Accuracy:  0.650463\n",
      "epoch:  114 - cost:  0.72330624 - MSE:  5.2323804 - Training Accuracy:  0.6412037\n",
      "epoch:  115 - cost:  0.6960542 - MSE:  4.5493364 - Training Accuracy:  0.6365741\n",
      "epoch:  116 - cost:  0.72673744 - MSE:  5.462899 - Training Accuracy:  0.6342593\n",
      "epoch:  117 - cost:  0.69477075 - MSE:  4.4944983 - Training Accuracy:  0.6481481\n",
      "epoch:  118 - cost:  0.69975865 - MSE:  5.1293864 - Training Accuracy:  0.6550926\n",
      "epoch:  119 - cost:  0.67291343 - MSE:  4.7557964 - Training Accuracy:  0.6527778\n",
      "epoch:  120 - cost:  0.6863155 - MSE:  4.939804 - Training Accuracy:  0.6689815\n",
      "epoch:  121 - cost:  0.6565021 - MSE:  4.7977867 - Training Accuracy:  0.6597222\n",
      "epoch:  122 - cost:  0.65662724 - MSE:  4.723663 - Training Accuracy:  0.6851852\n",
      "epoch:  123 - cost:  0.643961 - MSE:  4.94816 - Training Accuracy:  0.6689815\n",
      "epoch:  124 - cost:  0.6508861 - MSE:  4.5228934 - Training Accuracy:  0.6875\n",
      "epoch:  125 - cost:  0.6468642 - MSE:  5.1853104 - Training Accuracy:  0.6875\n",
      "epoch:  126 - cost:  0.6613229 - MSE:  4.406725 - Training Accuracy:  0.6643519\n",
      "epoch:  127 - cost:  0.64097077 - MSE:  5.2005863 - Training Accuracy:  0.6898148\n",
      "epoch:  128 - cost:  0.6549688 - MSE:  4.4641743 - Training Accuracy:  0.6689815\n",
      "epoch:  129 - cost:  0.63142127 - MSE:  5.1928124 - Training Accuracy:  0.6875\n",
      "epoch:  130 - cost:  0.6399498 - MSE:  4.6160483 - Training Accuracy:  0.6805556\n",
      "epoch:  131 - cost:  0.63197017 - MSE:  5.2889757 - Training Accuracy:  0.6944444\n",
      "epoch:  132 - cost:  0.6414905 - MSE:  4.6068516 - Training Accuracy:  0.6759259\n",
      "epoch:  133 - cost:  0.6251267 - MSE:  5.33576 - Training Accuracy:  0.6944444\n",
      "epoch:  134 - cost:  0.63269114 - MSE:  4.689635 - Training Accuracy:  0.6851852\n",
      "epoch:  135 - cost:  0.6185083 - MSE:  5.368125 - Training Accuracy:  0.6944444\n",
      "epoch:  136 - cost:  0.6278679 - MSE:  4.8213754 - Training Accuracy:  0.6875\n",
      "epoch:  137 - cost:  0.6252183 - MSE:  5.4755225 - Training Accuracy:  0.6990741\n",
      "epoch:  138 - cost:  0.6393136 - MSE:  4.8272 - Training Accuracy:  0.6712963\n",
      "epoch:  139 - cost:  0.63032335 - MSE:  5.5165944 - Training Accuracy:  0.6921296\n",
      "epoch:  140 - cost:  0.6406257 - MSE:  5.047919 - Training Accuracy:  0.6759259\n",
      "epoch:  141 - cost:  0.6523068 - MSE:  5.542571 - Training Accuracy:  0.6759259\n",
      "epoch:  142 - cost:  0.68315023 - MSE:  5.547854 - Training Accuracy:  0.6666667\n",
      "epoch:  143 - cost:  0.69809234 - MSE:  5.521738 - Training Accuracy:  0.6597222\n",
      "epoch:  144 - cost:  0.7984886 - MSE:  6.9930067 - Training Accuracy:  0.6041667\n",
      "epoch:  145 - cost:  0.7805768 - MSE:  5.141086 - Training Accuracy:  0.6296296\n",
      "epoch:  146 - cost:  0.7660758 - MSE:  5.204421 - Training Accuracy:  0.6064815\n",
      "epoch:  147 - cost:  0.67298746 - MSE:  5.1839 - Training Accuracy:  0.6689815\n",
      "epoch:  148 - cost:  0.65713847 - MSE:  4.97262 - Training Accuracy:  0.6967593\n",
      "epoch:  149 - cost:  0.6278674 - MSE:  5.5591373 - Training Accuracy:  0.7013889\n",
      "epoch:  150 - cost:  0.6200812 - MSE:  5.429513 - Training Accuracy:  0.7199074\n",
      "epoch:  151 - cost:  0.613508 - MSE:  5.794901 - Training Accuracy:  0.6828704\n",
      "epoch:  152 - cost:  0.6220103 - MSE:  5.6492224 - Training Accuracy:  0.7083333\n",
      "epoch:  153 - cost:  0.61493653 - MSE:  5.8270097 - Training Accuracy:  0.6689815\n",
      "epoch:  154 - cost:  0.6312694 - MSE:  5.80912 - Training Accuracy:  0.7037037\n",
      "epoch:  155 - cost:  0.6309978 - MSE:  5.920005 - Training Accuracy:  0.6805556\n",
      "epoch:  156 - cost:  0.6535792 - MSE:  6.0901923 - Training Accuracy:  0.6990741\n",
      "epoch:  157 - cost:  0.64703935 - MSE:  5.899035 - Training Accuracy:  0.6828704\n",
      "epoch:  158 - cost:  0.6909721 - MSE:  6.8410306 - Training Accuracy:  0.6666667\n",
      "epoch:  159 - cost:  0.6850849 - MSE:  5.7055225 - Training Accuracy:  0.6782407\n",
      "epoch:  160 - cost:  0.6715458 - MSE:  6.4365525 - Training Accuracy:  0.6990741\n",
      "epoch:  161 - cost:  0.64066494 - MSE:  5.970816 - Training Accuracy:  0.6736111\n",
      "epoch:  162 - cost:  0.64965194 - MSE:  6.2791233 - Training Accuracy:  0.7152778\n",
      "epoch:  163 - cost:  0.6082111 - MSE:  5.731514 - Training Accuracy:  0.7106481\n",
      "epoch:  164 - cost:  0.6036045 - MSE:  6.522515 - Training Accuracy:  0.7453704\n",
      "epoch:  165 - cost:  0.6089974 - MSE:  5.9083834 - Training Accuracy:  0.7314815\n",
      "epoch:  166 - cost:  0.5874614 - MSE:  6.5009246 - Training Accuracy:  0.7384259\n",
      "epoch:  167 - cost:  0.58589375 - MSE:  6.3262544 - Training Accuracy:  0.7106481\n",
      "epoch:  168 - cost:  0.5992802 - MSE:  6.620098 - Training Accuracy:  0.7222222\n",
      "epoch:  169 - cost:  0.6101312 - MSE:  6.462338 - Training Accuracy:  0.6898148\n",
      "epoch:  170 - cost:  0.6428025 - MSE:  7.2060513 - Training Accuracy:  0.7013889\n",
      "epoch:  171 - cost:  0.6603623 - MSE:  6.5424848 - Training Accuracy:  0.6712963\n",
      "epoch:  172 - cost:  0.6951127 - MSE:  7.564633 - Training Accuracy:  0.6921296\n",
      "epoch:  173 - cost:  0.66227794 - MSE:  6.3037057 - Training Accuracy:  0.6689815\n",
      "epoch:  174 - cost:  0.6715407 - MSE:  7.2435465 - Training Accuracy:  0.7083333\n",
      "epoch:  175 - cost:  0.5945915 - MSE:  5.893907 - Training Accuracy:  0.7222222\n",
      "epoch:  176 - cost:  0.57072 - MSE:  6.6484895 - Training Accuracy:  0.7638889\n",
      "epoch:  177 - cost:  0.5499633 - MSE:  6.2598224 - Training Accuracy:  0.7569444\n",
      "epoch:  178 - cost:  0.5390381 - MSE:  6.7087946 - Training Accuracy:  0.7800926\n",
      "epoch:  179 - cost:  0.53183186 - MSE:  6.507131 - Training Accuracy:  0.7685185\n",
      "epoch:  180 - cost:  0.52444196 - MSE:  6.779658 - Training Accuracy:  0.7847222\n",
      "epoch:  181 - cost:  0.52182645 - MSE:  6.767181 - Training Accuracy:  0.7847222\n",
      "epoch:  182 - cost:  0.5213801 - MSE:  6.8241553 - Training Accuracy:  0.7847222\n",
      "epoch:  183 - cost:  0.5242512 - MSE:  7.038255 - Training Accuracy:  0.7708333\n",
      "epoch:  184 - cost:  0.5442102 - MSE:  6.6996584 - Training Accuracy:  0.7476852\n",
      "epoch:  185 - cost:  0.5975742 - MSE:  7.6302013 - Training Accuracy:  0.7106481\n",
      "epoch:  186 - cost:  0.697171 - MSE:  6.2560077 - Training Accuracy:  0.650463\n",
      "epoch:  187 - cost:  0.74496764 - MSE:  7.947515 - Training Accuracy:  0.6319444\n",
      "epoch:  188 - cost:  0.84559417 - MSE:  8.416541 - Training Accuracy:  0.5833333\n",
      "epoch:  189 - cost:  0.6795718 - MSE:  5.884084 - Training Accuracy:  0.6805556\n",
      "epoch:  190 - cost:  0.6639815 - MSE:  7.0630846 - Training Accuracy:  0.6805556\n",
      "epoch:  191 - cost:  0.61363435 - MSE:  5.111592 - Training Accuracy:  0.712963\n",
      "epoch:  192 - cost:  0.54270566 - MSE:  5.909328 - Training Accuracy:  0.7546296\n",
      "epoch:  193 - cost:  0.52605444 - MSE:  6.6012063 - Training Accuracy:  0.7638889\n",
      "epoch:  194 - cost:  0.520002 - MSE:  6.3670797 - Training Accuracy:  0.7662037\n",
      "epoch:  195 - cost:  0.52883124 - MSE:  7.1318903 - Training Accuracy:  0.7430556\n",
      "epoch:  196 - cost:  0.5652859 - MSE:  6.2932553 - Training Accuracy:  0.7384259\n",
      "epoch:  197 - cost:  0.70628697 - MSE:  8.036223 - Training Accuracy:  0.6712963\n",
      "epoch:  198 - cost:  0.70642275 - MSE:  5.877591 - Training Accuracy:  0.6365741\n",
      "epoch:  199 - cost:  0.5669152 - MSE:  6.4554935 - Training Accuracy:  0.7222222\n",
      "epoch:  200 - cost:  0.54893774 - MSE:  6.528226 - Training Accuracy:  0.7453704\n",
      "epoch:  201 - cost:  0.546532 - MSE:  6.367747 - Training Accuracy:  0.75\n",
      "epoch:  202 - cost:  0.5572475 - MSE:  7.0457196 - Training Accuracy:  0.7592593\n",
      "epoch:  203 - cost:  0.5975983 - MSE:  6.648318 - Training Accuracy:  0.7175926\n",
      "epoch:  204 - cost:  0.6120847 - MSE:  7.5577087 - Training Accuracy:  0.7384259\n"
     ]
    },
    {
     "name": "stdout",
     "output_type": "stream",
     "text": [
      "epoch:  205 - cost:  0.6115761 - MSE:  6.601678 - Training Accuracy:  0.7106481\n",
      "epoch:  206 - cost:  0.6269256 - MSE:  7.646784 - Training Accuracy:  0.7314815\n",
      "epoch:  207 - cost:  0.602311 - MSE:  6.2755346 - Training Accuracy:  0.7175926\n",
      "epoch:  208 - cost:  0.57127804 - MSE:  7.0562286 - Training Accuracy:  0.7569444\n",
      "epoch:  209 - cost:  0.525842 - MSE:  6.504081 - Training Accuracy:  0.75\n",
      "epoch:  210 - cost:  0.53218126 - MSE:  6.1317596 - Training Accuracy:  0.7638889\n",
      "epoch:  211 - cost:  0.5512128 - MSE:  7.3526864 - Training Accuracy:  0.7430556\n",
      "epoch:  212 - cost:  0.5922988 - MSE:  5.467892 - Training Accuracy:  0.7013889\n",
      "epoch:  213 - cost:  0.54633415 - MSE:  7.366106 - Training Accuracy:  0.7476852\n",
      "epoch:  214 - cost:  0.5353665 - MSE:  6.1813135 - Training Accuracy:  0.7453704\n",
      "epoch:  215 - cost:  0.54242826 - MSE:  7.5079327 - Training Accuracy:  0.7523148\n",
      "epoch:  216 - cost:  0.5741504 - MSE:  5.935747 - Training Accuracy:  0.712963\n",
      "epoch:  217 - cost:  0.5363502 - MSE:  7.4703608 - Training Accuracy:  0.7523148\n",
      "epoch:  218 - cost:  0.5345264 - MSE:  6.8632903 - Training Accuracy:  0.7453704\n",
      "epoch:  219 - cost:  0.55073154 - MSE:  7.318969 - Training Accuracy:  0.7337963\n",
      "epoch:  220 - cost:  0.56706375 - MSE:  6.4439406 - Training Accuracy:  0.7199074\n",
      "epoch:  221 - cost:  0.5631358 - MSE:  7.372819 - Training Accuracy:  0.7199074\n",
      "epoch:  222 - cost:  0.5676556 - MSE:  5.843555 - Training Accuracy:  0.7106481\n",
      "epoch:  223 - cost:  0.49390122 - MSE:  7.1416187 - Training Accuracy:  0.787037\n",
      "epoch:  224 - cost:  0.48537806 - MSE:  6.9372287 - Training Accuracy:  0.7962963\n",
      "epoch:  225 - cost:  0.5153614 - MSE:  7.1346607 - Training Accuracy:  0.7638889\n",
      "epoch:  226 - cost:  0.5632087 - MSE:  8.07337 - Training Accuracy:  0.7523148\n",
      "epoch:  227 - cost:  0.6814225 - MSE:  7.4351597 - Training Accuracy:  0.6712963\n",
      "epoch:  228 - cost:  0.7678089 - MSE:  8.378886 - Training Accuracy:  0.587963\n",
      "epoch:  229 - cost:  0.648605 - MSE:  6.9223995 - Training Accuracy:  0.6805556\n",
      "epoch:  230 - cost:  0.60771316 - MSE:  7.0570407 - Training Accuracy:  0.712963\n",
      "epoch:  231 - cost:  0.56932855 - MSE:  5.543768 - Training Accuracy:  0.7523148\n",
      "epoch:  232 - cost:  0.48005563 - MSE:  6.5994396 - Training Accuracy:  0.7962963\n",
      "epoch:  233 - cost:  0.4489713 - MSE:  7.322853 - Training Accuracy:  0.8194444\n",
      "epoch:  234 - cost:  0.4470662 - MSE:  6.9871063 - Training Accuracy:  0.8078704\n",
      "epoch:  235 - cost:  0.46180493 - MSE:  7.818137 - Training Accuracy:  0.7986111\n",
      "epoch:  236 - cost:  0.5067752 - MSE:  6.5723987 - Training Accuracy:  0.787037\n",
      "epoch:  237 - cost:  0.5873926 - MSE:  8.623088 - Training Accuracy:  0.7222222\n",
      "epoch:  238 - cost:  0.62603027 - MSE:  6.437304 - Training Accuracy:  0.6921296\n",
      "epoch:  239 - cost:  0.56085867 - MSE:  7.791541 - Training Accuracy:  0.7268519\n",
      "epoch:  240 - cost:  0.53228307 - MSE:  7.606481 - Training Accuracy:  0.7569444\n",
      "epoch:  241 - cost:  0.5217653 - MSE:  6.819613 - Training Accuracy:  0.7708333\n",
      "epoch:  242 - cost:  0.5272696 - MSE:  8.259271 - Training Accuracy:  0.7638889\n",
      "epoch:  243 - cost:  0.60236114 - MSE:  7.185013 - Training Accuracy:  0.7337963\n",
      "epoch:  244 - cost:  0.6130658 - MSE:  7.792867 - Training Accuracy:  0.7083333\n",
      "epoch:  245 - cost:  0.5924656 - MSE:  7.7658286 - Training Accuracy:  0.7060185\n",
      "epoch:  246 - cost:  0.58070767 - MSE:  7.7393646 - Training Accuracy:  0.7430556\n",
      "epoch:  247 - cost:  0.5287914 - MSE:  6.551712 - Training Accuracy:  0.7662037\n",
      "epoch:  248 - cost:  0.49456608 - MSE:  7.981086 - Training Accuracy:  0.7824074\n",
      "epoch:  249 - cost:  0.50920135 - MSE:  6.865534 - Training Accuracy:  0.7986111\n",
      "epoch:  250 - cost:  0.46070936 - MSE:  7.851873 - Training Accuracy:  0.8148148\n",
      "epoch:  251 - cost:  0.45922172 - MSE:  7.7936945 - Training Accuracy:  0.8101852\n",
      "epoch:  252 - cost:  0.47988608 - MSE:  7.5159945 - Training Accuracy:  0.8009259\n",
      "epoch:  253 - cost:  0.5346321 - MSE:  8.470248 - Training Accuracy:  0.7407407\n",
      "epoch:  254 - cost:  0.5657778 - MSE:  6.765493 - Training Accuracy:  0.7199074\n",
      "epoch:  255 - cost:  0.5544562 - MSE:  8.472423 - Training Accuracy:  0.7222222\n",
      "epoch:  256 - cost:  0.52618134 - MSE:  6.4471765 - Training Accuracy:  0.7337963\n",
      "epoch:  257 - cost:  0.43792427 - MSE:  7.9636025 - Training Accuracy:  0.8333333\n",
      "epoch:  258 - cost:  0.43617234 - MSE:  7.321821 - Training Accuracy:  0.8333333\n",
      "epoch:  259 - cost:  0.44716945 - MSE:  8.495228 - Training Accuracy:  0.8078704\n",
      "epoch:  260 - cost:  0.48549312 - MSE:  7.057966 - Training Accuracy:  0.7916667\n",
      "epoch:  261 - cost:  0.5024834 - MSE:  8.990589 - Training Accuracy:  0.7615741\n",
      "epoch:  262 - cost:  0.5300223 - MSE:  7.5818005 - Training Accuracy:  0.7546296\n",
      "epoch:  263 - cost:  0.5472046 - MSE:  8.649246 - Training Accuracy:  0.7384259\n",
      "epoch:  264 - cost:  0.5318849 - MSE:  7.327181 - Training Accuracy:  0.7430556\n",
      "epoch:  265 - cost:  0.4737036 - MSE:  7.946139 - Training Accuracy:  0.8009259\n",
      "epoch:  266 - cost:  0.46888918 - MSE:  7.086825 - Training Accuracy:  0.7847222\n",
      "epoch:  267 - cost:  0.45356584 - MSE:  8.258113 - Training Accuracy:  0.8055556\n",
      "epoch:  268 - cost:  0.45692202 - MSE:  7.1180387 - Training Accuracy:  0.8055556\n",
      "epoch:  269 - cost:  0.4451566 - MSE:  8.696824 - Training Accuracy:  0.8009259\n",
      "epoch:  270 - cost:  0.46306738 - MSE:  7.262775 - Training Accuracy:  0.8055556\n",
      "epoch:  271 - cost:  0.44644585 - MSE:  8.969182 - Training Accuracy:  0.7847222\n",
      "epoch:  272 - cost:  0.45276904 - MSE:  7.7578845 - Training Accuracy:  0.8055556\n",
      "epoch:  273 - cost:  0.4714237 - MSE:  8.982845 - Training Accuracy:  0.7824074\n",
      "epoch:  274 - cost:  0.49225116 - MSE:  8.011312 - Training Accuracy:  0.7800926\n",
      "epoch:  275 - cost:  0.5142157 - MSE:  8.790032 - Training Accuracy:  0.75\n",
      "epoch:  276 - cost:  0.5893563 - MSE:  9.535036 - Training Accuracy:  0.7384259\n",
      "epoch:  277 - cost:  0.7560604 - MSE:  8.209515 - Training Accuracy:  0.6921296\n",
      "epoch:  278 - cost:  0.75851095 - MSE:  8.590331 - Training Accuracy:  0.6018519\n",
      "epoch:  279 - cost:  0.5682566 - MSE:  7.1305976 - Training Accuracy:  0.7546296\n",
      "epoch:  280 - cost:  0.56306624 - MSE:  8.226536 - Training Accuracy:  0.7476852\n",
      "epoch:  281 - cost:  0.5780165 - MSE:  6.4011965 - Training Accuracy:  0.7384259\n",
      "epoch:  282 - cost:  0.46779034 - MSE:  7.7118173 - Training Accuracy:  0.8171296\n",
      "epoch:  283 - cost:  0.43864414 - MSE:  8.493929 - Training Accuracy:  0.8148148\n",
      "epoch:  284 - cost:  0.4406919 - MSE:  8.442247 - Training Accuracy:  0.8287037\n",
      "epoch:  285 - cost:  0.46064773 - MSE:  9.430394 - Training Accuracy:  0.7939815\n",
      "epoch:  286 - cost:  0.53003496 - MSE:  8.927942 - Training Accuracy:  0.7685185\n",
      "epoch:  287 - cost:  0.62814367 - MSE:  9.853733 - Training Accuracy:  0.6851852\n",
      "epoch:  288 - cost:  0.6061507 - MSE:  8.95822 - Training Accuracy:  0.7222222\n",
      "epoch:  289 - cost:  0.49320224 - MSE:  7.263248 - Training Accuracy:  0.7962963\n",
      "epoch:  290 - cost:  0.46777365 - MSE:  8.681711 - Training Accuracy:  0.7893519\n",
      "epoch:  291 - cost:  0.5106515 - MSE:  7.2736683 - Training Accuracy:  0.7893519\n",
      "epoch:  292 - cost:  0.41920507 - MSE:  8.700176 - Training Accuracy:  0.8449074\n",
      "epoch:  293 - cost:  0.39601573 - MSE:  8.918235 - Training Accuracy:  0.8449074\n",
      "epoch:  294 - cost:  0.40101495 - MSE:  8.982337 - Training Accuracy:  0.8449074\n",
      "epoch:  295 - cost:  0.42088085 - MSE:  9.290897 - Training Accuracy:  0.8263889\n",
      "epoch:  296 - cost:  0.44995067 - MSE:  9.065099 - Training Accuracy:  0.8171296\n",
      "epoch:  297 - cost:  0.47688422 - MSE:  9.431076 - Training Accuracy:  0.7916667\n",
      "epoch:  298 - cost:  0.49210435 - MSE:  8.5029 - Training Accuracy:  0.775463\n",
      "epoch:  299 - cost:  0.49433872 - MSE:  9.289993 - Training Accuracy:  0.7662037\n",
      "epoch:  300 - cost:  0.47003633 - MSE:  7.8518624 - Training Accuracy:  0.7800926\n",
      "epoch:  301 - cost:  0.44330546 - MSE:  9.128389 - Training Accuracy:  0.8032407\n",
      "epoch:  302 - cost:  0.4396677 - MSE:  7.6237082 - Training Accuracy:  0.8101852\n",
      "epoch:  303 - cost:  0.40147546 - MSE:  9.5837555 - Training Accuracy:  0.8310185\n",
      "epoch:  304 - cost:  0.41737467 - MSE:  8.1114855 - Training Accuracy:  0.8263889\n",
      "epoch:  305 - cost:  0.41458595 - MSE:  10.036201 - Training Accuracy:  0.8125\n",
      "epoch:  306 - cost:  0.42893422 - MSE:  8.292153 - Training Accuracy:  0.8194444\n"
     ]
    },
    {
     "name": "stdout",
     "output_type": "stream",
     "text": [
      "epoch:  307 - cost:  0.44214204 - MSE:  10.189756 - Training Accuracy:  0.7939815\n",
      "epoch:  308 - cost:  0.45244402 - MSE:  8.25252 - Training Accuracy:  0.7939815\n",
      "epoch:  309 - cost:  0.4334868 - MSE:  10.007736 - Training Accuracy:  0.8032407\n",
      "epoch:  310 - cost:  0.43449807 - MSE:  8.997539 - Training Accuracy:  0.8032407\n",
      "epoch:  311 - cost:  0.44065264 - MSE:  9.622799 - Training Accuracy:  0.8101852\n",
      "epoch:  312 - cost:  0.47358167 - MSE:  9.884233 - Training Accuracy:  0.7824074\n",
      "epoch:  313 - cost:  0.5893409 - MSE:  9.256812 - Training Accuracy:  0.7592593\n",
      "epoch:  314 - cost:  0.6235749 - MSE:  10.705836 - Training Accuracy:  0.7013889\n",
      "epoch:  315 - cost:  0.5739223 - MSE:  8.6515875 - Training Accuracy:  0.7546296\n",
      "epoch:  316 - cost:  0.67418796 - MSE:  11.072481 - Training Accuracy:  0.7060185\n",
      "epoch:  317 - cost:  0.6585789 - MSE:  6.5857134 - Training Accuracy:  0.6759259\n",
      "epoch:  318 - cost:  0.5103782 - MSE:  7.1353564 - Training Accuracy:  0.7662037\n",
      "epoch:  319 - cost:  0.44710943 - MSE:  9.1977825 - Training Accuracy:  0.8263889\n",
      "epoch:  320 - cost:  0.43689102 - MSE:  9.14685 - Training Accuracy:  0.8263889\n",
      "epoch:  321 - cost:  0.4659794 - MSE:  10.535566 - Training Accuracy:  0.7708333\n",
      "epoch:  322 - cost:  0.5638805 - MSE:  9.257928 - Training Accuracy:  0.7615741\n",
      "epoch:  323 - cost:  0.8395541 - MSE:  12.302418 - Training Accuracy:  0.5833333\n",
      "epoch:  324 - cost:  1.0825757 - MSE:  11.094962 - Training Accuracy:  0.44907406\n",
      "epoch:  325 - cost:  0.72567534 - MSE:  7.711212 - Training Accuracy:  0.599537\n",
      "epoch:  326 - cost:  0.5966181 - MSE:  5.859813 - Training Accuracy:  0.7361111\n",
      "epoch:  327 - cost:  0.48847544 - MSE:  7.0703683 - Training Accuracy:  0.8240741\n",
      "epoch:  328 - cost:  0.41955942 - MSE:  8.337978 - Training Accuracy:  0.8333333\n",
      "epoch:  329 - cost:  0.39423984 - MSE:  9.400089 - Training Accuracy:  0.8402778\n",
      "epoch:  330 - cost:  0.3770492 - MSE:  9.322023 - Training Accuracy:  0.8634259\n",
      "epoch:  331 - cost:  0.3712158 - MSE:  10.15601 - Training Accuracy:  0.8472222\n",
      "epoch:  332 - cost:  0.37482876 - MSE:  9.416563 - Training Accuracy:  0.8564815\n",
      "epoch:  333 - cost:  0.40314355 - MSE:  10.546056 - Training Accuracy:  0.8217593\n",
      "epoch:  334 - cost:  0.43122667 - MSE:  8.932529 - Training Accuracy:  0.8171296\n",
      "epoch:  335 - cost:  0.4708531 - MSE:  10.982926 - Training Accuracy:  0.775463\n",
      "epoch:  336 - cost:  0.48669073 - MSE:  8.464672 - Training Accuracy:  0.7708333\n",
      "epoch:  337 - cost:  0.44796813 - MSE:  10.420353 - Training Accuracy:  0.7962963\n",
      "epoch:  338 - cost:  0.41506392 - MSE:  8.737736 - Training Accuracy:  0.8148148\n",
      "epoch:  339 - cost:  0.39603192 - MSE:  10.115697 - Training Accuracy:  0.8449074\n",
      "epoch:  340 - cost:  0.38575286 - MSE:  9.074265 - Training Accuracy:  0.837963\n",
      "epoch:  341 - cost:  0.37542814 - MSE:  10.339645 - Training Accuracy:  0.8472222\n",
      "epoch:  342 - cost:  0.38073617 - MSE:  9.322071 - Training Accuracy:  0.837963\n",
      "epoch:  343 - cost:  0.38732746 - MSE:  10.779239 - Training Accuracy:  0.8240741\n",
      "epoch:  344 - cost:  0.41011435 - MSE:  9.369648 - Training Accuracy:  0.8217593\n",
      "epoch:  345 - cost:  0.4243154 - MSE:  10.858009 - Training Accuracy:  0.8125\n",
      "epoch:  346 - cost:  0.4249988 - MSE:  9.42027 - Training Accuracy:  0.8078704\n",
      "epoch:  347 - cost:  0.41208532 - MSE:  10.475525 - Training Accuracy:  0.8287037\n",
      "epoch:  348 - cost:  0.40494198 - MSE:  9.477766 - Training Accuracy:  0.8171296\n",
      "epoch:  349 - cost:  0.38754097 - MSE:  10.175736 - Training Accuracy:  0.8564815\n",
      "epoch:  350 - cost:  0.39938876 - MSE:  10.053892 - Training Accuracy:  0.837963\n",
      "epoch:  351 - cost:  0.4071916 - MSE:  10.027891 - Training Accuracy:  0.8240741\n",
      "epoch:  352 - cost:  0.49735835 - MSE:  11.502391 - Training Accuracy:  0.7939815\n",
      "epoch:  353 - cost:  0.6477288 - MSE:  9.873525 - Training Accuracy:  0.7291667\n",
      "epoch:  354 - cost:  0.6590688 - MSE:  10.372842 - Training Accuracy:  0.6574074\n",
      "epoch:  355 - cost:  0.52174705 - MSE:  9.493917 - Training Accuracy:  0.7615741\n",
      "epoch:  356 - cost:  0.4735928 - MSE:  9.16177 - Training Accuracy:  0.775463\n",
      "epoch:  357 - cost:  0.47814268 - MSE:  7.68149 - Training Accuracy:  0.7939815\n",
      "epoch:  358 - cost:  0.36510766 - MSE:  9.558639 - Training Accuracy:  0.8657407\n",
      "epoch:  359 - cost:  0.33361888 - MSE:  10.157429 - Training Accuracy:  0.875\n",
      "epoch:  360 - cost:  0.33072254 - MSE:  10.228367 - Training Accuracy:  0.8796296\n",
      "epoch:  361 - cost:  0.33269063 - MSE:  10.702855 - Training Accuracy:  0.8634259\n",
      "epoch:  362 - cost:  0.3396006 - MSE:  10.201497 - Training Accuracy:  0.8773148\n",
      "epoch:  363 - cost:  0.36163047 - MSE:  11.383028 - Training Accuracy:  0.8263889\n",
      "epoch:  364 - cost:  0.3975039 - MSE:  9.560794 - Training Accuracy:  0.8287037\n",
      "epoch:  365 - cost:  0.45600578 - MSE:  12.053578 - Training Accuracy:  0.7777778\n",
      "epoch:  366 - cost:  0.5031428 - MSE:  8.687923 - Training Accuracy:  0.7592593\n",
      "epoch:  367 - cost:  0.45856026 - MSE:  11.483054 - Training Accuracy:  0.7523148\n",
      "epoch:  368 - cost:  0.40388143 - MSE:  8.855076 - Training Accuracy:  0.8101852\n",
      "epoch:  369 - cost:  0.34507835 - MSE:  10.8163805 - Training Accuracy:  0.8634259\n",
      "epoch:  370 - cost:  0.34270552 - MSE:  9.875249 - Training Accuracy:  0.8611111\n",
      "epoch:  371 - cost:  0.3429244 - MSE:  11.512473 - Training Accuracy:  0.8587963\n",
      "epoch:  372 - cost:  0.35036698 - MSE:  9.924234 - Training Accuracy:  0.8449074\n",
      "epoch:  373 - cost:  0.35579088 - MSE:  11.788156 - Training Accuracy:  0.8425926\n",
      "epoch:  374 - cost:  0.36715817 - MSE:  9.972414 - Training Accuracy:  0.837963\n",
      "epoch:  375 - cost:  0.38695252 - MSE:  11.839863 - Training Accuracy:  0.8402778\n",
      "epoch:  376 - cost:  0.41838977 - MSE:  9.972788 - Training Accuracy:  0.8078704\n",
      "epoch:  377 - cost:  0.421169 - MSE:  11.523795 - Training Accuracy:  0.8148148\n",
      "epoch:  378 - cost:  0.42775407 - MSE:  10.604595 - Training Accuracy:  0.8101852\n",
      "epoch:  379 - cost:  0.41964382 - MSE:  10.481794 - Training Accuracy:  0.8263889\n",
      "epoch:  380 - cost:  0.52487385 - MSE:  12.521797 - Training Accuracy:  0.775463\n",
      "epoch:  381 - cost:  0.69813126 - MSE:  9.985554 - Training Accuracy:  0.7314815\n",
      "epoch:  382 - cost:  0.6210594 - MSE:  9.198955 - Training Accuracy:  0.6666667\n",
      "epoch:  383 - cost:  0.53860927 - MSE:  10.104043 - Training Accuracy:  0.7314815\n",
      "epoch:  384 - cost:  0.40317243 - MSE:  9.384197 - Training Accuracy:  0.8425926\n",
      "epoch:  385 - cost:  0.34169376 - MSE:  10.075439 - Training Accuracy:  0.8703704\n",
      "epoch:  386 - cost:  0.32245383 - MSE:  10.004887 - Training Accuracy:  0.8796296\n",
      "epoch:  387 - cost:  0.317629 - MSE:  11.298085 - Training Accuracy:  0.8680556\n",
      "epoch:  388 - cost:  0.3222603 - MSE:  10.366828 - Training Accuracy:  0.8773148\n",
      "epoch:  389 - cost:  0.32589805 - MSE:  12.105031 - Training Accuracy:  0.8634259\n",
      "epoch:  390 - cost:  0.34645817 - MSE:  10.086693 - Training Accuracy:  0.8564815\n",
      "epoch:  391 - cost:  0.36559132 - MSE:  12.813961 - Training Accuracy:  0.837963\n",
      "epoch:  392 - cost:  0.4003847 - MSE:  9.618456 - Training Accuracy:  0.8263889\n",
      "epoch:  393 - cost:  0.4168591 - MSE:  13.0270405 - Training Accuracy:  0.8078704\n",
      "epoch:  394 - cost:  0.44694233 - MSE:  9.500266 - Training Accuracy:  0.787037\n",
      "epoch:  395 - cost:  0.3907793 - MSE:  12.043077 - Training Accuracy:  0.8240741\n",
      "epoch:  396 - cost:  0.3620256 - MSE:  10.110722 - Training Accuracy:  0.8425926\n",
      "epoch:  397 - cost:  0.33117223 - MSE:  11.835567 - Training Accuracy:  0.875\n",
      "epoch:  398 - cost:  0.33118495 - MSE:  10.776091 - Training Accuracy:  0.8680556\n",
      "epoch:  399 - cost:  0.33380374 - MSE:  12.182591 - Training Accuracy:  0.8634259\n",
      "epoch:  400 - cost:  0.34521696 - MSE:  10.965647 - Training Accuracy:  0.8541667\n",
      "epoch:  401 - cost:  0.36392027 - MSE:  12.217272 - Training Accuracy:  0.8564815\n",
      "epoch:  402 - cost:  0.4044458 - MSE:  11.602042 - Training Accuracy:  0.8263889\n",
      "epoch:  403 - cost:  0.46568453 - MSE:  11.965254 - Training Accuracy:  0.7847222\n",
      "epoch:  404 - cost:  0.66444045 - MSE:  14.416445 - Training Accuracy:  0.7175926\n",
      "epoch:  405 - cost:  0.80772185 - MSE:  10.112269 - Training Accuracy:  0.6828704\n",
      "epoch:  406 - cost:  0.6211211 - MSE:  7.9917126 - Training Accuracy:  0.6689815\n",
      "epoch:  407 - cost:  0.47506487 - MSE:  9.377138 - Training Accuracy:  0.7777778\n",
      "epoch:  408 - cost:  0.37188175 - MSE:  9.829923 - Training Accuracy:  0.8634259\n"
     ]
    },
    {
     "name": "stdout",
     "output_type": "stream",
     "text": [
      "epoch:  409 - cost:  0.3355493 - MSE:  11.918784 - Training Accuracy:  0.8657407\n",
      "epoch:  410 - cost:  0.32059726 - MSE:  11.13894 - Training Accuracy:  0.8888889\n",
      "epoch:  411 - cost:  0.32356498 - MSE:  12.597271 - Training Accuracy:  0.8611111\n",
      "epoch:  412 - cost:  0.33667958 - MSE:  11.170561 - Training Accuracy:  0.8703704\n",
      "epoch:  413 - cost:  0.37129903 - MSE:  12.9602375 - Training Accuracy:  0.8402778\n",
      "epoch:  414 - cost:  0.40807748 - MSE:  10.487795 - Training Accuracy:  0.8240741\n",
      "epoch:  415 - cost:  0.41588655 - MSE:  12.85088 - Training Accuracy:  0.8032407\n",
      "epoch:  416 - cost:  0.4016489 - MSE:  9.936612 - Training Accuracy:  0.8101852\n",
      "epoch:  417 - cost:  0.3404913 - MSE:  12.128391 - Training Accuracy:  0.8611111\n",
      "epoch:  418 - cost:  0.3153683 - MSE:  10.902963 - Training Accuracy:  0.8796296\n",
      "epoch:  419 - cost:  0.31059787 - MSE:  12.506753 - Training Accuracy:  0.8796296\n",
      "epoch:  420 - cost:  0.31132564 - MSE:  11.24992 - Training Accuracy:  0.8865741\n",
      "epoch:  421 - cost:  0.3167704 - MSE:  12.821255 - Training Accuracy:  0.8726852\n",
      "epoch:  422 - cost:  0.32339466 - MSE:  11.349701 - Training Accuracy:  0.8680556\n",
      "epoch:  423 - cost:  0.34034255 - MSE:  12.989171 - Training Accuracy:  0.8587963\n",
      "epoch:  424 - cost:  0.3634579 - MSE:  11.441971 - Training Accuracy:  0.8425926\n",
      "epoch:  425 - cost:  0.4058023 - MSE:  12.882594 - Training Accuracy:  0.8125\n",
      "epoch:  426 - cost:  0.4959225 - MSE:  13.173885 - Training Accuracy:  0.7685185\n",
      "epoch:  427 - cost:  0.57488734 - MSE:  11.265796 - Training Accuracy:  0.7824074\n",
      "epoch:  428 - cost:  0.5045962 - MSE:  12.636214 - Training Accuracy:  0.7476852\n",
      "epoch:  429 - cost:  0.42935017 - MSE:  10.122955 - Training Accuracy:  0.8356481\n",
      "epoch:  430 - cost:  0.4228565 - MSE:  12.597212 - Training Accuracy:  0.8078704\n",
      "epoch:  431 - cost:  0.46996957 - MSE:  9.561985 - Training Accuracy:  0.7824074\n",
      "epoch:  432 - cost:  0.3380439 - MSE:  11.622196 - Training Accuracy:  0.8888889\n",
      "epoch:  433 - cost:  0.29476666 - MSE:  11.717683 - Training Accuracy:  0.8888889\n",
      "epoch:  434 - cost:  0.29078433 - MSE:  12.968148 - Training Accuracy:  0.8888889\n",
      "epoch:  435 - cost:  0.2997998 - MSE:  11.667183 - Training Accuracy:  0.8796296\n",
      "epoch:  436 - cost:  0.29425794 - MSE:  13.49113 - Training Accuracy:  0.8888889\n",
      "epoch:  437 - cost:  0.3129425 - MSE:  11.756197 - Training Accuracy:  0.8796296\n",
      "epoch:  438 - cost:  0.30641782 - MSE:  13.895242 - Training Accuracy:  0.8935185\n",
      "epoch:  439 - cost:  0.33577153 - MSE:  11.906756 - Training Accuracy:  0.8564815\n",
      "epoch:  440 - cost:  0.32697105 - MSE:  14.211346 - Training Accuracy:  0.8703704\n",
      "epoch:  441 - cost:  0.37099898 - MSE:  12.045185 - Training Accuracy:  0.8402778\n",
      "epoch:  442 - cost:  0.37073722 - MSE:  14.383964 - Training Accuracy:  0.8564815\n",
      "epoch:  443 - cost:  0.44374445 - MSE:  13.101663 - Training Accuracy:  0.8171296\n",
      "epoch:  444 - cost:  0.6013901 - MSE:  15.19035 - Training Accuracy:  0.7361111\n",
      "epoch:  445 - cost:  0.70422065 - MSE:  12.856197 - Training Accuracy:  0.6851852\n",
      "epoch:  446 - cost:  0.6188226 - MSE:  12.249256 - Training Accuracy:  0.7013889\n",
      "epoch:  447 - cost:  0.4066009 - MSE:  9.65413 - Training Accuracy:  0.8148148\n",
      "epoch:  448 - cost:  0.3231298 - MSE:  9.541423 - Training Accuracy:  0.8842593\n",
      "epoch:  449 - cost:  0.2961555 - MSE:  11.365646 - Training Accuracy:  0.8912037\n",
      "epoch:  450 - cost:  0.29098982 - MSE:  11.192273 - Training Accuracy:  0.8912037\n",
      "epoch:  451 - cost:  0.28666738 - MSE:  13.320221 - Training Accuracy:  0.8912037\n",
      "epoch:  452 - cost:  0.30333716 - MSE:  11.629416 - Training Accuracy:  0.8842593\n",
      "epoch:  453 - cost:  0.3108842 - MSE:  14.586131 - Training Accuracy:  0.875\n",
      "epoch:  454 - cost:  0.35844117 - MSE:  11.453586 - Training Accuracy:  0.8518519\n",
      "epoch:  455 - cost:  0.4584499 - MSE:  15.880798 - Training Accuracy:  0.775463\n",
      "epoch:  456 - cost:  0.574617 - MSE:  10.121799 - Training Accuracy:  0.75\n",
      "epoch:  457 - cost:  0.45650715 - MSE:  13.948829 - Training Accuracy:  0.7476852\n",
      "epoch:  458 - cost:  0.37226316 - MSE:  12.404065 - Training Accuracy:  0.837963\n",
      "epoch:  459 - cost:  0.31979802 - MSE:  11.997202 - Training Accuracy:  0.8842593\n",
      "epoch:  460 - cost:  0.3050291 - MSE:  13.8079605 - Training Accuracy:  0.8819444\n",
      "epoch:  461 - cost:  0.3168453 - MSE:  12.751766 - Training Accuracy:  0.8773148\n",
      "epoch:  462 - cost:  0.31072098 - MSE:  14.392634 - Training Accuracy:  0.8842593\n",
      "epoch:  463 - cost:  0.3330973 - MSE:  13.600699 - Training Accuracy:  0.8703704\n",
      "epoch:  464 - cost:  0.3680939 - MSE:  14.675151 - Training Accuracy:  0.8518519\n",
      "epoch:  465 - cost:  0.45065075 - MSE:  14.128142 - Training Accuracy:  0.8009259\n",
      "epoch:  466 - cost:  0.61282563 - MSE:  16.266459 - Training Accuracy:  0.7361111\n",
      "epoch:  467 - cost:  0.65061957 - MSE:  12.317675 - Training Accuracy:  0.7546296\n",
      "epoch:  468 - cost:  0.44725704 - MSE:  11.212707 - Training Accuracy:  0.8032407\n",
      "epoch:  469 - cost:  0.32407057 - MSE:  11.867088 - Training Accuracy:  0.875\n",
      "epoch:  470 - cost:  0.30528986 - MSE:  10.868375 - Training Accuracy:  0.8865741\n",
      "epoch:  471 - cost:  0.2964475 - MSE:  14.044605 - Training Accuracy:  0.8888889\n",
      "epoch:  472 - cost:  0.31839842 - MSE:  11.726162 - Training Accuracy:  0.8703704\n",
      "epoch:  473 - cost:  0.32838923 - MSE:  15.5231 - Training Accuracy:  0.8541667\n",
      "epoch:  474 - cost:  0.35919037 - MSE:  11.741817 - Training Accuracy:  0.849537\n",
      "epoch:  475 - cost:  0.41429728 - MSE:  16.050444 - Training Accuracy:  0.7962963\n",
      "epoch:  476 - cost:  0.4704621 - MSE:  10.94017 - Training Accuracy:  0.7777778\n",
      "epoch:  477 - cost:  0.36518356 - MSE:  14.389852 - Training Accuracy:  0.8356481\n",
      "epoch:  478 - cost:  0.30031678 - MSE:  12.453527 - Training Accuracy:  0.8703704\n",
      "epoch:  479 - cost:  0.27357212 - MSE:  14.171732 - Training Accuracy:  0.8935185\n",
      "epoch:  480 - cost:  0.26427424 - MSE:  13.360917 - Training Accuracy:  0.9050926\n",
      "epoch:  481 - cost:  0.25958708 - MSE:  14.59405 - Training Accuracy:  0.9074074\n",
      "epoch:  482 - cost:  0.2566105 - MSE:  13.863873 - Training Accuracy:  0.900463\n",
      "epoch:  483 - cost:  0.25739184 - MSE:  14.781584 - Training Accuracy:  0.9050926\n",
      "epoch:  484 - cost:  0.25835603 - MSE:  13.797735 - Training Accuracy:  0.9027778\n",
      "epoch:  485 - cost:  0.26236987 - MSE:  15.093334 - Training Accuracy:  0.9074074\n",
      "epoch:  486 - cost:  0.27756813 - MSE:  13.451637 - Training Accuracy:  0.8888889\n",
      "epoch:  487 - cost:  0.2983611 - MSE:  15.656143 - Training Accuracy:  0.875\n",
      "epoch:  488 - cost:  0.3366873 - MSE:  12.846375 - Training Accuracy:  0.849537\n",
      "epoch:  489 - cost:  0.39924777 - MSE:  16.280714 - Training Accuracy:  0.8194444\n",
      "epoch:  490 - cost:  0.4690375 - MSE:  12.032223 - Training Accuracy:  0.7777778\n",
      "epoch:  491 - cost:  0.37875345 - MSE:  14.854916 - Training Accuracy:  0.8263889\n",
      "epoch:  492 - cost:  0.34055096 - MSE:  11.863102 - Training Accuracy:  0.837963\n",
      "epoch:  493 - cost:  0.28102228 - MSE:  14.794266 - Training Accuracy:  0.8912037\n",
      "epoch:  494 - cost:  0.26153484 - MSE:  13.483816 - Training Accuracy:  0.900463\n",
      "epoch:  495 - cost:  0.259931 - MSE:  14.668752 - Training Accuracy:  0.9027778\n",
      "epoch:  496 - cost:  0.2701142 - MSE:  14.503307 - Training Accuracy:  0.8981481\n",
      "epoch:  497 - cost:  0.298685 - MSE:  14.4641485 - Training Accuracy:  0.8888889\n",
      "epoch:  498 - cost:  0.38091958 - MSE:  15.95382 - Training Accuracy:  0.849537\n",
      "epoch:  499 - cost:  0.57985014 - MSE:  14.978245 - Training Accuracy:  0.7662037\n",
      "epoch:  500 - cost:  0.71610713 - MSE:  16.507517 - Training Accuracy:  0.6597222\n",
      "epoch:  501 - cost:  0.592105 - MSE:  12.735241 - Training Accuracy:  0.7592593\n",
      "epoch:  502 - cost:  0.57150835 - MSE:  13.520063 - Training Accuracy:  0.7476852\n",
      "epoch:  503 - cost:  0.59214914 - MSE:  8.483722 - Training Accuracy:  0.6967593\n",
      "epoch:  504 - cost:  0.45231098 - MSE:  11.067809 - Training Accuracy:  0.7824074\n",
      "epoch:  505 - cost:  0.3481771 - MSE:  12.697717 - Training Accuracy:  0.8564815\n",
      "epoch:  506 - cost:  0.32720512 - MSE:  14.565098 - Training Accuracy:  0.8819444\n",
      "epoch:  507 - cost:  0.31824678 - MSE:  13.610114 - Training Accuracy:  0.8726852\n",
      "epoch:  508 - cost:  0.3095602 - MSE:  15.369636 - Training Accuracy:  0.8865741\n",
      "epoch:  509 - cost:  0.30961758 - MSE:  13.422597 - Training Accuracy:  0.8726852\n"
     ]
    },
    {
     "name": "stdout",
     "output_type": "stream",
     "text": [
      "epoch:  510 - cost:  0.3220986 - MSE:  16.359785 - Training Accuracy:  0.8587963\n",
      "epoch:  511 - cost:  0.36896092 - MSE:  13.531957 - Training Accuracy:  0.8402778\n",
      "epoch:  512 - cost:  0.44243824 - MSE:  16.992447 - Training Accuracy:  0.7939815\n",
      "epoch:  513 - cost:  0.49930382 - MSE:  12.152062 - Training Accuracy:  0.7662037\n",
      "epoch:  514 - cost:  0.38167882 - MSE:  14.721836 - Training Accuracy:  0.8333333\n",
      "epoch:  515 - cost:  0.3088785 - MSE:  11.889572 - Training Accuracy:  0.8680556\n",
      "epoch:  516 - cost:  0.2525729 - MSE:  14.989227 - Training Accuracy:  0.9143519\n",
      "epoch:  517 - cost:  0.24159183 - MSE:  14.180796 - Training Accuracy:  0.9189815\n",
      "epoch:  518 - cost:  0.23787525 - MSE:  15.220917 - Training Accuracy:  0.9166667\n",
      "epoch:  519 - cost:  0.23348382 - MSE:  14.749498 - Training Accuracy:  0.9189815\n",
      "epoch:  520 - cost:  0.23032351 - MSE:  15.258209 - Training Accuracy:  0.9236111\n",
      "epoch:  521 - cost:  0.22847092 - MSE:  14.9290905 - Training Accuracy:  0.9259259\n",
      "epoch:  522 - cost:  0.22637595 - MSE:  15.519673 - Training Accuracy:  0.9236111\n",
      "epoch:  523 - cost:  0.22492275 - MSE:  14.982781 - Training Accuracy:  0.9259259\n",
      "epoch:  524 - cost:  0.2238138 - MSE:  15.703206 - Training Accuracy:  0.9259259\n",
      "epoch:  525 - cost:  0.22415775 - MSE:  14.928448 - Training Accuracy:  0.9236111\n",
      "epoch:  526 - cost:  0.22219804 - MSE:  15.856318 - Training Accuracy:  0.9259259\n",
      "epoch:  527 - cost:  0.225641 - MSE:  14.755788 - Training Accuracy:  0.9143519\n",
      "epoch:  528 - cost:  0.22573768 - MSE:  16.105877 - Training Accuracy:  0.9166667\n",
      "epoch:  529 - cost:  0.23841406 - MSE:  14.43926 - Training Accuracy:  0.9189815\n",
      "epoch:  530 - cost:  0.2562426 - MSE:  16.620588 - Training Accuracy:  0.8935185\n",
      "epoch:  531 - cost:  0.30655372 - MSE:  13.780756 - Training Accuracy:  0.8657407\n",
      "epoch:  532 - cost:  0.4228685 - MSE:  18.027227 - Training Accuracy:  0.7962963\n",
      "epoch:  533 - cost:  0.61758435 - MSE:  12.529197 - Training Accuracy:  0.724537\n",
      "epoch:  534 - cost:  0.49149826 - MSE:  15.732018 - Training Accuracy:  0.7407407\n",
      "epoch:  535 - cost:  0.46001935 - MSE:  15.280284 - Training Accuracy:  0.7893519\n",
      "epoch:  536 - cost:  0.482186 - MSE:  11.491268 - Training Accuracy:  0.8032407\n",
      "epoch:  537 - cost:  0.2880979 - MSE:  13.953074 - Training Accuracy:  0.9097222\n",
      "epoch:  538 - cost:  0.2471508 - MSE:  15.103539 - Training Accuracy:  0.9074074\n",
      "epoch:  539 - cost:  0.23594217 - MSE:  15.454795 - Training Accuracy:  0.9166667\n",
      "epoch:  540 - cost:  0.24457079 - MSE:  15.371067 - Training Accuracy:  0.9097222\n",
      "epoch:  541 - cost:  0.2659163 - MSE:  16.642073 - Training Accuracy:  0.900463\n",
      "epoch:  542 - cost:  0.31752142 - MSE:  15.368201 - Training Accuracy:  0.875\n",
      "epoch:  543 - cost:  0.39410824 - MSE:  17.848013 - Training Accuracy:  0.8449074\n",
      "epoch:  544 - cost:  0.5719257 - MSE:  16.083714 - Training Accuracy:  0.7708333\n",
      "epoch:  545 - cost:  0.66905695 - MSE:  18.477598 - Training Accuracy:  0.712963\n",
      "epoch:  546 - cost:  0.5593134 - MSE:  12.252855 - Training Accuracy:  0.7800926\n",
      "epoch:  547 - cost:  0.3363668 - MSE:  11.099457 - Training Accuracy:  0.8634259\n",
      "epoch:  548 - cost:  0.26168945 - MSE:  12.960598 - Training Accuracy:  0.9097222\n",
      "epoch:  549 - cost:  0.24299349 - MSE:  13.48205 - Training Accuracy:  0.9189815\n",
      "epoch:  550 - cost:  0.24088615 - MSE:  16.118292 - Training Accuracy:  0.9189815\n",
      "epoch:  551 - cost:  0.25487396 - MSE:  14.079304 - Training Accuracy:  0.912037\n",
      "epoch:  552 - cost:  0.26415116 - MSE:  17.992285 - Training Accuracy:  0.8935185\n",
      "epoch:  553 - cost:  0.32791463 - MSE:  13.744923 - Training Accuracy:  0.875\n",
      "epoch:  554 - cost:  0.40471065 - MSE:  19.738426 - Training Accuracy:  0.8032407\n",
      "epoch:  555 - cost:  0.55646753 - MSE:  12.255875 - Training Accuracy:  0.7685185\n",
      "epoch:  556 - cost:  0.42859375 - MSE:  17.526918 - Training Accuracy:  0.7662037\n",
      "epoch:  557 - cost:  0.31924015 - MSE:  14.117489 - Training Accuracy:  0.8587963\n",
      "epoch:  558 - cost:  0.2577845 - MSE:  15.91254 - Training Accuracy:  0.9050926\n",
      "epoch:  559 - cost:  0.23372513 - MSE:  15.515513 - Training Accuracy:  0.9305556\n",
      "epoch:  560 - cost:  0.22212675 - MSE:  16.594685 - Training Accuracy:  0.9212963\n",
      "epoch:  561 - cost:  0.21659267 - MSE:  16.657784 - Training Accuracy:  0.9236111\n",
      "epoch:  562 - cost:  0.21309337 - MSE:  16.744144 - Training Accuracy:  0.9212963\n",
      "epoch:  563 - cost:  0.21644676 - MSE:  17.319149 - Training Accuracy:  0.9259259\n",
      "epoch:  564 - cost:  0.22493961 - MSE:  16.69486 - Training Accuracy:  0.9166667\n",
      "epoch:  565 - cost:  0.23593189 - MSE:  17.60451 - Training Accuracy:  0.9143519\n",
      "epoch:  566 - cost:  0.27001992 - MSE:  16.75814 - Training Accuracy:  0.8958333\n",
      "epoch:  567 - cost:  0.354804 - MSE:  18.86103 - Training Accuracy:  0.8518519\n",
      "epoch:  568 - cost:  0.5464236 - MSE:  17.610893 - Training Accuracy:  0.7777778\n",
      "epoch:  569 - cost:  0.8713375 - MSE:  22.570124 - Training Accuracy:  0.6666667\n",
      "epoch:  570 - cost:  0.83740336 - MSE:  13.996079 - Training Accuracy:  0.6597222\n",
      "epoch:  571 - cost:  0.5098837 - MSE:  10.287798 - Training Accuracy:  0.7407407\n",
      "epoch:  572 - cost:  0.3400116 - MSE:  13.589031 - Training Accuracy:  0.8726852\n",
      "epoch:  573 - cost:  0.35582733 - MSE:  11.529008 - Training Accuracy:  0.8356481\n",
      "epoch:  574 - cost:  0.2868171 - MSE:  17.094635 - Training Accuracy:  0.8912037\n",
      "epoch:  575 - cost:  0.27186906 - MSE:  14.11664 - Training Accuracy:  0.9027778\n",
      "epoch:  576 - cost:  0.28190053 - MSE:  18.799187 - Training Accuracy:  0.8819444\n",
      "epoch:  577 - cost:  0.3184745 - MSE:  14.068246 - Training Accuracy:  0.8726852\n",
      "epoch:  578 - cost:  0.30572966 - MSE:  19.05419 - Training Accuracy:  0.8541667\n",
      "epoch:  579 - cost:  0.28560403 - MSE:  15.266959 - Training Accuracy:  0.8680556\n",
      "epoch:  580 - cost:  0.26902983 - MSE:  18.248787 - Training Accuracy:  0.9027778\n",
      "epoch:  581 - cost:  0.26718438 - MSE:  15.184967 - Training Accuracy:  0.8865741\n",
      "epoch:  582 - cost:  0.24616538 - MSE:  18.33803 - Training Accuracy:  0.912037\n",
      "epoch:  583 - cost:  0.23038562 - MSE:  16.127195 - Training Accuracy:  0.9236111\n",
      "epoch:  584 - cost:  0.22185715 - MSE:  18.285713 - Training Accuracy:  0.9143519\n",
      "epoch:  585 - cost:  0.21980532 - MSE:  16.585478 - Training Accuracy:  0.9259259\n",
      "epoch:  586 - cost:  0.21751401 - MSE:  18.296602 - Training Accuracy:  0.9166667\n",
      "epoch:  587 - cost:  0.21769859 - MSE:  17.039192 - Training Accuracy:  0.9212963\n",
      "epoch:  588 - cost:  0.2217581 - MSE:  18.094141 - Training Accuracy:  0.9097222\n",
      "epoch:  589 - cost:  0.23311672 - MSE:  17.461664 - Training Accuracy:  0.9097222\n",
      "epoch:  590 - cost:  0.24741684 - MSE:  17.917992 - Training Accuracy:  0.8981481\n",
      "epoch:  591 - cost:  0.2941493 - MSE:  18.47559 - Training Accuracy:  0.8726852\n",
      "epoch:  592 - cost:  0.38140035 - MSE:  17.908669 - Training Accuracy:  0.849537\n",
      "epoch:  593 - cost:  0.5670065 - MSE:  21.041044 - Training Accuracy:  0.7615741\n",
      "epoch:  594 - cost:  0.7008751 - MSE:  16.324493 - Training Accuracy:  0.75\n",
      "epoch:  595 - cost:  0.4828272 - MSE:  14.862758 - Training Accuracy:  0.7685185\n",
      "epoch:  596 - cost:  0.3119338 - MSE:  13.919952 - Training Accuracy:  0.8842593\n",
      "epoch:  597 - cost:  0.28153327 - MSE:  12.679532 - Training Accuracy:  0.8842593\n",
      "epoch:  598 - cost:  0.23989724 - MSE:  17.329094 - Training Accuracy:  0.9166667\n",
      "epoch:  599 - cost:  0.2596371 - MSE:  14.687448 - Training Accuracy:  0.9074074\n",
      "epoch:  600 - cost:  0.24542181 - MSE:  19.505693 - Training Accuracy:  0.9050926\n",
      "epoch:  601 - cost:  0.2549118 - MSE:  15.690251 - Training Accuracy:  0.900463\n",
      "epoch:  602 - cost:  0.26830003 - MSE:  20.097795 - Training Accuracy:  0.8935185\n",
      "epoch:  603 - cost:  0.30599535 - MSE:  14.949999 - Training Accuracy:  0.8634259\n",
      "epoch:  604 - cost:  0.29878652 - MSE:  20.117594 - Training Accuracy:  0.8634259\n",
      "epoch:  605 - cost:  0.29843196 - MSE:  15.282162 - Training Accuracy:  0.8564815\n",
      "epoch:  606 - cost:  0.27491954 - MSE:  19.79084 - Training Accuracy:  0.8935185\n",
      "epoch:  607 - cost:  0.29526702 - MSE:  14.934635 - Training Accuracy:  0.8680556\n",
      "epoch:  608 - cost:  0.2442919 - MSE:  19.276783 - Training Accuracy:  0.9097222\n",
      "epoch:  609 - cost:  0.23418388 - MSE:  17.587797 - Training Accuracy:  0.9097222\n",
      "epoch:  610 - cost:  0.22789516 - MSE:  18.457335 - Training Accuracy:  0.9143519\n"
     ]
    },
    {
     "name": "stdout",
     "output_type": "stream",
     "text": [
      "epoch:  611 - cost:  0.23877312 - MSE:  19.07078 - Training Accuracy:  0.9097222\n",
      "epoch:  612 - cost:  0.25862262 - MSE:  17.779057 - Training Accuracy:  0.8912037\n",
      "epoch:  613 - cost:  0.28072307 - MSE:  19.565172 - Training Accuracy:  0.8842593\n",
      "epoch:  614 - cost:  0.34465843 - MSE:  18.14349 - Training Accuracy:  0.8611111\n",
      "epoch:  615 - cost:  0.49602473 - MSE:  21.693335 - Training Accuracy:  0.7800926\n",
      "epoch:  616 - cost:  0.7308961 - MSE:  18.363426 - Training Accuracy:  0.7314815\n",
      "epoch:  617 - cost:  0.61310107 - MSE:  16.101604 - Training Accuracy:  0.6851852\n",
      "epoch:  618 - cost:  0.3828672 - MSE:  14.518455 - Training Accuracy:  0.8194444\n",
      "epoch:  619 - cost:  0.36153913 - MSE:  11.270165 - Training Accuracy:  0.8449074\n",
      "epoch:  620 - cost:  0.22418076 - MSE:  16.318682 - Training Accuracy:  0.9212963\n",
      "epoch:  621 - cost:  0.2060116 - MSE:  16.573002 - Training Accuracy:  0.9328704\n",
      "epoch:  622 - cost:  0.19694246 - MSE:  17.948236 - Training Accuracy:  0.9282407\n",
      "epoch:  623 - cost:  0.19045258 - MSE:  17.859205 - Training Accuracy:  0.9398148\n",
      "epoch:  624 - cost:  0.18592383 - MSE:  18.888332 - Training Accuracy:  0.9398148\n",
      "epoch:  625 - cost:  0.18356694 - MSE:  18.307564 - Training Accuracy:  0.9398148\n",
      "epoch:  626 - cost:  0.18156941 - MSE:  19.319939 - Training Accuracy:  0.9398148\n",
      "epoch:  627 - cost:  0.17945836 - MSE:  18.667168 - Training Accuracy:  0.9398148\n",
      "epoch:  628 - cost:  0.17750132 - MSE:  19.479681 - Training Accuracy:  0.9444444\n",
      "epoch:  629 - cost:  0.17695177 - MSE:  18.59351 - Training Accuracy:  0.9421296\n",
      "epoch:  630 - cost:  0.17720406 - MSE:  19.76359 - Training Accuracy:  0.9444444\n",
      "epoch:  631 - cost:  0.17995042 - MSE:  18.345316 - Training Accuracy:  0.9421296\n",
      "epoch:  632 - cost:  0.1888114 - MSE:  20.44071 - Training Accuracy:  0.9305556\n",
      "epoch:  633 - cost:  0.22334158 - MSE:  17.149994 - Training Accuracy:  0.9097222\n",
      "epoch:  634 - cost:  0.2579232 - MSE:  21.823805 - Training Accuracy:  0.8935185\n",
      "epoch:  635 - cost:  0.4450081 - MSE:  15.250668 - Training Accuracy:  0.8287037\n",
      "epoch:  636 - cost:  0.5556939 - MSE:  23.276503 - Training Accuracy:  0.7222222\n",
      "epoch:  637 - cost:  0.6350572 - MSE:  16.039852 - Training Accuracy:  0.7222222\n",
      "epoch:  638 - cost:  0.34549806 - MSE:  15.507732 - Training Accuracy:  0.837963\n",
      "epoch:  639 - cost:  0.3099841 - MSE:  13.614875 - Training Accuracy:  0.8611111\n",
      "epoch:  640 - cost:  0.21852769 - MSE:  18.79551 - Training Accuracy:  0.9236111\n",
      "epoch:  641 - cost:  0.20583972 - MSE:  17.625633 - Training Accuracy:  0.9421296\n",
      "epoch:  642 - cost:  0.19349734 - MSE:  19.847466 - Training Accuracy:  0.9305556\n",
      "epoch:  643 - cost:  0.18630296 - MSE:  18.730806 - Training Accuracy:  0.9467593\n",
      "epoch:  644 - cost:  0.18138303 - MSE:  20.204847 - Training Accuracy:  0.9375\n",
      "epoch:  645 - cost:  0.17906277 - MSE:  19.317108 - Training Accuracy:  0.9444444\n",
      "epoch:  646 - cost:  0.18095767 - MSE:  20.479725 - Training Accuracy:  0.9398148\n",
      "epoch:  647 - cost:  0.1876768 - MSE:  19.141933 - Training Accuracy:  0.9398148\n",
      "epoch:  648 - cost:  0.19572249 - MSE:  20.917658 - Training Accuracy:  0.9259259\n",
      "epoch:  649 - cost:  0.21794812 - MSE:  18.914577 - Training Accuracy:  0.9282407\n",
      "epoch:  650 - cost:  0.2196686 - MSE:  20.80255 - Training Accuracy:  0.9166667\n",
      "epoch:  651 - cost:  0.25865728 - MSE:  19.69221 - Training Accuracy:  0.8865741\n",
      "epoch:  652 - cost:  0.30670002 - MSE:  21.1199 - Training Accuracy:  0.8726852\n",
      "epoch:  653 - cost:  0.42241853 - MSE:  20.33348 - Training Accuracy:  0.8217593\n",
      "epoch:  654 - cost:  0.6809496 - MSE:  23.79446 - Training Accuracy:  0.7384259\n",
      "epoch:  655 - cost:  0.7416102 - MSE:  16.886488 - Training Accuracy:  0.7268519\n",
      "epoch:  656 - cost:  0.44668636 - MSE:  13.029243 - Training Accuracy:  0.7638889\n",
      "epoch:  657 - cost:  0.30679038 - MSE:  16.709564 - Training Accuracy:  0.8865741\n",
      "epoch:  658 - cost:  0.34035227 - MSE:  13.853547 - Training Accuracy:  0.849537\n",
      "epoch:  659 - cost:  0.2571166 - MSE:  20.567009 - Training Accuracy:  0.8888889\n",
      "epoch:  660 - cost:  0.22083218 - MSE:  17.201878 - Training Accuracy:  0.9189815\n",
      "epoch:  661 - cost:  0.21185614 - MSE:  21.330732 - Training Accuracy:  0.9305556\n",
      "epoch:  662 - cost:  0.20505565 - MSE:  17.993692 - Training Accuracy:  0.9236111\n",
      "epoch:  663 - cost:  0.19244376 - MSE:  21.683886 - Training Accuracy:  0.9328704\n",
      "epoch:  664 - cost:  0.19008055 - MSE:  19.065903 - Training Accuracy:  0.9282407\n",
      "epoch:  665 - cost:  0.19941995 - MSE:  22.082418 - Training Accuracy:  0.9259259\n",
      "epoch:  666 - cost:  0.21481489 - MSE:  18.31678 - Training Accuracy:  0.912037\n",
      "epoch:  667 - cost:  0.22988409 - MSE:  22.817217 - Training Accuracy:  0.912037\n",
      "epoch:  668 - cost:  0.2766292 - MSE:  17.380398 - Training Accuracy:  0.8842593\n",
      "epoch:  669 - cost:  0.3021944 - MSE:  23.504938 - Training Accuracy:  0.8611111\n",
      "epoch:  670 - cost:  0.42338288 - MSE:  15.125198 - Training Accuracy:  0.8009259\n",
      "epoch:  671 - cost:  0.3076971 - MSE:  22.041063 - Training Accuracy:  0.8449074\n",
      "epoch:  672 - cost:  0.2921726 - MSE:  19.75292 - Training Accuracy:  0.8634259\n",
      "epoch:  673 - cost:  0.25222751 - MSE:  19.403551 - Training Accuracy:  0.9074074\n",
      "epoch:  674 - cost:  0.23746431 - MSE:  21.44533 - Training Accuracy:  0.9074074\n",
      "epoch:  675 - cost:  0.2522057 - MSE:  19.32169 - Training Accuracy:  0.9074074\n",
      "epoch:  676 - cost:  0.24852915 - MSE:  22.094574 - Training Accuracy:  0.9027778\n",
      "epoch:  677 - cost:  0.2750357 - MSE:  20.161255 - Training Accuracy:  0.8912037\n",
      "epoch:  678 - cost:  0.30551076 - MSE:  22.671543 - Training Accuracy:  0.8796296\n",
      "epoch:  679 - cost:  0.38348028 - MSE:  20.39048 - Training Accuracy:  0.8356481\n",
      "epoch:  680 - cost:  0.47126517 - MSE:  23.93127 - Training Accuracy:  0.8101852\n",
      "epoch:  681 - cost:  0.609751 - MSE:  18.84437 - Training Accuracy:  0.7777778\n",
      "epoch:  682 - cost:  0.43587673 - MSE:  16.191277 - Training Accuracy:  0.7893519\n",
      "epoch:  683 - cost:  0.28864706 - MSE:  19.544863 - Training Accuracy:  0.8796296\n",
      "epoch:  684 - cost:  0.25580934 - MSE:  15.451229 - Training Accuracy:  0.9027778\n",
      "epoch:  685 - cost:  0.20430224 - MSE:  21.378185 - Training Accuracy:  0.9328704\n",
      "epoch:  686 - cost:  0.18777603 - MSE:  18.793417 - Training Accuracy:  0.9351852\n",
      "epoch:  687 - cost:  0.17860712 - MSE:  22.108995 - Training Accuracy:  0.9398148\n",
      "epoch:  688 - cost:  0.17198876 - MSE:  20.09141 - Training Accuracy:  0.9375\n",
      "epoch:  689 - cost:  0.17217533 - MSE:  22.627846 - Training Accuracy:  0.9467593\n",
      "epoch:  690 - cost:  0.17763169 - MSE:  19.778032 - Training Accuracy:  0.9351852\n",
      "epoch:  691 - cost:  0.1807648 - MSE:  23.218014 - Training Accuracy:  0.9398148\n",
      "epoch:  692 - cost:  0.2011012 - MSE:  19.149288 - Training Accuracy:  0.9259259\n",
      "epoch:  693 - cost:  0.20488608 - MSE:  23.770193 - Training Accuracy:  0.9212963\n",
      "epoch:  694 - cost:  0.24514961 - MSE:  18.724365 - Training Accuracy:  0.8958333\n",
      "epoch:  695 - cost:  0.29017404 - MSE:  24.736076 - Training Accuracy:  0.8703704\n",
      "epoch:  696 - cost:  0.40800068 - MSE:  16.602814 - Training Accuracy:  0.8078704\n",
      "epoch:  697 - cost:  0.32454467 - MSE:  23.610826 - Training Accuracy:  0.8425926\n",
      "epoch:  698 - cost:  0.31119305 - MSE:  19.207153 - Training Accuracy:  0.8518519\n",
      "epoch:  699 - cost:  0.21838096 - MSE:  20.859632 - Training Accuracy:  0.9212963\n",
      "epoch:  700 - cost:  0.18329747 - MSE:  19.826878 - Training Accuracy:  0.9375\n",
      "epoch:  701 - cost:  0.16118132 - MSE:  21.329561 - Training Accuracy:  0.9537037\n",
      "epoch:  702 - cost:  0.15349539 - MSE:  21.4953 - Training Accuracy:  0.9490741\n",
      "epoch:  703 - cost:  0.15027258 - MSE:  21.287815 - Training Accuracy:  0.9606481\n",
      "epoch:  704 - cost:  0.14834033 - MSE:  22.016567 - Training Accuracy:  0.9560185\n",
      "epoch:  705 - cost:  0.14668024 - MSE:  21.311811 - Training Accuracy:  0.9606481\n",
      "epoch:  706 - cost:  0.14476708 - MSE:  22.377987 - Training Accuracy:  0.9583333\n",
      "epoch:  707 - cost:  0.14367965 - MSE:  21.369263 - Training Accuracy:  0.9606481\n",
      "epoch:  708 - cost:  0.1428304 - MSE:  22.671982 - Training Accuracy:  0.9606481\n",
      "epoch:  709 - cost:  0.14391737 - MSE:  21.36976 - Training Accuracy:  0.962963\n",
      "epoch:  710 - cost:  0.14245056 - MSE:  23.068007 - Training Accuracy:  0.9583333\n",
      "epoch:  711 - cost:  0.14726575 - MSE:  21.229042 - Training Accuracy:  0.9583333\n"
     ]
    },
    {
     "name": "stdout",
     "output_type": "stream",
     "text": [
      "epoch:  712 - cost:  0.14534217 - MSE:  23.577467 - Training Accuracy:  0.9513889\n",
      "epoch:  713 - cost:  0.15886085 - MSE:  20.840889 - Training Accuracy:  0.9467593\n",
      "epoch:  714 - cost:  0.14628994 - MSE:  23.976162 - Training Accuracy:  0.9537037\n",
      "epoch:  715 - cost:  0.15954399 - MSE:  20.877869 - Training Accuracy:  0.9421296\n",
      "epoch:  716 - cost:  0.14682013 - MSE:  24.18354 - Training Accuracy:  0.9513889\n",
      "epoch:  717 - cost:  0.15609753 - MSE:  21.164337 - Training Accuracy:  0.9421296\n",
      "epoch:  718 - cost:  0.15533377 - MSE:  24.63494 - Training Accuracy:  0.9421296\n",
      "epoch:  719 - cost:  0.19705972 - MSE:  20.184626 - Training Accuracy:  0.9189815\n",
      "epoch:  720 - cost:  0.23705088 - MSE:  25.875538 - Training Accuracy:  0.900463\n",
      "epoch:  721 - cost:  0.45304123 - MSE:  18.321754 - Training Accuracy:  0.8078704\n",
      "epoch:  722 - cost:  0.66799974 - MSE:  28.593174 - Training Accuracy:  0.7175926\n",
      "epoch:  723 - cost:  1.1199144 - MSE:  13.799955 - Training Accuracy:  0.5393519\n",
      "epoch:  724 - cost:  0.5221956 - MSE:  14.325558 - Training Accuracy:  0.7662037\n",
      "epoch:  725 - cost:  0.2953398 - MSE:  14.923389 - Training Accuracy:  0.8773148\n",
      "epoch:  726 - cost:  0.22838418 - MSE:  17.001839 - Training Accuracy:  0.9282407\n",
      "epoch:  727 - cost:  0.1983766 - MSE:  19.698093 - Training Accuracy:  0.9467593\n",
      "epoch:  728 - cost:  0.17566067 - MSE:  19.608181 - Training Accuracy:  0.9513889\n",
      "epoch:  729 - cost:  0.16017692 - MSE:  22.078964 - Training Accuracy:  0.9560185\n",
      "epoch:  730 - cost:  0.15323275 - MSE:  21.63245 - Training Accuracy:  0.9537037\n",
      "epoch:  731 - cost:  0.14757448 - MSE:  22.985338 - Training Accuracy:  0.9583333\n",
      "epoch:  732 - cost:  0.14506161 - MSE:  22.067717 - Training Accuracy:  0.962963\n",
      "epoch:  733 - cost:  0.14221035 - MSE:  23.240122 - Training Accuracy:  0.9606481\n",
      "epoch:  734 - cost:  0.14146097 - MSE:  22.04531 - Training Accuracy:  0.962963\n",
      "epoch:  735 - cost:  0.13888988 - MSE:  23.31659 - Training Accuracy:  0.962963\n",
      "epoch:  736 - cost:  0.13867095 - MSE:  22.045128 - Training Accuracy:  0.9652778\n",
      "epoch:  737 - cost:  0.13641694 - MSE:  23.523014 - Training Accuracy:  0.962963\n",
      "epoch:  738 - cost:  0.1386339 - MSE:  22.045256 - Training Accuracy:  0.962963\n",
      "epoch:  739 - cost:  0.13709915 - MSE:  23.879599 - Training Accuracy:  0.9583333\n",
      "epoch:  740 - cost:  0.1424406 - MSE:  21.928715 - Training Accuracy:  0.9606481\n",
      "epoch:  741 - cost:  0.14084715 - MSE:  24.376276 - Training Accuracy:  0.9606481\n",
      "epoch:  742 - cost:  0.15863225 - MSE:  21.5256 - Training Accuracy:  0.9490741\n",
      "epoch:  743 - cost:  0.14504354 - MSE:  24.866434 - Training Accuracy:  0.9606481\n",
      "epoch:  744 - cost:  0.15906277 - MSE:  21.679125 - Training Accuracy:  0.9513889\n",
      "epoch:  745 - cost:  0.13936292 - MSE:  24.88122 - Training Accuracy:  0.9606481\n",
      "epoch:  746 - cost:  0.14552839 - MSE:  22.126762 - Training Accuracy:  0.9513889\n",
      "epoch:  747 - cost:  0.13833277 - MSE:  25.16774 - Training Accuracy:  0.9606481\n",
      "epoch:  748 - cost:  0.1486311 - MSE:  22.062881 - Training Accuracy:  0.9560185\n",
      "epoch:  749 - cost:  0.14113562 - MSE:  25.555775 - Training Accuracy:  0.9583333\n",
      "epoch:  750 - cost:  0.16065954 - MSE:  21.809347 - Training Accuracy:  0.9490741\n",
      "epoch:  751 - cost:  0.13742751 - MSE:  25.59945 - Training Accuracy:  0.9560185\n",
      "epoch:  752 - cost:  0.14129831 - MSE:  22.597813 - Training Accuracy:  0.9467593\n",
      "epoch:  753 - cost:  0.13782981 - MSE:  25.997261 - Training Accuracy:  0.9583333\n",
      "epoch:  754 - cost:  0.15693817 - MSE:  22.178328 - Training Accuracy:  0.9375\n",
      "epoch:  755 - cost:  0.16197504 - MSE:  26.719168 - Training Accuracy:  0.9328704\n",
      "epoch:  756 - cost:  0.24332613 - MSE:  20.998562 - Training Accuracy:  0.8958333\n",
      "epoch:  757 - cost:  0.43793184 - MSE:  30.0613 - Training Accuracy:  0.8148148\n",
      "epoch:  758 - cost:  1.0926989 - MSE:  16.380684 - Training Accuracy:  0.625\n",
      "epoch:  759 - cost:  0.9652176 - MSE:  26.087425 - Training Accuracy:  0.5902778\n",
      "epoch:  760 - cost:  1.0569494 - MSE:  22.223423 - Training Accuracy:  0.5902778\n",
      "epoch:  761 - cost:  0.72723544 - MSE:  8.359387 - Training Accuracy:  0.6273148\n",
      "epoch:  762 - cost:  0.60451055 - MSE:  11.987499 - Training Accuracy:  0.7152778\n",
      "epoch:  763 - cost:  0.51878405 - MSE:  14.456787 - Training Accuracy:  0.7615741\n",
      "epoch:  764 - cost:  0.4435333 - MSE:  17.857672 - Training Accuracy:  0.8287037\n",
      "epoch:  765 - cost:  0.38669613 - MSE:  20.036722 - Training Accuracy:  0.8703704\n",
      "epoch:  766 - cost:  0.33569738 - MSE:  22.572456 - Training Accuracy:  0.8726852\n",
      "epoch:  767 - cost:  0.3034073 - MSE:  23.278828 - Training Accuracy:  0.8796296\n",
      "epoch:  768 - cost:  0.28131202 - MSE:  24.044453 - Training Accuracy:  0.8935185\n",
      "epoch:  769 - cost:  0.2614098 - MSE:  24.07853 - Training Accuracy:  0.9027778\n",
      "epoch:  770 - cost:  0.24507491 - MSE:  25.085657 - Training Accuracy:  0.9143519\n",
      "epoch:  771 - cost:  0.24040186 - MSE:  24.36653 - Training Accuracy:  0.9212963\n",
      "epoch:  772 - cost:  0.25602174 - MSE:  26.415493 - Training Accuracy:  0.8935185\n",
      "epoch:  773 - cost:  0.34762332 - MSE:  24.38664 - Training Accuracy:  0.8449074\n",
      "epoch:  774 - cost:  0.556223 - MSE:  30.31355 - Training Accuracy:  0.7638889\n",
      "epoch:  775 - cost:  1.0654161 - MSE:  30.266167 - Training Accuracy:  0.6180556\n",
      "epoch:  776 - cost:  0.69305146 - MSE:  19.643524 - Training Accuracy:  0.7199074\n",
      "epoch:  777 - cost:  0.37584305 - MSE:  14.512471 - Training Accuracy:  0.8310185\n",
      "epoch:  778 - cost:  0.3005476 - MSE:  14.044095 - Training Accuracy:  0.8796296\n",
      "epoch:  779 - cost:  0.21673022 - MSE:  18.567131 - Training Accuracy:  0.9375\n",
      "epoch:  780 - cost:  0.18772012 - MSE:  20.659004 - Training Accuracy:  0.9398148\n",
      "epoch:  781 - cost:  0.17158812 - MSE:  21.28756 - Training Accuracy:  0.9444444\n",
      "epoch:  782 - cost:  0.16004829 - MSE:  23.763285 - Training Accuracy:  0.9467593\n",
      "epoch:  783 - cost:  0.15289919 - MSE:  23.256218 - Training Accuracy:  0.9583333\n",
      "epoch:  784 - cost:  0.14384507 - MSE:  25.480356 - Training Accuracy:  0.9560185\n",
      "epoch:  785 - cost:  0.1398387 - MSE:  24.376041 - Training Accuracy:  0.9606481\n",
      "epoch:  786 - cost:  0.1372112 - MSE:  26.546171 - Training Accuracy:  0.9537037\n",
      "epoch:  787 - cost:  0.13564193 - MSE:  24.681868 - Training Accuracy:  0.9583333\n",
      "epoch:  788 - cost:  0.1352595 - MSE:  27.220024 - Training Accuracy:  0.9513889\n",
      "epoch:  789 - cost:  0.13261607 - MSE:  24.933025 - Training Accuracy:  0.9583333\n",
      "epoch:  790 - cost:  0.13407102 - MSE:  27.750296 - Training Accuracy:  0.9513889\n",
      "epoch:  791 - cost:  0.13321397 - MSE:  24.913631 - Training Accuracy:  0.9490741\n",
      "epoch:  792 - cost:  0.13955635 - MSE:  28.228045 - Training Accuracy:  0.9490741\n",
      "epoch:  793 - cost:  0.14795008 - MSE:  24.41587 - Training Accuracy:  0.9375\n",
      "epoch:  794 - cost:  0.16860007 - MSE:  29.261148 - Training Accuracy:  0.9236111\n",
      "epoch:  795 - cost:  0.24944055 - MSE:  22.381365 - Training Accuracy:  0.8935185\n",
      "epoch:  796 - cost:  0.3879791 - MSE:  31.847609 - Training Accuracy:  0.8125\n",
      "epoch:  797 - cost:  0.72099024 - MSE:  19.275675 - Training Accuracy:  0.7337963\n",
      "epoch:  798 - cost:  0.43262193 - MSE:  26.777142 - Training Accuracy:  0.7731481\n",
      "epoch:  799 - cost:  0.32695287 - MSE:  18.111204 - Training Accuracy:  0.8611111\n",
      "epoch:  800 - cost:  0.19544111 - MSE:  22.312042 - Training Accuracy:  0.9467593\n",
      "epoch:  801 - cost:  0.16447745 - MSE:  24.943172 - Training Accuracy:  0.9537037\n",
      "epoch:  802 - cost:  0.14916421 - MSE:  24.970804 - Training Accuracy:  0.9583333\n",
      "epoch:  803 - cost:  0.14190549 - MSE:  26.466906 - Training Accuracy:  0.962963\n",
      "epoch:  804 - cost:  0.13810359 - MSE:  25.552856 - Training Accuracy:  0.9652778\n",
      "epoch:  805 - cost:  0.13337804 - MSE:  27.109087 - Training Accuracy:  0.962963\n",
      "epoch:  806 - cost:  0.13129798 - MSE:  26.296206 - Training Accuracy:  0.9652778\n",
      "epoch:  807 - cost:  0.12797013 - MSE:  27.344788 - Training Accuracy:  0.962963\n",
      "epoch:  808 - cost:  0.12637348 - MSE:  26.897028 - Training Accuracy:  0.9675926\n",
      "epoch:  809 - cost:  0.12504484 - MSE:  27.673336 - Training Accuracy:  0.9606481\n",
      "epoch:  810 - cost:  0.1243015 - MSE:  27.121979 - Training Accuracy:  0.9652778\n",
      "epoch:  811 - cost:  0.12292827 - MSE:  28.140905 - Training Accuracy:  0.9583333\n",
      "epoch:  812 - cost:  0.12195799 - MSE:  27.280777 - Training Accuracy:  0.9652778\n"
     ]
    },
    {
     "name": "stdout",
     "output_type": "stream",
     "text": [
      "epoch:  813 - cost:  0.12079731 - MSE:  28.475925 - Training Accuracy:  0.9560185\n",
      "epoch:  814 - cost:  0.12197032 - MSE:  27.360277 - Training Accuracy:  0.9652778\n",
      "epoch:  815 - cost:  0.11889638 - MSE:  28.614492 - Training Accuracy:  0.962963\n",
      "epoch:  816 - cost:  0.119191885 - MSE:  27.65716 - Training Accuracy:  0.9652778\n",
      "epoch:  817 - cost:  0.116722636 - MSE:  28.69236 - Training Accuracy:  0.962963\n",
      "epoch:  818 - cost:  0.11707739 - MSE:  27.913544 - Training Accuracy:  0.9652778\n",
      "epoch:  819 - cost:  0.11457252 - MSE:  28.871124 - Training Accuracy:  0.9606481\n",
      "epoch:  820 - cost:  0.11556784 - MSE:  28.075872 - Training Accuracy:  0.9652778\n",
      "epoch:  821 - cost:  0.11368324 - MSE:  28.949745 - Training Accuracy:  0.9606481\n",
      "epoch:  822 - cost:  0.11480241 - MSE:  28.253096 - Training Accuracy:  0.9675926\n",
      "epoch:  823 - cost:  0.11351896 - MSE:  28.970028 - Training Accuracy:  0.9606481\n",
      "epoch:  824 - cost:  0.11398036 - MSE:  28.450758 - Training Accuracy:  0.9699074\n",
      "epoch:  825 - cost:  0.1143644 - MSE:  28.902718 - Training Accuracy:  0.962963\n",
      "epoch:  826 - cost:  0.1156589 - MSE:  28.743462 - Training Accuracy:  0.9699074\n",
      "epoch:  827 - cost:  0.11766063 - MSE:  28.926113 - Training Accuracy:  0.9560185\n",
      "epoch:  828 - cost:  0.12029117 - MSE:  29.125053 - Training Accuracy:  0.9675926\n",
      "epoch:  829 - cost:  0.12856093 - MSE:  28.699598 - Training Accuracy:  0.9513889\n",
      "epoch:  830 - cost:  0.13164209 - MSE:  29.569345 - Training Accuracy:  0.9560185\n",
      "epoch:  831 - cost:  0.15797274 - MSE:  28.584608 - Training Accuracy:  0.9421296\n",
      "epoch:  832 - cost:  0.18380183 - MSE:  30.17902 - Training Accuracy:  0.9143519\n",
      "epoch:  833 - cost:  0.26931345 - MSE:  28.54497 - Training Accuracy:  0.8819444\n",
      "epoch:  834 - cost:  0.43380493 - MSE:  32.198547 - Training Accuracy:  0.8078704\n",
      "epoch:  835 - cost:  0.97320557 - MSE:  32.252335 - Training Accuracy:  0.6782407\n",
      "epoch:  836 - cost:  0.9352722 - MSE:  26.44241 - Training Accuracy:  0.6643519\n",
      "epoch:  837 - cost:  0.58889437 - MSE:  18.33704 - Training Accuracy:  0.6805556\n",
      "epoch:  838 - cost:  0.5029377 - MSE:  12.53806 - Training Accuracy:  0.7592593\n",
      "epoch:  839 - cost:  0.2540194 - MSE:  18.178629 - Training Accuracy:  0.9097222\n",
      "epoch:  840 - cost:  0.17548245 - MSE:  22.574377 - Training Accuracy:  0.9560185\n",
      "epoch:  841 - cost:  0.14620478 - MSE:  24.84919 - Training Accuracy:  0.9606481\n",
      "epoch:  842 - cost:  0.13077037 - MSE:  26.225063 - Training Accuracy:  0.9675926\n",
      "epoch:  843 - cost:  0.12251795 - MSE:  27.540455 - Training Accuracy:  0.9675926\n",
      "epoch:  844 - cost:  0.11610279 - MSE:  28.169836 - Training Accuracy:  0.9722222\n",
      "epoch:  845 - cost:  0.1117876 - MSE:  28.95816 - Training Accuracy:  0.9722222\n",
      "epoch:  846 - cost:  0.10873867 - MSE:  29.040833 - Training Accuracy:  0.9768519\n",
      "epoch:  847 - cost:  0.10638798 - MSE:  29.716366 - Training Accuracy:  0.974537\n",
      "epoch:  848 - cost:  0.10489335 - MSE:  29.280993 - Training Accuracy:  0.9768519\n",
      "epoch:  849 - cost:  0.10367022 - MSE:  30.257751 - Training Accuracy:  0.974537\n",
      "epoch:  850 - cost:  0.10428181 - MSE:  28.933424 - Training Accuracy:  0.9722222\n",
      "epoch:  851 - cost:  0.10444514 - MSE:  30.858446 - Training Accuracy:  0.9722222\n",
      "epoch:  852 - cost:  0.107525386 - MSE:  28.42875 - Training Accuracy:  0.9675926\n",
      "epoch:  853 - cost:  0.10587558 - MSE:  31.385538 - Training Accuracy:  0.9722222\n",
      "epoch:  854 - cost:  0.11390937 - MSE:  27.980705 - Training Accuracy:  0.9560185\n",
      "epoch:  855 - cost:  0.11166224 - MSE:  32.011597 - Training Accuracy:  0.9652778\n",
      "epoch:  856 - cost:  0.12429231 - MSE:  27.583046 - Training Accuracy:  0.9490741\n",
      "epoch:  857 - cost:  0.12724456 - MSE:  32.995003 - Training Accuracy:  0.9490741\n",
      "epoch:  858 - cost:  0.16822428 - MSE:  26.30793 - Training Accuracy:  0.9375\n",
      "epoch:  859 - cost:  0.18343307 - MSE:  34.297913 - Training Accuracy:  0.9259259\n",
      "epoch:  860 - cost:  0.33634675 - MSE:  24.144371 - Training Accuracy:  0.8680556\n",
      "epoch:  861 - cost:  0.4724502 - MSE:  36.233364 - Training Accuracy:  0.7708333\n",
      "epoch:  862 - cost:  0.8569871 - MSE:  21.077986 - Training Accuracy:  0.6921296\n",
      "epoch:  863 - cost:  0.6500842 - MSE:  29.200792 - Training Accuracy:  0.7430556\n",
      "epoch:  864 - cost:  0.5886554 - MSE:  15.256466 - Training Accuracy:  0.6967593\n",
      "epoch:  865 - cost:  0.42383555 - MSE:  19.607353 - Training Accuracy:  0.8078704\n",
      "epoch:  866 - cost:  0.32769415 - MSE:  23.901505 - Training Accuracy:  0.8703704\n",
      "epoch:  867 - cost:  0.253701 - MSE:  26.839298 - Training Accuracy:  0.912037\n",
      "epoch:  868 - cost:  0.21425276 - MSE:  27.758614 - Training Accuracy:  0.9305556\n",
      "epoch:  869 - cost:  0.18349858 - MSE:  29.286411 - Training Accuracy:  0.9305556\n",
      "epoch:  870 - cost:  0.17006366 - MSE:  28.626675 - Training Accuracy:  0.9444444\n",
      "epoch:  871 - cost:  0.15843917 - MSE:  30.698385 - Training Accuracy:  0.9444444\n",
      "epoch:  872 - cost:  0.15253875 - MSE:  29.420994 - Training Accuracy:  0.9490741\n",
      "epoch:  873 - cost:  0.1436385 - MSE:  30.928568 - Training Accuracy:  0.9490741\n",
      "epoch:  874 - cost:  0.14111097 - MSE:  30.203064 - Training Accuracy:  0.9583333\n",
      "epoch:  875 - cost:  0.13460611 - MSE:  30.69561 - Training Accuracy:  0.962963\n",
      "epoch:  876 - cost:  0.13321126 - MSE:  30.708597 - Training Accuracy:  0.9583333\n",
      "epoch:  877 - cost:  0.1241625 - MSE:  30.644814 - Training Accuracy:  0.9675926\n",
      "epoch:  878 - cost:  0.11981407 - MSE:  30.992323 - Training Accuracy:  0.962963\n",
      "epoch:  879 - cost:  0.112115964 - MSE:  30.652605 - Training Accuracy:  0.974537\n",
      "epoch:  880 - cost:  0.10764128 - MSE:  31.11243 - Training Accuracy:  0.9675926\n",
      "epoch:  881 - cost:  0.103214845 - MSE:  31.033033 - Training Accuracy:  0.9722222\n",
      "epoch:  882 - cost:  0.10002408 - MSE:  31.270596 - Training Accuracy:  0.9675926\n",
      "epoch:  883 - cost:  0.097664975 - MSE:  31.45518 - Training Accuracy:  0.974537\n",
      "epoch:  884 - cost:  0.096164994 - MSE:  31.560844 - Training Accuracy:  0.9675926\n",
      "epoch:  885 - cost:  0.09500327 - MSE:  31.534933 - Training Accuracy:  0.9768519\n",
      "epoch:  886 - cost:  0.09434224 - MSE:  31.7929 - Training Accuracy:  0.9699074\n",
      "epoch:  887 - cost:  0.09334947 - MSE:  31.596235 - Training Accuracy:  0.974537\n",
      "epoch:  888 - cost:  0.09315624 - MSE:  31.931406 - Training Accuracy:  0.9722222\n",
      "epoch:  889 - cost:  0.09231227 - MSE:  31.728167 - Training Accuracy:  0.974537\n",
      "epoch:  890 - cost:  0.093368195 - MSE:  32.078705 - Training Accuracy:  0.9722222\n",
      "epoch:  891 - cost:  0.09216574 - MSE:  31.79895 - Training Accuracy:  0.974537\n",
      "epoch:  892 - cost:  0.09361424 - MSE:  32.23854 - Training Accuracy:  0.974537\n",
      "epoch:  893 - cost:  0.095856525 - MSE:  31.637167 - Training Accuracy:  0.9722222\n",
      "epoch:  894 - cost:  0.09278787 - MSE:  32.128464 - Training Accuracy:  0.974537\n",
      "epoch:  895 - cost:  0.092073806 - MSE:  32.3067 - Training Accuracy:  0.974537\n",
      "epoch:  896 - cost:  0.09378508 - MSE:  32.244873 - Training Accuracy:  0.974537\n",
      "epoch:  897 - cost:  0.09349815 - MSE:  32.397533 - Training Accuracy:  0.974537\n",
      "epoch:  898 - cost:  0.09608635 - MSE:  32.47505 - Training Accuracy:  0.974537\n",
      "epoch:  899 - cost:  0.09822831 - MSE:  32.359093 - Training Accuracy:  0.9722222\n",
      "epoch:  900 - cost:  0.10045761 - MSE:  32.697468 - Training Accuracy:  0.9722222\n",
      "epoch:  901 - cost:  0.10258237 - MSE:  32.509426 - Training Accuracy:  0.9675926\n",
      "epoch:  902 - cost:  0.10321722 - MSE:  32.433197 - Training Accuracy:  0.9675926\n",
      "epoch:  903 - cost:  0.10512448 - MSE:  33.222363 - Training Accuracy:  0.9675926\n",
      "epoch:  904 - cost:  0.11765497 - MSE:  32.571423 - Training Accuracy:  0.9560185\n",
      "epoch:  905 - cost:  0.12987056 - MSE:  33.702595 - Training Accuracy:  0.9537037\n",
      "epoch:  906 - cost:  0.16051233 - MSE:  32.05578 - Training Accuracy:  0.9328704\n",
      "epoch:  907 - cost:  0.2172699 - MSE:  35.760212 - Training Accuracy:  0.8888889\n",
      "epoch:  908 - cost:  0.46855485 - MSE:  31.146034 - Training Accuracy:  0.8101852\n",
      "epoch:  909 - cost:  1.0444613 - MSE:  42.504025 - Training Accuracy:  0.6550926\n",
      "epoch:  910 - cost:  2.0286548 - MSE:  23.879635 - Training Accuracy:  0.4398148\n",
      "epoch:  911 - cost:  0.4792148 - MSE:  15.1650305 - Training Accuracy:  0.775463\n",
      "epoch:  912 - cost:  0.63231426 - MSE:  12.485985 - Training Accuracy:  0.6990741\n",
      "epoch:  913 - cost:  0.39448798 - MSE:  12.8347435 - Training Accuracy:  0.8425926\n"
     ]
    },
    {
     "name": "stdout",
     "output_type": "stream",
     "text": [
      "epoch:  914 - cost:  0.3167259 - MSE:  17.386265 - Training Accuracy:  0.8958333\n",
      "epoch:  915 - cost:  0.30244583 - MSE:  17.594898 - Training Accuracy:  0.9050926\n",
      "epoch:  916 - cost:  0.2922733 - MSE:  19.848463 - Training Accuracy:  0.9097222\n",
      "epoch:  917 - cost:  0.32411933 - MSE:  18.075676 - Training Accuracy:  0.8726852\n",
      "epoch:  918 - cost:  0.2626654 - MSE:  20.613424 - Training Accuracy:  0.9259259\n",
      "epoch:  919 - cost:  0.2692805 - MSE:  20.120518 - Training Accuracy:  0.9097222\n",
      "epoch:  920 - cost:  0.27168453 - MSE:  23.21914 - Training Accuracy:  0.9166667\n",
      "epoch:  921 - cost:  0.35042006 - MSE:  19.777292 - Training Accuracy:  0.8680556\n",
      "epoch:  922 - cost:  0.2349861 - MSE:  22.87072 - Training Accuracy:  0.9444444\n",
      "epoch:  923 - cost:  0.22404362 - MSE:  23.423811 - Training Accuracy:  0.9328704\n",
      "epoch:  924 - cost:  0.21804784 - MSE:  25.722868 - Training Accuracy:  0.9375\n",
      "epoch:  925 - cost:  0.249244 - MSE:  23.227282 - Training Accuracy:  0.9212963\n",
      "epoch:  926 - cost:  0.18752871 - MSE:  25.559492 - Training Accuracy:  0.9513889\n",
      "epoch:  927 - cost:  0.18074492 - MSE:  27.796108 - Training Accuracy:  0.9513889\n",
      "epoch:  928 - cost:  0.19154584 - MSE:  26.143646 - Training Accuracy:  0.9421296\n",
      "epoch:  929 - cost:  0.17521328 - MSE:  30.224026 - Training Accuracy:  0.9513889\n",
      "epoch:  930 - cost:  0.20288637 - MSE:  27.268349 - Training Accuracy:  0.9351852\n",
      "epoch:  931 - cost:  0.13683738 - MSE:  30.825981 - Training Accuracy:  0.9652778\n",
      "epoch:  932 - cost:  0.12898682 - MSE:  32.251743 - Training Accuracy:  0.9699074\n",
      "epoch:  933 - cost:  0.12282175 - MSE:  31.69397 - Training Accuracy:  0.9583333\n",
      "epoch:  934 - cost:  0.118744284 - MSE:  33.06032 - Training Accuracy:  0.9652778\n",
      "epoch:  935 - cost:  0.11751761 - MSE:  32.171097 - Training Accuracy:  0.9606481\n",
      "epoch:  936 - cost:  0.11586018 - MSE:  34.086235 - Training Accuracy:  0.9652778\n",
      "epoch:  937 - cost:  0.11878478 - MSE:  32.28249 - Training Accuracy:  0.9583333\n",
      "epoch:  938 - cost:  0.11768109 - MSE:  34.90379 - Training Accuracy:  0.9583333\n",
      "epoch:  939 - cost:  0.12342724 - MSE:  32.265083 - Training Accuracy:  0.9560185\n",
      "epoch:  940 - cost:  0.12052531 - MSE:  35.83246 - Training Accuracy:  0.9583333\n",
      "epoch:  941 - cost:  0.1320366 - MSE:  32.0846 - Training Accuracy:  0.9560185\n",
      "epoch:  942 - cost:  0.11030231 - MSE:  35.688484 - Training Accuracy:  0.9583333\n",
      "epoch:  943 - cost:  0.11291943 - MSE:  33.25279 - Training Accuracy:  0.9560185\n",
      "epoch:  944 - cost:  0.10824546 - MSE:  36.08631 - Training Accuracy:  0.9560185\n",
      "epoch:  945 - cost:  0.110931225 - MSE:  33.370567 - Training Accuracy:  0.9560185\n",
      "epoch:  946 - cost:  0.10000292 - MSE:  35.975796 - Training Accuracy:  0.9652778\n",
      "epoch:  947 - cost:  0.10016857 - MSE:  34.095566 - Training Accuracy:  0.962963\n",
      "epoch:  948 - cost:  0.097005405 - MSE:  36.214394 - Training Accuracy:  0.9652778\n",
      "epoch:  949 - cost:  0.09735926 - MSE:  34.356644 - Training Accuracy:  0.962963\n",
      "epoch:  950 - cost:  0.0938702 - MSE:  36.362644 - Training Accuracy:  0.9652778\n",
      "epoch:  951 - cost:  0.09279623 - MSE:  34.81817 - Training Accuracy:  0.9675926\n",
      "epoch:  952 - cost:  0.08994359 - MSE:  36.36217 - Training Accuracy:  0.9652778\n",
      "epoch:  953 - cost:  0.08893674 - MSE:  35.259262 - Training Accuracy:  0.9699074\n",
      "epoch:  954 - cost:  0.086579934 - MSE:  36.392925 - Training Accuracy:  0.9675926\n",
      "epoch:  955 - cost:  0.08585982 - MSE:  35.629322 - Training Accuracy:  0.9699074\n",
      "epoch:  956 - cost:  0.08431874 - MSE:  36.537117 - Training Accuracy:  0.9675926\n",
      "epoch:  957 - cost:  0.08296239 - MSE:  35.993557 - Training Accuracy:  0.974537\n",
      "epoch:  958 - cost:  0.08206548 - MSE:  36.649708 - Training Accuracy:  0.9722222\n",
      "epoch:  959 - cost:  0.08122333 - MSE:  36.288143 - Training Accuracy:  0.974537\n",
      "epoch:  960 - cost:  0.080564745 - MSE:  36.790695 - Training Accuracy:  0.9722222\n",
      "epoch:  961 - cost:  0.08030408 - MSE:  36.39698 - Training Accuracy:  0.974537\n",
      "epoch:  962 - cost:  0.07969888 - MSE:  37.07924 - Training Accuracy:  0.9722222\n",
      "epoch:  963 - cost:  0.08022855 - MSE:  36.425884 - Training Accuracy:  0.9722222\n",
      "epoch:  964 - cost:  0.079558 - MSE:  37.449104 - Training Accuracy:  0.9699074\n",
      "epoch:  965 - cost:  0.079945356 - MSE:  36.529568 - Training Accuracy:  0.9699074\n",
      "epoch:  966 - cost:  0.07906225 - MSE:  37.723103 - Training Accuracy:  0.9699074\n",
      "epoch:  967 - cost:  0.07968049 - MSE:  36.620926 - Training Accuracy:  0.9699074\n",
      "epoch:  968 - cost:  0.07867427 - MSE:  38.024002 - Training Accuracy:  0.9699074\n",
      "epoch:  969 - cost:  0.07985793 - MSE:  36.754333 - Training Accuracy:  0.9675926\n",
      "epoch:  970 - cost:  0.07818891 - MSE:  38.227722 - Training Accuracy:  0.9699074\n",
      "epoch:  971 - cost:  0.07913989 - MSE:  37.000706 - Training Accuracy:  0.9675926\n",
      "epoch:  972 - cost:  0.07744255 - MSE:  38.39006 - Training Accuracy:  0.9699074\n",
      "epoch:  973 - cost:  0.07792273 - MSE:  37.31867 - Training Accuracy:  0.9675926\n",
      "epoch:  974 - cost:  0.07635275 - MSE:  38.51294 - Training Accuracy:  0.9722222\n",
      "epoch:  975 - cost:  0.07593403 - MSE:  37.72141 - Training Accuracy:  0.9675926\n",
      "epoch:  976 - cost:  0.07506399 - MSE:  38.547783 - Training Accuracy:  0.9722222\n",
      "epoch:  977 - cost:  0.07465463 - MSE:  37.99562 - Training Accuracy:  0.9699074\n",
      "epoch:  978 - cost:  0.0739819 - MSE:  38.677013 - Training Accuracy:  0.9768519\n",
      "epoch:  979 - cost:  0.07433711 - MSE:  38.132366 - Training Accuracy:  0.9699074\n",
      "epoch:  980 - cost:  0.073638156 - MSE:  38.933876 - Training Accuracy:  0.974537\n",
      "epoch:  981 - cost:  0.074121915 - MSE:  38.25337 - Training Accuracy:  0.9699074\n",
      "epoch:  982 - cost:  0.073431194 - MSE:  39.193153 - Training Accuracy:  0.974537\n",
      "epoch:  983 - cost:  0.07437645 - MSE:  38.329166 - Training Accuracy:  0.9722222\n",
      "epoch:  984 - cost:  0.07342294 - MSE:  39.47473 - Training Accuracy:  0.9722222\n",
      "epoch:  985 - cost:  0.074762024 - MSE:  38.461845 - Training Accuracy:  0.9722222\n",
      "epoch:  986 - cost:  0.07328541 - MSE:  39.652428 - Training Accuracy:  0.974537\n",
      "epoch:  987 - cost:  0.0732143 - MSE:  38.83033 - Training Accuracy:  0.9722222\n",
      "epoch:  988 - cost:  0.07235731 - MSE:  39.741535 - Training Accuracy:  0.974537\n",
      "epoch:  989 - cost:  0.07304734 - MSE:  39.13234 - Training Accuracy:  0.9722222\n",
      "epoch:  990 - cost:  0.07232074 - MSE:  39.944126 - Training Accuracy:  0.974537\n",
      "epoch:  991 - cost:  0.07237777 - MSE:  39.50669 - Training Accuracy:  0.9768519\n",
      "epoch:  992 - cost:  0.071609646 - MSE:  40.02568 - Training Accuracy:  0.9768519\n",
      "epoch:  993 - cost:  0.071356736 - MSE:  39.82181 - Training Accuracy:  0.9768519\n",
      "epoch:  994 - cost:  0.0707081 - MSE:  40.112553 - Training Accuracy:  0.9768519\n",
      "epoch:  995 - cost:  0.07027817 - MSE:  40.18447 - Training Accuracy:  0.9791667\n",
      "epoch:  996 - cost:  0.06946474 - MSE:  40.196922 - Training Accuracy:  0.9791667\n",
      "epoch:  997 - cost:  0.06908843 - MSE:  40.45192 - Training Accuracy:  0.9814815\n",
      "epoch:  998 - cost:  0.068547934 - MSE:  40.396687 - Training Accuracy:  0.9814815\n",
      "epoch:  999 - cost:  0.06840262 - MSE:  40.674248 - Training Accuracy:  0.9814815\n"
     ]
    }
   ],
   "source": [
    "mse_history = []\n",
    "accuracy_history = []\n",
    "\n",
    "for epoch in range(trainning_epochs):\n",
    "    sess.run(training_step, feed_dict= {x: train_x, y_: train_y})\n",
    "    cost = sess.run(cost_function, feed_dict = {x: train_x, y_:train_y})\n",
    "    cost_history = np.append(cost_history, cost)\n",
    "    correct_prediction = tf.equal(tf.argmax(y,1), tf.argmax(y_, 1))\n",
    "    accuracy = tf.reduce_mean(tf.cast(correct_prediction, tf.float32))\n",
    "    pred_y = sess.run(y, feed_dict={x : test_x})\n",
    "    mse = tf.reduce_mean(tf.square(pred_y - test_y))\n",
    "    mse_ = sess.run(mse)\n",
    "    mse_history.append(mse_)\n",
    "    accuracy = (sess.run(accuracy, feed_dict = {x : train_x, y_: train_y}))\n",
    "    accuracy_history.append(accuracy)\n",
    "    \n",
    "    print (\"epoch: \", epoch, \"- cost: \", cost, \"- MSE: \", mse_, \"- Training Accuracy: \", accuracy)"
   ]
  },
  {
   "cell_type": "code",
   "execution_count": 50,
   "metadata": {
    "_uuid": "d64b3a7d00ccfa1438bfbfa9ef71cb92641c4ac0"
   },
   "outputs": [
    {
     "data": {
      "image/png": "[encoded data removed]",
      "text/plain": [
       "<matplotlib.figure.Figure at 0x7f56cef569e8>"
      ]
     },
     "metadata": {},
     "output_type": "display_data"
    }
   ],
   "source": [
    "plt.subplots(figsize=(10, 6))\n",
    "plt.plot(accuracy_history)\n",
    "plt.show()"
   ]
  },
  {
   "cell_type": "code",
   "execution_count": 51,
   "metadata": {
    "_uuid": "c8aaac1ced31bf0823e6baa3db50ca2f8b1367fc"
   },
   "outputs": [
    {
     "name": "stdout",
     "output_type": "stream",
     "text": [
      "Test Accuracy :  0.8541667\n"
     ]
    }
   ],
   "source": [
    "correct_prediction = tf.equal(tf.argmax(y, 1), tf.argmax(y_, 1))\n",
    "accuracy = tf.reduce_mean(tf.cast(correct_prediction, tf.float32))\n",
    "\n",
    "print(\"Test Accuracy : \", (sess.run(accuracy, feed_dict = {x: test_x, y_:test_y})))"
   ]
  },
  {
   "cell_type": "markdown",
   "metadata": {
    "_uuid": "f7c6a7a72b595c05bbe74742cfb4d90ab4357e9d"
   },
   "source": [
    "## Final Accuracy using Multilayer Perceptron: 85.41%"
   ]
  },
  {
   "cell_type": "code",
   "execution_count": null,
   "metadata": {
    "_uuid": "3e6037285b6135327a6908cbce8e577d0359ceb4",
    "collapsed": true
   },
   "outputs": [],
   "source": []
  }
 ],
 "metadata": {
  "kernelspec": {
   "display_name": "Python 3",
   "language": "python",
   "name": "python3"
  },
  "language_info": {
   "codemirror_mode": {
    "name": "ipython",
    "version": 3
   },
   "file_extension": ".py",
   "mimetype": "text/x-python",
   "name": "python",
   "nbconvert_exporter": "python",
   "pygments_lexer": "ipython3",
   "version": "3.6.5"
  }
 },
 "nbformat": 4,
 "nbformat_minor": 1
}
