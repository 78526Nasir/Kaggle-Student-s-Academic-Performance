{
  "cells": [
    {
      "metadata": {
        "_uuid": "4b598ca7871d3b11c1e0f1c119a3d540198bf6a3"
      },
      "cell_type": "markdown",
      "source": "# Introduction\n* In this __kernel__ i am going to explore the dataset. Try to understand the relations between features. \n* I am going to make an [EDA](https://en.wikipedia.org/wiki/Exploratory_data_analysis) (Exploratory Data Analysis) with different commonly used __classifiers__ in Machine Learning.\n* And finally i will build a __Model__ with high __accuracy score__\n\n## Dataset Information\n> It is an educational data set which is collected from learning management system (LMS) called __Kalboard 360__.\n\n* The dataset consists of __480__ student records and __16__ features\n* No __null__ or __empty__ values\n* Features are classified into __three__ major categories: \n\n    1. __Demographic__ features such as gender and nationality. \n    2. __Academic background__ features such as educational stage, grade Level and section. \n    3. __Behavioral features__ such as raised hand on class, opening resources, answering survey by parents, and school satisfaction.\n \n* The dataset consists of __305__ males and __175__ females\n* Most students comes from __Kuwait__ and __Jordan__\n* The dataset is collected through two educational __semesters__\n* Students are classified into three numerical intervals based on their total __grade/mark__:\n    1. __Low-Level__: interval includes values from __0__ to __69__\n    2. __Middle-Level__: interval includes values from __70__ to __89__\n    3. __High-Level__: interval includes values from __90__ to __100__\n\n"
    },
    {
      "metadata": {
        "_uuid": "8f2839f25d086af736a60e9eeb907d3b93b6e0e5",
        "_cell_guid": "b1076dfc-b9ad-4769-8c92-a6c4dae69d19",
        "trusted": true,
        "collapsed": true
      },
      "cell_type": "code",
      "source": "# Loading necessary packages \n\nimport numpy as np\nimport pandas as pd \nimport matplotlib.pyplot as plt\n\n%matplotlib inline\nimport seaborn as sns\nsns.set()\n\nfrom sklearn.ensemble import RandomForestClassifier\nfrom sklearn.svm import SVC\nfrom xgboost import XGBClassifier, plot_importance\nfrom sklearn.neural_network import MLPClassifier\n\nfrom sklearn.preprocessing import Imputer\nfrom sklearn.metrics import accuracy_score\nfrom sklearn.model_selection import train_test_split\nfrom sklearn.metrics import mean_absolute_error\nfrom sklearn.metrics import confusion_matrix",
      "execution_count": null,
      "outputs": []
    },
    {
      "metadata": {
        "_cell_guid": "79c7e3d0-c299-4dcb-8224-4455121ee9b0",
        "collapsed": true,
        "_uuid": "d629ff2d2480ee46fbb7e2d37f6b5fab8052498a",
        "trusted": true
      },
      "cell_type": "code",
      "source": "# loading dataset\ndataset = pd.read_csv(\"../input/xAPI-Edu-Data.csv\")",
      "execution_count": null,
      "outputs": []
    },
    {
      "metadata": {
        "trusted": true,
        "_uuid": "61c5bb332608b27491074c1e6111ef18f6b45b56",
        "collapsed": true
      },
      "cell_type": "code",
      "source": "# A summary of the dataset\ndataset.info()",
      "execution_count": null,
      "outputs": []
    },
    {
      "metadata": {
        "trusted": true,
        "scrolled": true,
        "_uuid": "2c2820fb1d94450ce6d24e98aee677059a481ac1",
        "collapsed": true
      },
      "cell_type": "code",
      "source": "# breif description of the numerical valued feature\ndataset.describe()",
      "execution_count": null,
      "outputs": []
    },
    {
      "metadata": {
        "trusted": true,
        "_uuid": "d28d2d95f4b54fbd812028326a01b4ea4adf6645",
        "collapsed": true
      },
      "cell_type": "code",
      "source": "dataset.plot.bar(stacked=True, figsize=(20,10))",
      "execution_count": null,
      "outputs": []
    },
    {
      "metadata": {
        "trusted": true,
        "_uuid": "0a319720a5548fb8f6954e2d480d1b9a98f4e24b",
        "collapsed": true
      },
      "cell_type": "code",
      "source": "fig, ax = plt.subplots(figsize=(20, 8))\n\ndataset[\"raisedhands\"].value_counts().sort_index().plot.bar(\n    ax=ax\n)\nax.set_title(\"No. of times vs no. of students raised their hands on particular time\", fontsize=18)\nax.set_xlabel(\"No. of times, student raised their hands\", fontsize=14)\nax.set_ylabel(\"No. of student, on particular times\", fontsize=14)",
      "execution_count": null,
      "outputs": []
    },
    {
      "metadata": {
        "trusted": true,
        "_uuid": "5aa7139804b899cf17f37e8276504f0d2fe4a7a7",
        "collapsed": true
      },
      "cell_type": "code",
      "source": "fig, ax = plt.subplots(figsize=(20, 8))\n\ndataset[\"VisITedResources\"].value_counts().sort_index().plot.bar(\n    ax=ax\n)\nax.set_xlabel(\"No. of times, student visted resource\", fontsize=14)\nax.set_ylabel(\"No. of student, on particular visit\", fontsize=14)",
      "execution_count": null,
      "outputs": []
    },
    {
      "metadata": {
        "_uuid": "8d3a63ead356771966f70b2987aff29d3e41bf11"
      },
      "cell_type": "markdown",
      "source": "> ### Before jumping into __Data Cleaning__ and __Feature Engineering__ lets make a model based on only 3 features (raisedhands, VisITedResources, AnnouncementsView) described in this [paper](https://github.com/78526Nasir/Kaggle-Student-s-Academic-Performance/blob/master/related%20resarch%20paper/Classify%20the%20Category%20of%20Students%20%20p28-alam.pdf) as top/most effective variables"
    },
    {
      "metadata": {
        "trusted": true,
        "_uuid": "590e940b85019f6f3a8bcbffe229ca68a51cace9",
        "collapsed": true
      },
      "cell_type": "code",
      "source": "top_features = [\"raisedhands\",\"VisITedResources\",\"AnnouncementsView\"]\nfeatures = dataset[top_features]\nlabels = dataset[\"Class\"]\nfeatures_train, features_test, labels_train, labels_test = train_test_split(features, labels, test_size = .20, random_state=0)",
      "execution_count": null,
      "outputs": []
    },
    {
      "metadata": {
        "trusted": true,
        "_uuid": "7bf9382edf678b8168f6fa9736c7704b1761e70f",
        "collapsed": true
      },
      "cell_type": "code",
      "source": "# model build with SVM.SVC classifier\n\nclf = SVC(gamma='auto', kernel = 'linear')\nclf.fit(features_train, labels_train)\npred = clf.predict(features_test)",
      "execution_count": null,
      "outputs": []
    },
    {
      "metadata": {
        "trusted": true,
        "_uuid": "c1924b24f03dd7e8680674b3ba6f0d341965c9bf",
        "collapsed": true
      },
      "cell_type": "code",
      "source": "accuracy_score(pred, labels_test)",
      "execution_count": null,
      "outputs": []
    },
    {
      "metadata": {
        "trusted": true,
        "_uuid": "b11d6173143357e159e291116bec8032c29e5c73",
        "collapsed": true
      },
      "cell_type": "code",
      "source": "# Random Forest Classifier with 200 subtrees\n\nclf = RandomForestClassifier(n_estimators = 200)\nclf.fit(features_train, labels_train)\npred = clf.predict(features_test)\naccuracy_score(pred, labels_test)",
      "execution_count": null,
      "outputs": []
    },
    {
      "metadata": {
        "trusted": true,
        "_uuid": "c5d9e1d7cfbc05e52ab5c8c54de6eac761bbc527",
        "collapsed": true
      },
      "cell_type": "code",
      "source": "# Logistic regression\nfrom sklearn.linear_model import LogisticRegression\n\nclf = LogisticRegression()\nclf.fit(features_train, labels_train)\npred = clf.predict(features_test)\naccuracy_score(pred, labels_test)",
      "execution_count": null,
      "outputs": []
    },
    {
      "metadata": {
        "trusted": true,
        "_uuid": "503622630e71339e93e3ecb248674166d6c6a384",
        "collapsed": true
      },
      "cell_type": "code",
      "source": "# Multi-layer Perceptron classifier with (30,30,30) hidden layers\n\nclf = MLPClassifier(solver='lbfgs', alpha=1e-5, hidden_layer_sizes=(30, 30, 20), random_state=1)\nclf.fit(features_train, labels_train)\npred = clf.predict(features_test)\naccuracy_score(pred, labels_test)",
      "execution_count": null,
      "outputs": []
    },
    {
      "metadata": {
        "trusted": true,
        "_uuid": "8b3466258c804de37a05ea4d8e9f18832dc470a4",
        "collapsed": true
      },
      "cell_type": "code",
      "source": "# XGBoost Classifier\n\nclf = XGBClassifier(max_depth=15, learning_rate=0.1, n_estimators=200, seed=10)\nclf.fit(features_train, labels_train)\npred = clf.predict(features_test)\naccuracy_score(pred, labels_test)",
      "execution_count": null,
      "outputs": []
    },
    {
      "metadata": {
        "trusted": true,
        "_uuid": "9c5916f0f14ac76c0c8b31cc4b3fc13b15e994d1",
        "collapsed": true
      },
      "cell_type": "code",
      "source": "fig, ax = plt.subplots(figsize=(12,6))\nplot_importance(clf, ax = ax)",
      "execution_count": null,
      "outputs": []
    },
    {
      "metadata": {
        "_uuid": "f7e5e94d15aff69fde265cb53ef1a11d429a2adc"
      },
      "cell_type": "markdown",
      "source": "> ### Till now best accuracy on reduced features model: 0.6875"
    },
    {
      "metadata": {
        "_uuid": "8636fe0cdf49e5a3054693214f5bd485a66a47a4"
      },
      "cell_type": "markdown",
      "source": "## Now lets deep dive into the dataset and start cleaning the data and do some feature engineering"
    },
    {
      "metadata": {
        "trusted": true,
        "_uuid": "2b3c3be1c5f91509f347815fba0363fcd1fb9a31",
        "collapsed": true
      },
      "cell_type": "code",
      "source": "dataset.head()",
      "execution_count": null,
      "outputs": []
    },
    {
      "metadata": {
        "trusted": true,
        "scrolled": true,
        "_uuid": "df63be4716d2b3b081e237119715f6906471546f",
        "collapsed": true
      },
      "cell_type": "code",
      "source": "dataset.groupby(\"gender\").count()",
      "execution_count": null,
      "outputs": []
    },
    {
      "metadata": {
        "trusted": true,
        "collapsed": true,
        "_uuid": "dcb5bc251d5705b5fbff2f413a9a29850cb09bca"
      },
      "cell_type": "code",
      "source": "def gen_bar(feature, size):\n    highest = dataset[dataset[\"Class\"]==\"H\"][feature].value_counts()\n    medium = dataset[dataset[\"Class\"]==\"M\"][feature].value_counts()\n    low = dataset[dataset[\"Class\"]==\"L\"][feature].value_counts()\n    \n    df = pd.DataFrame([highest, medium, low])\n    df.index = [\"highest\",\"medium\", \"low\"]\n    df.plot(kind='bar',stacked=True, figsize=(size[0], size[1]))",
      "execution_count": null,
      "outputs": []
    },
    {
      "metadata": {
        "trusted": true,
        "_uuid": "59cff41aab94c1119bb37b177b0336d8b6098e94",
        "collapsed": true
      },
      "cell_type": "code",
      "source": "gen_bar(\"gender\",[6,5])",
      "execution_count": null,
      "outputs": []
    },
    {
      "metadata": {
        "_uuid": "d61831b4507c9a15b33e9dcffea37e455d3a4de4"
      },
      "cell_type": "markdown",
      "source": "> From this bar chart we visualize that __male__ students are more on \"medium\" and \"lower\" category compared to __female__ student."
    },
    {
      "metadata": {
        "trusted": true,
        "_uuid": "168ee872a1c214120e69694cecc737fa99563aca",
        "collapsed": true
      },
      "cell_type": "code",
      "source": "# lets map the gender\ngender_map = {\"F\" : 0, \"M\" : 1}\ndataset[\"gender\"] = dataset[\"gender\"].map(gender_map)",
      "execution_count": null,
      "outputs": []
    },
    {
      "metadata": {
        "trusted": true,
        "_uuid": "0974b6dfe0b39099511db72f86fd54087c8484dc",
        "collapsed": true
      },
      "cell_type": "code",
      "source": "dataset[\"gender\"].value_counts().sort_index().plot.bar()",
      "execution_count": null,
      "outputs": []
    },
    {
      "metadata": {
        "_uuid": "ee81ed13ec0ff39a04d2b7d6d309c74546fc810a"
      },
      "cell_type": "markdown",
      "source": "> ### __gender__ done, lets moved to \"NationaliTy\""
    },
    {
      "metadata": {
        "trusted": true,
        "_uuid": "226525a8b7436b9e01d9336e95f99c03e0f9f765",
        "collapsed": true
      },
      "cell_type": "code",
      "source": "dataset[\"NationalITy\"].describe()",
      "execution_count": null,
      "outputs": []
    },
    {
      "metadata": {
        "trusted": true,
        "_uuid": "896a0cad4fa296388b39058c2283df41ca8ed5a1",
        "collapsed": true
      },
      "cell_type": "code",
      "source": "fig, ax = plt.subplots(figsize=(15, 5))\n\ndataset[\"NationalITy\"].value_counts().sort_index().plot.bar(\n    ax = ax\n)",
      "execution_count": null,
      "outputs": []
    },
    {
      "metadata": {
        "_uuid": "75059a20320f19b24083977ac1f35b3516b39c7b"
      },
      "cell_type": "markdown",
      "source": "> We can see that most of the __students__ are from __jordan__ and __kuwait__"
    },
    {
      "metadata": {
        "trusted": true,
        "collapsed": true,
        "_uuid": "a13cb77ec65ea73e33b0dad676f251463a12b5a6"
      },
      "cell_type": "code",
      "source": "dataset[\"NationalITy\"] = dataset[\"NationalITy\"].replace([\"Jordan\",\"KW\"], \"0\")\ndataset[\"NationalITy\"] = dataset[\"NationalITy\"].replace([\"Iraq\",\"Palestine\"], \"1\")\ndataset[\"NationalITy\"] = dataset[\"NationalITy\"].replace([\"Tunis\",\"lebanon\", \"SaudiArabia\"], \"2\")\ndataset[\"NationalITy\"] = dataset[\"NationalITy\"].replace([\"Syria\",\"Egypt\",\"Iran\",\"Morocco\",\"USA\",\"venzuela\",\"Lybia\"], \"3\")\n\ndataset[\"NationalITy\"] = dataset[\"NationalITy\"].astype(int)",
      "execution_count": null,
      "outputs": []
    },
    {
      "metadata": {
        "trusted": true,
        "_uuid": "cefb90b1f4347025f6ecb2e6f2a8cedf2e75b14d",
        "collapsed": true
      },
      "cell_type": "code",
      "source": "fig, ax = plt.subplots(figsize=(5, 5))\ndataset[\"NationalITy\"].value_counts().sort_index().plot.bar(\n    ax = ax\n)",
      "execution_count": null,
      "outputs": []
    },
    {
      "metadata": {
        "_uuid": "bfe8be3adb0ca00e5f846e288c535f163396b53e"
      },
      "cell_type": "markdown",
      "source": "> Theirs a small diffrence between __PlaceofBirth__ and __NationalITy__ values. But we can ignore that! and simply delete the __PlaceofBirth__ feature"
    },
    {
      "metadata": {
        "_uuid": "a7ce57e17f5febc4e2adccb0b8c032fbbd1df90a",
        "trusted": true,
        "collapsed": true
      },
      "cell_type": "code",
      "source": "del dataset[\"PlaceofBirth\"]",
      "execution_count": null,
      "outputs": []
    },
    {
      "metadata": {
        "trusted": true,
        "_uuid": "52c49def3cfa8722068234a0eed03138faf90eee"
      },
      "cell_type": "markdown",
      "source": "### Lets explore __StageID__"
    },
    {
      "metadata": {
        "trusted": true,
        "_uuid": "0a9ac92a7562a318edb07d8bbdc89a343be283cc",
        "collapsed": true
      },
      "cell_type": "code",
      "source": "dataset[\"StageID\"].value_counts().sort_index().plot.bar()",
      "execution_count": null,
      "outputs": []
    },
    {
      "metadata": {
        "trusted": true,
        "collapsed": true,
        "_uuid": "9852c6e679d451584320ff0d592c2f9efe75e1f9"
      },
      "cell_type": "code",
      "source": "stage_map = {\"HighSchool\" : 0, \"MiddleSchool\" : 1, \"lowerlevel\": 2}\ndataset[\"StageID\"] = dataset[\"StageID\"].map(stage_map)",
      "execution_count": null,
      "outputs": []
    },
    {
      "metadata": {
        "_uuid": "7c44d7e6af41e199a4cec6d9e4c3beec7c4614a2"
      },
      "cell_type": "markdown",
      "source": "### Working with GradeID"
    },
    {
      "metadata": {
        "trusted": true,
        "scrolled": true,
        "_uuid": "71a2ee51e155ca44e6e290ca7ea1c9fe01e44755",
        "collapsed": true
      },
      "cell_type": "code",
      "source": "gen_bar(\"GradeID\",[8,8])",
      "execution_count": null,
      "outputs": []
    },
    {
      "metadata": {
        "trusted": true,
        "collapsed": true,
        "_uuid": "2707f93d202ccfb63416f93b94d0b5d8f422d99b"
      },
      "cell_type": "code",
      "source": "dataset[\"GradeID\"] = dataset[\"GradeID\"].replace([\"G-02\",\"G-08\",\"G-07\"], \"0\")\ndataset[\"GradeID\"] = dataset[\"GradeID\"].replace([\"G-04\",\"G-06\"], \"1\")\ndataset[\"GradeID\"] = dataset[\"GradeID\"].replace([\"G-05\",\"G-11\", \"G-12\",\"G-09\",\"G-10\"], \"2\")\n\ndataset[\"GradeID\"] = dataset[\"GradeID\"].astype(int)",
      "execution_count": null,
      "outputs": []
    },
    {
      "metadata": {
        "_uuid": "e5bca725a0aa319957b7d57c42b32bca2b6785c4"
      },
      "cell_type": "markdown",
      "source": "### Working with SectionID"
    },
    {
      "metadata": {
        "trusted": true,
        "_uuid": "12b00420634d9627b63dd91ded68b4f66a891305",
        "collapsed": true
      },
      "cell_type": "code",
      "source": "dataset.groupby(\"SectionID\").count()",
      "execution_count": null,
      "outputs": []
    },
    {
      "metadata": {
        "trusted": true,
        "collapsed": true,
        "_uuid": "285f682b0ca0802005adb24eb8f8896e4017864c"
      },
      "cell_type": "code",
      "source": "section_map = {\"A\":0, \"B\":1, \"C\":2}\ndataset[\"SectionID\"] = dataset[\"SectionID\"].map(section_map)",
      "execution_count": null,
      "outputs": []
    },
    {
      "metadata": {
        "_uuid": "ab9eb1eafb5835a9c9488944b87ea5e4e51252bf"
      },
      "cell_type": "markdown",
      "source": "### Working with Topic"
    },
    {
      "metadata": {
        "trusted": true,
        "_uuid": "a0dfbc0343703339ee366cce29ba7c0dffd30e80",
        "collapsed": true
      },
      "cell_type": "code",
      "source": "fig, ax = plt.subplots(figsize=(15, 5))\ndataset[\"Topic\"].value_counts().sort_index().plot.bar(ax = ax)",
      "execution_count": null,
      "outputs": []
    },
    {
      "metadata": {
        "trusted": true,
        "_uuid": "900ca3096a1b7f42d1f02137ba2fa2c1161f0bb7",
        "collapsed": true
      },
      "cell_type": "code",
      "source": "gen_bar(\"Topic\", [8,10])",
      "execution_count": null,
      "outputs": []
    },
    {
      "metadata": {
        "trusted": true,
        "_uuid": "67c5a294e0b20e281cc0d4aa274af290652e3e58",
        "collapsed": true
      },
      "cell_type": "code",
      "source": "pd.crosstab(dataset[\"Class\"],dataset[\"Topic\"])",
      "execution_count": null,
      "outputs": []
    },
    {
      "metadata": {
        "trusted": true,
        "_uuid": "ab7872ed8f5da49407513a8bc68f22e746857d21",
        "collapsed": true
      },
      "cell_type": "code",
      "source": "topic_map = {\"IT\":0, \"Arabic\":1, \"French\":2, \"English\":3, \"Biology\":4, \"Science\":5, \"Chemistry\":6, \"Quran\":7, \"Geology\":8, \"History\":9,\"Math\":9,\"Spanish\":9}\ndataset[\"Topic\"] = dataset[\"Topic\"].map(topic_map)",
      "execution_count": null,
      "outputs": []
    },
    {
      "metadata": {
        "trusted": true,
        "_uuid": "665329dc49089a6c5a161b03071782a89d4fdd4c",
        "collapsed": true
      },
      "cell_type": "code",
      "source": "dataset.groupby(\"Topic\").count()",
      "execution_count": null,
      "outputs": []
    },
    {
      "metadata": {
        "trusted": true,
        "_uuid": "41d37a786c9442cb50211ec9628c0c147b6d9a3e",
        "collapsed": true
      },
      "cell_type": "code",
      "source": "facet = sns.FacetGrid(dataset, hue=\"Class\",aspect=4)\nfacet.map(sns.kdeplot,\"Topic\",shade= True)\nfacet.set(xlim=(0, dataset[\"Topic\"].max()))\nfacet.add_legend()\n\nplt.show()",
      "execution_count": null,
      "outputs": []
    },
    {
      "metadata": {
        "_uuid": "b516a2ed3777385aafc0071c42511c8c08c21549"
      },
      "cell_type": "markdown",
      "source": "### Working with Semester"
    },
    {
      "metadata": {
        "trusted": true,
        "_uuid": "a4a98ffdb9f25f9dbed35c36a1d32b3cfd2f5953",
        "collapsed": true
      },
      "cell_type": "code",
      "source": "dataset.groupby(\"Semester\").count()",
      "execution_count": null,
      "outputs": []
    },
    {
      "metadata": {
        "trusted": true,
        "_uuid": "7d64bc883b75f8b65ee231139b7c46603d5903b4",
        "collapsed": true
      },
      "cell_type": "code",
      "source": "pd.crosstab(dataset[\"Class\"], dataset[\"Semester\"])",
      "execution_count": null,
      "outputs": []
    },
    {
      "metadata": {
        "trusted": true,
        "collapsed": true,
        "_uuid": "219dd0d61f6a6162b8da0274f4b876785d46d389"
      },
      "cell_type": "code",
      "source": "semester_map = {\"F\":0, \"S\":1}\ndataset[\"Semester\"] = dataset[\"Semester\"].map(semester_map)",
      "execution_count": null,
      "outputs": []
    },
    {
      "metadata": {
        "_uuid": "9d86ac3cfd1b26e4653959c328e311896b482a19"
      },
      "cell_type": "markdown",
      "source": "### Working with Relation Feature"
    },
    {
      "metadata": {
        "trusted": true,
        "_uuid": "b95fc859f49f01477339ef5e5d4e7cd2810d2ea5",
        "collapsed": true
      },
      "cell_type": "code",
      "source": "dataset[\"Relation\"].value_counts().sort_index().plot.bar()",
      "execution_count": null,
      "outputs": []
    },
    {
      "metadata": {
        "trusted": true,
        "collapsed": true,
        "_uuid": "c6b0977c68e7eae6c6eb4f5fcb8a0cc9c7e74dba"
      },
      "cell_type": "code",
      "source": "relation_map = {\"Father\":0, \"Mum\":1}\ndataset[\"Relation\"] = dataset[\"Relation\"].map(relation_map)",
      "execution_count": null,
      "outputs": []
    },
    {
      "metadata": {
        "_uuid": "2fe090677c3363756d14092449e30cb9e5f52adb"
      },
      "cell_type": "markdown",
      "source": "### \"raisedhands\", \"VisITedResources\", \"AnnouncementsView\", \"Discussion\" are already in decent form\n<hr>\n#### Working with \"ParentschoolSatisfaction\""
    },
    {
      "metadata": {
        "trusted": true,
        "_uuid": "35d502b5a3f80ef84445cb9b8e78a287eb9723dd",
        "collapsed": true
      },
      "cell_type": "code",
      "source": "dataset[\"ParentschoolSatisfaction\"].nunique()",
      "execution_count": null,
      "outputs": []
    },
    {
      "metadata": {
        "trusted": true,
        "collapsed": true,
        "_uuid": "a1027c661463e3c000b692169a51cafc9b141213"
      },
      "cell_type": "code",
      "source": "parent_ss_map = {\"Bad\": 0, \"Good\":1}\ndataset[\"ParentschoolSatisfaction\"] = dataset[\"ParentschoolSatisfaction\"].map(parent_ss_map)",
      "execution_count": null,
      "outputs": []
    },
    {
      "metadata": {
        "trusted": true,
        "_uuid": "7dd5a812ac57405d259b1850ebb5916e9cdb4ff0",
        "collapsed": true
      },
      "cell_type": "code",
      "source": "dataset.groupby(\"ParentschoolSatisfaction\").count()",
      "execution_count": null,
      "outputs": []
    },
    {
      "metadata": {
        "trusted": true,
        "_uuid": "ef9269874f7b3952dec7681efc8e30f5a522e71b",
        "collapsed": true
      },
      "cell_type": "code",
      "source": "gen_bar(\"ParentschoolSatisfaction\", [5,5])",
      "execution_count": null,
      "outputs": []
    },
    {
      "metadata": {
        "_uuid": "50c340418fef0ba653186217a291cc72d1390ba6"
      },
      "cell_type": "markdown",
      "source": "### Working with \"ParentAnsweringSurvey\""
    },
    {
      "metadata": {
        "trusted": true,
        "_uuid": "0d791cd9743a745d1525b54430c7f6e0582f9ded",
        "collapsed": true
      },
      "cell_type": "code",
      "source": "dataset.groupby(\"ParentAnsweringSurvey\").count()",
      "execution_count": null,
      "outputs": []
    },
    {
      "metadata": {
        "trusted": true,
        "collapsed": true,
        "_uuid": "abf093e60f7212d063ddbd508aa6c5a351d0993e"
      },
      "cell_type": "code",
      "source": "parent_a_s_map = {\"No\":0, \"Yes\":1}\ndataset[\"ParentAnsweringSurvey\"] = dataset[\"ParentAnsweringSurvey\"].map(parent_a_s_map)",
      "execution_count": null,
      "outputs": []
    },
    {
      "metadata": {
        "trusted": true,
        "_uuid": "33078bafdd5b342d7d4bb1df42eec6838f4a2933",
        "collapsed": true
      },
      "cell_type": "code",
      "source": "dataset[\"ParentAnsweringSurvey\"].value_counts().sort_index().plot.bar()",
      "execution_count": null,
      "outputs": []
    },
    {
      "metadata": {
        "_uuid": "96a58a70473128698e9232eb4cb0e33721143c81"
      },
      "cell_type": "markdown",
      "source": "### Working with StudentAbsenceDays Feature"
    },
    {
      "metadata": {
        "trusted": true,
        "_uuid": "6be11f6061b077559c342f33d05ef89794c5032e",
        "collapsed": true
      },
      "cell_type": "code",
      "source": "dataset.groupby(\"StudentAbsenceDays\").count()",
      "execution_count": null,
      "outputs": []
    },
    {
      "metadata": {
        "trusted": true,
        "collapsed": true,
        "_uuid": "53063770c43501bbc3a5cb4894fc177ed05c1a06"
      },
      "cell_type": "code",
      "source": "student_absn_day_map = {\"Above-7\":0, \"Under-7\":1} \ndataset[\"StudentAbsenceDays\"] = dataset[\"StudentAbsenceDays\"].map(student_absn_day_map)",
      "execution_count": null,
      "outputs": []
    },
    {
      "metadata": {
        "trusted": true,
        "_uuid": "a9a5118e65ed8947bedcdb81c09de3410676525a",
        "collapsed": true
      },
      "cell_type": "code",
      "source": "dataset.groupby(\"StudentAbsenceDays\").count()",
      "execution_count": null,
      "outputs": []
    },
    {
      "metadata": {
        "trusted": true,
        "_uuid": "fe1cafea102e5e561ef56d57584d882eb6c549a2",
        "collapsed": true
      },
      "cell_type": "code",
      "source": "dataset.head()",
      "execution_count": null,
      "outputs": []
    },
    {
      "metadata": {
        "_uuid": "e0a98c63275070b449a61e30b1b0ef06f5f2da5e"
      },
      "cell_type": "markdown",
      "source": "### Last but not the least! Working with \"Class\" feature"
    },
    {
      "metadata": {
        "trusted": true,
        "_uuid": "00c835a69d59e6d1658232a71343b6c8b4f339f5",
        "collapsed": true
      },
      "cell_type": "code",
      "source": "dataset.groupby(\"Class\").count()",
      "execution_count": null,
      "outputs": []
    },
    {
      "metadata": {
        "trusted": true,
        "_uuid": "cf92573db8545ef367eae905ab1df061fc22c643",
        "collapsed": true
      },
      "cell_type": "code",
      "source": "class_map = {\"H\":0, \"M\":1, \"L\":2}\ndataset[\"Class\"] = dataset[\"Class\"].map(class_map)",
      "execution_count": null,
      "outputs": []
    },
    {
      "metadata": {
        "trusted": true,
        "_uuid": "61791c29df96edc770da7dad79f7afcf373f0d58",
        "collapsed": true
      },
      "cell_type": "code",
      "source": "dataset.groupby(\"Class\").count()",
      "execution_count": null,
      "outputs": []
    },
    {
      "metadata": {
        "_uuid": "64a78fca7d36e662db0e413a47a235704e2a8fa2"
      },
      "cell_type": "markdown",
      "source": "## Data Cleaning almost done."
    },
    {
      "metadata": {
        "_uuid": "9fe5c3cab5926b9ee03b9bf42732a52d1117ab04"
      },
      "cell_type": "markdown",
      "source": "### Finding correlation"
    },
    {
      "metadata": {
        "trusted": true,
        "_uuid": "f6abe541f9d4588de77aeb622439dfeb988a6d02",
        "collapsed": true
      },
      "cell_type": "code",
      "source": "dataset.corr()",
      "execution_count": null,
      "outputs": []
    },
    {
      "metadata": {
        "trusted": true,
        "_uuid": "b08b8a33b14efacb840686a3b7efdf44073c050a",
        "collapsed": true
      },
      "cell_type": "code",
      "source": "fig, ax = plt.subplots(figsize = (15, 10))\nax = sns.heatmap(dataset.corr())",
      "execution_count": null,
      "outputs": []
    },
    {
      "metadata": {
        "trusted": true,
        "_uuid": "ea1f439e36c56c4b94e7d867df46cb7eae9379ce",
        "collapsed": true
      },
      "cell_type": "code",
      "source": "X = dataset.iloc[:,0:15]\ny = dataset[\"Class\"]\n\nfeatures_train, features_test, labels_train, labels_test = train_test_split(X, y, test_size = .20, random_state=0)\n",
      "execution_count": null,
      "outputs": []
    },
    {
      "metadata": {
        "trusted": true,
        "_uuid": "6c18a5648c307ffeebb7aa303087203b093a7765",
        "collapsed": true
      },
      "cell_type": "code",
      "source": "# model build with SVM.SVC classifier\n\nclf = SVC(gamma='auto', kernel = 'linear')\nclf.fit(features_train, labels_train)\npred = clf.predict(features_test)",
      "execution_count": null,
      "outputs": []
    },
    {
      "metadata": {
        "trusted": true,
        "_uuid": "7cb0bf29b4851b9662c285933879a06dc34e6f47",
        "collapsed": true
      },
      "cell_type": "code",
      "source": "accuracy_score(pred, labels_test)",
      "execution_count": null,
      "outputs": []
    },
    {
      "metadata": {
        "trusted": true,
        "_uuid": "229c3169146797a722b25ac41d21fe4bd7126783",
        "collapsed": true
      },
      "cell_type": "code",
      "source": "# Random Forest Classifier with 20 subtrees\n\nclf = RandomForestClassifier(n_estimators = 220, random_state=10)\nclf.fit(features_train, labels_train)\npred = clf.predict(features_test)\nrfc_pred = pred\naccuracy_score(pred, labels_test)",
      "execution_count": null,
      "outputs": []
    },
    {
      "metadata": {
        "trusted": true,
        "_uuid": "240651ff9cf1da254da4393aa0a6b11a09d8303d",
        "collapsed": true
      },
      "cell_type": "code",
      "source": "# Logistic regression\nfrom sklearn.linear_model import LogisticRegression\n\nclf = LogisticRegression()\nclf.fit(features_train, labels_train)\npred = clf.predict(features_test)\naccuracy_score(pred, labels_test)",
      "execution_count": null,
      "outputs": []
    },
    {
      "metadata": {
        "trusted": true,
        "_uuid": "abbada2290185e83b83046132b4efc8ee236e9b0",
        "collapsed": true
      },
      "cell_type": "code",
      "source": "# Multi-layer Perceptron classifier with (10,10,10) hidden layers\n\nclf = MLPClassifier(solver='lbfgs', alpha=1e-5, hidden_layer_sizes=(10,10,10), random_state=1)\nclf.fit(features_train, labels_train)\npred = clf.predict(features_test)\naccuracy_score(pred, labels_test)",
      "execution_count": null,
      "outputs": []
    },
    {
      "metadata": {
        "trusted": true,
        "_uuid": "cb041051737e5af05947ee799bc16b81409abbd7",
        "collapsed": true
      },
      "cell_type": "code",
      "source": "clf = XGBClassifier(max_depth=5, learning_rate=0.2, n_estimators=20, seed=10)\nclf.fit(features_train, labels_train)\npred = clf.predict(features_test)\nxgb_pred = pred\naccuracy_score(pred, labels_test)",
      "execution_count": null,
      "outputs": []
    },
    {
      "metadata": {
        "trusted": true,
        "_uuid": "3813cfbd0f7a6d7fb46e75385e9585243b6dffa3",
        "collapsed": true
      },
      "cell_type": "code",
      "source": "fig, ax = plt.subplots(figsize=(12,6))\nplot_importance(clf, ax = ax)",
      "execution_count": null,
      "outputs": []
    },
    {
      "metadata": {
        "trusted": true,
        "_uuid": "36f3c0b7131b595d837ec15bd0c6fddd87cc848a",
        "collapsed": true
      },
      "cell_type": "code",
      "source": "# Random Forest Classifier confustion Matrix result\nconfusion_matrix(labels_test, rfc_pred, labels=[1, 0]) ",
      "execution_count": null,
      "outputs": []
    },
    {
      "metadata": {
        "trusted": true,
        "_uuid": "5703596f8d91d89ea126d4189bf851ca93d1110d",
        "collapsed": true
      },
      "cell_type": "code",
      "source": "# Random Forest Classifier mean_absolute_error\nmean_absolute_error(rfc_pred, labels_test)",
      "execution_count": null,
      "outputs": []
    },
    {
      "metadata": {
        "trusted": true,
        "_uuid": "ee252b3a3e671ab72195dbbbae2160ce84aa05b0",
        "collapsed": true
      },
      "cell_type": "code",
      "source": "# XGBoost Classifier confusion matric result\nconfusion_matrix(labels_test, xgb_pred, labels=[1, 0]) ",
      "execution_count": null,
      "outputs": []
    },
    {
      "metadata": {
        "trusted": true,
        "_uuid": "0eb7574138616e38b351ec9c8aa6b50e46e22f74",
        "collapsed": true
      },
      "cell_type": "code",
      "source": "# XGBoost Classifier mean_absolute_error\nmean_absolute_error(xgb_pred, labels_test)",
      "execution_count": null,
      "outputs": []
    },
    {
      "metadata": {
        "_uuid": "2883f631f7460e9647033cd556861ad15cb0faca"
      },
      "cell_type": "markdown",
      "source": "## So finally,  Random Forest Classifier will give us highest Accuracy: 0.834"
    }
  ],
  "metadata": {
    "kernelspec": {
      "display_name": "Python 3",
      "language": "python",
      "name": "python3"
    },
    "language_info": {
      "name": "python",
      "version": "3.6.5",
      "mimetype": "text/x-python",
      "codemirror_mode": {
        "name": "ipython",
        "version": 3
      },
      "pygments_lexer": "ipython3",
      "nbconvert_exporter": "python",
      "file_extension": ".py"
    }
  },
  "nbformat": 4,
  "nbformat_minor": 1
}